{
 "cells": [
  {
   "cell_type": "code",
   "execution_count": 1,
   "metadata": {},
   "outputs": [
    {
     "name": "stderr",
     "output_type": "stream",
     "text": [
      "Using TensorFlow backend.\n"
     ]
    }
   ],
   "source": [
    "import os\n",
    "import re\n",
    "import glob\n",
    "from datetime import datetime\n",
    "import sys\n",
    "import itertools\n",
    "from collections import defaultdict\n",
    "\n",
    "import pandas as pd\n",
    "import numpy as np\n",
    "import matplotlib\n",
    "from matplotlib import pyplot as plt\n",
    "sys.path.append(\"..\") # Adds higher directory to python modules path for importing from src dir\n",
    "\n",
    "from src.algorithms import SimpleLSTM, MLPClassifier, SVC, Heuristic\n",
    "from src.datasets import NyseStocksDataset\n",
    "from src.evaluation import Evaluator\n",
    "from src.utils import print_metrics_as_md, pandas_df_to_markdown_table\n",
    "# from src.pipeline import run_pipeline, prepare_data, evaluate_results\n",
    "# from src.experiments import get_metrics\n",
    "\n",
    "%matplotlib inline\n",
    "%load_ext autotime\n",
    "%load_ext autoreload\n",
    "%autoreload 2"
   ]
  },
  {
   "cell_type": "markdown",
   "metadata": {},
   "source": [
    "### 1. Heuristics\n",
    "Test set is not balanced anymore. A given number of samples is randomly drawn from the original test set obtaining the classes ratio. When I still applied test down sampling, Heuristic_l1 achieved 0.03188 mcc.\n",
    "\n",
    "300k train, 60k test\n",
    "\n",
    "|  -   |     MvOC-3C    Heuristic_all   |     MvOC-3C    Heuristic_l1   |     MvOC-3C    Heuristic_l3   |     MvOC-3C    Heuristic_v_l1   |\n",
    "|:-----|-------------------------------:|------------------------------:|------------------------------:|--------------------------------:|\n",
    "| prec |                        0.49135 |                       0.50235 |                       0.48511 |                         0.48196 |\n",
    "| rec  |                        0.61765 |                       0.49733 |                       0.57808 |                         0.53723 |\n",
    "| f1   |                        0.49749 |                       0.49979 |                       0.50934 |                         0.50301 |\n",
    "| acc  |                        0.61765 |                       0.49733 |                       0.57808 |                         0.53723 |\n",
    "| mcc  |                        0.03208 |                       0.07078 |                       0.03853 |                         0.04187 |\n",
    "\n",
    "#### Correlations\n",
    "|     -       |       label |        all |         3d |        last |      all_vO |    last_vO |       3d_vO |   rel_3d_vO |   rel_last_vO |\n",
    "|:------------|------------:|-----------:|-----------:|------------:|------------:|-----------:|------------:|------------:|--------------:|\n",
    "| label       |  1          | -0.0129612 | -0.0125326 | -0.00171366 |  0.0147902  | 0.00715345 |  0.00777253 | -0.0317479  |    -0.0222927 |\n",
    "| all         | -0.0129612  |  1         |  0.647862  |  0.370899   | -0.0378484  | 0.0427138  |  0.0150283  |  0.246529   |     0.248528  |\n",
    "| 3d          | -0.0125326  |  0.647862  |  1         |  0.576104   | -0.0581473  | 0.0350457  | -0.0159963  |  0.193741   |     0.28587   |\n",
    "| last        | -0.00171366 |  0.370899  |  0.576104  |  1          | -0.0417691  | 0.0147089  | -0.0368963  |  0.0189138  |     0.172509  |\n",
    "| all_vO      |  0.0147902  | -0.0378484 | -0.0581473 | -0.0417691  |  1          | 0.948      |  0.977431   | -0.00743409 |    -0.0501672 |\n",
    "| last_vO     |  0.00715345 |  0.0427138 |  0.0350457 |  0.0147089  |  0.948      | 1          |  0.981809   |  0.254262   |     0.270312  |\n",
    "| 3d_vO       |  0.00777253 |  0.0150283 | -0.0159963 | -0.0368963  |  0.977431   | 0.981809   |  1          |  0.203983   |     0.124198  |\n",
    "| rel_3d_vO   | -0.0317479  |  0.246529  |  0.193741  |  0.0189138  | -0.00743409 | 0.254262   |  0.203983   |  1          |     0.820367  |\n",
    "| rel_last_vO | -0.0222927  |  0.248528  |  0.28587   |  0.172509   | -0.0501672  | 0.270312   |  0.124198   |  0.820367   |     1         |"
   ]
  },
  {
   "cell_type": "code",
   "execution_count": 30,
   "metadata": {},
   "outputs": [
    {
     "data": {
      "application/vnd.jupyter.widget-view+json": {
       "model_id": "9cd061405ab94a7785233004d0ce4bbd",
       "version_major": 2,
       "version_minor": 0
      },
      "text/plain": [
       "HBox(children=(IntProgress(value=0, max=501), HTML(value='')))"
      ]
     },
     "metadata": {},
     "output_type": "display_data"
    },
    {
     "name": "stdout",
     "output_type": "stream",
     "text": [
      "\n",
      "time: 12.1 s\n"
     ]
    }
   ],
   "source": [
    "ds = NyseStocksDataset('MvOC-3C', file_path='../data/nyse/prices.csv', features=['vix_open', 'vix_close', 'movement'])\n",
    "datasets = [\n",
    "    ds,\n",
    "    # NyseStocksDataset('OC-3C', file_path='../data/nyse/prices.csv'),\n",
    "    # NyseStocksDataset('OC-3C+', file_path='../data/nyse/prices-split-adjusted.csv'),\n",
    "]\n",
    "[ds.load() for ds in datasets];"
   ]
  },
  {
   "cell_type": "code",
   "execution_count": 35,
   "metadata": {},
   "outputs": [
    {
     "name": "stdout",
     "output_type": "stream",
     "text": [
      "time: 7.98 s\n"
     ]
    }
   ],
   "source": [
    "X = ds.data()[0]\n",
    "y = ds.data()[1]\n",
    "vix_open = X.loc[:, [x for x in X.columns if x[1] == 'vO']]\n",
    "only_movements = X.loc[:, [x for x in X.columns if x[1] == 'M']]\n",
    "\n",
    "all_vix_open = vix_open.sum(axis=1)\n",
    "ld_vix_open = vix_open.iloc[:, -1]\n",
    "three_vix_open = vix_open.iloc[:, -3:].mean(axis=1)\n",
    "rel_3d_vix_open = three_vix_open - vix_open.mean(axis=1)\n",
    "rel_ld_vix_open = ld_vix_open - vix_open.mean(axis=1)\n",
    "\n",
    "all_sums = only_movements.sum(axis=1)\n",
    "three_sums = only_movements.iloc[:, -3:].sum(axis=1)\n",
    "last_day = only_movements.iloc[:, -1]\n",
    "\n",
    "features = pd.DataFrame([y, all_sums, three_sums, last_day, all_vix_open, ld_vix_open, three_vix_open, rel_3d_vix_open, rel_ld_vix_open], index=['label', 'all', '3d', 'last', 'all_vO', 'last_vO', '3d_vO', 'rel_3d_vO', 'rel_last_vO']).T\n",
    "# print(pandas_df_to_markdown_table(features.corr()))"
   ]
  },
  {
   "cell_type": "code",
   "execution_count": 48,
   "metadata": {},
   "outputs": [
    {
     "data": {
      "text/html": [
       "<div>\n",
       "<style scoped>\n",
       "    .dataframe tbody tr th:only-of-type {\n",
       "        vertical-align: middle;\n",
       "    }\n",
       "\n",
       "    .dataframe tbody tr th {\n",
       "        vertical-align: top;\n",
       "    }\n",
       "\n",
       "    .dataframe thead th {\n",
       "        text-align: right;\n",
       "    }\n",
       "</style>\n",
       "<table border=\"1\" class=\"dataframe\">\n",
       "  <thead>\n",
       "    <tr style=\"text-align: right;\">\n",
       "      <th></th>\n",
       "      <th>label</th>\n",
       "      <th>all</th>\n",
       "      <th>3d</th>\n",
       "      <th>last</th>\n",
       "      <th>all_vO</th>\n",
       "      <th>last_vO</th>\n",
       "      <th>3d_vO</th>\n",
       "      <th>rel_3d_vO</th>\n",
       "      <th>rel_last_vO</th>\n",
       "    </tr>\n",
       "  </thead>\n",
       "  <tbody>\n",
       "    <tr>\n",
       "      <th>label</th>\n",
       "      <td>1.000000</td>\n",
       "      <td>-0.012961</td>\n",
       "      <td>-0.012533</td>\n",
       "      <td>-0.001714</td>\n",
       "      <td>0.014790</td>\n",
       "      <td>0.007153</td>\n",
       "      <td>0.007773</td>\n",
       "      <td>-0.031748</td>\n",
       "      <td>-0.022293</td>\n",
       "    </tr>\n",
       "    <tr>\n",
       "      <th>all</th>\n",
       "      <td>-0.012961</td>\n",
       "      <td>1.000000</td>\n",
       "      <td>0.647862</td>\n",
       "      <td>0.370899</td>\n",
       "      <td>-0.037848</td>\n",
       "      <td>0.042714</td>\n",
       "      <td>0.015028</td>\n",
       "      <td>0.246529</td>\n",
       "      <td>0.248528</td>\n",
       "    </tr>\n",
       "    <tr>\n",
       "      <th>3d</th>\n",
       "      <td>-0.012533</td>\n",
       "      <td>0.647862</td>\n",
       "      <td>1.000000</td>\n",
       "      <td>0.576104</td>\n",
       "      <td>-0.058147</td>\n",
       "      <td>0.035046</td>\n",
       "      <td>-0.015996</td>\n",
       "      <td>0.193741</td>\n",
       "      <td>0.285870</td>\n",
       "    </tr>\n",
       "    <tr>\n",
       "      <th>last</th>\n",
       "      <td>-0.001714</td>\n",
       "      <td>0.370899</td>\n",
       "      <td>0.576104</td>\n",
       "      <td>1.000000</td>\n",
       "      <td>-0.041769</td>\n",
       "      <td>0.014709</td>\n",
       "      <td>-0.036896</td>\n",
       "      <td>0.018914</td>\n",
       "      <td>0.172509</td>\n",
       "    </tr>\n",
       "    <tr>\n",
       "      <th>all_vO</th>\n",
       "      <td>0.014790</td>\n",
       "      <td>-0.037848</td>\n",
       "      <td>-0.058147</td>\n",
       "      <td>-0.041769</td>\n",
       "      <td>1.000000</td>\n",
       "      <td>0.948000</td>\n",
       "      <td>0.977431</td>\n",
       "      <td>-0.007434</td>\n",
       "      <td>-0.050167</td>\n",
       "    </tr>\n",
       "    <tr>\n",
       "      <th>last_vO</th>\n",
       "      <td>0.007153</td>\n",
       "      <td>0.042714</td>\n",
       "      <td>0.035046</td>\n",
       "      <td>0.014709</td>\n",
       "      <td>0.948000</td>\n",
       "      <td>1.000000</td>\n",
       "      <td>0.981809</td>\n",
       "      <td>0.254262</td>\n",
       "      <td>0.270312</td>\n",
       "    </tr>\n",
       "    <tr>\n",
       "      <th>3d_vO</th>\n",
       "      <td>0.007773</td>\n",
       "      <td>0.015028</td>\n",
       "      <td>-0.015996</td>\n",
       "      <td>-0.036896</td>\n",
       "      <td>0.977431</td>\n",
       "      <td>0.981809</td>\n",
       "      <td>1.000000</td>\n",
       "      <td>0.203983</td>\n",
       "      <td>0.124198</td>\n",
       "    </tr>\n",
       "    <tr>\n",
       "      <th>rel_3d_vO</th>\n",
       "      <td>-0.031748</td>\n",
       "      <td>0.246529</td>\n",
       "      <td>0.193741</td>\n",
       "      <td>0.018914</td>\n",
       "      <td>-0.007434</td>\n",
       "      <td>0.254262</td>\n",
       "      <td>0.203983</td>\n",
       "      <td>1.000000</td>\n",
       "      <td>0.820367</td>\n",
       "    </tr>\n",
       "    <tr>\n",
       "      <th>rel_last_vO</th>\n",
       "      <td>-0.022293</td>\n",
       "      <td>0.248528</td>\n",
       "      <td>0.285870</td>\n",
       "      <td>0.172509</td>\n",
       "      <td>-0.050167</td>\n",
       "      <td>0.270312</td>\n",
       "      <td>0.124198</td>\n",
       "      <td>0.820367</td>\n",
       "      <td>1.000000</td>\n",
       "    </tr>\n",
       "  </tbody>\n",
       "</table>\n",
       "</div>"
      ],
      "text/plain": [
       "                label       all        3d      last    all_vO   last_vO  \\\n",
       "label        1.000000 -0.012961 -0.012533 -0.001714  0.014790  0.007153   \n",
       "all         -0.012961  1.000000  0.647862  0.370899 -0.037848  0.042714   \n",
       "3d          -0.012533  0.647862  1.000000  0.576104 -0.058147  0.035046   \n",
       "last        -0.001714  0.370899  0.576104  1.000000 -0.041769  0.014709   \n",
       "all_vO       0.014790 -0.037848 -0.058147 -0.041769  1.000000  0.948000   \n",
       "last_vO      0.007153  0.042714  0.035046  0.014709  0.948000  1.000000   \n",
       "3d_vO        0.007773  0.015028 -0.015996 -0.036896  0.977431  0.981809   \n",
       "rel_3d_vO   -0.031748  0.246529  0.193741  0.018914 -0.007434  0.254262   \n",
       "rel_last_vO -0.022293  0.248528  0.285870  0.172509 -0.050167  0.270312   \n",
       "\n",
       "                3d_vO  rel_3d_vO  rel_last_vO  \n",
       "label        0.007773  -0.031748    -0.022293  \n",
       "all          0.015028   0.246529     0.248528  \n",
       "3d          -0.015996   0.193741     0.285870  \n",
       "last        -0.036896   0.018914     0.172509  \n",
       "all_vO       0.977431  -0.007434    -0.050167  \n",
       "last_vO      0.981809   0.254262     0.270312  \n",
       "3d_vO        1.000000   0.203983     0.124198  \n",
       "rel_3d_vO    0.203983   1.000000     0.820367  \n",
       "rel_last_vO  0.124198   0.820367     1.000000  "
      ]
     },
     "execution_count": 48,
     "metadata": {},
     "output_type": "execute_result"
    },
    {
     "data": {
      "image/png": "[encoded data removed]",
      "text/plain": [
       "<matplotlib.figure.Figure at 0x1ca94ebe358>"
      ]
     },
     "metadata": {
      "needs_background": "light"
     },
     "output_type": "display_data"
    },
    {
     "name": "stdout",
     "output_type": "stream",
     "text": [
      "time: 725 ms\n"
     ]
    }
   ],
   "source": [
    "corr = features.corr()\n",
    "plt.matshow(corr.abs())\n",
    "corr"
   ]
  },
  {
   "cell_type": "code",
   "execution_count": 30,
   "metadata": {
    "scrolled": true
   },
   "outputs": [
    {
     "name": "stdout",
     "output_type": "stream",
     "text": [
      "(1762,)\n"
     ]
    },
    {
     "data": {
      "text/plain": [
       "<matplotlib.axes._subplots.AxesSubplot at 0x1ca84ee96d8>"
      ]
     },
     "execution_count": 30,
     "metadata": {},
     "output_type": "execute_result"
    },
    {
     "data": {
      "image/png": "[encoded data removed]",
      "text/plain": [
       "<matplotlib.figure.Figure at 0x1ca8162a278>"
      ]
     },
     "metadata": {
      "needs_background": "light"
     },
     "output_type": "display_data"
    },
    {
     "name": "stdout",
     "output_type": "stream",
     "text": [
      "time: 698 ms\n"
     ]
    }
   ],
   "source": [
    "vix = ds.load_vix()\n",
    "rel_dist = vix.vix_close / vix.vix_open - 1\n",
    "print(rel_dist.shape)\n",
    "rel_dist.describe()\n",
    "rel_dist.hist(bins=200)"
   ]
  },
  {
   "cell_type": "code",
   "execution_count": 31,
   "metadata": {},
   "outputs": [
    {
     "name": "stdout",
     "output_type": "stream",
     "text": [
      "2018-12-19 17:19:59 [INFO] src.evaluation.evaluator: ---------- Prepare dataset ----------\n",
      "2018-12-19 17:20:00 [INFO] src.preparation: Train Labels --> -1.0: 100000; 0.0: 100000; 1.0: 100000\n",
      "2018-12-19 17:20:00 [INFO] src.preparation: Training range: 2010-01-04 00:00:00 to 2014-06-09 00:00:00\n",
      "2018-12-19 17:20:00 [INFO] src.preparation: Test Labels --> -1.0: 9973; 0.0: 37661; 1.0: 12366\n",
      "2018-12-19 17:20:00 [INFO] src.preparation: Testing range: 2016-01-04 00:00:00 to 2016-12-30 00:00:00\n",
      "2018-12-19 17:20:00 [INFO] src.preparation: Done preparing data\n",
      "2018-12-19 17:20:00 [INFO] src.evaluation.evaluator: ---------- Heuristic_v_l1 | MvOC-3C ----------\n",
      "2018-12-19 17:20:01 [INFO] src.evaluation.evaluator: ---------- Heuristic_l1 | MvOC-3C ----------\n",
      "2018-12-19 17:20:03 [INFO] src.evaluation.evaluator: ---------- Heuristic_all | MvOC-3C ----------\n",
      "2018-12-19 17:20:05 [INFO] src.evaluation.evaluator: ---------- Heuristic_l3 | MvOC-3C ----------\n",
      "time: 7.72 s\n"
     ]
    }
   ],
   "source": [
    "def get_predictors(n_features, n_timestamps=7, n_classes=3):\n",
    "    return [\n",
    "        Heuristic('_v_l1', n_features, n_timestamps, Heuristic.last_vix_movement),\n",
    "        Heuristic('_l1', n_features, n_timestamps, Heuristic.last_movement),\n",
    "        Heuristic('_all', n_features, n_timestamps, Heuristic.mean_movement),\n",
    "        Heuristic('_l3', n_features, n_timestamps, Heuristic.last_three_movements),\n",
    "    ]\n",
    "evaluator = Evaluator('heuristics', datasets, get_predictors, '../reports', seed=42, store=False,\n",
    "                      n_train_samples=300000, n_test_samples=60000)\n",
    "metrics = evaluator()"
   ]
  }
 ],
 "metadata": {
  "kernelspec": {
   "display_name": "Python 3",
   "language": "python",
   "name": "python3"
  },
  "language_info": {
   "codemirror_mode": {
    "name": "ipython",
    "version": 3
   },
   "file_extension": ".py",
   "mimetype": "text/x-python",
   "name": "python",
   "nbconvert_exporter": "python",
   "pygments_lexer": "ipython3",
   "version": "3.6.0"
  }
 },
 "nbformat": 4,
 "nbformat_minor": 2
}
