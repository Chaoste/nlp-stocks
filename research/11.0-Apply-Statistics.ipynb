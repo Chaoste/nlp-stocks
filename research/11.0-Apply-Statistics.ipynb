{
 "cells": [
  {
   "cell_type": "code",
   "execution_count": 4,
   "metadata": {},
   "outputs": [],
   "source": [
    "import pyxdameraulevenshtein"
   ]
  },
  {
   "cell_type": "code",
   "execution_count": 5,
   "metadata": {},
   "outputs": [],
   "source": [
    "import sys\n",
    "import numpy as np\n",
    "import pandas as pd\n",
    "from statsmodels.tsa.stattools import grangercausalitytests\n",
    "import statsmodels.tsa.stattools as stats\n",
    "import statsmodels.tsa.statespace.tools as statstools\n",
    "from statsmodels.tsa.api import VAR, DynamicVAR\n",
    "from matplotlib import pyplot as plt\n",
    "import itertools\n",
    "\n",
    "sys.path.append(\"..\") # Adds higher directory to python modules path for importing from src dir\n",
    "from src.datasets import NyseStocksDataset\n",
    "\n",
    "%matplotlib inline\n",
    "%load_ext autotime\n",
    "%load_ext autoreload\n",
    "%autoreload 2"
   ]
  },
  {
   "cell_type": "code",
   "execution_count": 6,
   "metadata": {},
   "outputs": [
    {
     "data": {
      "application/vnd.jupyter.widget-view+json": {
       "model_id": "bf97666de5e84b50b149f466b63ec200",
       "version_major": 2,
       "version_minor": 0
      },
      "text/plain": [
       "HBox(children=(IntProgress(value=0, max=501), HTML(value='')))"
      ]
     },
     "metadata": {},
     "output_type": "display_data"
    },
    {
     "name": "stdout",
     "output_type": "stream",
     "text": [
      "\n",
      "time: 12 s\n"
     ]
    }
   ],
   "source": [
    "ds = NyseStocksDataset('OCMvOC-3C', file_path='../data/nyse/prices.csv', features=['open', 'close', 'movement', 'vix_open', 'vix_close'])\n",
    "ds.load()"
   ]
  },
  {
   "cell_type": "code",
   "execution_count": 49,
   "metadata": {},
   "outputs": [
    {
     "name": "stdout",
     "output_type": "stream",
     "text": [
      "\n",
      "Granger Causality\n",
      "number of lags (no zero) 1\n",
      "ssr based F test:         F=-1.9245 , p=1.0000  , df_denom=6, df_num=1\n",
      "ssr based chi2 test:   chi2=-2.8868 , p=1.0000  , df=1\n",
      "likelihood ratio test: chi2=-3.4810 , p=1.0000  , df=1\n",
      "parameter F test:         F=1.7094  , p=0.2389  , df_denom=6, df_num=1\n",
      "\n",
      "Granger Causality\n",
      "number of lags (no zero) 2\n",
      "ssr based F test:         F=-1.2875 , p=1.0000  , df_denom=4, df_num=2\n",
      "ssr based chi2 test:   chi2=-5.1499 , p=1.0000  , df=2\n",
      "likelihood ratio test: chi2=-8.2566 , p=1.0000  , df=2\n",
      "parameter F test:         F=0.0166  , p=0.9836  , df_denom=4, df_num=2\n"
     ]
    },
    {
     "data": {
      "image/png": "[encoded data removed]",
      "text/plain": [
       "<matplotlib.figure.Figure at 0x21997d23978>"
      ]
     },
     "metadata": {
      "needs_background": "light"
     },
     "output_type": "display_data"
    }
   ],
   "source": [
    "a = np.random.random(10)\n",
    "b = np.arange(5, 15)\n",
    "# b = np.random.random(10)\n",
    "matrix = np.array([b, a]).T\n",
    "grangercausalitytests(matrix, maxlag=2, verbose=True)\n",
    "_ = plt.plot(matrix)"
   ]
  },
  {
   "cell_type": "code",
   "execution_count": 7,
   "metadata": {
    "scrolled": true
   },
   "outputs": [
    {
     "name": "stdout",
     "output_type": "stream",
     "text": [
      "time: 25.9 ms\n"
     ]
    }
   ],
   "source": [
    "# Reject any null hypothesis if p value is below a significant level / statistic value is more extreme than the related critical value\n",
    "# Weak assumption: If we can't reject a null hypothesis we assume that it's true\n",
    "# p=100% would mean the null hypothesis is correct. Below 5% we can \"safely\" reject it\n",
    "# Link 1: https://stats.stackexchange.com/questions/55805/how-do-you-interpret-results-from-unit-root-tests)\n",
    "# My Post: https://stats.stackexchange.com/questions/317133/how-to-interpret-kpss-test/371119#371119\n",
    "\n",
    "# Null hypothesis: is level stationary (with noise) = I(0)\n",
    "# For instance a ‘shock’ dies away with stationarity but is persistent if non stationary.\n",
    "def is_stationary(X, debug=True): # = not able to reject null hypothesis\n",
    "    # Null hypothesis: x is stationary (not trend stationary); Note: test tends to reject too often\n",
    "    with warnings.catch_warnings():\n",
    "        warnings.filterwarnings(\"ignore\")\n",
    "        kpss_stat, p_value, lags, critical_values = stats.kpss(X)\n",
    "    if debug:\n",
    "        print('-'*10,' KPSS ','-'*10,)\n",
    "        print(f'{kpss_stat}, {p_value}, {lags}, {critical_values}')\n",
    "    return abs(kpss_stat) < abs(critical_values['5%'])\n",
    "    # Same as return p_value > 0.05\n",
    "\n",
    "# Null hypothesis: has unit root = I(1)\n",
    "def has_unit_root(X, debug=True): # = not able to reject null hypothesis\n",
    "    # Null hypothesis: x has a unit root (= is not stationary, might be trend stationary)\n",
    "    adf_stat, p_value, used_lag, nobs, critical_values, icbest = stats.adfuller(X)\n",
    "    if debug:\n",
    "        print('-'*10,' ADF ','-'*10,)\n",
    "        print(f'{adf_stat}, {p_value}, {used_lag}, {critical_values}')\n",
    "    return abs(adf_stat) < abs(critical_values['5%'])\n",
    "    # Same as return p_value > 0.05\n",
    "\n",
    "def get_order_of_integration(X, debug=True):\n",
    "    if has_unit_root(X, debug=debug):\n",
    "        return 1\n",
    "    if is_stationary(X, debug=debug):\n",
    "        return 0\n",
    "    return 2  # just assumption. usually this shouldn't happen\n",
    "\n",
    "# Uses the augmented Engle-Granger two-step cointegration test\n",
    "def are_cointegrated(X1, X2, debug=True): # = able to reject null hypothesis\n",
    "    X1_order = get_order_of_integration(X1, debug=False)\n",
    "    X2_order = get_order_of_integration(X2, debug=False)\n",
    "    if debug:\n",
    "        print('-'*10,' COINT ','-'*10,)\n",
    "        print(f'X1: I({X1_order}) - X2: I({X2_order})')\n",
    "    assert X1_order, f'Timeseries X1 need to be of I(1) but was {X1_order}'\n",
    "    assert X2_order, f'Timeseries X2 need to be of I(1) but was {X2_order}'\n",
    "    # Null hypothesis: X1 & X2 are not cointegrated (= is not stationary, might be trend stationary)\n",
    "    for trend_type in ['c', 'ct', 'ctt']:\n",
    "        coint_stat, p_value, critical_values = stats.coint(X1, X2, trend_type, maxlag=10)\n",
    "        if debug:\n",
    "            print(f'{trend_type}: {coint_stat:.2f}, {p_value:.2f}, {critical_values}')\n",
    "        if abs(coint_stat) > abs(critical_values[1]):\n",
    "            break\n",
    "    return abs(coint_stat) > abs(critical_values[1])\n",
    "    # Same as return p_value < 0.05"
   ]
  },
  {
   "cell_type": "code",
   "execution_count": 58,
   "metadata": {},
   "outputs": [
    {
     "name": "stdout",
     "output_type": "stream",
     "text": [
      "----------  COINT  ----------\n",
      "X1: I(1) - X2: I(1)\n",
      "c: -0.23, 0.98, [-4.01048603 -3.39854434 -3.08756793]\n",
      "ct: -8.05, 0.00, [-4.48720681 -3.87786858 -3.56858685]\n"
     ]
    },
    {
     "data": {
      "text/plain": [
       "True"
      ]
     },
     "execution_count": 58,
     "metadata": {},
     "output_type": "execute_result"
    }
   ],
   "source": [
    "are_cointegrated(np.arange(5, 105) + np.random.rand(100),  \n",
    "                 np.arange(100) * np.arange(100) * np.arange(100) * np.array(list(reversed(np.arange(100)))),\n",
    "                 debug=True)"
   ]
  },
  {
   "cell_type": "code",
   "execution_count": null,
   "metadata": {},
   "outputs": [],
   "source": [
    "symbols = ds.get_all_prices().symbol.unique()\n",
    "symbols = [s for s in symbols if ds.get_prices(s).shape[0] == 1762]\n",
    "features = pd.DataFrame(0, index=symbols, columns=symbols)"
   ]
  },
  {
   "cell_type": "code",
   "execution_count": null,
   "metadata": {},
   "outputs": [],
   "source": [
    "len(symbols)"
   ]
  },
  {
   "cell_type": "code",
   "execution_count": null,
   "metadata": {},
   "outputs": [],
   "source": [
    "for s1, s2 in itertools.combinations(symbols, r=2):\n",
    "    p1 = ds.get_prices(s1)['open']\n",
    "    p2 = ds.get_prices(s2)['open']\n",
    "    print(p1.shape, p2.shape)\n",
    "    print(s1, s2)\n",
    "    print(are_cointegrated(p1, p2))"
   ]
  }
 ],
 "metadata": {
  "kernelspec": {
   "display_name": "Python 3",
   "language": "python",
   "name": "python3"
  },
  "language_info": {
   "codemirror_mode": {
    "name": "ipython",
    "version": 3
   },
   "file_extension": ".py",
   "mimetype": "text/x-python",
   "name": "python",
   "nbconvert_exporter": "python",
   "pygments_lexer": "ipython3",
   "version": "3.6.8"
  }
 },
 "nbformat": 4,
 "nbformat_minor": 2
}
