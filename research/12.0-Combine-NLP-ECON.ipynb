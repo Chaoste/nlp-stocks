{
 "cells": [
  {
   "cell_type": "code",
   "execution_count": 1,
   "metadata": {},
   "outputs": [],
   "source": [
    "import pyxdameraulevenshtein"
   ]
  },
  {
   "cell_type": "code",
   "execution_count": 2,
   "metadata": {},
   "outputs": [],
   "source": [
    "import sys\n",
    "import numpy as np\n",
    "import pandas as pd\n",
    "from tqdm import tqdm_notebook as tqdm\n",
    "from matplotlib import pyplot as plt\n",
    "import itertools\n",
    "\n",
    "sys.path.append(\"..\") # Adds higher directory to python modules path for importing from src dir\n",
    "from src.datasets import NyseStocksDataset, NyseSecuritiesDataset\n",
    "from src.econometric_utils import *\n",
    "# from statsmodels.tsa.stattools import grangercausalitytests\n",
    "\n",
    "%matplotlib inline\n",
    "%load_ext autotime\n",
    "%load_ext autoreload\n",
    "%autoreload 2"
   ]
  },
  {
   "cell_type": "code",
   "execution_count": 336,
   "metadata": {},
   "outputs": [
    {
     "data": {
      "application/vnd.jupyter.widget-view+json": {
       "model_id": "cda672fe10f349e094277d761d4decac",
       "version_major": 2,
       "version_minor": 0
      },
      "text/plain": [
       "HBox(children=(IntProgress(value=0, max=501), HTML(value='')))"
      ]
     },
     "metadata": {},
     "output_type": "display_data"
    },
    {
     "name": "stdout",
     "output_type": "stream",
     "text": [
      "time: 23 s\n"
     ]
    }
   ],
   "source": [
    "ds = NyseStocksDataset('OCMvOC-3C', file_path='../data/nyse/prices-split-adjusted.csv', features=['open', 'close', 'movement', 'vix_open', 'vix_close'])\n",
    "securities = NyseSecuritiesDataset(file_path='../data/nyse/securities.csv')\n",
    "ds.load()\n",
    "securities.load()"
   ]
  },
  {
   "cell_type": "code",
   "execution_count": null,
   "metadata": {},
   "outputs": [],
   "source": [
    "# features = pd.read_csv('cointegration.csv', index_col=0)\n",
    "coints = pd.read_csv('cointegration-10-to-12.csv', index_col=0).stack()\n",
    "coocs = pd.read_csv('cooccurrences.csv', index_col=0).stack().astype(float)\n",
    "coocs.index.levels[0].name = None"
   ]
  },
  {
   "cell_type": "code",
   "execution_count": null,
   "metadata": {},
   "outputs": [],
   "source": [
    "features = pd.merge(coocs.reset_index(), coints.reset_index(), on=['level_0', 'level_1'], how='outer').set_index(['level_0', 'level_1']).fillna(0)\n",
    "features.columns = ['cooccurrence', 'cointegration']\n",
    "# features.cointegration = [int(y <= 0.1) for y in x.cointegration]\n",
    "# features.cooccurrence = [int(y >= 1) for y in x.cooccurrence]\n",
    "# features.corr()\n",
    "# sklearn.metrics.confusion_matrix(x.cointegration, x.cooccurrence)"
   ]
  }
 ],
 "metadata": {
  "kernelspec": {
   "display_name": "Python 3",
   "language": "python",
   "name": "python3"
  },
  "language_info": {
   "codemirror_mode": {
    "name": "ipython",
    "version": 3
   },
   "file_extension": ".py",
   "mimetype": "text/x-python",
   "name": "python",
   "nbconvert_exporter": "python",
   "pygments_lexer": "ipython3",
   "version": "3.6.0"
  }
 },
 "nbformat": 4,
 "nbformat_minor": 2
}
