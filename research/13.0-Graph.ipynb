{
 "cells": [
  {
   "cell_type": "code",
   "execution_count": 75,
   "metadata": {},
   "outputs": [
    {
     "name": "stdout",
     "output_type": "stream",
     "text": [
      "The autotime extension is already loaded. To reload it, use:\n",
      "  %reload_ext autotime\n",
      "The autoreload extension is already loaded. To reload it, use:\n",
      "  %reload_ext autoreload\n",
      "time: 275 ms\n"
     ]
    }
   ],
   "source": [
    "import sys\n",
    "import itertools\n",
    "\n",
    "import numpy as np\n",
    "import pandas as pd\n",
    "from tqdm import tqdm_notebook as tqdm\n",
    "from matplotlib import pyplot as plt\n",
    "from sklearn.metrics import mutual_info_score\n",
    "import networkx as nx\n",
    "# https://networkx.github.io/documentation/stable/tutorial.html\n",
    "import visJS2jupyter\n",
    "import visJS2jupyter.visJS_module as visJS_module\n",
    "# http://compbio.ucsd.edu/bringing-interactivity-network-visualization-jupyter-notebooks-visjs2jupyter/\n",
    "\n",
    "sys.path.append(\"..\") # Adds higher directory to python modules path for importing from src dir\n",
    "from src.datasets import NyseStocksDataset, NyseSecuritiesDataset\n",
    "from src.nlp_utils import *\n",
    "\n",
    "%matplotlib inline\n",
    "%load_ext autotime\n",
    "%load_ext autoreload\n",
    "%autoreload 2"
   ]
  },
  {
   "cell_type": "code",
   "execution_count": 2,
   "metadata": {},
   "outputs": [
    {
     "data": {
      "application/vnd.jupyter.widget-view+json": {
       "model_id": "42050932fc1642ae9334158c2b4fb177",
       "version_major": 2,
       "version_minor": 0
      },
      "text/plain": [
       "HBox(children=(IntProgress(value=0, max=470), HTML(value='')))"
      ]
     },
     "metadata": {},
     "output_type": "display_data"
    },
    {
     "name": "stdout",
     "output_type": "stream",
     "text": [
      "\n",
      "time: 9.76 s\n"
     ]
    }
   ],
   "source": [
    "ds = NyseStocksDataset('OCMvOC-3C', file_path='../data/nyse/prices-split-adjusted.csv', features=['open', 'close', 'movement', 'vix_open', 'vix_close'])\n",
    "securities = NyseSecuritiesDataset(file_path='../data/nyse/securities.csv')\n",
    "ds.load()\n",
    "securities.load()"
   ]
  },
  {
   "cell_type": "code",
   "execution_count": 3,
   "metadata": {},
   "outputs": [
    {
     "name": "stdout",
     "output_type": "stream",
     "text": [
      "time: 627 ms\n"
     ]
    }
   ],
   "source": [
    "# features = pd.read_csv('cointegration.csv', index_col=0)\n",
    "coints = pd.read_csv('reports/cointegration-10-to-12.csv', index_col=0).stack()\n",
    "coocs = pd.read_csv('reports/cooccurrences.csv', index_col=0).stack().astype(float)\n",
    "features = pd.merge(coocs.reset_index(), coints.reset_index(), on=['level_0', 'level_1'], how='outer').set_index(['level_0', 'level_1']).fillna(0)\n",
    "features.columns = ['cooccurrence', 'cointegration']"
   ]
  },
  {
   "cell_type": "code",
   "execution_count": 15,
   "metadata": {},
   "outputs": [
    {
     "name": "stdout",
     "output_type": "stream",
     "text": [
      "time: 4.32 s\n"
     ]
    }
   ],
   "source": [
    "def generate_threshold_counts(features):\n",
    "    # Remove duplicate entries\n",
    "    features = features[list((compA < compB) for ((compA, compB), _) in features.iterrows())]\n",
    "    \n",
    "    # Select threshold to have in the end roughly the `n` largest edges left\n",
    "    amount_counts = features.groupby('cooccurrence').count()\n",
    "    amount_counts.columns = ['count']\n",
    "\n",
    "    threshold_counts = amount_counts[::-1].cumsum()[::-1]\n",
    "    return threshold_counts\n",
    "\n",
    "threshold_counts = generate_threshold_counts(features)\n",
    "\n",
    "def top_edges(features, n=100):\n",
    "    threshold = threshold_counts[(threshold_counts['count'] > n) & (threshold_counts['count'].shift(-1) <= n)].index[0]\n",
    "    return features[features['cooccurrence'] > threshold]"
   ]
  },
  {
   "cell_type": "code",
   "execution_count": 5,
   "metadata": {
    "scrolled": false
   },
   "outputs": [
    {
     "name": "stdout",
     "output_type": "stream",
     "text": [
      "time: 146 ms\n"
     ]
    }
   ],
   "source": [
    "# https://github.com/ucsd-ccbb/visJS2jupyter/blob/master/visJS2jupyter/visJS_module.py\n",
    "# http://compbio.ucsd.edu/bringing-interactivity-network-visualization-jupyter-notebooks-visjs2jupyter/\n",
    "def display_interactive_graph(G, output_file=None):\n",
    "    # Prepare graph data\n",
    "    V = list(G.nodes())\n",
    "    E = list(G.edges())\n",
    "    pos = nx.spring_layout(G)\n",
    "\n",
    "    V_enriched = [(x, securities.get_company_name(x), securities.get_industry(x)) for x in V]\n",
    "    colors = get_colors(np.unique([x[2] for x in V_enriched]))\n",
    "\n",
    "    nodes_dict = [{\"id\":n,\n",
    "                   \"title\": f'{comp} ({industry})',\n",
    "                   \"color\": colors[industry],\n",
    "                   \"border_width\": 0.3,\n",
    "                   \"x\":pos[n][0]*1000,\n",
    "                   \"y\":pos[n][1]*1000} for (n, comp, industry) in V_enriched]\n",
    "    node_map = dict(zip(V, range(len(V))))\n",
    "    edges_dict = [{\"id\": f'{coocs[E[i]]:n} articles', \"source\": node_map[E[i][0]], \"target\": node_map[E[i][1]],\n",
    "                   \"width\": 5 * coocs[E[i]] / features.cooccurrence.max()} for i in range(len(E))]\n",
    "    return visJS_module.visjs_network(nodes_dict, edges_dict, time_stamp=1000000, node_size_multiplier=7,\n",
    "                                      edge_width_field='width', edge_label_field='none',\n",
    "                                      graph_height=500, graph_width=900, export_network=bool(output_file), export_file=output_file)"
   ]
  },
  {
   "cell_type": "code",
   "execution_count": 6,
   "metadata": {},
   "outputs": [
    {
     "name": "stdout",
     "output_type": "stream",
     "text": [
      "time: 143 ms\n"
     ]
    }
   ],
   "source": [
    "def generate_graph(edges):\n",
    "    edges = [(idx[0], idx[1], { 'cooc': max(val.cooccurrence / features.cooccurrence.max(), 0.2) })\n",
    "             for idx, val in edges.iterrows()]\n",
    "    G = nx.Graph(title='number_of_shared_articles')\n",
    "    G.add_weighted_edges_from([(x[0], x[1], x[2]['cooc']) for x in edges])\n",
    "    return G"
   ]
  },
  {
   "cell_type": "code",
   "execution_count": 31,
   "metadata": {
    "scrolled": false
   },
   "outputs": [
    {
     "data": {
      "text/html": [
       "<!doctype html><html><head>  <title>Network | Basic usage</title></head><body><script type=\"text/javascript\">function setUpFrame() {     var frame = window.frames[\"style_file1000000\"];    frame.runVis([{\"id\": \"AAL\", \"title\": \"American Airlines Group (Industrials)\", \"color\": \"rgb(230, 245, 201)\", \"border_width\": 0.3, \"x\": 543.9375433557861, \"y\": -872.9303856129079, \"node_shape\": \"dot\", \"degree\": 3.0}, {\"id\": \"DAL\", \"title\": \"Delta Air Lines (Industrials)\", \"color\": \"rgb(230, 245, 201)\", \"border_width\": 0.3, \"x\": 665.5525823306407, \"y\": -860.674296542207, \"node_shape\": \"dot\", \"degree\": 3.0}, {\"id\": \"AAPL\", \"title\": \"Apple Inc. (Information Technology)\", \"color\": \"rgb(256, 242, 174)\", \"border_width\": 0.3, \"x\": -40.37292682626221, \"y\": -23.80552517653236, \"node_shape\": \"dot\", \"degree\": 3.0}, {\"id\": \"AMZN\", \"title\": \"Amazon.com Inc (Consumer Discretionary)\", \"color\": \"rgb(179, 226, 205)\", \"border_width\": 0.3, \"x\": -187.88612301102916, \"y\": 37.23179098864149, \"node_shape\": \"dot\", \"degree\": 3.0}, {\"id\": \"BAC\", \"title\": \"Bank of America Corp (Financials)\", \"color\": \"rgb(244, 202, 228)\", \"border_width\": 0.3, \"x\": 252.44315514059633, \"y\": 114.02438917701794, \"node_shape\": \"dot\", \"degree\": 3.0}, {\"id\": \"C\", \"title\": \"Citigroup Inc. (Financials)\", \"color\": \"rgb(244, 202, 228)\", \"border_width\": 0.3, \"x\": 168.57107619570036, \"y\": 118.24152479725446, \"node_shape\": \"dot\", \"degree\": 3.0}, {\"id\": \"FB\", \"title\": \"Facebook (Information Technology)\", \"color\": \"rgb(256, 242, 174)\", \"border_width\": 0.3, \"x\": 30.23336140808555, \"y\": -95.16446821693006, \"node_shape\": \"dot\", \"degree\": 3.0}, {\"id\": \"GS\", \"title\": \"Goldman Sachs Group (Financials)\", \"color\": \"rgb(244, 202, 228)\", \"border_width\": 0.3, \"x\": 155.4094899325396, \"y\": 9.889777175431302, \"node_shape\": \"dot\", \"degree\": 3.0}, {\"id\": \"INTC\", \"title\": \"Intel Corp. (Information Technology)\", \"color\": \"rgb(256, 242, 174)\", \"border_width\": 0.3, \"x\": -195.62177198825165, \"y\": -169.52125951930157, \"node_shape\": \"dot\", \"degree\": 3.0}, {\"id\": \"JPM\", \"title\": \"JPMorgan Chase & Co. (Financials)\", \"color\": \"rgb(244, 202, 228)\", \"border_width\": 0.3, \"x\": 217.69672804002082, \"y\": 44.382190822004475, \"node_shape\": \"dot\", \"degree\": 3.0}, {\"id\": \"MS\", \"title\": \"Morgan Stanley (Financials)\", \"color\": \"rgb(244, 202, 228)\", \"border_width\": 0.3, \"x\": 127.81007573684303, \"y\": 73.37026735362394, \"node_shape\": \"dot\", \"degree\": 3.0}, {\"id\": \"MSFT\", \"title\": \"Microsoft Corp. (Information Technology)\", \"color\": \"rgb(256, 242, 174)\", \"border_width\": 0.3, \"x\": -133.9191302765466, \"y\": -67.40633797126013, \"node_shape\": \"dot\", \"degree\": 3.0}, {\"id\": \"T\", \"title\": \"AT&T Inc (Telecommunications Services)\", \"color\": \"rgb(241, 226, 204)\", \"border_width\": 0.3, \"x\": -255.38369984241223, \"y\": 108.64486846498271, \"node_shape\": \"dot\", \"degree\": 3.0}, {\"id\": \"XOM\", \"title\": \"Exxon Mobil Corp. (Energy)\", \"color\": \"rgb(203, 213, 232)\", \"border_width\": 0.3, \"x\": -362.1276018697861, \"y\": -250.56341023395174, \"node_shape\": \"dot\", \"degree\": 3.0}, {\"id\": \"YHOO\", \"title\": \"Yahoo Inc. (Information Technology)\", \"color\": \"rgb(256, 242, 174)\", \"border_width\": 0.3, \"x\": -70.95494813181564, \"y\": -187.22976317498023, \"node_shape\": \"dot\", \"degree\": 3.0}, {\"id\": \"AIG\", \"title\": \"American International Group, Inc. (Financials)\", \"color\": \"rgb(244, 202, 228)\", \"border_width\": 0.3, \"x\": 270.0954512602046, \"y\": 282.8963085749648, \"node_shape\": \"dot\", \"degree\": 3.0}, {\"id\": \"AXP\", \"title\": \"American Express Co (Financials)\", \"color\": \"rgb(244, 202, 228)\", \"border_width\": 0.3, \"x\": 493.95042695299605, \"y\": 208.73168775521586, \"node_shape\": \"dot\", \"degree\": 3.0}, {\"id\": \"BA\", \"title\": \"Boeing Company (Industrials)\", \"color\": \"rgb(230, 245, 201)\", \"border_width\": 0.3, \"x\": 713.5665876472009, \"y\": -6.634426713781742, \"node_shape\": \"dot\", \"degree\": 3.0}, {\"id\": \"GE\", \"title\": \"General Electric (Industrials)\", \"color\": \"rgb(230, 245, 201)\", \"border_width\": 0.3, \"x\": 474.9087470733755, \"y\": 25.76518782586684, \"node_shape\": \"dot\", \"degree\": 3.0}, {\"id\": \"BLK\", \"title\": \"BlackRock (Financials)\", \"color\": \"rgb(244, 202, 228)\", \"border_width\": 0.3, \"x\": 409.1088800019236, \"y\": 331.21329338693727, \"node_shape\": \"dot\", \"degree\": 3.0}, {\"id\": \"WFC\", \"title\": \"Wells Fargo (Financials)\", \"color\": \"rgb(244, 202, 228)\", \"border_width\": 0.3, \"x\": 283.5479281037694, \"y\": 44.218767510200436, \"node_shape\": \"dot\", \"degree\": 3.0}, {\"id\": \"GM\", \"title\": \"General Motors (Consumer Discretionary)\", \"color\": \"rgb(179, 226, 205)\", \"border_width\": 0.3, \"x\": -2.514439147045785, \"y\": 264.22861055568706, \"node_shape\": \"dot\", \"degree\": 3.0}, {\"id\": \"COP\", \"title\": \"ConocoPhillips (Energy)\", \"color\": \"rgb(203, 213, 232)\", \"border_width\": 0.3, \"x\": -501.11741849423487, \"y\": -438.09490441342956, \"node_shape\": \"dot\", \"degree\": 3.0}, {\"id\": \"CVX\", \"title\": \"Chevron Corp. (Energy)\", \"color\": \"rgb(203, 213, 232)\", \"border_width\": 0.3, \"x\": -580.8907206549839, \"y\": -314.01196330815077, \"node_shape\": \"dot\", \"degree\": 3.0}, {\"id\": \"F\", \"title\": \"Ford Motor (Consumer Discretionary)\", \"color\": \"rgb(179, 226, 205)\", \"border_width\": 0.3, \"x\": -152.09710892266057, \"y\": 331.4776948485642, \"node_shape\": \"dot\", \"degree\": 3.0}, {\"id\": \"VZ\", \"title\": \"Verizon Communications (Telecommunications Services)\", \"color\": \"rgb(241, 226, 204)\", \"border_width\": 0.3, \"x\": -394.2712153717844, \"y\": 308.9324257042123, \"node_shape\": \"dot\", \"degree\": 3.0}, {\"id\": \"TGT\", \"title\": \"Target Corp. (Consumer Discretionary)\", \"color\": \"rgb(179, 226, 205)\", \"border_width\": 0.3, \"x\": -1000.0, \"y\": 441.06746204055213, \"node_shape\": \"dot\", \"degree\": 3.0}, {\"id\": \"WMT\", \"title\": \"Wal-Mart Stores (Consumer Staples)\", \"color\": \"rgb(253, 205, 172)\", \"border_width\": 0.3, \"x\": -929.6749286428702, \"y\": 541.7204939022755, \"node_shape\": \"dot\", \"degree\": 3.0}], [{\"id\": \"437 articles\", \"source\": 0, \"target\": 1, \"width\": 0.6976372924648787}, {\"id\": \"622 articles\", \"source\": 2, \"target\": 3, \"width\": 0.9929757343550447}, {\"id\": \"501 articles\", \"source\": 2, \"target\": 4, \"width\": 0.7998084291187739}, {\"id\": \"467 articles\", \"source\": 2, \"target\": 5, \"width\": 0.7455300127713921}, {\"id\": \"848 articles\", \"source\": 2, \"target\": 6, \"width\": 1.3537675606641124}, {\"id\": \"352 articles\", \"source\": 2, \"target\": 7, \"width\": 0.561941251596424}, {\"id\": \"691 articles\", \"source\": 2, \"target\": 8, \"width\": 1.1031289910600255}, {\"id\": \"446 articles\", \"source\": 2, \"target\": 9, \"width\": 0.7120051085568327}, {\"id\": \"422 articles\", \"source\": 2, \"target\": 10, \"width\": 0.6736909323116219}, {\"id\": \"2093 articles\", \"source\": 2, \"target\": 11, \"width\": 3.3413154533844187}, {\"id\": \"761 articles\", \"source\": 2, \"target\": 12, \"width\": 1.2148786717752236}, {\"id\": \"277 articles\", \"source\": 2, \"target\": 13, \"width\": 0.44220945083014046}, {\"id\": \"281 articles\", \"source\": 2, \"target\": 14, \"width\": 0.44859514687100893}, {\"id\": \"315 articles\", \"source\": 3, \"target\": 11, \"width\": 0.5028735632183908}, {\"id\": \"333 articles\", \"source\": 4, \"target\": 15, \"width\": 0.5316091954022989}, {\"id\": \"280 articles\", \"source\": 4, \"target\": 16, \"width\": 0.44699872286079184}, {\"id\": \"345 articles\", \"source\": 4, \"target\": 19, \"width\": 0.5507662835249042}, {\"id\": \"2951 articles\", \"source\": 4, \"target\": 5, \"width\": 4.711047254150702}, {\"id\": \"278 articles\", \"source\": 4, \"target\": 18, \"width\": 0.4438058748403576}, {\"id\": \"1439 articles\", \"source\": 4, \"target\": 7, \"width\": 2.2972541507024267}, {\"id\": \"3132 articles\", \"source\": 4, \"target\": 9, \"width\": 5.0}, {\"id\": \"1915 articles\", \"source\": 4, \"target\": 10, \"width\": 3.0571519795657727}, {\"id\": \"1613 articles\", \"source\": 4, \"target\": 20, \"width\": 2.5750319284802043}, {\"id\": \"273 articles\", \"source\": 5, \"target\": 15, \"width\": 0.43582375478927204}, {\"id\": \"336 articles\", \"source\": 5, \"target\": 21, \"width\": 0.5363984674329502}, {\"id\": \"1480 articles\", \"source\": 5, \"target\": 7, \"width\": 2.362707535121328}, {\"id\": \"2679 articles\", \"source\": 5, \"target\": 9, \"width\": 4.276819923371647}, {\"id\": \"2292 articles\", \"source\": 5, \"target\": 10, \"width\": 3.6590038314176243}, {\"id\": \"1157 articles\", \"source\": 5, \"target\": 20, \"width\": 1.8470625798212006}, {\"id\": \"301 articles\", \"source\": 6, \"target\": 7, \"width\": 0.48052362707535123}, {\"id\": \"429 articles\", \"source\": 6, \"target\": 10, \"width\": 0.6848659003831418}, {\"id\": \"701 articles\", \"source\": 6, \"target\": 11, \"width\": 1.1190932311621966}, {\"id\": \"547 articles\", \"source\": 6, \"target\": 14, \"width\": 0.8732439335887612}, {\"id\": \"1504 articles\", \"source\": 7, \"target\": 9, \"width\": 2.401021711366539}, {\"id\": \"2031 articles\", \"source\": 7, \"target\": 10, \"width\": 3.242337164750958}, {\"id\": \"471 articles\", \"source\": 7, \"target\": 20, \"width\": 0.7519157088122606}, {\"id\": \"607 articles\", \"source\": 8, \"target\": 11, \"width\": 0.969029374201788}, {\"id\": \"272 articles\", \"source\": 9, \"target\": 18, \"width\": 0.4342273307790549}, {\"id\": \"1965 articles\", \"source\": 9, \"target\": 10, \"width\": 3.1369731800766285}, {\"id\": \"1205 articles\", \"source\": 9, \"target\": 20, \"width\": 1.923690932311622}, {\"id\": \"273 articles\", \"source\": 10, \"target\": 21, \"width\": 0.43582375478927204}, {\"id\": \"588 articles\", \"source\": 10, \"target\": 20, \"width\": 0.9386973180076629}, {\"id\": \"278 articles\", \"source\": 11, \"target\": 12, \"width\": 0.4438058748403576}, {\"id\": \"1101 articles\", \"source\": 11, \"target\": 14, \"width\": 1.7576628352490422}, {\"id\": \"413 articles\", \"source\": 12, \"target\": 25, \"width\": 0.659323116219668}, {\"id\": \"316 articles\", \"source\": 13, \"target\": 22, \"width\": 0.5044699872286079}, {\"id\": \"656 articles\", \"source\": 13, \"target\": 23, \"width\": 1.0472541507024267}, {\"id\": \"366 articles\", \"source\": 17, \"target\": 18, \"width\": 0.5842911877394636}, {\"id\": \"1440 articles\", \"source\": 21, \"target\": 24, \"width\": 2.2988505747126435}, {\"id\": \"531 articles\", \"source\": 26, \"target\": 27, \"width\": 0.8477011494252874}]);}</script><iframe name=\"style_file1000000\" src=\"style_file1000000.html\" width=\"100%;\" height=\"505px\"></iframe></body></html>"
      ],
      "text/plain": [
       "<IPython.core.display.HTML object>"
      ]
     },
     "execution_count": 31,
     "metadata": {},
     "output_type": "execute_result"
    },
    {
     "name": "stdout",
     "output_type": "stream",
     "text": [
      "time: 786 ms\n"
     ]
    }
   ],
   "source": [
    "# 1occ -> 17147, 2cooc -> 9155, 5cooc -> 3969, 10cooc -> 2131, 25cooc -> 975, 185cooc -> 97, 272cooc -> 50\n",
    "edges = top_edges(features, 50)\n",
    "G = generate_graph(edges)\n",
    "# display_interactive_graph(G, output_file=f'article_amounts_top{len(edges)}.json')\n",
    "display_interactive_graph(G)"
   ]
  },
  {
   "cell_type": "code",
   "execution_count": 189,
   "metadata": {},
   "outputs": [
    {
     "name": "stdout",
     "output_type": "stream",
     "text": [
      "1.0996541105257052e-05\n",
      "0.7282717838314103\n",
      "time: 210 ms\n"
     ]
    }
   ],
   "source": [
    "def ApEn(U, m, r):\n",
    "\n",
    "    def _maxdist(x_i, x_j):\n",
    "        return max([abs(ua - va) for ua, va in zip(x_i, x_j)])\n",
    "\n",
    "    def _phi(m):\n",
    "        x = [[U[j] for j in range(i, i + m - 1 + 1)] for i in range(N - m + 1)]\n",
    "        C = [len([1 for x_j in x if _maxdist(x_i, x_j) <= r]) / (N - m + 1.0) for x_i in x]\n",
    "        return (N - m + 1.0)**(-1) * sum(np.log(C))\n",
    "\n",
    "    N = len(U)\n",
    "\n",
    "    return abs(_phi(m+1) - _phi(m))\n",
    "\n",
    "# Usage example\n",
    "U = np.array([85, 80, 89] * 17)\n",
    "print(ApEn(U, 2, 3))\n",
    "# 1.0996541105257052e-05\n",
    "\n",
    "randU = np.random.choice([85, 80, 89], size=17*3)\n",
    "print(ApEn(randU, 2, 3))"
   ]
  },
  {
   "cell_type": "code",
   "execution_count": 175,
   "metadata": {},
   "outputs": [
    {
     "data": {
      "text/plain": [
       "0.0"
      ]
     },
     "execution_count": 175,
     "metadata": {},
     "output_type": "execute_result"
    },
    {
     "name": "stdout",
     "output_type": "stream",
     "text": [
      "time: 200 ms\n"
     ]
    }
   ],
   "source": [
    "x = np.sin(np.arange(100)).round(1)\n",
    "ApEn(x, 2, 3)"
   ]
  },
  {
   "cell_type": "code",
   "execution_count": 202,
   "metadata": {},
   "outputs": [
    {
     "data": {
      "text/plain": [
       "(-0.5095246653650682, 0.2427680009919806)"
      ]
     },
     "execution_count": 202,
     "metadata": {},
     "output_type": "execute_result"
    },
    {
     "name": "stdout",
     "output_type": "stream",
     "text": [
      "time: 160 ms\n"
     ]
    }
   ],
   "source": [
    "import scipy\n",
    "x = np.array([1, 0, -1, 0, -1, -1, -1])\n",
    "y = np.array([0, 1, 1, 0, 0, 1, 1])\n",
    "scipy.stats.pearsonr(x, y)"
   ]
  },
  {
   "cell_type": "code",
   "execution_count": 198,
   "metadata": {},
   "outputs": [
    {
     "name": "stdout",
     "output_type": "stream",
     "text": [
      "time: 183 ms\n"
     ]
    }
   ],
   "source": [
    "a=[1,4,6]\n",
    "b=[1,2,3]"
   ]
  },
  {
   "cell_type": "code",
   "execution_count": null,
   "metadata": {},
   "outputs": [],
   "source": [
    "\n",
    "ApEn(randU, 2, 3)"
   ]
  }
 ],
 "metadata": {
  "kernelspec": {
   "display_name": "Python 3",
   "language": "python",
   "name": "python3"
  },
  "language_info": {
   "codemirror_mode": {
    "name": "ipython",
    "version": 3
   },
   "file_extension": ".py",
   "mimetype": "text/x-python",
   "name": "python",
   "nbconvert_exporter": "python",
   "pygments_lexer": "ipython3",
   "version": "3.6.0"
  }
 },
 "nbformat": 4,
 "nbformat_minor": 2
}
