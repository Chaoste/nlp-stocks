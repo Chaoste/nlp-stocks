{
 "cells": [
  {
   "cell_type": "markdown",
   "metadata": {
    "heading_collapsed": true
   },
   "source": [
    "### Setup"
   ]
  },
  {
   "cell_type": "code",
   "execution_count": null,
   "metadata": {
    "hidden": true
   },
   "outputs": [],
   "source": [
    "import os\n",
    "import sys\n",
    "import datetime\n",
    "import itertools\n",
    "import math\n",
    "\n",
    "import numpy as np\n",
    "import pandas as pd\n",
    "from tqdm import tqdm_notebook as tqdm\n",
    "from matplotlib import pyplot as plt\n",
    "from sklearn.metrics import mean_squared_error\n",
    "\n",
    "sys.path.append(\"..\") # Adds higher directory to python modules path for importing from src dir\n",
    "from src.datasets import NyseStocksDataset, NyseSecuritiesDataset\n",
    "import src.econometric_utils as eco\n",
    "import src.regression_utils as regr\n",
    "import src.plot_utils as plot\n",
    "# import src.math_utils as math_utils\n",
    "\n",
    "get_month = lambda i: datetime.date(2000, int(i), 1).strftime('%B')\n",
    "\n",
    "%matplotlib inline\n",
    "%load_ext autotime\n",
    "%load_ext autoreload\n",
    "%autoreload 2"
   ]
  },
  {
   "cell_type": "code",
   "execution_count": null,
   "metadata": {
    "hidden": true
   },
   "outputs": [],
   "source": [
    "import seaborn as sns\n",
    "from scipy import stats\n",
    "from scipy.stats import norm, skew\n",
    "import statsmodels.formula.api as smf\n",
    "import statsmodels.tsa.api as smt\n",
    "import statsmodels.stats.api as sms\n",
    "import statsmodels.api as sm\n",
    "import scipy.stats as scs\n",
    "from arch import arch_model, unitroot\n",
    "import warnings\n",
    "warnings.warn = lambda *a, **kw: False"
   ]
  },
  {
   "cell_type": "code",
   "execution_count": null,
   "metadata": {
    "hidden": true
   },
   "outputs": [],
   "source": [
    "stocks = NyseStocksDataset('OCMvOC-3C', file_path='../data/nyse/prices-split-adjusted.csv', features=['open', 'close', 'movement', 'vix_open', 'vix_close'], load=True, look_back=1)\n",
    "securities = NyseSecuritiesDataset(file_path='../data/nyse/securities.csv', load=True)"
   ]
  },
  {
   "cell_type": "code",
   "execution_count": null,
   "metadata": {
    "hidden": true
   },
   "outputs": [],
   "source": [
    "gspc = stocks.load_gspc().set_index('date')[['gspc_open', 'gspc_close']].rename(lambda x: x.replace('gspc_', ''), axis=1)\n",
    "gspc = eco.add_movements(gspc)\n",
    "\n",
    "vix = stocks.load_vix().set_index('date')[['vix_open', 'vix_close']].rename(lambda x: x.replace('vix_', ''), axis=1)\n",
    "vix = eco.add_movements(vix)\n",
    "\n",
    "prices = stocks.enhance_features(stocks.prices.copy())\n",
    "comp_prices = []\n",
    "comp_grouped = prices.groupby(prices.symbol, sort=False)\n",
    "for sym, p in tqdm(comp_grouped):\n",
    "    comp_prices.append(stocks.shape_company_data(p))\n",
    "\n",
    "gspc_train = gspc.lret.iloc[:600]\n",
    "gspc_val = gspc.lret.iloc[600:]\n",
    "vix_train = vix.lret.iloc[:600]\n",
    "vix_val = vix.lret.iloc[600:]"
   ]
  },
  {
   "cell_type": "markdown",
   "metadata": {
    "heading_collapsed": true
   },
   "source": [
    "### Which timespan is more stable?"
   ]
  },
  {
   "cell_type": "markdown",
   "metadata": {
    "hidden": true
   },
   "source": [
    "\"Open-to-open returns are more volatile than close-to-close returns\"\n",
    "(\"Trading and Returns Under Periodic Market Closures\", Hong and Wang, 1998)\n",
    "\n",
    "\"Blandon (2007) shows that while close-to-close stock returns are\n",
    "highly autocorrelated, daily returns calculated on an open-to-close basis do not\n",
    "exhibit significant levels of autocorrelation. Amihud and Mendelson (1987) and\n",
    "Stoll and Whaley (1990) report that the interday stock returns computed using\n",
    "open-to-open prices have greater variance and show more evidence of reversals\n",
    "than comparable returns computed from close-to-close prices\"\n",
    "(\"Informational Content of Open-to-Close Stock Returns\", Andrey Kudryavtsev)\n",
    "\n",
    "\"Our results show that the open-to-open interday variance of HSI is higher than the closeto-close interday variance on all weekdays except Monday\" (\"Intraday and intraweek volatility patterns of Hang Seng Index and index futures, and a test of the wait-to-trade hypothesis.\", Tang, 2002)\n",
    "\n",
    "For testing the trading day hypothesis (returns are generated only during active trading and the expected return is the same for each trading day of the week): \"When opening data are available, calculating trading\n",
    "day returns from open to close is preferable to close to close\" (\"New Findings Regarding Day-of-the-Week Returns over Trading and Non-Trading Periods: A Note\", Rogalski, 1984)\n",
    "\n",
    "\"The absence of autocorrelation in stock return on an open-to-close basis supports\n",
    "Rogalski (1984) findings regarding the importance of distinguishing between trading\n",
    "and non-trading daily returns.\" (\"Return autocorrelation anomalies in two European stock markets\", Blandon, 2007)\n",
    "\n",
    "I can approve the assertion by Lockwood1990 (https://sci-hub.se/10.2307/2328672) that the volatility is higher for intraday than overnight stock returns.\n",
    "\n",
    "\"There is considerable empirical evidence that return dynamics are different over non-trading periods than during trading periods (French and Roll, 1986; Lockwood and Linn, 1990; Hasbrouck, 1991, 1993; and Madhavan et al., 1997; George and Wang, 2001; Cliff et al., 2008)\" (\"Information Flows Around the Globe: Predicting Opening Gaps from Overnight Foreign Stock Price Patterns\", Gooijer, 2012)"
   ]
  },
  {
   "cell_type": "markdown",
   "metadata": {
    "hidden": true
   },
   "source": [
    "- 467 stock prices from S&P 500 index\n",
    "    - open-to-open:\n",
    "        - AC1: $\\mu = -0.0224, \\sigma = 0.0569$\n",
    "        - AC1 without Monday: $\\mu = -0.0203, \\sigma = 0.0566$\n",
    "        - STD: $\\mu =  0.0185, \\sigma = 0.0055$\n",
    "        - Overall STD: $0.0193$\n",
    "    - close-to-close:\n",
    "        - AC1: $\\mu = -0.0399, \\sigma = 0.0515$\n",
    "        - AC1 without Monday: $\\mu = -0.0215, \\sigma = 0.0484$\n",
    "        - STD: $\\mu =  0.0188, \\sigma = 0.0056$\n",
    "        - Overall STD: $0.0196$\n",
    "    - open-to-close:\n",
    "        - AC1: $\\mu = -0.0260, \\sigma = 0.0554$\n",
    "        - AC1 without Monday: $\\mu = -0.0083, \\sigma = 0.0529$\n",
    "        - STD: $\\mu =  0.0155, \\sigma = 0.0046$\n",
    "        - Overall STD: $0.0161$\n",
    "- GSPC\n",
    "    - open-to-open:\n",
    "        - AC1: $-0.0359$\n",
    "        - STD: $0.0112$\n",
    "    - close-to-close:\n",
    "        - AC1: $-0.0732$ $\\implies$ exceeds 5\\% significance level\n",
    "        - STD: $0.0117$\n",
    "    - open-to-close:\n",
    "        - AC1: $-0.0771$ $\\implies$ exceeds 5\\% significance level\n",
    "        - STD: $0.0111$\n",
    "- VIX\n",
    "    - open-to-open:\n",
    "        - AC1: $-0.1196$ $\\implies$ exceeds 5\\% significance level\n",
    "        - STD: $0.0731$\n",
    "    - close-to-close:\n",
    "        - AC1: $-0.0839$ $\\implies$ exceeds 5\\% significance level\n",
    "        - STD: $0.0757$\n",
    "    - open-to-close:\n",
    "        - AC1: $-0.0547$\n",
    "        - STD: $0.0592$\n",
    "\n",
    "AC 5% Significant level: $\\pm \\frac{1.96}{\\sqrt{T - d}} = \\pm \\frac{1.96}{\\sqrt{753 - 1}} = \\pm 0.0715$  $\\implies$  no statistically significant autocorrelation present\n",
    "\n",
    "Only when considering the total close-to-close daily return, both VIX and GSPC are significantly autocorrelated with lag 1. One reason for this increased correlation in comparison to open-to-close (intraday) can be the additional information of the end of the previous day which is carried by the last close price. Additionally, the overnight return reflects those information of the previous day (TODO: cite).\n",
    "\n",
    "Taking the log of the returns, ensures a zero mean while obtaining other properties. In fact, it changes the standard deviation and auto correlation values only by a very small difference. When subtracting one for each original return value, the Kolmogorov-Smirnov test cannot reject its null and therefore confirms that the data distribution is still the same after taking the log."
   ]
  },
  {
   "cell_type": "code",
   "execution_count": null,
   "metadata": {
    "hidden": true
   },
   "outputs": [],
   "source": [
    "acf = lambda x, l: math_utils.auto_correlation(x, range(l))\n",
    "statistics = pd.DataFrame([{'oto_ac1': acf(cdata.oto, 2)[1], 'oto_std': cdata.oto.std(),\n",
    "  'ctc_ac1': acf(cdata.ctc, 2)[1], 'ctc_std': cdata.ctc.std(),\n",
    "  'otc_ac1': acf(cdata.otc, 2)[1], 'otc_std': cdata.otc.std()} for cdata in comp_prices])\n",
    "# Inspect monday: \"[x[x.date.dt.weekday != 0] for x in comp_prices]\"\"\n",
    "\n",
    "print (\"AUTO CORRELATION (lag=1)\")  # Inspect Auto Correlation with lag=1\n",
    "print('oto:', statistics.oto_ac1.mean().round(4), statistics.oto_ac1.std().round(4))\n",
    "print('ctc:', statistics.ctc_ac1.mean().round(4), statistics.ctc_ac1.std().round(4))\n",
    "print('otc:', statistics.otc_ac1.mean().round(4), statistics.otc_ac1.std().round(4))\n",
    "print('gspc oto:', acf(gspc.oto, 2)[1].round(4))\n",
    "print('gspc ctc:', acf(gspc.ctc, 2)[1].round(4))\n",
    "print('gspc otc:', acf(gspc.otc, 2)[1].round(4))\n",
    "print('vix oto:', acf(vix.oto, 2)[1].round(4))\n",
    "print('vix ctc:', acf(vix.ctc, 2)[1].round(4))\n",
    "print('vix otc:', acf(vix.otc, 2)[1].round(4))\n",
    "\n",
    "print (\"STANDARD DEVIATION\")  # Inspect Standard deviation\n",
    "print('oto:', statistics.oto_std.mean().round(4), statistics.oto_std.std().round(4))\n",
    "print('ctc:', statistics.ctc_std.mean().round(4), statistics.ctc_std.std().round(4))\n",
    "print('otc:', statistics.otc_std.mean().round(4), statistics.otc_std.std().round(4))\n",
    "print('gspc oto:', gspc.oto.std().round(4))\n",
    "print('gspc ctc:', gspc.ctc.std().round(4))\n",
    "print('gspc otc:', gspc.otc.std().round(4))\n",
    "print('vix oto:', vix.oto.std().round(4))\n",
    "print('vix ctc:', vix.ctc.std().round(4))\n",
    "print('vix otc:', vix.otc.std().round(4))"
   ]
  },
  {
   "cell_type": "markdown",
   "metadata": {},
   "source": [
    "### Transformations"
   ]
  },
  {
   "cell_type": "code",
   "execution_count": null,
   "metadata": {
    "scrolled": true
   },
   "outputs": [],
   "source": [
    "fig, axes = plt.subplots(1, 3, figsize=(14, 4))\n",
    "plot.compare_with_normal(gspc.otc, 'Open-to-close', ax=axes[0])\n",
    "plot.compare_with_normal(gspc.lret, 'Link Relatives', ax=axes[1])\n",
    "plot.compare_with_normal(orig_boxcox_values, fr'Box-Cox Transformation $\\lambda={argmll_lmbda:.2f}$', ax=axes[2])\n",
    "regr.compare_distributions(gspc.otc - 1, gspc.lret / 100)\n",
    "regr.compare_distributions(boxcox_values, gspc.lret / 100)"
   ]
  },
  {
   "cell_type": "code",
   "execution_count": null,
   "metadata": {
    "scrolled": true
   },
   "outputs": [],
   "source": [
    "orig_boxcox_values, argmll_lmbda = stats.boxcox(gspc.otc)\n",
    "boxcox_values = orig_boxcox_values.copy()\n",
    "outliers = np.abs(boxcox_values) > 0.01\n",
    "outliers2 = np.abs(boxcox_values) > 0.02\n",
    "boxcox_values[outliers] *= 0.7\n",
    "boxcox_values[outliers2] *= 0.7\n",
    "fig, axes = plt.subplots(2, 2, figsize=(12, 8))\n",
    "\n",
    "axes[0, 0].set_title(fr'Original Box-Cox Transformation $\\lambda={argmll_lmbda:.2f}$')\n",
    "axes[0, 0].plot(orig_boxcox_values)\n",
    "plot.compare_with_normal(orig_boxcox_values, ax=axes[0, 1], title=' ')\n",
    "\n",
    "axes[1, 0].set_title('After Downscaling Outliers')\n",
    "axes[1, 0].plot(boxcox_values)\n",
    "plot.compare_with_normal(boxcox_values, ax=axes[1, 1], title=' ')"
   ]
  },
  {
   "cell_type": "markdown",
   "metadata": {
    "heading_collapsed": true
   },
   "source": [
    "### Test Regression Analysis on GSPC"
   ]
  },
  {
   "cell_type": "markdown",
   "metadata": {
    "heading_collapsed": true,
    "hidden": true
   },
   "source": [
    "https://www.kaggle.com/benjibb/prototype-gspc\n",
    "\n",
    "More on tests and their intuitions: http://web.vu.lt/mif/a.buteikis/wp-content/uploads/PE_Book/3-8-UnivarGoF.html"
   ]
  },
  {
   "cell_type": "code",
   "execution_count": null,
   "metadata": {
    "hidden": true,
    "scrolled": false
   },
   "outputs": [],
   "source": [
    "regr.tsplot(gspc_train);\n",
    "regr.inspect_properties(gspc_train)"
   ]
  },
  {
   "cell_type": "code",
   "execution_count": null,
   "metadata": {
    "hidden": true
   },
   "outputs": [],
   "source": [
    "print(unitroot.ADF(gspc_train).regression.summary())"
   ]
  },
  {
   "cell_type": "markdown",
   "metadata": {
    "heading_collapsed": true
   },
   "source": [
    "### Seasonality"
   ]
  },
  {
   "cell_type": "code",
   "execution_count": null,
   "metadata": {
    "hidden": true
   },
   "outputs": [],
   "source": [
    "# plt.plot(gspc.open)\n",
    "r = gspc.otc\n",
    "monthly_returns = r.groupby([r.index.year.rename('year'), r.index.month.rename('month')]).mean()\n",
    "monthly_returns = pd.DataFrame(monthly_returns.reset_index().values, columns=('year', 'month', 'return'))\n",
    "ax = monthly_returns.boxplot(column='return', by='month')\n",
    "ax.set_title('')\n",
    "labels = [item.get_text() for item in ax.get_xticklabels()]\n",
    "plt.xticks(monthly_returns.iloc[:12].month, [get_month(x) for x in monthly_returns.iloc[:12].month], rotation=45)\n",
    "plt.tick_params(axis='both', which='major')"
   ]
  },
  {
   "cell_type": "markdown",
   "metadata": {
    "hidden": true
   },
   "source": [
    "- https://medium.com/@a.nejad_99199/exploring-market-seasonality-trends-19a91381c0fe\n",
    "- https://github.com/anejad/Exploring-Market-Seasonality-Trends/blob/master/Exploring%20Seasonality%20Trends%20in%20Stock%20Market.ipynb\n",
    "- https://otexts.com/fpp2/components.html\n",
    "- https://towardsdatascience.com/analysis-of-stock-market-cycles-with-fbprophet-package-in-python-7c36db32ecd0\n",
    "- https://digitalcommons.wayne.edu/cgi/viewcontent.cgi?article=2030&context=jmasm"
   ]
  },
  {
   "cell_type": "code",
   "execution_count": null,
   "metadata": {
    "hidden": true,
    "scrolled": true
   },
   "outputs": [],
   "source": [
    "regr.inspect_seasonality(gspc.open);"
   ]
  },
  {
   "cell_type": "markdown",
   "metadata": {
    "heading_collapsed": true
   },
   "source": [
    "### Develop & Fit ARIMA"
   ]
  },
  {
   "cell_type": "code",
   "execution_count": null,
   "metadata": {
    "hidden": true
   },
   "outputs": [],
   "source": [
    "model = smt.ARIMA(gspc_train, order=(1, 0, 1))\n",
    "model_fit = model.fit(method='mle', trend='nc', update_freq=5)\n",
    "in_sample_predictions = model_fit.predict()\n",
    "\n",
    "print(model_fit.summary())"
   ]
  },
  {
   "cell_type": "code",
   "execution_count": null,
   "metadata": {
    "hidden": true
   },
   "outputs": [],
   "source": [
    "history = list(gspc_train)\n",
    "ex_sample_predictions = pd.DataFrame(0, columns=['value', 'std', 'confLow', 'confUp'], index=gspc_val.index)\n",
    "for t in tqdm(range(len(gspc_val))):\n",
    "    _model = smt.ARIMA(history, order=(1, 0, 1))\n",
    "    _model_fit = _model.fit(method='mle', trend='nc', update_freq=5, disp=0)\n",
    "    guess, std, confs = _model_fit.forecast()\n",
    "    ex_sample_predictions.iloc[t] = (guess, std[0], *confs[0])\n",
    "    history.append(gspc_val[t])"
   ]
  },
  {
   "cell_type": "code",
   "execution_count": null,
   "metadata": {
    "hidden": true,
    "scrolled": true
   },
   "outputs": [],
   "source": [
    "ax = gspc_train.plot(label='Train', alpha=0.3, title='Model & Rolling Forecast of ARIMA(1,0,1)', figsize=(12, 4))\n",
    "ax.plot(gspc_train.index, in_sample_predictions, label='In-Sample')\n",
    "gspc_val.plot(ax=ax, label='Validation', alpha=0.3)\n",
    "ex_sample_predictions.value.plot(ax=ax, label='Ex-Sample')\n",
    "plt.xlim((gspc_train.index[0], gspc_val.index[-1]))\n",
    "plt.axvline(gspc_val.index[0], color='black', linestyle='dashed')\n",
    "ax.legend()\n",
    "ax.set_ylabel('Link Relatives')\n",
    "ax.set_xlabel('');\n",
    "# plt.gcf().savefig('gspc - arima101.pdf')\n",
    "\n",
    "\n",
    "fig, axes = plt.subplots(1, 2, figsize=(12, 4))\n",
    "\n",
    "print('ARIMA(1, 0, 1), RMS = ', round(np.sqrt(mean_squared_error(gspc_train, in_sample_predictions)), 4))\n",
    "print('Persistence Model, RMS = ', round(np.sqrt(mean_squared_error(gspc_train, gspc_train.shift(1).fillna(0))), 4))\n",
    "\n",
    "axes[0].plot(gspc_train - gspc_train.shift(1), alpha=0.4, label='Persistence Model Error')\n",
    "(gspc_train - in_sample_predictions).plot(ax=axes[0], alpha=0.8, label='ARIMA Error')\n",
    "axes[0].legend()\n",
    "axes[0].set_title('Model Errors vs. Baseline');\n",
    "\n",
    "plot.compare_with_normal(model_fit.resid, title='Distribution of ARIMA Errors', ax=axes[1])"
   ]
  },
  {
   "cell_type": "markdown",
   "metadata": {
    "heading_collapsed": true
   },
   "source": [
    "### Develop & fit GARCH"
   ]
  },
  {
   "cell_type": "code",
   "execution_count": null,
   "metadata": {
    "hidden": true
   },
   "outputs": [],
   "source": [
    "class ARIMA_GARCH():\n",
    "    def __init__(self, data, p=1, d=0, q=1, r=3, s=3):\n",
    "        self.arima = smt.ARIMA(data, order=(p, d, q))\n",
    "        self.arima_fit = self.arima.fit(method='mle', trend='nc', update_freq=5)\n",
    "        # Use ARIMAs residuals\n",
    "        self.garch = arch_model(self.arima_fit.resid, mean='Zero', vol='GARCH', p=r, q=s)\n",
    "        self.garch_fit = self.garch.fit(update_freq=5, disp='off')\n",
    "        self.in_sample_predictions = model_fit.conditional_volatility\n",
    "        self.p, self.d, self.q, self.r, self.s = p, d, q, r, s\n",
    "        # fig = res.plot(annualize='D')\n",
    "        # sms.het_arch(res.resid / res.conditional_volatility)\n",
    "        # am = arch_model(train, p=1, o=0, q=1, dist='StudentsT', vol='EGARCH')\n",
    "    \n",
    "    def predict_volatility(self):\n",
    "        yhat = self.garch_fit.forecast()\n",
    "        return yhat.variance.iloc[-1][0]\n",
    "\n",
    "    def __str__(self):\n",
    "        return f'{self.arima.__class__.__name__}({self.p}, {self.d}, {self.q})-{model.garch.volatility.__class__.__name__}({self.r}, {self.s})'"
   ]
  },
  {
   "cell_type": "code",
   "execution_count": null,
   "metadata": {
    "hidden": true
   },
   "outputs": [],
   "source": [
    "model = ARIMA_GARCH(gspc_train, 1, 0, 1, 1, 1)\n",
    "regr.tsplot(model.arima_fit.resid**2);"
   ]
  },
  {
   "cell_type": "code",
   "execution_count": null,
   "metadata": {
    "hidden": true
   },
   "outputs": [],
   "source": [
    "# Result from last block: PACF is considerable until lag=3\n",
    "p, q = 3, 3  # p = lagged variance, q = lagged residuals\n",
    "model = ARIMA_GARCH(gspc_train, 1, 0, 1, p, q)\n",
    "print(model.garch_fit.summary())"
   ]
  },
  {
   "cell_type": "code",
   "execution_count": null,
   "metadata": {
    "hidden": true
   },
   "outputs": [],
   "source": [
    "history = list(gspc_train)\n",
    "ex_sample_predictions = pd.Series(0.0, index=gspc_val.index)\n",
    "for t in tqdm(range(len(gspc_val))):\n",
    "    temp_model = ARIMA_GARCH(history, 1, 0, 1, p, q)\n",
    "    ex_sample_predictions[t] = temp_model.predict_volatility()\n",
    "    history.append(gspc_val[t])"
   ]
  },
  {
   "cell_type": "code",
   "execution_count": null,
   "metadata": {
    "hidden": true
   },
   "outputs": [],
   "source": [
    "final_model = ARIMA_GARCH(pd.concat([gspc_train, gspc_val]), 1, 0, 1, p, q)\n",
    "\n",
    "# There is no real volatility - this is an approximations we're using for comparison\n",
    "gspc_train_volatility = model.arima_fit.resid.rolling(p).std(ddof=0)\n",
    "gspc_train_volatility[:p-1] = gspc_train_volatility[p-1]  # Due to rolling window fill nones with last actual value\n",
    "gspc_val_volatility = final_model.arima_fit.resid[1-len(gspc_val)-p:].rolling(p).std(ddof=0).dropna()\n",
    "\n",
    "ex_sample_predictions += gspc_train_volatility.mean() - ex_sample_predictions.mean()\n",
    "in_sample_predictions = model.in_sample_predictions + gspc_train_volatility.mean() - model.in_sample_predictions.mean()"
   ]
  },
  {
   "cell_type": "code",
   "execution_count": null,
   "metadata": {
    "hidden": true
   },
   "outputs": [],
   "source": [
    "ax = gspc_train_volatility.plot(label='Train', alpha=0.7, title=f'Model & Rolling Forecast of {final_model}', figsize=(12, 4))\n",
    "ax.plot(gspc_train.index, in_sample_predictions, label='In-Sample', alpha=0.6)\n",
    "gspc_val_volatility.plot(ax=ax, label='Validation', alpha=0.7)\n",
    "ex_sample_predictions.plot(ax=ax, label='Ex-Sample', alpha=0.6)\n",
    "plt.xlim((gspc_train.index[0], gspc_val.index[-1]))\n",
    "plt.axvline(gspc_val.index[0], color='black', linestyle='dashed')\n",
    "ax.legend()\n",
    "ax.set_ylabel('Volatility of Link Relatives')\n",
    "ax.set_xlabel('')\n",
    "# plt.gcf().savefig(f'gspc - {model}.pdf')\n",
    "\n",
    "fig, axes = plt.subplots(1, 2, figsize=(12, 4))\n",
    "final_model.arima_fit.resid.plot(ax=axes[1])\n",
    "axes[1].set_title('ARIMA - Residuals')\n",
    "\n",
    "print(f'GARCH({p}, {q}), RMS = ', round(np.sqrt(mean_squared_error(gspc_train_volatility, in_sample_predictions)), 4))\n",
    "print('Persistence Model, RMS = ', round(np.sqrt(mean_squared_error(gspc_train_volatility, gspc_train_volatility.shift(1).fillna(0))), 4))\n",
    "\n",
    "(gspc_train_volatility - in_sample_predictions).plot(ax=axes[0], label='GARCH Error')\n",
    "axes[0].plot(gspc_train_volatility - gspc_train_volatility.shift(1), alpha=0.7, label='Persistence Model Error')\n",
    "axes[0].legend()\n",
    "axes[0].set_title('Model Errors vs. Baseline');\n",
    "\n",
    "# GARCH(15, 15), RMS =  0.2344\n",
    "# Persistence Model, RMS =  0.0981"
   ]
  },
  {
   "cell_type": "markdown",
   "metadata": {
    "heading_collapsed": true
   },
   "source": [
    "### TO READ"
   ]
  },
  {
   "cell_type": "markdown",
   "metadata": {
    "hidden": true
   },
   "source": [
    "- https://shishirshakya.blogspot.com/2015/06/the-todayamamoto-approach-to-granger.html\n",
    "- On Plotting https://robert-alvarez.github.io/2018-06-04-diagnostic_plots/"
   ]
  },
  {
   "cell_type": "code",
   "execution_count": null,
   "metadata": {
    "hidden": true,
    "scrolled": true
   },
   "outputs": [],
   "source": [
    "def inspect_forecast(model_fit, train, val):\n",
    "    # multi-step out-of-sample forecast\n",
    "    start_index = len(train)\n",
    "    end_index = start_index + len(val) - 1\n",
    "    ex_sample_forecast = model_fit.predict(start=start_index, end=end_index)\n",
    "    ex_sample_forecast.index = val.index\n",
    "\n",
    "    in_sample_forecast = model_fit.predict(len(train)-101, len(train)-1)\n",
    "\n",
    "    plt.plot(train.iloc[-100:])\n",
    "    plt.plot(val, 'b--', alpha=0.2)\n",
    "    plt.plot(in_sample_forecast, color='orange', alpha=0.2)\n",
    "    plt.plot(ex_sample_forecast, color='orange')\n",
    "\n",
    "inspect_forecast(model_fit, train, val)"
   ]
  }
 ],
 "metadata": {
  "kernelspec": {
   "display_name": "Python 3",
   "language": "python",
   "name": "python3"
  },
  "language_info": {
   "codemirror_mode": {
    "name": "ipython",
    "version": 3
   },
   "file_extension": ".py",
   "mimetype": "text/x-python",
   "name": "python",
   "nbconvert_exporter": "python",
   "pygments_lexer": "ipython3",
   "version": "3.6.0"
  },
  "toc": {
   "base_numbering": 1,
   "nav_menu": {},
   "number_sections": true,
   "sideBar": true,
   "skip_h1_title": false,
   "title_cell": "Table of Contents",
   "title_sidebar": "Contents",
   "toc_cell": false,
   "toc_position": {},
   "toc_section_display": true,
   "toc_window_display": false
  }
 },
 "nbformat": 4,
 "nbformat_minor": 2
}
