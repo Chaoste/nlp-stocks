{
 "cells": [
  {
   "cell_type": "code",
   "execution_count": 1,
   "metadata": {},
   "outputs": [],
   "source": [
    "import os\n",
    "import re\n",
    "import glob\n",
    "from datetime import datetime\n",
    "\n",
    "import pandas as pd\n",
    "import numpy as np\n",
    "from matplotlib import pyplot as plt\n",
    "from tqdm import tqdm_notebook as tqdm\n",
    "\n",
    "%matplotlib inline\n",
    "%load_ext autoreload\n",
    "%autoreload 2"
   ]
  },
  {
   "cell_type": "code",
   "execution_count": 2,
   "metadata": {},
   "outputs": [],
   "source": [
    "%load_ext autotime"
   ]
  },
  {
   "cell_type": "code",
   "execution_count": 3,
   "metadata": {},
   "outputs": [
    {
     "name": "stdout",
     "output_type": "stream",
     "text": [
      "Define constants\n",
      "time: 256 ms\n"
     ]
    }
   ],
   "source": [
    "print(\"Define constants\")\n",
    "HOME = \"..\"\n",
    "DATA_DIR = \"data\"\n",
    "REUTERS = os.path.join(HOME, DATA_DIR, \"bloomberg_reuters\", \"raw\", \"reuters\")\n",
    "BLOOMBERG = os.path.join(HOME, DATA_DIR, \"bloomberg_reuters\", \"raw\", \"bloomberg\")"
   ]
  },
  {
   "cell_type": "code",
   "execution_count": 93,
   "metadata": {},
   "outputs": [
    {
     "name": "stdout",
     "output_type": "stream",
     "text": [
      "106519\n"
     ]
    }
   ],
   "source": [
    "files_re = []\n",
    "for folder in glob.iglob(os.path.join(REUTERS, '*'), recursive=True):\n",
    "    for filename in glob.iglob(os.path.join(folder, '*'), recursive=True):\n",
    "        assert os.path.isfile(filename), filename\n",
    "        files_re.append(filename)\n",
    "print(len(files_re))"
   ]
  },
  {
   "cell_type": "code",
   "execution_count": 4,
   "metadata": {},
   "outputs": [
    {
     "name": "stdout",
     "output_type": "stream",
     "text": [
      "448395\n",
      "time: 1min 11s\n"
     ]
    }
   ],
   "source": [
    "files_bb = []\n",
    "for folder in glob.iglob(os.path.join(BLOOMBERG, '*'), recursive=True):\n",
    "    for filename in glob.iglob(os.path.join(folder, '*'), recursive=True):\n",
    "        assert os.path.isfile(filename), filename\n",
    "        files_bb.append(filename)\n",
    "print(len(files_bb))"
   ]
  },
  {
   "cell_type": "code",
   "execution_count": 5,
   "metadata": {},
   "outputs": [
    {
     "name": "stdout",
     "output_type": "stream",
     "text": [
      "Define functions\n",
      "time: 276 ms\n"
     ]
    }
   ],
   "source": [
    "print('Define functions')\n",
    "\n",
    "def split(path):\n",
    "    complete_dir, filename = os.path.split(path)\n",
    "    complete_dir, short_dir = os.path.split(complete_dir)\n",
    "    return complete_dir, short_dir, filename\n",
    "\n",
    "def read_content(path, datef='%Y-%m-%d'):\n",
    "    complete_dir, short_dir, filename = split(path)\n",
    "    with open(path, encoding='utf8') as file:\n",
    "        try:\n",
    "            content = file.read()\n",
    "        except Exception as e:\n",
    "            print('Failed reading', path)\n",
    "            raise e\n",
    "    publish_date = datetime.strptime(short_dir, datef)\n",
    "    return publish_date, filename, content"
   ]
  },
  {
   "cell_type": "code",
   "execution_count": 6,
   "metadata": {},
   "outputs": [
    {
     "name": "stdout",
     "output_type": "stream",
     "text": [
      "Reading all Bloomberg files\n",
      "time: 4min 1s\n"
     ]
    }
   ],
   "source": [
    "print('Reading all Bloomberg files')\n",
    "df_bloomberg = pd.DataFrame([read_content(x) for x in files_bb], columns=['date', 'filename', 'content'])"
   ]
  },
  {
   "cell_type": "code",
   "execution_count": 149,
   "metadata": {
    "scrolled": true
   },
   "outputs": [
    {
     "name": "stdout",
     "output_type": "stream",
     "text": [
      "Reading all Reuters files\n"
     ]
    }
   ],
   "source": [
    "print('Reading all Reuters files')\n",
    "df_reuters = pd.DataFrame([read_content(x, '%Y%m%d') for x in files_re], columns=['date', 'filename', 'content'])"
   ]
  },
  {
   "cell_type": "code",
   "execution_count": 7,
   "metadata": {},
   "outputs": [
    {
     "name": "stdout",
     "output_type": "stream",
     "text": [
      "time: 446 ms\n"
     ]
    }
   ],
   "source": [
    "import nyse"
   ]
  },
  {
   "cell_type": "code",
   "execution_count": 108,
   "metadata": {},
   "outputs": [
    {
     "name": "stdout",
     "output_type": "stream",
     "text": [
      "time: 3 s\n"
     ]
    }
   ],
   "source": [
    "nyse.load()\n",
    "\n",
    "def find_all(text, substring):\n",
    "    return [m.start() for m in re.finditer(substring, text)]\n",
    "\n",
    "def count_occurrences(df_articles, start=0, end=None):\n",
    "    end = end if end is not None else len(df_articles)\n",
    "    df_occurrences = pd.DataFrame(0, index=df_articles.index[start:end], columns=nyse.securities['Ticker symbol'])\n",
    "    for idx, row in tqdm(df_articles.iloc[start:end].iterrows(), total=end-start):\n",
    "        for symbol in df_occurrences.columns:\n",
    "            company = nyse.get_name(symbol)\n",
    "            occurrences = find_all(row['content'], company)\n",
    "            if len(occurrences):\n",
    "                df_occurrences[symbol][idx] = len(occurrences)\n",
    "    return df_occurrences"
   ]
  },
  {
   "cell_type": "markdown",
   "metadata": {},
   "source": [
    "### Occurrences Reuters"
   ]
  },
  {
   "cell_type": "code",
   "execution_count": 230,
   "metadata": {},
   "outputs": [
    {
     "data": {
      "application/vnd.jupyter.widget-view+json": {
       "model_id": "710a153f14604e4b869c6934a28473e4",
       "version_major": 2,
       "version_minor": 0
      },
      "text/plain": [
       "HBox(children=(IntProgress(value=0, max=100519), HTML(value='')))"
      ]
     },
     "metadata": {},
     "output_type": "display_data"
    },
    {
     "name": "stdout",
     "output_type": "stream",
     "text": [
      "time: 6h 51min\n"
     ]
    }
   ],
   "source": [
    "# df_occurrences_reuters = pd.DataFrame(0, index=df_reuters.index, columns=nyse.securities['Ticker symbol'])\n",
    "df_occurrences_reuters = count_occurrences(df_reuters)"
   ]
  },
  {
   "cell_type": "code",
   "execution_count": 238,
   "metadata": {},
   "outputs": [
    {
     "data": {
      "text/plain": [
       "112560"
      ]
     },
     "execution_count": 238,
     "metadata": {},
     "output_type": "execute_result"
    },
    {
     "name": "stdout",
     "output_type": "stream",
     "text": [
      "time: 622 ms\n"
     ]
    }
   ],
   "source": [
    "df_occurrences_reuters.sum().sum()"
   ]
  },
  {
   "cell_type": "code",
   "execution_count": 239,
   "metadata": {},
   "outputs": [
    {
     "name": "stdout",
     "output_type": "stream",
     "text": [
      "time: 58.3 s\n"
     ]
    }
   ],
   "source": [
    "df_occurrences_reuters.to_csv('reuters_occurrences.csv')"
   ]
  },
  {
   "cell_type": "markdown",
   "metadata": {},
   "source": [
    "### Occurrences Bloomberg"
   ]
  },
  {
   "cell_type": "code",
   "execution_count": null,
   "metadata": {
    "scrolled": true
   },
   "outputs": [],
   "source": [
    "df_occurrences_bloomberg = count_occurrences(df_bloomberg, 0, 100000)"
   ]
  },
  {
   "cell_type": "code",
   "execution_count": 25,
   "metadata": {},
   "outputs": [
    {
     "name": "stdout",
     "output_type": "stream",
     "text": [
      "time: 41.9 s\n"
     ]
    }
   ],
   "source": [
    "df_occurrences_bloomberg.to_csv('bloomberg_occurrences_1_100k.csv')"
   ]
  },
  {
   "cell_type": "code",
   "execution_count": 10,
   "metadata": {},
   "outputs": [
    {
     "data": {
      "application/vnd.jupyter.widget-view+json": {
       "model_id": "e85cfdb496574219b71e813100380ee0",
       "version_major": 2,
       "version_minor": 0
      },
      "text/plain": [
       "HBox(children=(IntProgress(value=0, max=100000), HTML(value='')))"
      ]
     },
     "metadata": {},
     "output_type": "display_data"
    },
    {
     "name": "stdout",
     "output_type": "stream",
     "text": [
      "\n",
      "time: 8h 8min 57s\n"
     ]
    }
   ],
   "source": [
    "df_occurrences_bloomberg2 = count_occurrences(df_bloomberg, 100000, 200000)"
   ]
  },
  {
   "cell_type": "code",
   "execution_count": 11,
   "metadata": {},
   "outputs": [
    {
     "name": "stdout",
     "output_type": "stream",
     "text": [
      "time: 44.9 s\n"
     ]
    }
   ],
   "source": [
    "df_occurrences_bloomberg2.to_csv('bloomberg_occurrences_2_100k.csv')"
   ]
  },
  {
   "cell_type": "code",
   "execution_count": 104,
   "metadata": {},
   "outputs": [
    {
     "data": {
      "application/vnd.jupyter.widget-view+json": {
       "model_id": "09d83d90c04d4533b81d1d965eaa4890",
       "version_major": 2,
       "version_minor": 0
      },
      "text/plain": [
       "HBox(children=(IntProgress(value=0, max=100000), HTML(value='')))"
      ]
     },
     "metadata": {},
     "output_type": "display_data"
    },
    {
     "name": "stdout",
     "output_type": "stream",
     "text": [
      "\n",
      "time: 6h 30min 28s\n"
     ]
    }
   ],
   "source": [
    "df_occurrences_bloomberg3 = count_occurrences(df_bloomberg, 200000, 300000)"
   ]
  },
  {
   "cell_type": "code",
   "execution_count": 105,
   "metadata": {},
   "outputs": [
    {
     "name": "stdout",
     "output_type": "stream",
     "text": [
      "time: 3min 13s\n"
     ]
    }
   ],
   "source": [
    "df_occurrences_bloomberg3.to_csv('bloomberg_occurrences_3_100k.csv')"
   ]
  },
  {
   "cell_type": "code",
   "execution_count": 106,
   "metadata": {},
   "outputs": [
    {
     "data": {
      "application/vnd.jupyter.widget-view+json": {
       "model_id": "62aa0dab0659488090f4398abcee8cce",
       "version_major": 2,
       "version_minor": 0
      },
      "text/plain": [
       "HBox(children=(IntProgress(value=0, max=100000), HTML(value='')))"
      ]
     },
     "metadata": {},
     "output_type": "display_data"
    },
    {
     "name": "stdout",
     "output_type": "stream",
     "text": [
      "\n",
      "time: 6h 29min 12s\n"
     ]
    }
   ],
   "source": [
    "df_occurrences_bloomberg4 = count_occurrences(df_bloomberg, 300000, 400000)"
   ]
  },
  {
   "cell_type": "code",
   "execution_count": 107,
   "metadata": {},
   "outputs": [
    {
     "name": "stdout",
     "output_type": "stream",
     "text": [
      "time: 3min 14s\n"
     ]
    }
   ],
   "source": [
    "df_occurrences_bloomberg4.to_csv('bloomberg_occurrences_4_100k.csv')"
   ]
  },
  {
   "cell_type": "code",
   "execution_count": 109,
   "metadata": {},
   "outputs": [
    {
     "data": {
      "application/vnd.jupyter.widget-view+json": {
       "model_id": "f6a014e0156d4557b4066f4e5ac4bb87",
       "version_major": 2,
       "version_minor": 0
      },
      "text/plain": [
       "HBox(children=(IntProgress(value=0, max=48395), HTML(value='')))"
      ]
     },
     "metadata": {},
     "output_type": "display_data"
    },
    {
     "name": "stdout",
     "output_type": "stream",
     "text": [
      "\n",
      "time: 3h 6min 38s\n"
     ]
    }
   ],
   "source": [
    "df_occurrences_bloomberg5 = count_occurrences(df_bloomberg, 400000)"
   ]
  },
  {
   "cell_type": "code",
   "execution_count": 110,
   "metadata": {},
   "outputs": [
    {
     "name": "stdout",
     "output_type": "stream",
     "text": [
      "time: 21 s\n"
     ]
    }
   ],
   "source": [
    "df_occurrences_bloomberg5.to_csv('bloomberg_occurrences_5_50k.csv')"
   ]
  },
  {
   "cell_type": "markdown",
   "metadata": {},
   "source": [
    "TODO: https://ndres.me/post/best-jupyter-notebook-extensions/"
   ]
  }
 ],
 "metadata": {
  "kernelspec": {
   "display_name": "Python 3",
   "language": "python",
   "name": "python3"
  },
  "language_info": {
   "codemirror_mode": {
    "name": "ipython",
    "version": 3
   },
   "file_extension": ".py",
   "mimetype": "text/x-python",
   "name": "python",
   "nbconvert_exporter": "python",
   "pygments_lexer": "ipython3",
   "version": "3.6.0"
  }
 },
 "nbformat": 4,
 "nbformat_minor": 2
}
