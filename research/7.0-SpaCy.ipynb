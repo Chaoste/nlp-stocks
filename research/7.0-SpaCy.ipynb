{
 "cells": [
  {
   "cell_type": "code",
   "execution_count": 9,
   "metadata": {},
   "outputs": [],
   "source": [
    "import os\n",
    "import re\n",
    "import glob\n",
    "from datetime import datetime\n",
    "\n",
    "import pandas as pd\n",
    "import numpy as np\n",
    "from matplotlib import pyplot as plt\n",
    "from tqdm import tqdm_notebook as tqdm\n",
    "\n",
    "%matplotlib inline\n",
    "%load_ext autotime\n",
    "%load_ext autoreload\n",
    "%autoreload 2"
   ]
  },
  {
   "cell_type": "markdown",
   "metadata": {},
   "source": [
    "Examples: https://towardsdatascience.com/named-entity-recognition-with-nltk-and-spacy-8c4a7d88e7da"
   ]
  },
  {
   "cell_type": "code",
   "execution_count": 10,
   "metadata": {
    "scrolled": true
   },
   "outputs": [
    {
     "name": "stdout",
     "output_type": "stream",
     "text": [
      "time: 3.87 s\n"
     ]
    }
   ],
   "source": [
    "import nltk\n",
    "from nltk.tokenize import word_tokenize\n",
    "from nltk.tag import pos_tagb"
   ]
  },
  {
   "cell_type": "code",
   "execution_count": 14,
   "metadata": {},
   "outputs": [
    {
     "name": "stderr",
     "output_type": "stream",
     "text": [
      "[nltk_data] Downloading package punkt to\n",
      "[nltk_data]     C:\\Users\\Thomas\\AppData\\Roaming\\nltk_data...\n",
      "[nltk_data]   Unzipping tokenizers\\punkt.zip.\n"
     ]
    },
    {
     "data": {
      "text/plain": [
       "True"
      ]
     },
     "execution_count": 14,
     "metadata": {},
     "output_type": "execute_result"
    },
    {
     "name": "stdout",
     "output_type": "stream",
     "text": [
      "time: 1min 14s\n"
     ]
    }
   ],
   "source": [
    "nltk.download('punkt')"
   ]
  },
  {
   "cell_type": "code",
   "execution_count": 17,
   "metadata": {},
   "outputs": [
    {
     "name": "stderr",
     "output_type": "stream",
     "text": [
      "[nltk_data] Downloading package averaged_perceptron_tagger to\n",
      "[nltk_data]     C:\\Users\\Thomas\\AppData\\Roaming\\nltk_data...\n",
      "[nltk_data]   Unzipping taggers\\averaged_perceptron_tagger.zip.\n"
     ]
    },
    {
     "data": {
      "text/plain": [
       "True"
      ]
     },
     "execution_count": 17,
     "metadata": {},
     "output_type": "execute_result"
    },
    {
     "name": "stdout",
     "output_type": "stream",
     "text": [
      "time: 6.52 s\n"
     ]
    }
   ],
   "source": [
    "nltk.download('averaged_perceptron_tagger')"
   ]
  },
  {
   "cell_type": "code",
   "execution_count": 11,
   "metadata": {},
   "outputs": [
    {
     "name": "stdout",
     "output_type": "stream",
     "text": [
      "time: 215 ms\n"
     ]
    }
   ],
   "source": [
    "ex = 'European authorities fined Google a record $5.1 billion on Wednesday for abusing its power in the mobile phone market and ordered the company to alter its practices'"
   ]
  },
  {
   "cell_type": "code",
   "execution_count": 12,
   "metadata": {},
   "outputs": [
    {
     "name": "stdout",
     "output_type": "stream",
     "text": [
      "time: 609 ms\n"
     ]
    }
   ],
   "source": [
    "def preprocess(sent):\n",
    "    sent = nltk.word_tokenize(sent)\n",
    "    sent = nltk.pos_tag(sent)\n",
    "    return sent"
   ]
  },
  {
   "cell_type": "code",
   "execution_count": 18,
   "metadata": {
    "scrolled": true
   },
   "outputs": [
    {
     "data": {
      "text/plain": [
       "[('European', 'JJ'),\n",
       " ('authorities', 'NNS'),\n",
       " ('fined', 'VBD'),\n",
       " ('Google', 'NNP'),\n",
       " ('a', 'DT'),\n",
       " ('record', 'NN'),\n",
       " ('$', '$'),\n",
       " ('5.1', 'CD'),\n",
       " ('billion', 'CD'),\n",
       " ('on', 'IN'),\n",
       " ('Wednesday', 'NNP'),\n",
       " ('for', 'IN'),\n",
       " ('abusing', 'VBG'),\n",
       " ('its', 'PRP$'),\n",
       " ('power', 'NN'),\n",
       " ('in', 'IN'),\n",
       " ('the', 'DT'),\n",
       " ('mobile', 'JJ'),\n",
       " ('phone', 'NN'),\n",
       " ('market', 'NN'),\n",
       " ('and', 'CC'),\n",
       " ('ordered', 'VBD'),\n",
       " ('the', 'DT'),\n",
       " ('company', 'NN'),\n",
       " ('to', 'TO'),\n",
       " ('alter', 'VB'),\n",
       " ('its', 'PRP$'),\n",
       " ('practices', 'NNS')]"
      ]
     },
     "execution_count": 18,
     "metadata": {},
     "output_type": "execute_result"
    },
    {
     "name": "stdout",
     "output_type": "stream",
     "text": [
      "time: 505 ms\n"
     ]
    }
   ],
   "source": [
    "sent = preprocess(ex)\n",
    "sent"
   ]
  },
  {
   "cell_type": "code",
   "execution_count": 19,
   "metadata": {
    "scrolled": true
   },
   "outputs": [
    {
     "name": "stdout",
     "output_type": "stream",
     "text": [
      "(S\n",
      "  European/JJ\n",
      "  authorities/NNS\n",
      "  fined/VBD\n",
      "  Google/NNP\n",
      "  (NP a/DT record/NN)\n",
      "  $/$\n",
      "  5.1/CD\n",
      "  billion/CD\n",
      "  on/IN\n",
      "  Wednesday/NNP\n",
      "  for/IN\n",
      "  abusing/VBG\n",
      "  its/PRP$\n",
      "  (NP power/NN)\n",
      "  in/IN\n",
      "  (NP the/DT mobile/JJ phone/NN)\n",
      "  (NP market/NN)\n",
      "  and/CC\n",
      "  ordered/VBD\n",
      "  (NP the/DT company/NN)\n",
      "  to/TO\n",
      "  alter/VB\n",
      "  its/PRP$\n",
      "  practices/NNS)\n",
      "time: 196 ms\n"
     ]
    }
   ],
   "source": [
    "pattern = 'NP: {<DT>?<JJ>*<NN>}'\n",
    "cp = nltk.RegexpParser(pattern)\n",
    "cs = cp.parse(sent)\n",
    "print(cs)"
   ]
  },
  {
   "cell_type": "code",
   "execution_count": 20,
   "metadata": {},
   "outputs": [
    {
     "name": "stdout",
     "output_type": "stream",
     "text": [
      "[('European', 'JJ', 'O'),\n",
      " ('authorities', 'NNS', 'O'),\n",
      " ('fined', 'VBD', 'O'),\n",
      " ('Google', 'NNP', 'O'),\n",
      " ('a', 'DT', 'B-NP'),\n",
      " ('record', 'NN', 'I-NP'),\n",
      " ('$', '$', 'O'),\n",
      " ('5.1', 'CD', 'O'),\n",
      " ('billion', 'CD', 'O'),\n",
      " ('on', 'IN', 'O'),\n",
      " ('Wednesday', 'NNP', 'O'),\n",
      " ('for', 'IN', 'O'),\n",
      " ('abusing', 'VBG', 'O'),\n",
      " ('its', 'PRP$', 'O'),\n",
      " ('power', 'NN', 'B-NP'),\n",
      " ('in', 'IN', 'O'),\n",
      " ('the', 'DT', 'B-NP'),\n",
      " ('mobile', 'JJ', 'I-NP'),\n",
      " ('phone', 'NN', 'I-NP'),\n",
      " ('market', 'NN', 'B-NP'),\n",
      " ('and', 'CC', 'O'),\n",
      " ('ordered', 'VBD', 'O'),\n",
      " ('the', 'DT', 'B-NP'),\n",
      " ('company', 'NN', 'I-NP'),\n",
      " ('to', 'TO', 'O'),\n",
      " ('alter', 'VB', 'O'),\n",
      " ('its', 'PRP$', 'O'),\n",
      " ('practices', 'NNS', 'O')]\n",
      "time: 283 ms\n"
     ]
    }
   ],
   "source": [
    "from nltk.chunk import conlltags2tree, tree2conlltags\n",
    "from pprint import pprint\n",
    "iob_tagged = tree2conlltags(cs)\n",
    "pprint(iob_tagged)"
   ]
  },
  {
   "cell_type": "code",
   "execution_count": 24,
   "metadata": {},
   "outputs": [
    {
     "name": "stderr",
     "output_type": "stream",
     "text": [
      "[nltk_data] Downloading package maxent_ne_chunker to\n",
      "[nltk_data]     C:\\Users\\Thomas\\AppData\\Roaming\\nltk_data...\n",
      "[nltk_data]   Unzipping chunkers\\maxent_ne_chunker.zip.\n"
     ]
    },
    {
     "data": {
      "text/plain": [
       "True"
      ]
     },
     "execution_count": 24,
     "metadata": {},
     "output_type": "execute_result"
    },
    {
     "name": "stdout",
     "output_type": "stream",
     "text": [
      "time: 7.61 s\n"
     ]
    }
   ],
   "source": [
    "nltk.download('maxent_ne_chunker')"
   ]
  },
  {
   "cell_type": "code",
   "execution_count": 26,
   "metadata": {},
   "outputs": [
    {
     "name": "stderr",
     "output_type": "stream",
     "text": [
      "[nltk_data] Downloading package words to\n",
      "[nltk_data]     C:\\Users\\Thomas\\AppData\\Roaming\\nltk_data...\n",
      "[nltk_data]   Unzipping corpora\\words.zip.\n"
     ]
    },
    {
     "data": {
      "text/plain": [
       "True"
      ]
     },
     "execution_count": 26,
     "metadata": {},
     "output_type": "execute_result"
    },
    {
     "name": "stdout",
     "output_type": "stream",
     "text": [
      "time: 3.64 s\n"
     ]
    }
   ],
   "source": [
    "nltk.download('words')"
   ]
  },
  {
   "cell_type": "code",
   "execution_count": 27,
   "metadata": {
    "scrolled": true
   },
   "outputs": [
    {
     "name": "stdout",
     "output_type": "stream",
     "text": [
      "(S\n",
      "  (GPE European/JJ)\n",
      "  authorities/NNS\n",
      "  fined/VBD\n",
      "  (PERSON Google/NNP)\n",
      "  a/DT\n",
      "  record/NN\n",
      "  $/$\n",
      "  5.1/CD\n",
      "  billion/CD\n",
      "  on/IN\n",
      "  Wednesday/NNP\n",
      "  for/IN\n",
      "  abusing/VBG\n",
      "  its/PRP$\n",
      "  power/NN\n",
      "  in/IN\n",
      "  the/DT\n",
      "  mobile/JJ\n",
      "  phone/NN\n",
      "  market/NN\n",
      "  and/CC\n",
      "  ordered/VBD\n",
      "  the/DT\n",
      "  company/NN\n",
      "  to/TO\n",
      "  alter/VB\n",
      "  its/PRP$\n",
      "  practices/NNS)\n",
      "time: 371 ms\n"
     ]
    }
   ],
   "source": [
    "from nltk import ne_chunk\n",
    "ne_tree = ne_chunk(pos_tag(word_tokenize(ex)))\n",
    "print(ne_tree)"
   ]
  },
  {
   "cell_type": "code",
   "execution_count": 28,
   "metadata": {},
   "outputs": [
    {
     "name": "stderr",
     "output_type": "stream",
     "text": [
      "c:\\users\\thomas\\hpi\\ma\\venv\\lib\\importlib\\_bootstrap.py:205: RuntimeWarning: cymem.cymem.Pool size changed, may indicate binary incompatibility. Expected 48 from C header, got 64 from PyObject\n",
      "  return f(*args, **kwds)\n",
      "c:\\users\\thomas\\hpi\\ma\\venv\\lib\\importlib\\_bootstrap.py:205: RuntimeWarning: cymem.cymem.Address size changed, may indicate binary incompatibility. Expected 24 from C header, got 40 from PyObject\n",
      "  return f(*args, **kwds)\n"
     ]
    },
    {
     "name": "stdout",
     "output_type": "stream",
     "text": [
      "time: 1.06 s\n"
     ]
    }
   ],
   "source": [
    "import spacy\n",
    "from spacy import displacy\n",
    "from collections import Counter\n",
    "import en_core_web_sm\n",
    "nlp = en_core_web_sm.load()"
   ]
  },
  {
   "cell_type": "code",
   "execution_count": 29,
   "metadata": {},
   "outputs": [
    {
     "name": "stdout",
     "output_type": "stream",
     "text": [
      "[('European', 'NORP'),\n",
      " ('Google', 'ORG'),\n",
      " ('$5.1 billion', 'MONEY'),\n",
      " ('Wednesday', 'DATE')]\n",
      "time: 363 ms\n"
     ]
    }
   ],
   "source": [
    "doc = nlp('European authorities fined Google a record $5.1 billion on Wednesday for abusing its power in the mobile phone market and ordered the company to alter its practices')\n",
    "pprint([(X.text, X.label_) for X in doc.ents])"
   ]
  },
  {
   "cell_type": "code",
   "execution_count": 30,
   "metadata": {},
   "outputs": [
    {
     "data": {
      "text/plain": [
       "192"
      ]
     },
     "execution_count": 30,
     "metadata": {},
     "output_type": "execute_result"
    },
    {
     "name": "stdout",
     "output_type": "stream",
     "text": [
      "time: 3.68 s\n"
     ]
    }
   ],
   "source": [
    "from bs4 import BeautifulSoup\n",
    "import requests\n",
    "import re\n",
    "def url_to_string(url):\n",
    "    res = requests.get(url)\n",
    "    html = res.text\n",
    "    soup = BeautifulSoup(html, 'html5lib')\n",
    "    for script in soup([\"script\", \"style\", 'aside']):\n",
    "        script.extract()\n",
    "    return \" \".join(re.split(r'[\\n\\t]+', soup.get_text()))\n",
    "ny_bb = url_to_string('https://www.nytimes.com/2018/08/13/us/politics/peter-strzok-fired-fbi.html?hp&action=click&pgtype=Homepage&clickSource=story-heading&module=first-column-region&region=top-news&WT.nav=top-news')\n",
    "article = nlp(ny_bb)\n",
    "len(article.ents)"
   ]
  },
  {
   "cell_type": "code",
   "execution_count": 31,
   "metadata": {},
   "outputs": [
    {
     "data": {
      "text/plain": [
       "Counter({'PERSON': 85,\n",
       "         'GPE': 37,\n",
       "         'ORG': 25,\n",
       "         'DATE': 30,\n",
       "         'CARDINAL': 6,\n",
       "         'EVENT': 1,\n",
       "         'NORP': 5,\n",
       "         'ORDINAL': 1,\n",
       "         'WORK_OF_ART': 1,\n",
       "         'LOC': 1})"
      ]
     },
     "execution_count": 31,
     "metadata": {},
     "output_type": "execute_result"
    },
    {
     "name": "stdout",
     "output_type": "stream",
     "text": [
      "time: 242 ms\n"
     ]
    }
   ],
   "source": [
    "labels = [x.label_ for x in article.ents]\n",
    "Counter(labels)"
   ]
  },
  {
   "cell_type": "code",
   "execution_count": 32,
   "metadata": {},
   "outputs": [
    {
     "data": {
      "text/plain": [
       "[('Strzok', 32), ('F.B.I.', 17), ('Trump', 10)]"
      ]
     },
     "execution_count": 32,
     "metadata": {},
     "output_type": "execute_result"
    },
    {
     "name": "stdout",
     "output_type": "stream",
     "text": [
      "time: 262 ms\n"
     ]
    }
   ],
   "source": [
    "items = [x.text for x in article.ents]\n",
    "Counter(items).most_common(3)"
   ]
  },
  {
   "cell_type": "code",
   "execution_count": 33,
   "metadata": {},
   "outputs": [
    {
     "name": "stdout",
     "output_type": "stream",
     "text": [
      "Firing Mr. Strzok, however, removes a favorite target of Mr. Trump from the ranks of the F.B.I. and gives Mr. Bowdich and the F.B.I. director, Christopher A. Wray, a chance to move beyond the president’s ire.\n",
      "time: 244 ms\n"
     ]
    }
   ],
   "source": [
    "sentences = [x for x in article.sents]\n",
    "print(sentences[20])"
   ]
  },
  {
   "cell_type": "code",
   "execution_count": 34,
   "metadata": {},
   "outputs": [
    {
     "data": {
      "text/html": [
       "<div class=\"entities\" style=\"line-height: 2.5\">Firing Mr. \n",
       "<mark class=\"entity\" style=\"background: #aa9cfc; padding: 0.45em 0.6em; margin: 0 0.25em; line-height: 1; border-radius: 0.35em; box-decoration-break: clone; -webkit-box-decoration-break: clone\">\n",
       "    Strzok\n",
       "    <span style=\"font-size: 0.8em; font-weight: bold; line-height: 1; border-radius: 0.35em; text-transform: uppercase; vertical-align: middle; margin-left: 0.5rem\">PERSON</span>\n",
       "</mark>\n",
       ", however, removes a favorite target of Mr. \n",
       "<mark class=\"entity\" style=\"background: #aa9cfc; padding: 0.45em 0.6em; margin: 0 0.25em; line-height: 1; border-radius: 0.35em; box-decoration-break: clone; -webkit-box-decoration-break: clone\">\n",
       "    Trump\n",
       "    <span style=\"font-size: 0.8em; font-weight: bold; line-height: 1; border-radius: 0.35em; text-transform: uppercase; vertical-align: middle; margin-left: 0.5rem\">PERSON</span>\n",
       "</mark>\n",
       " from the ranks of the \n",
       "<mark class=\"entity\" style=\"background: #feca74; padding: 0.45em 0.6em; margin: 0 0.25em; line-height: 1; border-radius: 0.35em; box-decoration-break: clone; -webkit-box-decoration-break: clone\">\n",
       "    F.B.I.\n",
       "    <span style=\"font-size: 0.8em; font-weight: bold; line-height: 1; border-radius: 0.35em; text-transform: uppercase; vertical-align: middle; margin-left: 0.5rem\">GPE</span>\n",
       "</mark>\n",
       " and gives Mr. \n",
       "<mark class=\"entity\" style=\"background: #aa9cfc; padding: 0.45em 0.6em; margin: 0 0.25em; line-height: 1; border-radius: 0.35em; box-decoration-break: clone; -webkit-box-decoration-break: clone\">\n",
       "    Bowdich\n",
       "    <span style=\"font-size: 0.8em; font-weight: bold; line-height: 1; border-radius: 0.35em; text-transform: uppercase; vertical-align: middle; margin-left: 0.5rem\">PERSON</span>\n",
       "</mark>\n",
       " and the \n",
       "<mark class=\"entity\" style=\"background: #feca74; padding: 0.45em 0.6em; margin: 0 0.25em; line-height: 1; border-radius: 0.35em; box-decoration-break: clone; -webkit-box-decoration-break: clone\">\n",
       "    F.B.I.\n",
       "    <span style=\"font-size: 0.8em; font-weight: bold; line-height: 1; border-radius: 0.35em; text-transform: uppercase; vertical-align: middle; margin-left: 0.5rem\">GPE</span>\n",
       "</mark>\n",
       " director, \n",
       "<mark class=\"entity\" style=\"background: #aa9cfc; padding: 0.45em 0.6em; margin: 0 0.25em; line-height: 1; border-radius: 0.35em; box-decoration-break: clone; -webkit-box-decoration-break: clone\">\n",
       "    Christopher A. Wray\n",
       "    <span style=\"font-size: 0.8em; font-weight: bold; line-height: 1; border-radius: 0.35em; text-transform: uppercase; vertical-align: middle; margin-left: 0.5rem\">PERSON</span>\n",
       "</mark>\n",
       ", a chance to move beyond the president’s ire.</div>"
      ],
      "text/plain": [
       "<IPython.core.display.HTML object>"
      ]
     },
     "metadata": {},
     "output_type": "display_data"
    },
    {
     "name": "stdout",
     "output_type": "stream",
     "text": [
      "time: 269 ms\n"
     ]
    }
   ],
   "source": [
    "displacy.render(nlp(str(sentences[20])), jupyter=True, style='ent')"
   ]
  },
  {
   "cell_type": "code",
   "execution_count": 35,
   "metadata": {},
   "outputs": [
    {
     "data": {
      "text/html": [
       "<svg xmlns=\"http://www.w3.org/2000/svg\" xmlns:xlink=\"http://www.w3.org/1999/xlink\" id=\"0\" class=\"displacy\" width=\"4490\" height=\"617.0\" style=\"max-width: none; height: 617.0px; color: #000000; background: #ffffff; font-family: Arial\">\n",
       "<text class=\"displacy-token\" fill=\"currentColor\" text-anchor=\"middle\" y=\"527.0\">\n",
       "    <tspan class=\"displacy-word\" fill=\"currentColor\" x=\"50\">Firing</tspan>\n",
       "    <tspan class=\"displacy-tag\" dy=\"2em\" fill=\"currentColor\" x=\"50\">VERB</tspan>\n",
       "</text>\n",
       "\n",
       "<text class=\"displacy-token\" fill=\"currentColor\" text-anchor=\"middle\" y=\"527.0\">\n",
       "    <tspan class=\"displacy-word\" fill=\"currentColor\" x=\"170\">Mr.</tspan>\n",
       "    <tspan class=\"displacy-tag\" dy=\"2em\" fill=\"currentColor\" x=\"170\">PROPN</tspan>\n",
       "</text>\n",
       "\n",
       "<text class=\"displacy-token\" fill=\"currentColor\" text-anchor=\"middle\" y=\"527.0\">\n",
       "    <tspan class=\"displacy-word\" fill=\"currentColor\" x=\"290\">Strzok,</tspan>\n",
       "    <tspan class=\"displacy-tag\" dy=\"2em\" fill=\"currentColor\" x=\"290\">PROPN</tspan>\n",
       "</text>\n",
       "\n",
       "<text class=\"displacy-token\" fill=\"currentColor\" text-anchor=\"middle\" y=\"527.0\">\n",
       "    <tspan class=\"displacy-word\" fill=\"currentColor\" x=\"410\">however,</tspan>\n",
       "    <tspan class=\"displacy-tag\" dy=\"2em\" fill=\"currentColor\" x=\"410\">ADV</tspan>\n",
       "</text>\n",
       "\n",
       "<text class=\"displacy-token\" fill=\"currentColor\" text-anchor=\"middle\" y=\"527.0\">\n",
       "    <tspan class=\"displacy-word\" fill=\"currentColor\" x=\"530\">removes</tspan>\n",
       "    <tspan class=\"displacy-tag\" dy=\"2em\" fill=\"currentColor\" x=\"530\">VERB</tspan>\n",
       "</text>\n",
       "\n",
       "<text class=\"displacy-token\" fill=\"currentColor\" text-anchor=\"middle\" y=\"527.0\">\n",
       "    <tspan class=\"displacy-word\" fill=\"currentColor\" x=\"650\">a</tspan>\n",
       "    <tspan class=\"displacy-tag\" dy=\"2em\" fill=\"currentColor\" x=\"650\">DET</tspan>\n",
       "</text>\n",
       "\n",
       "<text class=\"displacy-token\" fill=\"currentColor\" text-anchor=\"middle\" y=\"527.0\">\n",
       "    <tspan class=\"displacy-word\" fill=\"currentColor\" x=\"770\">favorite</tspan>\n",
       "    <tspan class=\"displacy-tag\" dy=\"2em\" fill=\"currentColor\" x=\"770\">ADJ</tspan>\n",
       "</text>\n",
       "\n",
       "<text class=\"displacy-token\" fill=\"currentColor\" text-anchor=\"middle\" y=\"527.0\">\n",
       "    <tspan class=\"displacy-word\" fill=\"currentColor\" x=\"890\">target</tspan>\n",
       "    <tspan class=\"displacy-tag\" dy=\"2em\" fill=\"currentColor\" x=\"890\">NOUN</tspan>\n",
       "</text>\n",
       "\n",
       "<text class=\"displacy-token\" fill=\"currentColor\" text-anchor=\"middle\" y=\"527.0\">\n",
       "    <tspan class=\"displacy-word\" fill=\"currentColor\" x=\"1010\">of</tspan>\n",
       "    <tspan class=\"displacy-tag\" dy=\"2em\" fill=\"currentColor\" x=\"1010\">ADP</tspan>\n",
       "</text>\n",
       "\n",
       "<text class=\"displacy-token\" fill=\"currentColor\" text-anchor=\"middle\" y=\"527.0\">\n",
       "    <tspan class=\"displacy-word\" fill=\"currentColor\" x=\"1130\">Mr.</tspan>\n",
       "    <tspan class=\"displacy-tag\" dy=\"2em\" fill=\"currentColor\" x=\"1130\">PROPN</tspan>\n",
       "</text>\n",
       "\n",
       "<text class=\"displacy-token\" fill=\"currentColor\" text-anchor=\"middle\" y=\"527.0\">\n",
       "    <tspan class=\"displacy-word\" fill=\"currentColor\" x=\"1250\">Trump</tspan>\n",
       "    <tspan class=\"displacy-tag\" dy=\"2em\" fill=\"currentColor\" x=\"1250\">PROPN</tspan>\n",
       "</text>\n",
       "\n",
       "<text class=\"displacy-token\" fill=\"currentColor\" text-anchor=\"middle\" y=\"527.0\">\n",
       "    <tspan class=\"displacy-word\" fill=\"currentColor\" x=\"1370\">from</tspan>\n",
       "    <tspan class=\"displacy-tag\" dy=\"2em\" fill=\"currentColor\" x=\"1370\">ADP</tspan>\n",
       "</text>\n",
       "\n",
       "<text class=\"displacy-token\" fill=\"currentColor\" text-anchor=\"middle\" y=\"527.0\">\n",
       "    <tspan class=\"displacy-word\" fill=\"currentColor\" x=\"1490\">the</tspan>\n",
       "    <tspan class=\"displacy-tag\" dy=\"2em\" fill=\"currentColor\" x=\"1490\">DET</tspan>\n",
       "</text>\n",
       "\n",
       "<text class=\"displacy-token\" fill=\"currentColor\" text-anchor=\"middle\" y=\"527.0\">\n",
       "    <tspan class=\"displacy-word\" fill=\"currentColor\" x=\"1610\">ranks</tspan>\n",
       "    <tspan class=\"displacy-tag\" dy=\"2em\" fill=\"currentColor\" x=\"1610\">NOUN</tspan>\n",
       "</text>\n",
       "\n",
       "<text class=\"displacy-token\" fill=\"currentColor\" text-anchor=\"middle\" y=\"527.0\">\n",
       "    <tspan class=\"displacy-word\" fill=\"currentColor\" x=\"1730\">of</tspan>\n",
       "    <tspan class=\"displacy-tag\" dy=\"2em\" fill=\"currentColor\" x=\"1730\">ADP</tspan>\n",
       "</text>\n",
       "\n",
       "<text class=\"displacy-token\" fill=\"currentColor\" text-anchor=\"middle\" y=\"527.0\">\n",
       "    <tspan class=\"displacy-word\" fill=\"currentColor\" x=\"1850\">the</tspan>\n",
       "    <tspan class=\"displacy-tag\" dy=\"2em\" fill=\"currentColor\" x=\"1850\">DET</tspan>\n",
       "</text>\n",
       "\n",
       "<text class=\"displacy-token\" fill=\"currentColor\" text-anchor=\"middle\" y=\"527.0\">\n",
       "    <tspan class=\"displacy-word\" fill=\"currentColor\" x=\"1970\">F.B.I.</tspan>\n",
       "    <tspan class=\"displacy-tag\" dy=\"2em\" fill=\"currentColor\" x=\"1970\">PROPN</tspan>\n",
       "</text>\n",
       "\n",
       "<text class=\"displacy-token\" fill=\"currentColor\" text-anchor=\"middle\" y=\"527.0\">\n",
       "    <tspan class=\"displacy-word\" fill=\"currentColor\" x=\"2090\">and</tspan>\n",
       "    <tspan class=\"displacy-tag\" dy=\"2em\" fill=\"currentColor\" x=\"2090\">CCONJ</tspan>\n",
       "</text>\n",
       "\n",
       "<text class=\"displacy-token\" fill=\"currentColor\" text-anchor=\"middle\" y=\"527.0\">\n",
       "    <tspan class=\"displacy-word\" fill=\"currentColor\" x=\"2210\">gives</tspan>\n",
       "    <tspan class=\"displacy-tag\" dy=\"2em\" fill=\"currentColor\" x=\"2210\">VERB</tspan>\n",
       "</text>\n",
       "\n",
       "<text class=\"displacy-token\" fill=\"currentColor\" text-anchor=\"middle\" y=\"527.0\">\n",
       "    <tspan class=\"displacy-word\" fill=\"currentColor\" x=\"2330\">Mr.</tspan>\n",
       "    <tspan class=\"displacy-tag\" dy=\"2em\" fill=\"currentColor\" x=\"2330\">PROPN</tspan>\n",
       "</text>\n",
       "\n",
       "<text class=\"displacy-token\" fill=\"currentColor\" text-anchor=\"middle\" y=\"527.0\">\n",
       "    <tspan class=\"displacy-word\" fill=\"currentColor\" x=\"2450\">Bowdich</tspan>\n",
       "    <tspan class=\"displacy-tag\" dy=\"2em\" fill=\"currentColor\" x=\"2450\">PROPN</tspan>\n",
       "</text>\n",
       "\n",
       "<text class=\"displacy-token\" fill=\"currentColor\" text-anchor=\"middle\" y=\"527.0\">\n",
       "    <tspan class=\"displacy-word\" fill=\"currentColor\" x=\"2570\">and</tspan>\n",
       "    <tspan class=\"displacy-tag\" dy=\"2em\" fill=\"currentColor\" x=\"2570\">CCONJ</tspan>\n",
       "</text>\n",
       "\n",
       "<text class=\"displacy-token\" fill=\"currentColor\" text-anchor=\"middle\" y=\"527.0\">\n",
       "    <tspan class=\"displacy-word\" fill=\"currentColor\" x=\"2690\">the</tspan>\n",
       "    <tspan class=\"displacy-tag\" dy=\"2em\" fill=\"currentColor\" x=\"2690\">DET</tspan>\n",
       "</text>\n",
       "\n",
       "<text class=\"displacy-token\" fill=\"currentColor\" text-anchor=\"middle\" y=\"527.0\">\n",
       "    <tspan class=\"displacy-word\" fill=\"currentColor\" x=\"2810\">F.B.I.</tspan>\n",
       "    <tspan class=\"displacy-tag\" dy=\"2em\" fill=\"currentColor\" x=\"2810\">PROPN</tspan>\n",
       "</text>\n",
       "\n",
       "<text class=\"displacy-token\" fill=\"currentColor\" text-anchor=\"middle\" y=\"527.0\">\n",
       "    <tspan class=\"displacy-word\" fill=\"currentColor\" x=\"2930\">director,</tspan>\n",
       "    <tspan class=\"displacy-tag\" dy=\"2em\" fill=\"currentColor\" x=\"2930\">NOUN</tspan>\n",
       "</text>\n",
       "\n",
       "<text class=\"displacy-token\" fill=\"currentColor\" text-anchor=\"middle\" y=\"527.0\">\n",
       "    <tspan class=\"displacy-word\" fill=\"currentColor\" x=\"3050\">Christopher</tspan>\n",
       "    <tspan class=\"displacy-tag\" dy=\"2em\" fill=\"currentColor\" x=\"3050\">PROPN</tspan>\n",
       "</text>\n",
       "\n",
       "<text class=\"displacy-token\" fill=\"currentColor\" text-anchor=\"middle\" y=\"527.0\">\n",
       "    <tspan class=\"displacy-word\" fill=\"currentColor\" x=\"3170\">A.</tspan>\n",
       "    <tspan class=\"displacy-tag\" dy=\"2em\" fill=\"currentColor\" x=\"3170\">PROPN</tspan>\n",
       "</text>\n",
       "\n",
       "<text class=\"displacy-token\" fill=\"currentColor\" text-anchor=\"middle\" y=\"527.0\">\n",
       "    <tspan class=\"displacy-word\" fill=\"currentColor\" x=\"3290\">Wray,</tspan>\n",
       "    <tspan class=\"displacy-tag\" dy=\"2em\" fill=\"currentColor\" x=\"3290\">PROPN</tspan>\n",
       "</text>\n",
       "\n",
       "<text class=\"displacy-token\" fill=\"currentColor\" text-anchor=\"middle\" y=\"527.0\">\n",
       "    <tspan class=\"displacy-word\" fill=\"currentColor\" x=\"3410\">a</tspan>\n",
       "    <tspan class=\"displacy-tag\" dy=\"2em\" fill=\"currentColor\" x=\"3410\">DET</tspan>\n",
       "</text>\n",
       "\n",
       "<text class=\"displacy-token\" fill=\"currentColor\" text-anchor=\"middle\" y=\"527.0\">\n",
       "    <tspan class=\"displacy-word\" fill=\"currentColor\" x=\"3530\">chance</tspan>\n",
       "    <tspan class=\"displacy-tag\" dy=\"2em\" fill=\"currentColor\" x=\"3530\">NOUN</tspan>\n",
       "</text>\n",
       "\n",
       "<text class=\"displacy-token\" fill=\"currentColor\" text-anchor=\"middle\" y=\"527.0\">\n",
       "    <tspan class=\"displacy-word\" fill=\"currentColor\" x=\"3650\">to</tspan>\n",
       "    <tspan class=\"displacy-tag\" dy=\"2em\" fill=\"currentColor\" x=\"3650\">PART</tspan>\n",
       "</text>\n",
       "\n",
       "<text class=\"displacy-token\" fill=\"currentColor\" text-anchor=\"middle\" y=\"527.0\">\n",
       "    <tspan class=\"displacy-word\" fill=\"currentColor\" x=\"3770\">move</tspan>\n",
       "    <tspan class=\"displacy-tag\" dy=\"2em\" fill=\"currentColor\" x=\"3770\">VERB</tspan>\n",
       "</text>\n",
       "\n",
       "<text class=\"displacy-token\" fill=\"currentColor\" text-anchor=\"middle\" y=\"527.0\">\n",
       "    <tspan class=\"displacy-word\" fill=\"currentColor\" x=\"3890\">beyond</tspan>\n",
       "    <tspan class=\"displacy-tag\" dy=\"2em\" fill=\"currentColor\" x=\"3890\">ADP</tspan>\n",
       "</text>\n",
       "\n",
       "<text class=\"displacy-token\" fill=\"currentColor\" text-anchor=\"middle\" y=\"527.0\">\n",
       "    <tspan class=\"displacy-word\" fill=\"currentColor\" x=\"4010\">the</tspan>\n",
       "    <tspan class=\"displacy-tag\" dy=\"2em\" fill=\"currentColor\" x=\"4010\">DET</tspan>\n",
       "</text>\n",
       "\n",
       "<text class=\"displacy-token\" fill=\"currentColor\" text-anchor=\"middle\" y=\"527.0\">\n",
       "    <tspan class=\"displacy-word\" fill=\"currentColor\" x=\"4130\">president</tspan>\n",
       "    <tspan class=\"displacy-tag\" dy=\"2em\" fill=\"currentColor\" x=\"4130\">NOUN</tspan>\n",
       "</text>\n",
       "\n",
       "<text class=\"displacy-token\" fill=\"currentColor\" text-anchor=\"middle\" y=\"527.0\">\n",
       "    <tspan class=\"displacy-word\" fill=\"currentColor\" x=\"4250\">’s</tspan>\n",
       "    <tspan class=\"displacy-tag\" dy=\"2em\" fill=\"currentColor\" x=\"4250\">PART</tspan>\n",
       "</text>\n",
       "\n",
       "<text class=\"displacy-token\" fill=\"currentColor\" text-anchor=\"middle\" y=\"527.0\">\n",
       "    <tspan class=\"displacy-word\" fill=\"currentColor\" x=\"4370\">ire.</tspan>\n",
       "    <tspan class=\"displacy-tag\" dy=\"2em\" fill=\"currentColor\" x=\"4370\">NOUN</tspan>\n",
       "</text>\n",
       "\n",
       "<g class=\"displacy-arrow\">\n",
       "    <path class=\"displacy-arc\" id=\"arrow-0-0\" stroke-width=\"2px\" d=\"M190,482.0 C190,422.0 255.0,422.0 255.0,482.0\" fill=\"none\" stroke=\"currentColor\"/>\n",
       "    <text dy=\"1.25em\" style=\"font-size: 0.8em; letter-spacing: 1px\">\n",
       "        <textPath xlink:href=\"#arrow-0-0\" class=\"displacy-label\" startOffset=\"50%\" fill=\"currentColor\" text-anchor=\"middle\">compound</textPath>\n",
       "    </text>\n",
       "    <path class=\"displacy-arrowhead\" d=\"M190,484.0 L182,472.0 198,472.0\" fill=\"currentColor\"/>\n",
       "</g>\n",
       "\n",
       "<g class=\"displacy-arrow\">\n",
       "    <path class=\"displacy-arc\" id=\"arrow-0-1\" stroke-width=\"2px\" d=\"M70,482.0 C70,362.0 260.0,362.0 260.0,482.0\" fill=\"none\" stroke=\"currentColor\"/>\n",
       "    <text dy=\"1.25em\" style=\"font-size: 0.8em; letter-spacing: 1px\">\n",
       "        <textPath xlink:href=\"#arrow-0-1\" class=\"displacy-label\" startOffset=\"50%\" fill=\"currentColor\" text-anchor=\"middle\">dobj</textPath>\n",
       "    </text>\n",
       "    <path class=\"displacy-arrowhead\" d=\"M260.0,484.0 L268.0,472.0 252.0,472.0\" fill=\"currentColor\"/>\n",
       "</g>\n",
       "\n",
       "<g class=\"displacy-arrow\">\n",
       "    <path class=\"displacy-arc\" id=\"arrow-0-2\" stroke-width=\"2px\" d=\"M430,482.0 C430,422.0 495.0,422.0 495.0,482.0\" fill=\"none\" stroke=\"currentColor\"/>\n",
       "    <text dy=\"1.25em\" style=\"font-size: 0.8em; letter-spacing: 1px\">\n",
       "        <textPath xlink:href=\"#arrow-0-2\" class=\"displacy-label\" startOffset=\"50%\" fill=\"currentColor\" text-anchor=\"middle\">advmod</textPath>\n",
       "    </text>\n",
       "    <path class=\"displacy-arrowhead\" d=\"M430,484.0 L422,472.0 438,472.0\" fill=\"currentColor\"/>\n",
       "</g>\n",
       "\n",
       "<g class=\"displacy-arrow\">\n",
       "    <path class=\"displacy-arc\" id=\"arrow-0-3\" stroke-width=\"2px\" d=\"M70,482.0 C70,242.0 510.0,242.0 510.0,482.0\" fill=\"none\" stroke=\"currentColor\"/>\n",
       "    <text dy=\"1.25em\" style=\"font-size: 0.8em; letter-spacing: 1px\">\n",
       "        <textPath xlink:href=\"#arrow-0-3\" class=\"displacy-label\" startOffset=\"50%\" fill=\"currentColor\" text-anchor=\"middle\">dep</textPath>\n",
       "    </text>\n",
       "    <path class=\"displacy-arrowhead\" d=\"M510.0,484.0 L518.0,472.0 502.0,472.0\" fill=\"currentColor\"/>\n",
       "</g>\n",
       "\n",
       "<g class=\"displacy-arrow\">\n",
       "    <path class=\"displacy-arc\" id=\"arrow-0-4\" stroke-width=\"2px\" d=\"M670,482.0 C670,362.0 860.0,362.0 860.0,482.0\" fill=\"none\" stroke=\"currentColor\"/>\n",
       "    <text dy=\"1.25em\" style=\"font-size: 0.8em; letter-spacing: 1px\">\n",
       "        <textPath xlink:href=\"#arrow-0-4\" class=\"displacy-label\" startOffset=\"50%\" fill=\"currentColor\" text-anchor=\"middle\">det</textPath>\n",
       "    </text>\n",
       "    <path class=\"displacy-arrowhead\" d=\"M670,484.0 L662,472.0 678,472.0\" fill=\"currentColor\"/>\n",
       "</g>\n",
       "\n",
       "<g class=\"displacy-arrow\">\n",
       "    <path class=\"displacy-arc\" id=\"arrow-0-5\" stroke-width=\"2px\" d=\"M790,482.0 C790,422.0 855.0,422.0 855.0,482.0\" fill=\"none\" stroke=\"currentColor\"/>\n",
       "    <text dy=\"1.25em\" style=\"font-size: 0.8em; letter-spacing: 1px\">\n",
       "        <textPath xlink:href=\"#arrow-0-5\" class=\"displacy-label\" startOffset=\"50%\" fill=\"currentColor\" text-anchor=\"middle\">amod</textPath>\n",
       "    </text>\n",
       "    <path class=\"displacy-arrowhead\" d=\"M790,484.0 L782,472.0 798,472.0\" fill=\"currentColor\"/>\n",
       "</g>\n",
       "\n",
       "<g class=\"displacy-arrow\">\n",
       "    <path class=\"displacy-arc\" id=\"arrow-0-6\" stroke-width=\"2px\" d=\"M550,482.0 C550,302.0 865.0,302.0 865.0,482.0\" fill=\"none\" stroke=\"currentColor\"/>\n",
       "    <text dy=\"1.25em\" style=\"font-size: 0.8em; letter-spacing: 1px\">\n",
       "        <textPath xlink:href=\"#arrow-0-6\" class=\"displacy-label\" startOffset=\"50%\" fill=\"currentColor\" text-anchor=\"middle\">dobj</textPath>\n",
       "    </text>\n",
       "    <path class=\"displacy-arrowhead\" d=\"M865.0,484.0 L873.0,472.0 857.0,472.0\" fill=\"currentColor\"/>\n",
       "</g>\n",
       "\n",
       "<g class=\"displacy-arrow\">\n",
       "    <path class=\"displacy-arc\" id=\"arrow-0-7\" stroke-width=\"2px\" d=\"M910,482.0 C910,422.0 975.0,422.0 975.0,482.0\" fill=\"none\" stroke=\"currentColor\"/>\n",
       "    <text dy=\"1.25em\" style=\"font-size: 0.8em; letter-spacing: 1px\">\n",
       "        <textPath xlink:href=\"#arrow-0-7\" class=\"displacy-label\" startOffset=\"50%\" fill=\"currentColor\" text-anchor=\"middle\">prep</textPath>\n",
       "    </text>\n",
       "    <path class=\"displacy-arrowhead\" d=\"M975.0,484.0 L983.0,472.0 967.0,472.0\" fill=\"currentColor\"/>\n",
       "</g>\n",
       "\n",
       "<g class=\"displacy-arrow\">\n",
       "    <path class=\"displacy-arc\" id=\"arrow-0-8\" stroke-width=\"2px\" d=\"M1150,482.0 C1150,422.0 1215.0,422.0 1215.0,482.0\" fill=\"none\" stroke=\"currentColor\"/>\n",
       "    <text dy=\"1.25em\" style=\"font-size: 0.8em; letter-spacing: 1px\">\n",
       "        <textPath xlink:href=\"#arrow-0-8\" class=\"displacy-label\" startOffset=\"50%\" fill=\"currentColor\" text-anchor=\"middle\">compound</textPath>\n",
       "    </text>\n",
       "    <path class=\"displacy-arrowhead\" d=\"M1150,484.0 L1142,472.0 1158,472.0\" fill=\"currentColor\"/>\n",
       "</g>\n",
       "\n",
       "<g class=\"displacy-arrow\">\n",
       "    <path class=\"displacy-arc\" id=\"arrow-0-9\" stroke-width=\"2px\" d=\"M1030,482.0 C1030,362.0 1220.0,362.0 1220.0,482.0\" fill=\"none\" stroke=\"currentColor\"/>\n",
       "    <text dy=\"1.25em\" style=\"font-size: 0.8em; letter-spacing: 1px\">\n",
       "        <textPath xlink:href=\"#arrow-0-9\" class=\"displacy-label\" startOffset=\"50%\" fill=\"currentColor\" text-anchor=\"middle\">pobj</textPath>\n",
       "    </text>\n",
       "    <path class=\"displacy-arrowhead\" d=\"M1220.0,484.0 L1228.0,472.0 1212.0,472.0\" fill=\"currentColor\"/>\n",
       "</g>\n",
       "\n",
       "<g class=\"displacy-arrow\">\n",
       "    <path class=\"displacy-arc\" id=\"arrow-0-10\" stroke-width=\"2px\" d=\"M550,482.0 C550,182.0 1355.0,182.0 1355.0,482.0\" fill=\"none\" stroke=\"currentColor\"/>\n",
       "    <text dy=\"1.25em\" style=\"font-size: 0.8em; letter-spacing: 1px\">\n",
       "        <textPath xlink:href=\"#arrow-0-10\" class=\"displacy-label\" startOffset=\"50%\" fill=\"currentColor\" text-anchor=\"middle\">prep</textPath>\n",
       "    </text>\n",
       "    <path class=\"displacy-arrowhead\" d=\"M1355.0,484.0 L1363.0,472.0 1347.0,472.0\" fill=\"currentColor\"/>\n",
       "</g>\n",
       "\n",
       "<g class=\"displacy-arrow\">\n",
       "    <path class=\"displacy-arc\" id=\"arrow-0-11\" stroke-width=\"2px\" d=\"M1510,482.0 C1510,422.0 1575.0,422.0 1575.0,482.0\" fill=\"none\" stroke=\"currentColor\"/>\n",
       "    <text dy=\"1.25em\" style=\"font-size: 0.8em; letter-spacing: 1px\">\n",
       "        <textPath xlink:href=\"#arrow-0-11\" class=\"displacy-label\" startOffset=\"50%\" fill=\"currentColor\" text-anchor=\"middle\">det</textPath>\n",
       "    </text>\n",
       "    <path class=\"displacy-arrowhead\" d=\"M1510,484.0 L1502,472.0 1518,472.0\" fill=\"currentColor\"/>\n",
       "</g>\n",
       "\n",
       "<g class=\"displacy-arrow\">\n",
       "    <path class=\"displacy-arc\" id=\"arrow-0-12\" stroke-width=\"2px\" d=\"M1390,482.0 C1390,362.0 1580.0,362.0 1580.0,482.0\" fill=\"none\" stroke=\"currentColor\"/>\n",
       "    <text dy=\"1.25em\" style=\"font-size: 0.8em; letter-spacing: 1px\">\n",
       "        <textPath xlink:href=\"#arrow-0-12\" class=\"displacy-label\" startOffset=\"50%\" fill=\"currentColor\" text-anchor=\"middle\">pobj</textPath>\n",
       "    </text>\n",
       "    <path class=\"displacy-arrowhead\" d=\"M1580.0,484.0 L1588.0,472.0 1572.0,472.0\" fill=\"currentColor\"/>\n",
       "</g>\n",
       "\n",
       "<g class=\"displacy-arrow\">\n",
       "    <path class=\"displacy-arc\" id=\"arrow-0-13\" stroke-width=\"2px\" d=\"M1630,482.0 C1630,422.0 1695.0,422.0 1695.0,482.0\" fill=\"none\" stroke=\"currentColor\"/>\n",
       "    <text dy=\"1.25em\" style=\"font-size: 0.8em; letter-spacing: 1px\">\n",
       "        <textPath xlink:href=\"#arrow-0-13\" class=\"displacy-label\" startOffset=\"50%\" fill=\"currentColor\" text-anchor=\"middle\">prep</textPath>\n",
       "    </text>\n",
       "    <path class=\"displacy-arrowhead\" d=\"M1695.0,484.0 L1703.0,472.0 1687.0,472.0\" fill=\"currentColor\"/>\n",
       "</g>\n",
       "\n",
       "<g class=\"displacy-arrow\">\n",
       "    <path class=\"displacy-arc\" id=\"arrow-0-14\" stroke-width=\"2px\" d=\"M1870,482.0 C1870,422.0 1935.0,422.0 1935.0,482.0\" fill=\"none\" stroke=\"currentColor\"/>\n",
       "    <text dy=\"1.25em\" style=\"font-size: 0.8em; letter-spacing: 1px\">\n",
       "        <textPath xlink:href=\"#arrow-0-14\" class=\"displacy-label\" startOffset=\"50%\" fill=\"currentColor\" text-anchor=\"middle\">det</textPath>\n",
       "    </text>\n",
       "    <path class=\"displacy-arrowhead\" d=\"M1870,484.0 L1862,472.0 1878,472.0\" fill=\"currentColor\"/>\n",
       "</g>\n",
       "\n",
       "<g class=\"displacy-arrow\">\n",
       "    <path class=\"displacy-arc\" id=\"arrow-0-15\" stroke-width=\"2px\" d=\"M1750,482.0 C1750,362.0 1940.0,362.0 1940.0,482.0\" fill=\"none\" stroke=\"currentColor\"/>\n",
       "    <text dy=\"1.25em\" style=\"font-size: 0.8em; letter-spacing: 1px\">\n",
       "        <textPath xlink:href=\"#arrow-0-15\" class=\"displacy-label\" startOffset=\"50%\" fill=\"currentColor\" text-anchor=\"middle\">pobj</textPath>\n",
       "    </text>\n",
       "    <path class=\"displacy-arrowhead\" d=\"M1940.0,484.0 L1948.0,472.0 1932.0,472.0\" fill=\"currentColor\"/>\n",
       "</g>\n",
       "\n",
       "<g class=\"displacy-arrow\">\n",
       "    <path class=\"displacy-arc\" id=\"arrow-0-16\" stroke-width=\"2px\" d=\"M550,482.0 C550,62.0 2085.0,62.0 2085.0,482.0\" fill=\"none\" stroke=\"currentColor\"/>\n",
       "    <text dy=\"1.25em\" style=\"font-size: 0.8em; letter-spacing: 1px\">\n",
       "        <textPath xlink:href=\"#arrow-0-16\" class=\"displacy-label\" startOffset=\"50%\" fill=\"currentColor\" text-anchor=\"middle\">cc</textPath>\n",
       "    </text>\n",
       "    <path class=\"displacy-arrowhead\" d=\"M2085.0,484.0 L2093.0,472.0 2077.0,472.0\" fill=\"currentColor\"/>\n",
       "</g>\n",
       "\n",
       "<g class=\"displacy-arrow\">\n",
       "    <path class=\"displacy-arc\" id=\"arrow-0-17\" stroke-width=\"2px\" d=\"M550,482.0 C550,2.0 2210.0,2.0 2210.0,482.0\" fill=\"none\" stroke=\"currentColor\"/>\n",
       "    <text dy=\"1.25em\" style=\"font-size: 0.8em; letter-spacing: 1px\">\n",
       "        <textPath xlink:href=\"#arrow-0-17\" class=\"displacy-label\" startOffset=\"50%\" fill=\"currentColor\" text-anchor=\"middle\">conj</textPath>\n",
       "    </text>\n",
       "    <path class=\"displacy-arrowhead\" d=\"M2210.0,484.0 L2218.0,472.0 2202.0,472.0\" fill=\"currentColor\"/>\n",
       "</g>\n",
       "\n",
       "<g class=\"displacy-arrow\">\n",
       "    <path class=\"displacy-arc\" id=\"arrow-0-18\" stroke-width=\"2px\" d=\"M2350,482.0 C2350,422.0 2415.0,422.0 2415.0,482.0\" fill=\"none\" stroke=\"currentColor\"/>\n",
       "    <text dy=\"1.25em\" style=\"font-size: 0.8em; letter-spacing: 1px\">\n",
       "        <textPath xlink:href=\"#arrow-0-18\" class=\"displacy-label\" startOffset=\"50%\" fill=\"currentColor\" text-anchor=\"middle\">compound</textPath>\n",
       "    </text>\n",
       "    <path class=\"displacy-arrowhead\" d=\"M2350,484.0 L2342,472.0 2358,472.0\" fill=\"currentColor\"/>\n",
       "</g>\n",
       "\n",
       "<g class=\"displacy-arrow\">\n",
       "    <path class=\"displacy-arc\" id=\"arrow-0-19\" stroke-width=\"2px\" d=\"M2230,482.0 C2230,362.0 2420.0,362.0 2420.0,482.0\" fill=\"none\" stroke=\"currentColor\"/>\n",
       "    <text dy=\"1.25em\" style=\"font-size: 0.8em; letter-spacing: 1px\">\n",
       "        <textPath xlink:href=\"#arrow-0-19\" class=\"displacy-label\" startOffset=\"50%\" fill=\"currentColor\" text-anchor=\"middle\">dative</textPath>\n",
       "    </text>\n",
       "    <path class=\"displacy-arrowhead\" d=\"M2420.0,484.0 L2428.0,472.0 2412.0,472.0\" fill=\"currentColor\"/>\n",
       "</g>\n",
       "\n",
       "<g class=\"displacy-arrow\">\n",
       "    <path class=\"displacy-arc\" id=\"arrow-0-20\" stroke-width=\"2px\" d=\"M2470,482.0 C2470,422.0 2535.0,422.0 2535.0,482.0\" fill=\"none\" stroke=\"currentColor\"/>\n",
       "    <text dy=\"1.25em\" style=\"font-size: 0.8em; letter-spacing: 1px\">\n",
       "        <textPath xlink:href=\"#arrow-0-20\" class=\"displacy-label\" startOffset=\"50%\" fill=\"currentColor\" text-anchor=\"middle\">cc</textPath>\n",
       "    </text>\n",
       "    <path class=\"displacy-arrowhead\" d=\"M2535.0,484.0 L2543.0,472.0 2527.0,472.0\" fill=\"currentColor\"/>\n",
       "</g>\n",
       "\n",
       "<g class=\"displacy-arrow\">\n",
       "    <path class=\"displacy-arc\" id=\"arrow-0-21\" stroke-width=\"2px\" d=\"M2710,482.0 C2710,362.0 2900.0,362.0 2900.0,482.0\" fill=\"none\" stroke=\"currentColor\"/>\n",
       "    <text dy=\"1.25em\" style=\"font-size: 0.8em; letter-spacing: 1px\">\n",
       "        <textPath xlink:href=\"#arrow-0-21\" class=\"displacy-label\" startOffset=\"50%\" fill=\"currentColor\" text-anchor=\"middle\">det</textPath>\n",
       "    </text>\n",
       "    <path class=\"displacy-arrowhead\" d=\"M2710,484.0 L2702,472.0 2718,472.0\" fill=\"currentColor\"/>\n",
       "</g>\n",
       "\n",
       "<g class=\"displacy-arrow\">\n",
       "    <path class=\"displacy-arc\" id=\"arrow-0-22\" stroke-width=\"2px\" d=\"M2830,482.0 C2830,422.0 2895.0,422.0 2895.0,482.0\" fill=\"none\" stroke=\"currentColor\"/>\n",
       "    <text dy=\"1.25em\" style=\"font-size: 0.8em; letter-spacing: 1px\">\n",
       "        <textPath xlink:href=\"#arrow-0-22\" class=\"displacy-label\" startOffset=\"50%\" fill=\"currentColor\" text-anchor=\"middle\">amod</textPath>\n",
       "    </text>\n",
       "    <path class=\"displacy-arrowhead\" d=\"M2830,484.0 L2822,472.0 2838,472.0\" fill=\"currentColor\"/>\n",
       "</g>\n",
       "\n",
       "<g class=\"displacy-arrow\">\n",
       "    <path class=\"displacy-arc\" id=\"arrow-0-23\" stroke-width=\"2px\" d=\"M2470,482.0 C2470,242.0 2910.0,242.0 2910.0,482.0\" fill=\"none\" stroke=\"currentColor\"/>\n",
       "    <text dy=\"1.25em\" style=\"font-size: 0.8em; letter-spacing: 1px\">\n",
       "        <textPath xlink:href=\"#arrow-0-23\" class=\"displacy-label\" startOffset=\"50%\" fill=\"currentColor\" text-anchor=\"middle\">conj</textPath>\n",
       "    </text>\n",
       "    <path class=\"displacy-arrowhead\" d=\"M2910.0,484.0 L2918.0,472.0 2902.0,472.0\" fill=\"currentColor\"/>\n",
       "</g>\n",
       "\n",
       "<g class=\"displacy-arrow\">\n",
       "    <path class=\"displacy-arc\" id=\"arrow-0-24\" stroke-width=\"2px\" d=\"M3070,482.0 C3070,362.0 3260.0,362.0 3260.0,482.0\" fill=\"none\" stroke=\"currentColor\"/>\n",
       "    <text dy=\"1.25em\" style=\"font-size: 0.8em; letter-spacing: 1px\">\n",
       "        <textPath xlink:href=\"#arrow-0-24\" class=\"displacy-label\" startOffset=\"50%\" fill=\"currentColor\" text-anchor=\"middle\">compound</textPath>\n",
       "    </text>\n",
       "    <path class=\"displacy-arrowhead\" d=\"M3070,484.0 L3062,472.0 3078,472.0\" fill=\"currentColor\"/>\n",
       "</g>\n",
       "\n",
       "<g class=\"displacy-arrow\">\n",
       "    <path class=\"displacy-arc\" id=\"arrow-0-25\" stroke-width=\"2px\" d=\"M3190,482.0 C3190,422.0 3255.0,422.0 3255.0,482.0\" fill=\"none\" stroke=\"currentColor\"/>\n",
       "    <text dy=\"1.25em\" style=\"font-size: 0.8em; letter-spacing: 1px\">\n",
       "        <textPath xlink:href=\"#arrow-0-25\" class=\"displacy-label\" startOffset=\"50%\" fill=\"currentColor\" text-anchor=\"middle\">compound</textPath>\n",
       "    </text>\n",
       "    <path class=\"displacy-arrowhead\" d=\"M3190,484.0 L3182,472.0 3198,472.0\" fill=\"currentColor\"/>\n",
       "</g>\n",
       "\n",
       "<g class=\"displacy-arrow\">\n",
       "    <path class=\"displacy-arc\" id=\"arrow-0-26\" stroke-width=\"2px\" d=\"M2470,482.0 C2470,182.0 3275.0,182.0 3275.0,482.0\" fill=\"none\" stroke=\"currentColor\"/>\n",
       "    <text dy=\"1.25em\" style=\"font-size: 0.8em; letter-spacing: 1px\">\n",
       "        <textPath xlink:href=\"#arrow-0-26\" class=\"displacy-label\" startOffset=\"50%\" fill=\"currentColor\" text-anchor=\"middle\">conj</textPath>\n",
       "    </text>\n",
       "    <path class=\"displacy-arrowhead\" d=\"M3275.0,484.0 L3283.0,472.0 3267.0,472.0\" fill=\"currentColor\"/>\n",
       "</g>\n",
       "\n",
       "<g class=\"displacy-arrow\">\n",
       "    <path class=\"displacy-arc\" id=\"arrow-0-27\" stroke-width=\"2px\" d=\"M3430,482.0 C3430,422.0 3495.0,422.0 3495.0,482.0\" fill=\"none\" stroke=\"currentColor\"/>\n",
       "    <text dy=\"1.25em\" style=\"font-size: 0.8em; letter-spacing: 1px\">\n",
       "        <textPath xlink:href=\"#arrow-0-27\" class=\"displacy-label\" startOffset=\"50%\" fill=\"currentColor\" text-anchor=\"middle\">det</textPath>\n",
       "    </text>\n",
       "    <path class=\"displacy-arrowhead\" d=\"M3430,484.0 L3422,472.0 3438,472.0\" fill=\"currentColor\"/>\n",
       "</g>\n",
       "\n",
       "<g class=\"displacy-arrow\">\n",
       "    <path class=\"displacy-arc\" id=\"arrow-0-28\" stroke-width=\"2px\" d=\"M2230,482.0 C2230,122.0 3520.0,122.0 3520.0,482.0\" fill=\"none\" stroke=\"currentColor\"/>\n",
       "    <text dy=\"1.25em\" style=\"font-size: 0.8em; letter-spacing: 1px\">\n",
       "        <textPath xlink:href=\"#arrow-0-28\" class=\"displacy-label\" startOffset=\"50%\" fill=\"currentColor\" text-anchor=\"middle\">dobj</textPath>\n",
       "    </text>\n",
       "    <path class=\"displacy-arrowhead\" d=\"M3520.0,484.0 L3528.0,472.0 3512.0,472.0\" fill=\"currentColor\"/>\n",
       "</g>\n",
       "\n",
       "<g class=\"displacy-arrow\">\n",
       "    <path class=\"displacy-arc\" id=\"arrow-0-29\" stroke-width=\"2px\" d=\"M3670,482.0 C3670,422.0 3735.0,422.0 3735.0,482.0\" fill=\"none\" stroke=\"currentColor\"/>\n",
       "    <text dy=\"1.25em\" style=\"font-size: 0.8em; letter-spacing: 1px\">\n",
       "        <textPath xlink:href=\"#arrow-0-29\" class=\"displacy-label\" startOffset=\"50%\" fill=\"currentColor\" text-anchor=\"middle\">aux</textPath>\n",
       "    </text>\n",
       "    <path class=\"displacy-arrowhead\" d=\"M3670,484.0 L3662,472.0 3678,472.0\" fill=\"currentColor\"/>\n",
       "</g>\n",
       "\n",
       "<g class=\"displacy-arrow\">\n",
       "    <path class=\"displacy-arc\" id=\"arrow-0-30\" stroke-width=\"2px\" d=\"M3550,482.0 C3550,362.0 3740.0,362.0 3740.0,482.0\" fill=\"none\" stroke=\"currentColor\"/>\n",
       "    <text dy=\"1.25em\" style=\"font-size: 0.8em; letter-spacing: 1px\">\n",
       "        <textPath xlink:href=\"#arrow-0-30\" class=\"displacy-label\" startOffset=\"50%\" fill=\"currentColor\" text-anchor=\"middle\">acl</textPath>\n",
       "    </text>\n",
       "    <path class=\"displacy-arrowhead\" d=\"M3740.0,484.0 L3748.0,472.0 3732.0,472.0\" fill=\"currentColor\"/>\n",
       "</g>\n",
       "\n",
       "<g class=\"displacy-arrow\">\n",
       "    <path class=\"displacy-arc\" id=\"arrow-0-31\" stroke-width=\"2px\" d=\"M3790,482.0 C3790,422.0 3855.0,422.0 3855.0,482.0\" fill=\"none\" stroke=\"currentColor\"/>\n",
       "    <text dy=\"1.25em\" style=\"font-size: 0.8em; letter-spacing: 1px\">\n",
       "        <textPath xlink:href=\"#arrow-0-31\" class=\"displacy-label\" startOffset=\"50%\" fill=\"currentColor\" text-anchor=\"middle\">prep</textPath>\n",
       "    </text>\n",
       "    <path class=\"displacy-arrowhead\" d=\"M3855.0,484.0 L3863.0,472.0 3847.0,472.0\" fill=\"currentColor\"/>\n",
       "</g>\n",
       "\n",
       "<g class=\"displacy-arrow\">\n",
       "    <path class=\"displacy-arc\" id=\"arrow-0-32\" stroke-width=\"2px\" d=\"M4030,482.0 C4030,422.0 4095.0,422.0 4095.0,482.0\" fill=\"none\" stroke=\"currentColor\"/>\n",
       "    <text dy=\"1.25em\" style=\"font-size: 0.8em; letter-spacing: 1px\">\n",
       "        <textPath xlink:href=\"#arrow-0-32\" class=\"displacy-label\" startOffset=\"50%\" fill=\"currentColor\" text-anchor=\"middle\">det</textPath>\n",
       "    </text>\n",
       "    <path class=\"displacy-arrowhead\" d=\"M4030,484.0 L4022,472.0 4038,472.0\" fill=\"currentColor\"/>\n",
       "</g>\n",
       "\n",
       "<g class=\"displacy-arrow\">\n",
       "    <path class=\"displacy-arc\" id=\"arrow-0-33\" stroke-width=\"2px\" d=\"M4150,482.0 C4150,362.0 4340.0,362.0 4340.0,482.0\" fill=\"none\" stroke=\"currentColor\"/>\n",
       "    <text dy=\"1.25em\" style=\"font-size: 0.8em; letter-spacing: 1px\">\n",
       "        <textPath xlink:href=\"#arrow-0-33\" class=\"displacy-label\" startOffset=\"50%\" fill=\"currentColor\" text-anchor=\"middle\">poss</textPath>\n",
       "    </text>\n",
       "    <path class=\"displacy-arrowhead\" d=\"M4150,484.0 L4142,472.0 4158,472.0\" fill=\"currentColor\"/>\n",
       "</g>\n",
       "\n",
       "<g class=\"displacy-arrow\">\n",
       "    <path class=\"displacy-arc\" id=\"arrow-0-34\" stroke-width=\"2px\" d=\"M4150,482.0 C4150,422.0 4215.0,422.0 4215.0,482.0\" fill=\"none\" stroke=\"currentColor\"/>\n",
       "    <text dy=\"1.25em\" style=\"font-size: 0.8em; letter-spacing: 1px\">\n",
       "        <textPath xlink:href=\"#arrow-0-34\" class=\"displacy-label\" startOffset=\"50%\" fill=\"currentColor\" text-anchor=\"middle\">case</textPath>\n",
       "    </text>\n",
       "    <path class=\"displacy-arrowhead\" d=\"M4215.0,484.0 L4223.0,472.0 4207.0,472.0\" fill=\"currentColor\"/>\n",
       "</g>\n",
       "\n",
       "<g class=\"displacy-arrow\">\n",
       "    <path class=\"displacy-arc\" id=\"arrow-0-35\" stroke-width=\"2px\" d=\"M3910,482.0 C3910,242.0 4350.0,242.0 4350.0,482.0\" fill=\"none\" stroke=\"currentColor\"/>\n",
       "    <text dy=\"1.25em\" style=\"font-size: 0.8em; letter-spacing: 1px\">\n",
       "        <textPath xlink:href=\"#arrow-0-35\" class=\"displacy-label\" startOffset=\"50%\" fill=\"currentColor\" text-anchor=\"middle\">pobj</textPath>\n",
       "    </text>\n",
       "    <path class=\"displacy-arrowhead\" d=\"M4350.0,484.0 L4358.0,472.0 4342.0,472.0\" fill=\"currentColor\"/>\n",
       "</g>\n",
       "</svg>"
      ],
      "text/plain": [
       "<IPython.core.display.HTML object>"
      ]
     },
     "metadata": {},
     "output_type": "display_data"
    },
    {
     "name": "stdout",
     "output_type": "stream",
     "text": [
      "time: 364 ms\n"
     ]
    }
   ],
   "source": [
    "displacy.render(nlp(str(sentences[20])), style='dep', jupyter = True, options = {'distance': 120})"
   ]
  },
  {
   "cell_type": "code",
   "execution_count": 36,
   "metadata": {},
   "outputs": [
    {
     "data": {
      "text/plain": [
       "[('Firing', 'VERB', 'fire'),\n",
       " ('Mr.', 'PROPN', 'mr.'),\n",
       " ('Strzok', 'PROPN', 'strzok'),\n",
       " ('removes', 'VERB', 'remove'),\n",
       " ('favorite', 'ADJ', 'favorite'),\n",
       " ('target', 'NOUN', 'target'),\n",
       " ('Mr.', 'PROPN', 'mr.'),\n",
       " ('Trump', 'PROPN', 'trump'),\n",
       " ('ranks', 'NOUN', 'rank'),\n",
       " ('F.B.I.', 'PROPN', 'f.b.i.'),\n",
       " ('gives', 'VERB', 'give'),\n",
       " ('Mr.', 'PROPN', 'mr.'),\n",
       " ('Bowdich', 'PROPN', 'bowdich'),\n",
       " ('F.B.I.', 'PROPN', 'f.b.i.'),\n",
       " ('director', 'NOUN', 'director'),\n",
       " ('Christopher', 'PROPN', 'christopher'),\n",
       " ('A.', 'PROPN', 'a.'),\n",
       " ('Wray', 'PROPN', 'wray'),\n",
       " ('chance', 'NOUN', 'chance'),\n",
       " ('president', 'NOUN', 'president'),\n",
       " ('’s', 'PART', '’s'),\n",
       " ('ire', 'NOUN', 'ire')]"
      ]
     },
     "execution_count": 36,
     "metadata": {},
     "output_type": "execute_result"
    },
    {
     "name": "stdout",
     "output_type": "stream",
     "text": [
      "time: 388 ms\n"
     ]
    }
   ],
   "source": [
    "[(x.orth_,x.pos_, x.lemma_) for x in [y \n",
    "                                      for y\n",
    "                                      in nlp(str(sentences[20])) \n",
    "                                      if not y.is_stop and y.pos_ != 'PUNCT']]"
   ]
  },
  {
   "cell_type": "code",
   "execution_count": 37,
   "metadata": {},
   "outputs": [
    {
     "data": {
      "text/plain": [
       "{'Strzok': 'PERSON',\n",
       " 'Trump': 'PERSON',\n",
       " 'F.B.I.': 'GPE',\n",
       " 'Bowdich': 'PERSON',\n",
       " 'Christopher A. Wray': 'PERSON'}"
      ]
     },
     "execution_count": 37,
     "metadata": {},
     "output_type": "execute_result"
    },
    {
     "name": "stdout",
     "output_type": "stream",
     "text": [
      "time: 271 ms\n"
     ]
    }
   ],
   "source": [
    "dict([(str(x), x.label_) for x in nlp(str(sentences[20])).ents])"
   ]
  },
  {
   "cell_type": "code",
   "execution_count": 38,
   "metadata": {},
   "outputs": [
    {
     "name": "stdout",
     "output_type": "stream",
     "text": [
      "[(Firing, 'O', ''), (Mr., 'O', ''), (Strzok, 'B', 'PERSON'), (,, 'O', ''), (however, 'O', ''), (,, 'O', ''), (removes, 'O', ''), (a, 'O', ''), (favorite, 'O', ''), (target, 'O', ''), (of, 'O', ''), (Mr., 'O', ''), (Trump, 'B', 'PERSON'), (from, 'O', ''), (the, 'O', ''), (ranks, 'O', ''), (of, 'O', ''), (the, 'O', ''), (F.B.I., 'B', 'GPE'), (and, 'O', ''), (gives, 'O', ''), (Mr., 'O', ''), (Bowdich, 'B', 'PERSON'), (and, 'O', ''), (the, 'O', ''), (F.B.I., 'B', 'GPE'), (director, 'O', ''), (,, 'O', ''), (Christopher, 'B', 'PERSON'), (A., 'I', 'PERSON'), (Wray, 'I', 'PERSON'), (,, 'O', ''), (a, 'O', ''), (chance, 'O', ''), (to, 'O', ''), (move, 'O', ''), (beyond, 'O', ''), (the, 'O', ''), (president, 'O', ''), (’s, 'O', ''), (ire, 'O', ''), (., 'O', '')]\n",
      "time: 315 ms\n"
     ]
    }
   ],
   "source": [
    "print([(x, x.ent_iob_, x.ent_type_) for x in sentences[20]])"
   ]
  },
  {
   "cell_type": "markdown",
   "metadata": {},
   "source": [
    "### Apply on Reuters Article"
   ]
  },
  {
   "cell_type": "code",
   "execution_count": 63,
   "metadata": {},
   "outputs": [
    {
     "name": "stdout",
     "output_type": "stream",
     "text": [
      "time: 271 ms\n"
     ]
    }
   ],
   "source": [
    "HOME = \"..\"\n",
    "DATA_DIR = \"data\"\n",
    "REUTERS = os.path.join(HOME, DATA_DIR, \"preprocessed\", \"news_reuters.csv\")\n",
    "BLOOMBERG = os.path.join(HOME, DATA_DIR, \"preprocessed\", \"news_bloomberg.csv\")\n",
    "NEWS = os.path.join(HOME, DATA_DIR, \"preprocessed\", \"news.csv\")\n",
    "# Columns: 'date', 'filename', 'content'"
   ]
  },
  {
   "cell_type": "code",
   "execution_count": 62,
   "metadata": {
    "scrolled": true
   },
   "outputs": [
    {
     "name": "stdout",
     "output_type": "stream",
     "text": [
      "-- Special report: How News Corp got lost in Myspace\r\n",
      "-- By  Yinka Adegoke\r\n",
      "-- Thu Apr 7, 2011 1:08pm EDT\r\n",
      "-- http://www.reuters.com/article/2011/04/07/us-myspace-idUSTRE7364G420110407\r\n",
      "\r\n",
      " \r\n",
      "\r\n",
      " NEW YORK  (Reuters) - As Rupert Murdoch stepped into the Grand Ballroom of San Francisco's Palace Hotel at the Web 2.0 conference in October 2007, the developers and engineers who packed the room fell into a respectful hush. It was the sort of greeting usually reserved for one of their own tech heroes, not a 76-year-old media mogul. \r\n",
      "\r\n"
     ]
    },
    {
     "name": "stdout",
     "output_type": "stream",
     "text": [
      " Sitting cross-legged on a red leather couch, Murdoch looked relaxed in an open-necked shirt. Next to him sat Chris De Wolfe, the co-founder of Myspace, the social network that News Corp's chairman had acquired for $580 million two years earlier. De Wolfe had spent weeks trying to sell Murdoch's advisers on the conference, which he saw as a kind of digital coming out party for his boss. But those close to the News Corp chairman worried he might embarrass himself in front of the technorati. Murdoch wasn't concerned. \"I'll do whatever we need to do for Myspace,\" he told associates. After the conference, Murdoch and De Wolfe ambled across the road to a party hosted by Myspace inside San Francisco's Museum of Modern Art. At one point, 20-odd people stood in line for a chance to speak with him. \"He was like a rock star,\" De Wolfe later told a friend. Today, Murdoch has clearly lost his affection for Myspace. In fact, News Corp has put the money-losing site on the block. Some believe News Corp might be willing to unload Myspace at a bargain price. News Corp's bankers Allen & Co have been approached by nearly 20 parties, including Chinese Internet holding company Tencent; Myspace's original co-founder De Wolfe backed by Austin Ventures; and the current management led by Mike Jones, who would consider a buyout if he can raise the funds, according to people with knowledge of the various plans. News Corp has also approached Vevo, an online music video site jointly owned by Universal Music, Sony Music and Abu Dhabi Holdings, to discuss a possible joint venture. Whatever the outcome, the nearly six-year-old marriage has become the latest example of what can happen when a traditional media company imposes its will -- and business plan -- on a start-up that has not yet reached its potential. Interviews with executives who have worked for Myspace and News Corp underscore a stubborn cultural divide that they say exacerbated the once dominant site's problems and hastened its decline. Myspace has now been eclipsed by a rival that Murdoch once dismissed as a \"communications utility\" -- Facebook. INTERNET FAILURES Plenty of big media companies have misfired in their bids to retool for the Internet age. But few stuck their neck out on as high-profile an opportunity as Murdoch did with Myspace. It was perhaps the most closely-analyzed media coupling since the disastrous AOL-Time Warner merger in 2001. And while the Myspace deal was relatively small for a company of News Corp's size, it nonetheless changed perceptions in crucial ways. News Corp came to be seen as a company of the future, while social media was suddenly considered a serious business opportunity. Before Myspace, Murdoch had a checkered history in the digital arena. He pursued a rash of unsuccessful investments in the nineties -- including Internet service provider Delphi and a Web portal attempt called iGuide -- after his younger son James introduced him to the Web. For a time following those mishaps, he seemed to shun the Internet altogether. Then in late in 2004, people close to him say, he had a change of heart. Murdoch shifted tactics. He set aside a war chest of $2 billion and handpicked a team of young executives to look at possible ways to use the Web as a distribution platform. That team was composed of four rising stars: Ross Levinsohn, Adam Bain, Travis Katz and Michael Kirby. They became the backbone of Fox Interactive Media. Right away, they identified several targets including business news site MarketWatch, Career Search, games network IGN and tech news site CNET. \"But Myspace was the one they thought was the most intriguing with the highest risk and likely best reward,\" said a former News Corp insider at the time. Founded in August 2003 by De Wolfe and Tom Anderson, Myspace was conceived as a way for friends and fans to connect with one another as well as with their favorite bands and artists. It was a kind of musical version of pioneer social network site Friendster. Myspace fast became wildly popular with teenagers and young adults who spent hours designing their own pages with their favorite digital wallpaper, posting photos and adding friends. Up-and-coming bands loved the site as a great new free marketing platform. By 2004, just a year after its launch, Myspace was adding thousands of users a day. Myspace was majority controlled by Intermix Media at 52 percent, with another 25 percent owned by Redpoint Ventures and 20 percent owned by the co-founders. Murdoch swooped in and hammered out a deal with Intermix CEO Richard Rosenblatt over a weekend in July 2005, trumping longtime rival and Viacom Chairman Sumner Redstone in the process. The episode was considered a defeat for Viacom. Blame fell at the feet of CEO Tom Freston, who had given his digital executive, Jason Hirschhorn, the go-ahead to pay what one source close to the situation said was $600 million to $800 million for Myspace. But the deal took too long to put together, and by the time Viacom was ready to pull the trigger, News Corp has already won the day. A frustrated Redstone fired Freston some months later, though it remains unclear whether it was the failure to win Myspace or a dispute with Hollywood star Tom Cruise that brought Freston's time to an end. GREAT TIMING The timing of the Myspace deal couldn't have been better. In the 12 months after the News Corp acquisition, Myspace saw its unique visitors grow by 155 percent to 55.8 million a month, according to Web audience measurement service comScore. \"We couldn't get servers into the building fast enough,\" recalls a former Myspace executive. \"There was tremendous trouble scaling. It was exciting but also scary.\" At the executive level, the strain of running such a fast-growing business began to show almost immediately. Levinsohn oversaw all of News Corp's digital properties, ostensibly putting him above De Wolfe on the corporate ladder. But De Wolfe had Murdoch's ear in those early months. And he \"played it very intelligently politically,\" said a second former Myspace executive. One person close to Murdoch at the time says \"De Wolfe would call Rupert whenever he needed anything\" and that \"created some tension with Ross Levinsohn and Peter Chernin,\" who was second-in-command at News Corp. In early 2007, Murdoch brazenly predicted that Myspace would generate up to a $1 billion in revenue in the next fiscal year. The forecast caused panic at Myspace, according to the two former executives. \"It was a big blunder to say that to the Street,\" said the first executive. \"When you looked at how Myspace's numbers had been trending it was possible -- but it was a stretch. After that moment it was basically like all the tentacles of News Corp got involved in a bid to make that target, so getting anything done became near impossible.\" The other mistake was underestimating Facebook. Clearly Facebook was growing fast, even though it was building off a much smaller base. It was also coming out with a slew of innovative products. One major step forward for Facebook was its news feed, an initially controversial, then soon very popular feature which let friends know all the latest news about each other, which inspired repeat visits. (It would take Myspace 18 months to copy this feature.) Facebook struck another blow in May 2007, opening its platform to third-party developers so they could launch a range of applications on the Facebook site. With hindsight, this was a key turning point: Facebook quickly became the place for people to play games like FarmVille with their friends, as well as share photos and communicate. Over at Myspace, executives promised the site would open its platform to developers, but after a series of missteps and missed deadlines, Myspace fell even farther behind Facebook. Its platform eventually opened up to other applications nearly a year later. One of Myspace's strengths, thanks to its being part of a big multinational, was its ability to expand globally very quickly. From 2006 through 2007 it seemed to launch in a new country every month, opening offices throughout Europe and websites in nearly every major country. It also worked with Murdoch's wife Wendi on negotiating a Myspace partnership in China. But what was taking place outside of the United States also provided one of the earliest indications of the threat posed by Facebook. \"Around November 2007 we noticed Facebook user numbers in Canada jumped from 500,000 users to 4 million in two months and they were up to nearly 6 million a month later. We started to get worried,\" said the first former Myspace executive, describing the trend as a 'canary in a coal mine' moment. Just a few months later, Myspace executives spotted a similar trend in Britain, an even bigger, more crucial market. And as the numbers improved at Facebook, the growth in visits to Myspace started to stall. For Myspace, the fairy tale was ending. \"While monthly unique views had stayed pretty high for a long time, internally Myspace insiders knew the daily visitor numbers had been tumbling for a while,\" said a News Corp executive close to the discussions at the time. Facebook's ability to design simple, wildly popular features -- even as Myspace's platform became overwhelmed and buggy -- was beginning to get noticed by developers and industry commentators. Facebook and its founder Mark Zuckerberg were getting all the buzz. Stories were swirling around Silicon Valley that the then 23-year-old Zuckerberg had turned down a $1 billion acquisition offer from Yahoo. (Even Myspace considered making a play for Facebook. Levinsohn and De Wolfe met Zuckerberg in late 2006 at the W Hotel in Westwood, Los Angeles for informal buyout talks. Those discussions never progressed.) Zuckerberg's great strength, say his one-time rivals from Myspace, was that he and his team were focused on product development and innovation while Myspace had become too concerned with revenue and meeting traffic targets of its Google deal. \"The technology fell behind and it just shows that even when you have a massive user base you still need to offer something new to keep people engaged,\" said BTIG analyst Richard Greenfield. Around this time, the Google agreement, which had been hailed as a major coup by Chernin and Levinsohn as well as Wall Street, started to be viewed by Myspace executives as a double-edged sword. The Google deal required a certain number of Myspace user visits on a regular basis for Google to pay Myspace its guaranteed $300 million a year for three years. That reduced flexibility as Myspace couldn't experiment with its own site without forfeiting revenue. \"It was a good deal in the short-term but in the long term it ended up not being so good,\" said a third former Myspace executive close to advertising sales. \"We were incentivized to keep page views very high and ended up having too many ads plus too many pages, making the site less easy to use than a site like Facebook.\" The suggestion was made to the top brass at Fox Interactive that they sacrifice some of the page views. They refused, according to two of the former Myspace executives. Quarterly revenue targets for the parent company were simply too pressing to lose advertising dollars while engineers tinkered with the site. Now, with the benefit of hindsight, executives said that given a choice it would have been better to ink a flexible deal similar to one Facebook had reached with Microsoft. That deal was based on a revenue sharing agreement rather than revenue guarantees. But cash-flow wasn't the only problem. Myspace simply had not innovated much since it was bought. The site was also built on Microsoft's .NET technology, considered by many to be a grievous handicap. Few Web 2.0 developers use that platform and it's not well suited to a site with tens of millions of users. \"There was a tremendous platform stability problem within the site,\" said an executive who worked with Myspace after De Wolfe had left. \"The way that the technical infrastructure was set up it took literally 10 to 15 times longer to build code on the Myspace system than it would on any other technical platform.\" The executive, who has since left the company, added: \"They never ever understood how weak the site's interface was and as any great product developer knows you can have the best code in the world but if your design and user experience isn't phenomenal your site is going to fail.\" Myspace had yet another disadvantage. It was based in Los Angeles, hardly a hotbed for developer talent. Though it did eventually open shop in San Francisco and Seattle, observers say it was already too late to attract top flight engineers, the sort that were flocking to Facebook, Google and a new generation of Web 2.0 start-ups. A related roadblock was the lack of a typical start-up's incentive system. Once start-up companies are acquired by big public companies they no longer can offer cheap stock options that could be worth millions and inspire young teams to work 18-hour days. News Corp tried to put together a \"phantom stock\" for Myspacers but that didn't work and lasted only a year. TOM IS NOT YOUR FRIEND By 2008, Murdoch, who was spending increasing amounts of his time concentrating on how to integrate Dow Jones and the Wall Street Journal into News Corp, caught wind of the trouble at Myspace. He began to manage expectations. At the Web 2.0 event in San Francisco, he pulled back from his $1 billion revenue target. He said the figure would be closer to around $750 million. Quietly, Murdoch had started to consider his options for Myspace. In early 2008 there was a lot of uncertainty surrounding Microsoft Corp's ill-fated attempt to take control of Yahoo Inc. Murdoch moved quickly and had discussions with Yahoo about a possible equity stake swap which would value Myspace at anywhere from $6 billion to $10 billion but those talks came to nothing. There was nonetheless some good news for Myspace in 2008: the long overdue launch of a joint venture with the major label owners Vivendi's Universal Music Group, Sony Music, Warner Music Group and EMI Music. Myspace Music was a way of ensuring that Myspace would remain an important destination for music discovery by fans of the labels' bands and ensure that Myspace kept up its traffic numbers. By now, breakout acts such as Arctic Monkeys and Lily Allen had used Myspace to build followings -- and keeping its profile high in the music world was essential for the site. But even with the boost from the music venture, Myspace was losing its once enormous lead over Facebook. By the end of that year, Facebook had grown to 54 million U.S. visitors in a month, while Myspace stalled at a peak of 76 million users. It was around this time that management issues began to boil over. In the digital world, De Wolfe's already high profile had broken through the stratosphere as reports started circulating that he was dating socialite Paris Hilton. That wasn't the kind of thing News Corp was used to from its executives, despite the huge profile of its chairman. At work, De Wolfe had to deal with complaints about Myspace co-founder Tom Anderson. \"Tom was responsible for the product but ended up being a complete bottleneck on getting things done,\" said the News Corp executive. The first Myspace executive said De Wolfe \"was being pressured for months to fire Tom but he wasn't that kind of guy, he stayed loyal.\" In early 2009 News Corp announced that Chernin, who was Murdoch's trusted No.2, would be stepping down in June to pursue other entrepreneurial opportunities. While Chernin was widely, and correctly, seen as Murdoch's eyes and ears in Hollywood, he had another important role -- he was a key filter between the Los Angeles-based Myspace and Murdoch. The departure was the beginning of the end for the old Myspace. Over the next year, the company would struggle through sweeping management changes, restructuring and layoffs, while losing more ground to Facebook. \"Chernin leaving was the trigger for major change with Myspace, all the businesses got reexamined because they were going to be reporting into Murdoch,\" said the News Corp executive. \"This was when they started toying around with the idea of a chief digital officer.\" In March of 2009 reports started circulating that Murdoch was looking at bringing in Jonathan Miller, the former AOL CEO, who had had mixed success in turning around that ship while it was still part of Time Warner. Miller was confirmed as News Corp's chief digital officer the following month with a remit to \"fix Myspace.\" He immediately set about recruiting his own team to help solve the Myspace problem. But first he had to get rid of the current management team. \"Rupert appointed Miller because he really didn't want to have to fire Chris himself,\" said the former News Corp insider. MILLER TIME Three weeks later De Wolfe was out, while Anderson, who was every Myspace user's first 'friend' was initially kept on in a consultant role. As chief digital officer, Miller then recruited the former Facebook chief operating officer Owen Van Natta as Myspace CEO. Murdoch had also reached out to Jason Hirschhorn, the former MTV executive who had unsuccessfully negotiated to buy Myspace for Viacom back in 2005. Hirschhorn, who had gone to school with Murdoch's son James in New York, came on board in a strategy role. To round out the team, Miller recruited Mike Jones, who had previously sold his social communications start-up Userplane to AOL while it was run by Miller. With De Wolfe out of the way, the new team dived through Myspace user data. They were alarmed at what they found. \"They'd hoped it was in a bit better shape but you really couldn't tell from outside it was already over the precipice,\" said a fourth Myspace former executive. \"It was clear that they had lost ground in the social networking area.\" ComScore, the tracking firm, would soon publicly confirm what executives already knew from studying internal data: Facebook had officially overtaken Myspace in the United States, its biggest market. In May 2009, both had just over 70 million unique visitors. Two months later, Facebook had grown to 77 million visitors while Myspace had dropped to 68 million. \"That was when everyone here started to hit the panic buttons,\" said the News Corp executive. Myspace's new managers were said internally to have the risky job of \"catching a falling knife.\" Myspace was modestly profitable when it was bought in 2005. Soon after the acquisition News Corp invested heavily, upgrading its technology and bringing on hundreds of new staffers. These investments combined with the visitor traffic drop-off meant that Myspace started generating significant losses. Miller and his team quickly came round to the conclusion that battling Facebook head-on was a fool's errand. They began discussing ways to capitalize on Myspace's roots as a social network for up-and-coming bands and their fans. They also started to think about how to restructure what had become a bloated Myspace with around 2,000 staffers. Jones told Miller if the business was going to survive it would need to shrink to a fifth of the size it was, according to a person close to one of the executives. Before long, the new team started to show cracks. CEO Van Natta, who had been considered for Miller's job, was clashing with Hirschhorn and Jones, the two lieutenants he did not appoint. \"You would suggest an initiative to Mike (Jones), he'd approve it and then Owen (Van Natta) would just veto it. It was interesting to watch,\" said the second former Myspace executive. In the meantime, the ongoing fall-off in visitor traffic was badly hurting revenue guarantees News Corp had inked in its advertising deal with Google. Myspace had made the $300 million target in the first two years of the deal -- 2007 and 2008 -- but it rapidly became clear that was not going to be the case in 2009. Murdoch was forced to be upfront with Wall Street on an earnings conference call that November. \"We have not been making minimum guarantees, so our search revenue will not be what was advertised,\" he said in reply to a question about why Myspace would miss revenue forecasts. News Corp's digital revenues were down 26 percent from the previous fiscal quarter. Murdoch told analysts that Myspace revenue would fall short by around $100 million of its $300 million target due to the drop in traffic. MANAGEMENT MUSICAL CHAIRS At Myspace headquarters, infighting only worsened in late 2009. By early 2010, Van Natta quit as chief executive. He was replaced by Hirschhorn and Jones as co-presidents. Shortly thereafter, Hirschhorn left and Jones became chief executive. Former News Corp and Myspace executives who spoke to Reuters were scathing about the management changes. \"There was nine months of not doing anything but talking bad about their product in front of their own people,\" said the third former Myspace executive. \"I heard they had negative stuff up on white boards and lots of people were disheartened.\" Another former News Corp executive said, \"Why would you spend a year and a half thinking about the things you want to do instead of moving quickly to take advantage of the scale while you still have it?\" The growing list of troubles at Myspace raised alarm bells at News Corp's headquarters in New York. Back in June 2009 Murdoch had replaced Chernin with Chase Carey, the former DirecTV CEO and a long time News Corp executive. Carey, a straight-talking, dollars and cents kind of executive whose only obvious extravagance is his remarkable handlebar mustache, immediately raised doubts about Myspace, stating what many outside observers considered obvious. \"Chase's arrival was key, no one inside would admit that they had lost confidence in Myspace but he just called it like he saw it when he came back,\" said a business partner of News Corp who was retold the conversations. Carey warned time was running out for Myspace, telling Wall Street it had \"quarters not years\" to get its act together. In the fall of 2010, he began to talk publicly about the possibility of a sale. After months of planning, Myspace relaunched in October 2010. The idea was to pull in users and advertisers by positioning itself as an entertainment site with Hollywood stars and pop bands. In February, four months after the relaunch, Myspace's unique users had fallen by 30 percent to 38 million, an even faster decline than many had expected. Just as troubling, Web advertising measurement firm eMarketer estimates that Myspace's worldwide ad revenues dropped by 40 percent in 2010 to $288 million and forecasts that number will tumble to around $156 million in 2012. During that same period Facebook's ad revenues are forecast to more than treble to over $5.7 billon. OUT OF TIME At News Corp, patience seems to have run out. To some extent, the issue for News Corp goes beyond Myspace's fall. The world has changed dramatically since Murdoch made his bold play for the site in August 2005. News Corp still sees its future in the digital world, but executives interviewed for this piece repeatedly said the focus is now on harnessing digital distribution platforms for the company's vast news and entertainment content. \"I think we learned a lot from Myspace but our focus in digital now is how do we take our core businesses and extend them in meaningful ways over digital platforms,\" said News Corp spokeswoman Julie Henderson. The most obvious manifestation of this strategy is Murdoch's latest digital baby, The Daily, this time built from the ground up. The Daily is a digital only news 'paper' designed specifically for tablets such as Apple's iPad. Miller is charged with making this latest digital venture work, but it has gotten off to an uncertain start. Outside of that, News Corp is infusing digital capabilities throughout its existing businesses rather than looking to buy the next Facebook or Myspace. \"The digital challenge for all media companies right now is in their core businesses. It's not about what they can bolt on, but rather how they preserve the economics of their businesses and deal with fundamental issues that affect the entirety of the business,\" said News Corp's digital chief Miller. \"Bolting on additional lines of businesses in areas where they don't have expertise is hard.\" News Corp executives generally speak of Myspace in the past tense even though both in public and in private conversations with Reuters they argued that Myspace might still have a future within News Corp -- something that seems increasingly unlikely after the company appointed boutique investment bank Allen & Co to explore options that could include a sale or a spin-off into some sort of joint venture. \"The best thing for Myspace will be a situation where it can have the time and space to pursue its destiny -- and one that, frankly, removes the constant spotlight,\" said Miller. The new focus on social entertainment means Myspace will attract a different kind of user and initially less traffic, say current News Corp and Myspace executives. \"We expected that in changing the strategy we were going to have a big change in the audience,\" said Myspace CEO Jones. \"The entertainment category is a really big category if we get the concept right -- but it's just going to take time.\" Time that News Corp may not be willing to wait. (Reporting by Yinka Adegoke; editing by  Kenneth Li ,  Paul Thomasch , Jim Impoco and  Claudia Parsons )\n"
     ]
    },
    {
     "name": "stdout",
     "output_type": "stream",
     "text": [
      "time: 216 ms\n"
     ]
    }
   ],
   "source": [
    "# idxmax reuters: 61727  (FB 26, MSFT 1, NWSA 44, NWS 44, YHOO 1)\n",
    "reuters = pd.read_csv(REUTERS, skiprows=61727, nrows=1, index_col=0)\n",
    "print(reuters.loc[61727][2])"
   ]
  },
  {
   "cell_type": "code",
   "execution_count": 65,
   "metadata": {
    "scrolled": true
   },
   "outputs": [
    {
     "name": "stdout",
     "output_type": "stream",
     "text": [
      "-- Facebook Fought SEC to Keep Mobile Risks Hidden Before IPO\r\n",
      "-- B y   L i n d a   S a n d l e r ,   B r i a n   W o m a c k   a n d   D o u g l a s   M a c M i l l a n\r\n",
      "-- 2012-10-10T21:04:28Z\r\n",
      "-- http://www.bloomberg.com/news/2012-10-10/facebook-fought-sec-to-keep-mobile-risks-hidden-before-ipo-crash.html\r\n"
     ]
    },
    {
     "name": "stdout",
     "output_type": "stream",
     "text": [
      "When  Facebook Inc. (FB)  filed its proposal Feb. 1 to go public, it touted the effectiveness of ads linked to customers’ friends, citing research from Nielsen, the audience-counting company.  Barbara Jacobs, an assistant director for corporation finance at the U.S. Securities and Exchange Commission, was skeptical, as she and her staff vetted the filing to ensure  Facebook  had disclosed all material information to investors. The claim appeared to be drawn from marketing materials, not a Nielsen study, she wrote to Chief Financial Officer  David Ebersman , 42.  She gave him an ultimatum: Produce the study and provide Nielsen’s consent for use of the data -- or don’t use it, she wrote to Ebersman on Feb. 28. Facebook dropped the reference after initial resistance.  Read Jacobs' letter to Ebersman  here , as well as  Facebook's original prospectus . The incident was part of a two-and-a-half-month volley of messages among SEC officials, Ebersman and Facebook’s law firm Fenwick & West LLP. A  dozen letters , published a month after the May 17 IPO on the SEC’s  website , depict a management team hesitant to disclose information and still guessing at even rudimentary aspects of its business just weeks before the company held the largest-ever technology initial public offering. Many of the issues raised by the SEC and now unnerving investors were foreshadowed in the then-private correspondence between the SEC and Facebook.  “They were given the benefit of the doubt when they went public that they were ready for prime time,” said Michael Pachter, a managing director at Wedbush Securities Inc. “They still haven’t proved that they are.”  The shares dropped 2.9 percent to $19.64 at today’s close in New York.  Mobile Users  On the most critical issue facing Facebook’s future as a public company -- whether it could make money from the soaring number of mobile users, who see fewer ads than other customers - - the letters show executives holding back crucial details until the SEC pushed for further disclosure.  Noting that Facebook was counting some mobile users twice, Jacobs wrote on March 22: “Please explain to us how you determined that your metrics are not overstated.”  Read her March 22 letter  here . Only eight days before the IPO, on May 9, did Facebook make clear in a filing that daily mobile customers were increasing faster than advertising growth, potentially hurting revenue and profits. It was the strongest public signal that the IPO could fall short of its high expectations.  Read Facebook's May 9 amendment  here . The issue of mobile users is even more relevant today as Facebook, based in Menlo Park,  California , announced on Oct. 4 it now counted one billion users worldwide, up from 845 million at the year’s start. More than half of them, or 600 million, access Facebook through a mobile device, a number that grew 41 percent this year.  ‘Increasingly Skeptical’  “We’ve been growing increasingly skeptical of some of their monetization methods,” Richard Greenfield, an analyst at BTIG Research, told Bloomberg Television on Oct. 8, referring to Facebook’s struggles to get revenue from mobile users. He cut his rating on the shares to sell.  Facebook went forward pricing the IPO at $38 a share. That was 107 times trailing 12-month earnings, making it more expensive than 99 percent of all companies in the Standard & Poor’s 500 Index at the time. The SEC has no say in setting IPO prices.  Once called the  IPO of the century , Facebook dropped 45 percent through Oct. 5. That’s the worst offer-to-date performance of any U.S. IPO raising at least $1.5 billion since 2007, when  MF Global Holdings Ltd. (MFGLQ)  went public, according to data compiled by Bloomberg.  Ashley Zandy, a spokeswoman for Facebook, declined to comment for this story.  Retail Investors  The losses were acute for retail investors. They were allocated an unusually high proportion of shares after institutional investors balked. And they didn’t get the same flurry of warning calls from Facebook officials who, days before the IPO, privately advised securities firm analysts to lower earnings and profit estimates -- largely on the dearth of revenue from mobile users.  “It has been clear from the beginning that the insiders were bailing given that they sold $10 billion of shares and continued to sell as the lock-up period expired,” said Francis Gaskins, president of IPOdesktop.com, an independent IPO research firm in Marina del Rey, California. “They clearly knew that the company’s best growth rate was behind them and the stock was overvalued.”  By the time the final amended  prospectus  was filed May 16, a day before the company went public, Facebook had over the weeks included the mobile data and many of the material facts the SEC had demanded.  SEC Correspondence  What investors didn’t see until a month after the IPO were the letters that pushed Facebook to disclose in detail such key financial challenges as decelerating revenue growth, user count and its dependence on gaming company  Zynga Inc. (ZNGA)  -- all issues that arose in prominence after it became a public company.  Publishing the SEC letters beforehand would be “a better way to get the information to the market than an amended filing,” said Peter Henning, a former SEC lawyer who teaches at Wayne State University in  Detroit . “The SEC is a better soap box than the filings.”  Even a summary of points would be helpful for investors, Henning said, should the SEC decide that disclosing the letters would exert undue influence over market sentiment.  “As an investor you want all the information you can get, and that would certainly be one of the pieces,” money manager Michael Holland, chairman of Holland & Co., said of the correspondence. He chose not to buy Facebook at the IPO because it was more expensive than Apple Inc. and Google Inc., he said.  ‘Complete Picture’  Current SEC policy is to release correspondence no earlier than 20 business days after the IPO. The SEC doesn’t post correspondence “real time,” said  John Nester , a spokesman, because “people could misinterpret our questions to companies about their disclosure before companies have had opportunities to provide a complete picture.” By law, “a company is responsible for its own disclosures,” he said.  Luigi Zingales, a finance professor at the University of Chicago’s Booth School of Business, said Facebook should have delayed the IPO after it cut its forecasts. Analysts said the late revisions were surprising and almost unprecedented.  “When you have a significant change in your forecasts it’s good business practice to postpone the IPO so that the market has more time to understand what’s going on,” Zingales said.  By the time the letters were published, the stock was  cratering , on the way to losing half its $38 IPO price and erasing as much as $49 billion in market capitalization. The stock that sold for $16 billion in the IPO was worth $8.6 billion as of Oct. 8, data compiled by Bloomberg show.  Month’s Salary  Ryan Cefalu, a 34-year-old data-systems manager and father of two in Baton Rouge,  Louisiana , said he bought about $4,000, or about a month’s salary, in Facebook stock and has lost about $2,050 on paper.  “The IPO went terribly,” he said. “I expected it to go up for a couple days at least before it went it down. That never happened. It never had a chance to.”  The SEC continues to investigate Facebook’s IPO to determine whether any material information was omitted or misrepresented. The SEC is conducting an “in-depth review of all the participants” in the IPO, SEC Chairman Mary Schapiro said in an interview that aired Sept. 28 on Bloomberg Television. She declined to elaborate.  The Senate Banking Committee is also looking into the matter, and has held meetings “with a range of involved parties including Facebook,  Nasdaq ,  Morgan Stanley (MS) , and the SEC,” said Sam Gilford, press secretary for the Senate committee, in an e- mailed statement.  Legendary Transformation  Facebook’s eight-year transformation into the largest social-networking service is the stuff of legend. Born of marathon late-night coding sessions by  Mark Zuckerberg  and his Harvard University schoolmates, Facebook swiftly expanded beyond being a site for college kids into a network linking people from across the country, and eventually, the globe.  An IPO loomed as the investor base widened, reflecting insiders’ desire to sell. It was also spurred by SEC financial disclosure requirements for companies that have more than 500 shareholders. All the while, the public caught glimpses of Facebook’s potential valuation from high-profile private investments -- like  Microsoft Corp. (MSFT) ’s purchase of a 1.6 percent stake, which gave Facebook a $15 billion valuation, or a $1.5 billion private placement managed by  Goldman Sachs (GS)  Group Inc. valuing Facebook at $50 billion.  Stock ‘Hysteria’  Facebook trading on secondary market-maker SecondMarket Inc. suggested a market cap of $85 billion in July 2011, seven months before Facebook disclosed on Feb. 1 that it planned a share sale.  “Before the underwriters were even selected, hysteria about this stock was already out of control,”  Erik Gordon , a professor at the University of Michigan’s Ross School of Business, said in a phone interview.  It’s not unusual for a company going public to tussle with the SEC over what should be included in its prospectus. Yet Jacobs’s inquiries underscored growing concern within the SEC over the way newer consumer Web companies account for increasingly large user bases, according to a person with knowledge of the matter.  The regulator is spending more time scouring user-growth metrics and requiring more details, said this person, who asked not to be named because the SEC’s review process is confidential.  Jacobs’s Team  Last year the agency pressed  Groupon Inc. (GRPN)  to abandon an accounting method that made the then-unprofitable daily coupon business look profitable by hiding certain marketing costs, a person familiar with the matter said at the time. Julie Mossler, a spokeswoman for Chicago-based Groupon, declined to comment.  The official whose name became most closely associated with the prodding of Facebook is the SEC’s Jacobs, whose eight-person information technologies and services team at the SEC’s Disclosure Operations Office was tasked with reviewing the Facebook filings that began Feb. 1.  Jacobs, who is 51 in public records, has held various roles at the SEC since 1989, once proposing rules to let small companies price securities on a delayed basis, according to her profile on the Practising Law Institute’s  website . She holds law degrees from the University of San Francisco and Georgetown Law Center.  Her letters were addressed to Ebersman, who joined Facebook as chief financial officer in 2009 after holding the same title at drugmaker Genentech Inc. from 2005 until early 2009. A graduate of Brown University with a degree in economics and international relations, Ebersman replaced Gideon Yu, who left after Facebook said it wanted a successor with experience in running a public company.  Zynga Questions  Facebook’s responses were signed by Jeffrey Vetter, 46, of the Mountain View, California, law firm Fenwick & West. He declined to comment. Vetter, who joined Fenwick in 1995, has also helped prepare public offerings for companies including Fusion-io Inc. and Jive Software Inc.  By the end of February, the SEC had amassed a list of  92 matters  on which it sought further information.  An area of concern: Facebook’s reliance on Zynga, which makes the five most popular games played on Facebook including “Texas HoldEm Poker.” When Zynga missed earnings estimates in July, Facebook’s stock tumbled 8.5 percent, underscoring their interdependence.  At first Facebook’s filing said Zynga accounted for 12 percent of 2011 revenue. After further prodding, Vetter said that Facebook last year got 19 percent of revenue from Zynga - -12 percent from processing fees of virtual goods and 7 percent from ads on pages generated by Zynga apps.  Rival Services  The SEC also got Facebook to include a warning that Zynga, which had recently begun offering games on its own and other websites, could lure Facebook users away, hurting Facebook financially.  “Zynga may choose to try to migrate users from existing Facebook-integrated games to other websites or platforms,” Facebook disclosed. As a result, “Our financial results may be adversely affected,” it said.  Concerns related to Zynga drove  JPMorgan Chase & Co. (JPM)  and Morgan Stanley to cut their price targets for Facebook last week. They cited lower expectations for revenue from Facebook’s payments business after Zynga reduced forecasts.  Dani Dudeck, a spokeswoman for Zynga, declined to comment.  Revenue Details  Jacobs also asked Facebook why it hadn’t included data on revenue generated by each user, a “key” indicator of performance. Vetter dismissed the request on  March 7 , saying that the company prefers to look at “overall growth in users” and “overall revenue in evaluating the business.”  Unswayed, the SEC carried out revenue-per-user calculations itself, which Facebook only then included in a revised filing on  April 23 .  Read Vetter's letter  here . The figures showed revenue worldwide from each monthly active user declining, to $1.21 in the first quarter from $1.38 in the fourth, a seasonal drop, according to Facebook. They also revealed that per-user revenue was lower in Asia, at just 53 cents down from 56 cents in the fourth quarter.  One of the most contentious issues was Facebook’s halting disclosure of the number and growth of mobile users of Facebook, where they were located, and how it would derive revenue from them.  In its initial filing, known as an  S-1 , the company said mobile usage of Facebook increased around the world and numbered 425 million “monthly active users” in December 2011. It acknowledged that it hadn’t proven it could “monetize” people using only mobile devices, where the absence of ads may “negatively affect our revenue and financial results.”  ‘Excessive Expenses’  Jacobs responded on Feb. 28 by asking for a “more detailed” discussion of these key challenges. If the company’s attempts to monetize those mobile users fail, she wrote, then “ensure” that your disclosure addresses the potential consequences to revenue, “rather than just stating that they ‘may be negatively affected.’”  Vetter filed a revised prospectus on March 7, disclosing that Facebook’s monetization strategy could run up “excessive expenses.”  Still, in a letter the same day he resisted Jacobs’s effort to reveal the number of users who “primarily access” Facebook through mobile devices, saying they didn’t have a “reliable” count.  Facebook would disclose the number of daily active mobile users only “for the staff’s reference,” not in its registration statement, Vetter wrote. That number showed a big jump, to an estimated 58 million mobile-only Facebook users on Dec. 31, 2011, from 23 million on March 31, 2010.  Mobile-Only  Jacobs asked for the impact on revenue of greater mobile use, only to be told by Vetter that Facebook couldn’t “specifically assess the impact” as those users may also be using personal computers to get onto Facebook. When asked how many new users were mobile only, he estimated that 69 million, or 44 percent, of the 156 million new users might be mobile- only.  Asked about the geographical breakdown of mobile users, Vetter said it didn’t have a reliable count. For instance, he said, the company counted as Canadian many  BlackBerry (RIMM)  users around the world because the servers are based in  Canada .  This prompted Jacobs to question whether Facebook’s then- overall user count of 845 million might be wrong as a result of the fuzzy number of mobile users.  Facebook said it believed its data were “reasonably accurate” as overall data eliminated the multiple counting of mobile users.  Ad Disclosure  On  May 9 , Facebook released a disclosure to investors cautioning about the growth in mobile users exceeding growth of ads. It was a pivotal admission -- and one of the first warnings that drew widespread attention from analysts and investors.  On that same day, Zuckerberg, Ebersman and Chief Operating Officer Sheryl Sandberg were in the midst of the road show to pitch the stock to investors.  Investor relations staff at Facebook began placing a battery of calls to  equity analysts  with a dour warning: sales for the second quarter and full year wouldn’t likely match its earlier guidance, according to people familiar with the situation.  Analysts adjusted their forecasts down and shared them verbally with their firms’ institutional clients, whose demand for the stock sagged as a result, people with knowledge of the matter said on May 10. Sharing that information only with institutions isn’t unusual, and it’s legal as long as they don’t do it in writing.  Market ‘Mistrust’  Still, said finance professor Zingales, “The fact that some institutional investors got access to a company’s information that was not available to ordinary investors creates the perception that there are two sets of rules and increases the mistrust in the market.”  Despite the cautionary signs, on May 15 Facebook and Morgan Stanley executives raised the asking price to a range of $34 to $38 from $28 to $35. A day later they also increased the number of shares being sold by 25 percent to 421.2 million. That was an effort to create a stronger buffer against a price decline in August when insiders and early investors were allowed to sell their stock, said one person familiar with the matter. The lock- up period was for only three months, unusually short compared to the average six months.  Pricing Decision  The final pricing decision was worked out in a May 17 conference call joined by the highest ranks of Facebook and lead underwriter Morgan Stanley. On the call were Ebersman, Michael Grimes, Morgan Stanley’s global co-head of its technology investment banking group, and Morgan Stanley CEO James Gorman, an unusual appearance by an investment bank’s chief that reflected the importance it ascribed to the IPO, people familiar with the matter said May 23. JPMorgan and Goldman Sachs executives joined in too.  They reached consensus on pricing the IPO at the top of the $34 to $38 range, as a lower level would have signaled weakness in demand, said one of the people close to the situation.  Contention also arose over the volume of shares that should be set aside for retail customers. Facebook went into the  road show  with the intention of shifting more shares than usual to retail investors, according to the same person. Goldman Sachs, one of the banks in the IPO, pushed back against the idea, arguing that it was hard to gauge retail demand and that those investors tend to sell quickly at the first sign of a stock’s volatility, the person said.  Including Users  Yet Facebook wanted the larger retail allocation to let its users take part in the IPO, the person said. In the end, 25 percent of the shares sold at the IPO were allocated to retail investors, other people have said. That exceeds the average amount of 15 percent.  On the first day the lock-ups expired, Aug. 16, Facebook declined 6.3 percent to $19.87. Those shares freed up made up only 14 percent of the total 1.91 billion that will eventually be unlocked.  “Perhaps management should have seen that the party was getting out of hand, and should have understood that the hangover would be wicked,” said  Lise Buyer , principal at Class V Group in Portola Valley, California.  There were no headaches for investors who bought equity while Facebook was still private and were able to sell at the $38 IPO price. Goldman Sachs sold 24.3 million shares, which raised $924 million at the IPO price, doubling its original investment. Greylock Partners made 18 times its initial investment, selling 7.6 million shares for $289 million. Microsoft sold 6.6 million shares, which raised $249 million, more than quintupling its initial stake.  Few Appearances  Spokesmen for Morgan Stanley, Goldman Sachs and JPMorgan declined to comment.  Company executives did little to help their cause among shareholders during Facebook’s first months as a newly public company.  After Zuckerberg’s presentations for investors during the pre-IPO road show, the CEO went four months with few public appearances, doing a July 13 interview with Bloomberg News and defending the company’s projections on a July 26 call with analysts. Apart from contributions to that call, which covered second-quarter results, Ebersman and Sandberg also shied away from the limelight.  Silence over the plunging share price and growth prospects did little to allay investors’ anxiety, said Paul Argenti, a professor at Dartmouth College’s Tuck School of Business in Hanover, New Hampshire.  ‘Amateurish’ Approach  “There should be more public appearances by the CEO, there should be ongoing media relations activities that help give confidence to investors,” Argenti said. “I don’t see any of that going on. I see the exact opposite. It’s amateurish.”  Zuckerberg returned to the public eye in a Sept. 11 on- stage interview at the TechCrunch Disrupt conference in San Francisco. He acknowledged that the company had made missteps in executing a mobile strategy. Based on the amount of time users spend on mobile, he said, the company should eventually make “a lot more money” via wireless devices than through desktops.  Since May, the company has rolled out new advertising services for its mobile versions. That includes an offering that lets game makers on its service target users to download their applications on smartphones.  Lockup Expirations  Facebook stock has reversed part of the losses suffered since the IPO,  climbing  11 percent since hitting a record low of $17.73 on Sept. 4.  Yet the shares will probably come under more pressure starting in mid-October, when holders of more than a billion shares, many of them employees, will be permitted to sell.  At $20 a share, Facebook trades at 42 times estimated 2012 profit, still more than twice  Google (GOOG) ’s price of less than 18 times profit.  Among more than 40 lawsuits related to Facebook’s offering, some investors blame their losses on trading errors by Nasdaq, where Facebook is listed. Others claim company managers didn’t disclose revised revenue forecasts in the days before the stock started to trade publicly on May 18, or they didn’t warn that a surge in mobile users would slash revenue.  Facebook has said the suits, which have been consolidated under one judge in federal court in New York, lack merit. If Facebook can prove it disclosed all the risks adequately pre- IPO, the suits may be an uphill battle for investors.  ‘Huge Risk’  The IPO proved a harsh lesson to first-time investors like Linda Lantz, an online marketer in Granite Bay, California, who bought 100 shares in the offering with hopes of Internet riches.  After losing close to $1,500 in the four months since, Lantz has an appreciation for the difficulty in  valuing  social media companies with many users and relatively small profits, she said in an interview.  “The problem with Facebook is that it’s not a tangible good, and because it’s not a tangible good, people can’t feel and touch it, and it definitely has a huge risk of doing what it did,” Lantz said, “and that’s to go down.”  To contact the reporters on this story: Linda Sandler in New York at  lsandler@bloomberg.net ; Brian Womack in San Francisco at  bwomack1@bloomberg.net ; Douglas MacMillan in San Francisco at  dmacmillan3@bloomberg.net   To contact the editor responsible for this story: Tom Giles at  tgiles5@bloomberg.net  \n"
     ]
    },
    {
     "name": "stdout",
     "output_type": "stream",
     "text": [
      "time: 4.55 s\n"
     ]
    }
   ],
   "source": [
    "# idxmax bloomberg: 316777  (AAPL 1, FB 79, JPM 1, MSFT 1, MS 7)\n",
    "bloomberg = pd.read_csv(BLOOMBERG, skiprows=316777, nrows=1, index_col=0)\n",
    "print(bloomberg.loc[316777][2])"
   ]
  },
  {
   "cell_type": "code",
   "execution_count": null,
   "metadata": {},
   "outputs": [],
   "source": [
    "import spacy\n",
    "from spacy import displacy\n",
    "from collections import Counter\n",
    "import en_core_web_sm\n",
    "nlp = en_core_web_sm.load()\n",
    "\n",
    "article1 = reuters.loc[61727][2]\n",
    "article2 = bloomberg.loc[316777][2]"
   ]
  },
  {
   "cell_type": "code",
   "execution_count": null,
   "metadata": {},
   "outputs": [],
   "source": [
    "labels = [x.label_ for x in article.ents]\n",
    "Counter(labels)\n",
    "items = [x.text for x in article.ents]\n",
    "Counter(items).most_common(3)\n",
    "sentences = [x for x in article.sents]\n",
    "print(sentences[20])\n",
    "displacy.render(nlp(str(sentences[20])), jupyter=True, style='ent')"
   ]
  }
 ],
 "metadata": {
  "kernelspec": {
   "display_name": "Python 3",
   "language": "python",
   "name": "python3"
  },
  "language_info": {
   "codemirror_mode": {
    "name": "ipython",
    "version": 3
   },
   "file_extension": ".py",
   "mimetype": "text/x-python",
   "name": "python",
   "nbconvert_exporter": "python",
   "pygments_lexer": "ipython3",
   "version": "3.6.0"
  },
  "notify_time": "5"
 },
 "nbformat": 4,
 "nbformat_minor": 2
}
