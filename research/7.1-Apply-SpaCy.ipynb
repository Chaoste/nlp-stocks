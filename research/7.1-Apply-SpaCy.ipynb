{
 "cells": [
  {
   "cell_type": "code",
   "execution_count": 1,
   "metadata": {},
   "outputs": [
    {
     "name": "stderr",
     "output_type": "stream",
     "text": [
      "c:\\users\\thomas\\hpi\\ma\\venv\\lib\\importlib\\_bootstrap.py:205: RuntimeWarning: cymem.cymem.Pool size changed, may indicate binary incompatibility. Expected 48 from C header, got 64 from PyObject\n",
      "  return f(*args, **kwds)\n",
      "c:\\users\\thomas\\hpi\\ma\\venv\\lib\\importlib\\_bootstrap.py:205: RuntimeWarning: cymem.cymem.Address size changed, may indicate binary incompatibility. Expected 24 from C header, got 40 from PyObject\n",
      "  return f(*args, **kwds)\n",
      "c:\\users\\thomas\\hpi\\ma\\venv\\lib\\importlib\\_bootstrap.py:205: RuntimeWarning: cymem.cymem.Pool size changed, may indicate binary incompatibility. Expected 48 from C header, got 64 from PyObject\n",
      "  return f(*args, **kwds)\n",
      "c:\\users\\thomas\\hpi\\ma\\venv\\lib\\importlib\\_bootstrap.py:205: RuntimeWarning: cymem.cymem.Address size changed, may indicate binary incompatibility. Expected 24 from C header, got 40 from PyObject\n",
      "  return f(*args, **kwds)\n"
     ]
    }
   ],
   "source": [
    "import os\n",
    "import re\n",
    "import glob\n",
    "from datetime import datetime\n",
    "import sys\n",
    "sys.path.append(\"..\") # Adds higher directory to python modules path for importing from src dir\n",
    "\n",
    "import pandas as pd\n",
    "import numpy as np\n",
    "import tqdm\n",
    "import matplotlib\n",
    "from matplotlib import pyplot as plt\n",
    "from tqdm import tqdm_notebook as tqdm\n",
    "\n",
    "import spacy\n",
    "from spacy import displacy\n",
    "from collections import Counter\n",
    "import en_core_web_sm\n",
    "nlp = en_core_web_sm.load()\n",
    "\n",
    "%matplotlib inline\n",
    "%load_ext autotime\n",
    "%load_ext autoreload\n",
    "%autoreload 2"
   ]
  },
  {
   "cell_type": "code",
   "execution_count": 2,
   "metadata": {},
   "outputs": [
    {
     "name": "stdout",
     "output_type": "stream",
     "text": [
      "time: 164 ms\n"
     ]
    }
   ],
   "source": [
    "HOME = \"..\"\n",
    "DATA_DIR = \"data\"\n",
    "REUTERS = os.path.join(HOME, DATA_DIR, \"preprocessed\", \"news_reuters.csv\")\n",
    "BLOOMBERG = os.path.join(HOME, DATA_DIR, \"preprocessed\", \"news_bloomberg.csv\")\n",
    "NEWS = os.path.join(HOME, DATA_DIR, \"preprocessed\", \"news.csv\")\n",
    "# Columns: 'date', 'filename', 'content'"
   ]
  },
  {
   "cell_type": "markdown",
   "metadata": {},
   "source": [
    "### Get companies"
   ]
  },
  {
   "cell_type": "code",
   "execution_count": 3,
   "metadata": {},
   "outputs": [
    {
     "name": "stdout",
     "output_type": "stream",
     "text": [
      "time: 1.01 s\n"
     ]
    }
   ],
   "source": [
    "from src.datasets import NyseSecuritiesDataset\n",
    "from src.datasets import NyseStocksDataset\n",
    "import src.nlp_utils as nlp_utils"
   ]
  },
  {
   "cell_type": "code",
   "execution_count": 24,
   "metadata": {},
   "outputs": [
    {
     "data": {
      "application/vnd.jupyter.widget-view+json": {
       "model_id": "c0a1fa3398a3498185dd56825ba8f9d1",
       "version_major": 2,
       "version_minor": 0
      },
      "text/plain": [
       "HBox(children=(IntProgress(value=0, max=501), HTML(value='')))"
      ]
     },
     "metadata": {},
     "output_type": "display_data"
    },
    {
     "name": "stdout",
     "output_type": "stream",
     "text": [
      "\n",
      "time: 16.2 s\n"
     ]
    }
   ],
   "source": [
    "stocks_ds = NyseStocksDataset(file_path='../data/nyse/prices-split-adjusted.csv')\n",
    "securities_ds = NyseSecuritiesDataset(file_path='../data/nyse/securities.csv')\n",
    "companies = securities_ds.get_all_company_names()  # List[Tuple[symbol, name]]\n",
    "stocks_ds.load()"
   ]
  },
  {
   "cell_type": "markdown",
   "metadata": {},
   "source": [
    "Reuters:\n",
    "- 106519 articles\n",
    "- From 2006-10-20 to 2013-11-20\n",
    "- 45363 before 2010-01-04\n",
    "\n",
    "Bloomberg:\n",
    "- 448395 articles\n",
    "- From 2006-10-20 to 2013-11-26\n",
    "- 1148 before 2010-01-04\n",
    "\n",
    "Nyse:\n",
    "- From 2010-01-04 to 2016-12-30"
   ]
  },
  {
   "cell_type": "code",
   "execution_count": null,
   "metadata": {},
   "outputs": [],
   "source": [
    "dates_r = pd.read_csv(REUTERS, usecols=[0, 1], index_col=0)\n",
    "dates_r['date'] = pd.to_datetime(dates_r['date'], errors='coerce')\n",
    "dates_r['date'].hist()\n",
    "print(sum(dates_r['date'] <= pd.to_datetime('2010-01-04')))"
   ]
  },
  {
   "cell_type": "code",
   "execution_count": null,
   "metadata": {},
   "outputs": [],
   "source": [
    "dates_b = pd.read_csv(BLOOMBERG, usecols=[0, 1], index_col=0)\n",
    "dates_b['date'] = pd.to_datetime(dates_b['date'], errors='coerce')\n",
    "dates_b['date'].hist()\n",
    "print(sum(dates_b['date'] <= pd.to_datetime('2010-01-04')))"
   ]
  },
  {
   "cell_type": "markdown",
   "metadata": {},
   "source": [
    "# Multi Run"
   ]
  },
  {
   "cell_type": "markdown",
   "metadata": {},
   "source": [
    "#### Before NYSE\n",
    "- All from Reuters and Bloomberg before first entry of NYSE dataset\n",
    "- 45363 article from Reuters\n",
    "- 1148 articles from Bloomber\n",
    "- Resulted in about 102.735 company occurrences\n",
    "- `./occurrences-before-nyse.csv` [3.9 MB]"
   ]
  },
  {
   "cell_type": "markdown",
   "metadata": {},
   "source": [
    "#### Reuters\n",
    "\n",
    "- Took 53h (2d 2h 58min 18s)\n",
    "- Analysed 106.519 articles (106.494 included content)\n",
    "- Resulted in 217.518 company occurrences\n",
    "- ... in 52.210 different articles\n",
    "- `./occurrences-reuters.csv`[8.5 MB]"
   ]
  },
  {
   "cell_type": "code",
   "execution_count": 5,
   "metadata": {},
   "outputs": [
    {
     "name": "stdout",
     "output_type": "stream",
     "text": [
      "106519\n",
      "106494\n",
      "time: 5.72 s\n"
     ]
    }
   ],
   "source": [
    "reuters = pd.read_csv(REUTERS, index_col=0)  # nrows=45363\n",
    "print(len(reuters))\n",
    "reuters = reuters[reuters['content'].notna()]\n",
    "print(len(reuters))"
   ]
  },
  {
   "cell_type": "code",
   "execution_count": null,
   "metadata": {},
   "outputs": [],
   "source": [
    "results = pd.DataFrame(\n",
    "    index=range(5 * len(reuters)),\n",
    "    columns=['article_id', 'stock_symbol', 'match_text', 'start_idx', 'end_idx'])\n",
    "counter = 0"
   ]
  },
  {
   "cell_type": "code",
   "execution_count": null,
   "metadata": {
    "scrolled": true
   },
   "outputs": [],
   "source": [
    "pbar = tqdm(reuters.iterrows(), total=len(reuters))\n",
    "for i, article in pbar:\n",
    "    # One full article takes about 7 seconds\n",
    "    found_entities = nlp_utils.find_nyse_corporations(article[2], quiet=True)\n",
    "    for ent, symbol in found_entities:\n",
    "        results.iloc[counter] = (f'r{i}', symbol, ent.text, ent.start_char, ent.end_char)\n",
    "        counter += 1\n",
    "    if (counter % 500) + len(found_entities) != (counter + len(found_entities)) % 500:\n",
    "        results.dropna().to_csv('occurrences-reuters.csv')\n",
    "        pbar.set_description(f\"Stored {counter} entries\")\n",
    "results.dropna().to_csv('occurrences-reuters.csv')"
   ]
  },
  {
   "cell_type": "markdown",
   "metadata": {},
   "source": [
    "#### Bloomberg\n",
    "- Took ?\n",
    "- Analysed 448.395 articles (447.769 included content)\n",
    "- Resulted in ? company occurrences\n",
    "- ... in ? different articles\n",
    "- `./occurrences-bloomberg.csv` [? MB]"
   ]
  },
  {
   "cell_type": "code",
   "execution_count": 6,
   "metadata": {
    "scrolled": true
   },
   "outputs": [
    {
     "name": "stdout",
     "output_type": "stream",
     "text": [
      "448395\n",
      "time: 25.7 s\n"
     ]
    }
   ],
   "source": [
    "bloombergs = pd.read_csv(BLOOMBERG, index_col=0)  # nrows=1148\n",
    "print(len(bloombergs))\n",
    "# bloombergs = bloombergs[bloombergs['content'].notna()]\n",
    "# print(len(bloombergs))"
   ]
  },
  {
   "cell_type": "code",
   "execution_count": 33,
   "metadata": {},
   "outputs": [
    {
     "name": "stdout",
     "output_type": "stream",
     "text": [
      "time: 1.25 s\n"
     ]
    }
   ],
   "source": [
    "results = pd.DataFrame(\n",
    "    index=range(10 * len(bloombergs)),\n",
    "    columns=['article_id', 'stock_symbol', 'match_text', 'start_idx', 'end_idx'])"
   ]
  },
  {
   "cell_type": "code",
   "execution_count": 52,
   "metadata": {},
   "outputs": [
    {
     "name": "stdout",
     "output_type": "stream",
     "text": [
      "time: 34.2 ms\n"
     ]
    }
   ],
   "source": [
    "# _results = pd.read_csv('occurrences-bloomberg.csv', index_col=0)\n",
    "# print(results.shape, _results.shape)\n",
    "# results.iloc[:len(_results)] = _results\n",
    "# TODO: set start to last article id"
   ]
  },
  {
   "cell_type": "code",
   "execution_count": 94,
   "metadata": {},
   "outputs": [
    {
     "name": "stdout",
     "output_type": "stream",
     "text": [
      "time: 28.2 ms\n"
     ]
    }
   ],
   "source": [
    "# x = results2.iloc[:counter]\n",
    "# x.index = x.index + 34996\n",
    "# results.iloc[34996:34996+counter] = x"
   ]
  },
  {
   "cell_type": "code",
   "execution_count": null,
   "metadata": {
    "scrolled": true
   },
   "outputs": [
    {
     "data": {
      "application/vnd.jupyter.widget-view+json": {
       "model_id": "231abbc562e44fdaa943b05544aabdf5",
       "version_major": 2,
       "version_minor": 0
      },
      "text/plain": [
       "HBox(children=(IntProgress(value=0, max=400308), HTML(value='')))"
      ]
     },
     "metadata": {},
     "output_type": "display_data"
    },
    {
     "name": "stdout",
     "output_type": "stream",
     "text": [
      "Stored 49003 entries\n",
      "Stored 50000 entries\n",
      "Stored 51006 entries\n"
     ]
    },
    {
     "name": "stderr",
     "output_type": "stream",
     "text": [
      "IOPub message rate exceeded.\n",
      "The notebook server will temporarily stop sending output\n",
      "to the client in order to avoid crashing it.\n",
      "To change this limit, set the config variable\n",
      "`--NotebookApp.iopub_msg_rate_limit`.\n",
      "\n",
      "Current values:\n",
      "NotebookApp.iopub_msg_rate_limit=1000.0 (msgs/sec)\n",
      "NotebookApp.rate_limit_window=3.0 (secs)\n",
      "\n"
     ]
    },
    {
     "name": "stdout",
     "output_type": "stream",
     "text": [
      "Stored 53002 entries\n"
     ]
    },
    {
     "name": "stderr",
     "output_type": "stream",
     "text": [
      "IOPub message rate exceeded.\n",
      "The notebook server will temporarily stop sending output\n",
      "to the client in order to avoid crashing it.\n",
      "To change this limit, set the config variable\n",
      "`--NotebookApp.iopub_msg_rate_limit`.\n",
      "\n",
      "Current values:\n",
      "NotebookApp.iopub_msg_rate_limit=1000.0 (msgs/sec)\n",
      "NotebookApp.rate_limit_window=3.0 (secs)\n",
      "\n"
     ]
    },
    {
     "name": "stdout",
     "output_type": "stream",
     "text": [
      "Stored 55001 entries\n",
      "Stored 56011 entries\n"
     ]
    },
    {
     "name": "stderr",
     "output_type": "stream",
     "text": [
      "IOPub message rate exceeded.\n",
      "The notebook server will temporarily stop sending output\n",
      "to the client in order to avoid crashing it.\n",
      "To change this limit, set the config variable\n",
      "`--NotebookApp.iopub_msg_rate_limit`.\n",
      "\n",
      "Current values:\n",
      "NotebookApp.iopub_msg_rate_limit=1000.0 (msgs/sec)\n",
      "NotebookApp.rate_limit_window=3.0 (secs)\n",
      "\n"
     ]
    },
    {
     "name": "stdout",
     "output_type": "stream",
     "text": [
      "Stored 58000 entries\n"
     ]
    },
    {
     "name": "stderr",
     "output_type": "stream",
     "text": [
      "IOPub message rate exceeded.\n",
      "The notebook server will temporarily stop sending output\n",
      "to the client in order to avoid crashing it.\n",
      "To change this limit, set the config variable\n",
      "`--NotebookApp.iopub_msg_rate_limit`.\n",
      "\n",
      "Current values:\n",
      "NotebookApp.iopub_msg_rate_limit=1000.0 (msgs/sec)\n",
      "NotebookApp.rate_limit_window=3.0 (secs)\n",
      "\n"
     ]
    },
    {
     "name": "stdout",
     "output_type": "stream",
     "text": [
      "Stored 60001 entries\n",
      "Stored 61000 entries\n"
     ]
    },
    {
     "name": "stderr",
     "output_type": "stream",
     "text": [
      "IOPub message rate exceeded.\n",
      "The notebook server will temporarily stop sending output\n",
      "to the client in order to avoid crashing it.\n",
      "To change this limit, set the config variable\n",
      "`--NotebookApp.iopub_msg_rate_limit`.\n",
      "\n",
      "Current values:\n",
      "NotebookApp.iopub_msg_rate_limit=1000.0 (msgs/sec)\n",
      "NotebookApp.rate_limit_window=3.0 (secs)\n",
      "\n"
     ]
    },
    {
     "name": "stdout",
     "output_type": "stream",
     "text": [
      "Stored 63001 entries\n"
     ]
    },
    {
     "name": "stderr",
     "output_type": "stream",
     "text": [
      "IOPub message rate exceeded.\n",
      "The notebook server will temporarily stop sending output\n",
      "to the client in order to avoid crashing it.\n",
      "To change this limit, set the config variable\n",
      "`--NotebookApp.iopub_msg_rate_limit`.\n",
      "\n",
      "Current values:\n",
      "NotebookApp.iopub_msg_rate_limit=1000.0 (msgs/sec)\n",
      "NotebookApp.rate_limit_window=3.0 (secs)\n",
      "\n"
     ]
    },
    {
     "name": "stdout",
     "output_type": "stream",
     "text": [
      "Stored 65012 entries\n",
      "Stored 66000 entries\n",
      "Stored 67001 entries\n"
     ]
    }
   ],
   "source": [
    "# start = 0\n",
    "# start = 48087\n",
    "counter = start\n",
    "pbar = tqdm(bloombergs.iloc[start:].iterrows(), total=len(bloombergs)-start)\n",
    "for i, article in pbar:\n",
    "    if article.content is np.nan:\n",
    "        continue\n",
    "    # One full article takes about 7 seconds\n",
    "    found_entities = nlp_utils.find_nyse_corporations(article.content, quiet=True)\n",
    "    \n",
    "    for ent, symbol in found_entities:\n",
    "        results.iloc[counter] = (f'b{i}', symbol, ent.text, ent.start_char, ent.end_char)\n",
    "        counter += 1\n",
    "    if (counter % 1000) - len(found_entities) != (counter - len(found_entities)) % 1000:\n",
    "        results.dropna().to_csv('occurrences-bloomberg.csv')\n",
    "        pbar.set_description(f\"Stored {counter} entries\")\n",
    "        print(f\"Stored {counter} entries\")\n",
    "results.dropna().to_csv('occurrences-bloomberg.csv')"
   ]
  },
  {
   "cell_type": "markdown",
   "metadata": {},
   "source": [
    "## Remove headlines from articles and the found entities"
   ]
  },
  {
   "cell_type": "code",
   "execution_count": 9,
   "metadata": {},
   "outputs": [
    {
     "name": "stdout",
     "output_type": "stream",
     "text": [
      "Reuters Articles 106494\n",
      "Bloomberg Articles 447378\n",
      "time: 20.7 s\n"
     ]
    }
   ],
   "source": [
    "reuters = pd.read_csv(REUTERS, index_col=0)\n",
    "reuters = reuters[reuters.content.notna()]\n",
    "print('Reuters Articles', len(reuters))\n",
    "reuters['title_start_idx'] = 0\n",
    "reuters['title_end_idx'] = 0\n",
    "reuters['head_end_idx'] = 0\n",
    "\n",
    "# Don't remove entries with empty content because the bb occurrences are matching the original index values\n",
    "bloombergs = pd.read_csv(BLOOMBERG, index_col=0)\n",
    "bloombergs['title_start_idx'] = 0\n",
    "bloombergs['title_end_idx'] = 0\n",
    "bloombergs['head_end_idx'] = 0\n",
    "\n",
    "# The articles keep their IDs which is necessary for matching them with the occurrences\n",
    "# Both are not necessary for reuters\n",
    "bloombergs = bloombergs[bloombergs.content.notna()]  # 626 article with empty content, e.g. b821, b822, b835, ..., b382080\n",
    "# Regex wouldn't match because only the title's existing: e.g. b19841, b7498, b8401, b11860 (so far all have below 100 chars)\n",
    "# For reuters there are always more than 100 chars, but sometimes only the meta data (~1000 entries)\n",
    "bloombergs = bloombergs[bloombergs.content.str.len() > 100]  # 391 articles, regexes wouldn't match\n",
    "print('Bloomberg Articles', len(bloombergs))"
   ]
  },
  {
   "cell_type": "markdown",
   "metadata": {},
   "source": [
    "#### Data Cleansing"
   ]
  },
  {
   "cell_type": "code",
   "execution_count": 10,
   "metadata": {
    "scrolled": true
   },
   "outputs": [
    {
     "name": "stdout",
     "output_type": "stream",
     "text": [
      "time: 416 ms\n"
     ]
    }
   ],
   "source": [
    "orig_occ_r = pd.read_csv('occurrences-reuters.csv', index_col=0)\n",
    "x = orig_occ_r\n",
    "# All 3406 links in reuters articles are those in the header for the article link (and one in r49915 to uscourts.gov)\n",
    "x = x[~x.match_text.str.contains('www.')]\n",
    "orig_occ_r = x"
   ]
  },
  {
   "cell_type": "code",
   "execution_count": 11,
   "metadata": {},
   "outputs": [
    {
     "name": "stdout",
     "output_type": "stream",
     "text": [
      "(291934, 5)\n",
      "122 out of 111783 links are left\n",
      "time: 1.85 s\n"
     ]
    }
   ],
   "source": [
    "orig_occ_b = pd.read_csv('occurrences-bloomberg.csv', index_col=0)\n",
    "# BB: Links starting before inde 400 are eiter \"http://ww.bloomberg...\" or \"Ministry of Economy, Trade and Industry  http://www.meti.go.jp\"\n",
    "x = orig_occ_b\n",
    "x = x[~x.match_text.str.contains(\"Ministry of Economy, Trade and Industry\")]\n",
    "x = x[~x.match_text.str.contains('http:') | (x.start_idx > 300)]\n",
    "print(x.shape)\n",
    "print(f'{x.match_text.str.contains(\"http:\").sum()} out of {orig_occ_b.match_text.str.contains(\"http:\").sum()} links are left')\n",
    "orig_occ_b = x"
   ]
  },
  {
   "cell_type": "markdown",
   "metadata": {},
   "source": [
    "#### Filter matches from header"
   ]
  },
  {
   "cell_type": "code",
   "execution_count": 14,
   "metadata": {},
   "outputs": [
    {
     "name": "stdout",
     "output_type": "stream",
     "text": [
      "time: 23 ms\n"
     ]
    }
   ],
   "source": [
    "# remove_meta = re.compile(r'(--.*\\n)+[\\n\\s]*')\n",
    "remove_meta = re.compile(r'-- (.*)\\n(?:--.*\\n)+[\\n\\s]*')\n",
    "# remove_meta_2 = re.compile(r'[\\s\\S]*(--.*\\n)(?:(?:[^-]-[^-]|[^-])*\\n){4,}')\n",
    "remove_meta_2 = re.compile(r'[\\s\\S]{0,250}(--.*\\.html\\s*\\n)(?:[^-](?:-[^-])*|-(?:[^-]-)*){250}')\n",
    "\n",
    "def filter_meta_matches(r, article, article_id):\n",
    "    # If there's no occurence in this article, we're done\n",
    "    if not len(r[r.article_id == article_id]):\n",
    "        return r\n",
    "    match = remove_meta.match(article.content)\n",
    "    if match:\n",
    "        article.title_start_idx = match.start(1)\n",
    "        article.title_end_idx = match.end(1)\n",
    "        article.head_end_idx = match.end()\n",
    "        return r[(r.article_id != article_id) | (r.start_idx >= article.head_end_idx) |\n",
    "             (r.start_idx.between(article.title_start_idx, article.title_end_idx) &\n",
    "             r.end_idx.between(article.title_start_idx, article.title_end_idx))]\n",
    "    match = remove_meta_2.match(article.content)\n",
    "    if match:\n",
    "        article.title_start_idx = -1\n",
    "        article.title_end_idx = -1\n",
    "        article.head_end_idx = match.end(1)\n",
    "        return r[(r.article_id != article_id) | (r.start_idx >= article.head_end_idx)]\n",
    "    print(f\"No regex worked for article {article_id}\")\n",
    "    return r"
   ]
  },
  {
   "cell_type": "code",
   "execution_count": null,
   "metadata": {
    "scrolled": true
   },
   "outputs": [],
   "source": [
    "occ_r = orig_occ_r\n",
    "print('Before - Reuters:', orig_occ_r.shape)\n",
    "\n",
    "for i, article in tqdm(reuters.iterrows(), total=len(reuters)):\n",
    "    occ_r = filter_meta_matches(occ_r, article, f'r{i}')\n",
    "\n",
    "print('After - Reuters:', occ_r.shape)\n",
    "# Reduced from 214112 to 214109\n",
    "occ_r.to_csv('occurrences-reuters-v2.csv')"
   ]
  },
  {
   "cell_type": "code",
   "execution_count": null,
   "metadata": {
    "scrolled": true
   },
   "outputs": [],
   "source": [
    "occ_b = orig_occ_b\n",
    "print('Before - Bloomberg:', orig_occ_b.shape)\n",
    "# Fails: b69482, b76189, b83057, b88059, b97550, b98027, b100132, b107901, b113886, b124492, b134323, b136283, b151695, b163888, b164659, b164663, b166778, b166962, b173433, b176106, b176183, b181211, b185876\n",
    "for i, article in tqdm(bloombergs.iterrows(), total=len(bloombergs)):\n",
    "    occ_b = filter_meta_matches(occ_b, article, f'b{i}')\n",
    "print('After - Bloomberg:', occ_b.shape)\n",
    "# Reduced from 403596 to , from 111778 links to links (which are not in the header)\n",
    "occ_b.to_csv('occurrences-bloomberg-v2.csv')"
   ]
  },
  {
   "cell_type": "markdown",
   "metadata": {},
   "source": [
    "### Apply on Reuters Article"
   ]
  },
  {
   "cell_type": "code",
   "execution_count": 322,
   "metadata": {
    "scrolled": true
   },
   "outputs": [
    {
     "name": "stdout",
     "output_type": "stream",
     "text": [
      "time: 943 ms\n"
     ]
    }
   ],
   "source": [
    "# idxmax reuters: 61727  (FB 26, MSFT 1, NWSA 44, NWS 44, YHOO 1)\n",
    "reuters = pd.read_csv(REUTERS, skiprows=61727, nrows=1, index_col=0)\n",
    "# print(reuters.loc[61727][2])"
   ]
  },
  {
   "cell_type": "code",
   "execution_count": null,
   "metadata": {},
   "outputs": [],
   "source": [
    "article1 = nlp(reuters.loc[61727][2])\n",
    "labels = [x.label_ for x in article1.ents]\n",
    "print(Counter(labels))\n",
    "items = [x.text for x in article1.ents if x.label_ == 'ORG']\n",
    "print(Counter(items))  # .most_common(3)\n",
    "sentences = [x for x in article1.sents]\n",
    "print(sentences[20])\n",
    "displacy.render(nlp(str(sentences[20])), jupyter=True, style='ent')"
   ]
  },
  {
   "cell_type": "code",
   "execution_count": null,
   "metadata": {
    "scrolled": true
   },
   "outputs": [],
   "source": [
    "counts = Counter([ent for ent, label in zip(items, labels) if label == 'ORG'])\n",
    "matches = [\n",
    "    [key, counts[key], securities_ds.get_most_similar_company(key)] for key in counts]\n",
    "matches = [x for x in matches if x[2] is not None]\n",
    "matched_stocks = dict([(x[0], x[2]) for x in matches])\n",
    "matches"
   ]
  },
  {
   "cell_type": "code",
   "execution_count": null,
   "metadata": {
    "scrolled": true
   },
   "outputs": [],
   "source": [
    "# print(securities_ds.get_most_similar_company('AOL-Time Warner', quiet=False))\n",
    "found_entities = nlp_utils.find_nyse_corporations(reuters.loc[61727][2], quiet=False)"
   ]
  },
  {
   "cell_type": "markdown",
   "metadata": {},
   "source": [
    "### Apply on Bloomberg Article"
   ]
  },
  {
   "cell_type": "code",
   "execution_count": null,
   "metadata": {
    "scrolled": true
   },
   "outputs": [],
   "source": [
    "# idxmax bloomberg: 316777  (AAPL 1, FB 79, JPM 1, MSFT 1, MS 7)\n",
    "bloomberg = pd.read_csv(BLOOMBERG, skiprows=316777, nrows=1, index_col=0)\n",
    "# print(bloomberg.loc[316777][2])"
   ]
  },
  {
   "cell_type": "code",
   "execution_count": null,
   "metadata": {},
   "outputs": [],
   "source": [
    "found_entities = nlp_utils.find_nyse_corporations(bloomberg.loc[316777][2], quiet=False)"
   ]
  },
  {
   "cell_type": "markdown",
   "metadata": {},
   "source": [
    "### Fix matches for short company name (3M matches too many strings)"
   ]
  },
  {
   "cell_type": "code",
   "execution_count": 155,
   "metadata": {},
   "outputs": [
    {
     "name": "stdout",
     "output_type": "stream",
     "text": [
      "time: 2.41 s\n"
     ]
    }
   ],
   "source": [
    "occ_b = pd.read_csv('occurrences-bloomberg-v2.csv', index_col=0)\n",
    "# 32189 entries, this problem seems to only exist for 3M co. [MMM]\n",
    "cleaned_up = occ_b[(occ_b['stock_symbol'] != 'MMM') | occ_b.match_text.str.contains('3M')]\n",
    "# cleaned_up.to_csv('occurrences-bloomberg-v2.csv')"
   ]
  },
  {
   "cell_type": "code",
   "execution_count": 156,
   "metadata": {},
   "outputs": [
    {
     "name": "stdout",
     "output_type": "stream",
     "text": [
      "time: 1.92 s\n"
     ]
    }
   ],
   "source": [
    "occ_r = pd.read_csv('occurrences-reuters-v2.csv', index_col=0)\n",
    "# 5751 entries, this problem seems to only exist for 3M co. [MMM]\n",
    "cleaned_up = occ_r[(occ_r['stock_symbol'] != 'MMM') | occ_r.match_text.str.contains('3M')]\n",
    "# cleaned_up.to_csv('occurrences-reuters-v2.csv')"
   ]
  },
  {
   "cell_type": "markdown",
   "metadata": {},
   "source": [
    "### Calculate Cooccurrences"
   ]
  },
  {
   "cell_type": "code",
   "execution_count": 269,
   "metadata": {},
   "outputs": [
    {
     "name": "stdout",
     "output_type": "stream",
     "text": [
      "time: 688 ms\n"
     ]
    }
   ],
   "source": [
    "def get_cooccurrences(occs):\n",
    "    grouped = occs.groupby(['article_id', 'stock_symbol'], sort=False)\n",
    "    occ_per_article = grouped.size().reset_index().pivot('article_id', 'stock_symbol').fillna(0).astype(int)\n",
    "    occ_per_article.columns = occ_per_article.columns.droplevel(0)\n",
    "    comp_does_occure = (occ_per_article != 0).astype(int)\n",
    "    cooc = comp_does_occure.T.dot(comp_does_occure)\n",
    "    # comps_article_counts = np.diag(cooc)  # (occ_per_article != 0).astype(int).sum(axis=0)\n",
    "    np.fill_diagonal(cooc.values, 0)\n",
    "    return cooc\n",
    "\n",
    "occs_b = pd.read_csv('occurrences-bloomberg-v2.csv', index_col=0)\n",
    "occs_r = pd.read_csv('occurrences-reuters-v2.csv', index_col=0)\n",
    "occs = pd.concat([occs_b, occs_r]).reset_index(drop=True)"
   ]
  },
  {
   "cell_type": "code",
   "execution_count": 201,
   "metadata": {},
   "outputs": [
    {
     "name": "stdout",
     "output_type": "stream",
     "text": [
      "time: 19.6 s\n"
     ]
    }
   ],
   "source": [
    "# cooc_r = get_cooccurrences(occs_r)\n",
    "# cooc_b = get_cooccurrences(occs_b)\n",
    "coocs = get_cooccurrences(occs)"
   ]
  },
  {
   "cell_type": "code",
   "execution_count": 288,
   "metadata": {},
   "outputs": [
    {
     "data": {
      "text/html": [
       "<div>\n",
       "<style scoped>\n",
       "    .dataframe tbody tr th:only-of-type {\n",
       "        vertical-align: middle;\n",
       "    }\n",
       "\n",
       "    .dataframe tbody tr th {\n",
       "        vertical-align: top;\n",
       "    }\n",
       "\n",
       "    .dataframe thead th {\n",
       "        text-align: right;\n",
       "    }\n",
       "</style>\n",
       "<table border=\"1\" class=\"dataframe\">\n",
       "  <thead>\n",
       "    <tr style=\"text-align: right;\">\n",
       "      <th></th>\n",
       "      <th>Comp A</th>\n",
       "      <th>Comp B</th>\n",
       "      <th>Articles</th>\n",
       "    </tr>\n",
       "  </thead>\n",
       "  <tbody>\n",
       "    <tr>\n",
       "      <th>0</th>\n",
       "      <td>Bank of America Corp [BAC]</td>\n",
       "      <td>JPMorgan Chase &amp; Co. [JPM]</td>\n",
       "      <td>3132</td>\n",
       "    </tr>\n",
       "    <tr>\n",
       "      <th>5</th>\n",
       "      <td>Goldman Sachs Group [GS]</td>\n",
       "      <td>Morgan Stanley [MS]</td>\n",
       "      <td>2031</td>\n",
       "    </tr>\n",
       "    <tr>\n",
       "      <th>10</th>\n",
       "      <td>Citigroup Inc. [C]</td>\n",
       "      <td>Goldman Sachs Group [GS]</td>\n",
       "      <td>1480</td>\n",
       "    </tr>\n",
       "    <tr>\n",
       "      <th>15</th>\n",
       "      <td>Microsoft Corp. [MSFT]</td>\n",
       "      <td>Yahoo Inc. [YHOO]</td>\n",
       "      <td>1101</td>\n",
       "    </tr>\n",
       "    <tr>\n",
       "      <th>20</th>\n",
       "      <td>Chevron Corp. [CVX]</td>\n",
       "      <td>Exxon Mobil Corp. [XOM]</td>\n",
       "      <td>656</td>\n",
       "    </tr>\n",
       "    <tr>\n",
       "      <th>25</th>\n",
       "      <td>Target Corp. [TGT]</td>\n",
       "      <td>Wal-Mart Stores [WMT]</td>\n",
       "      <td>531</td>\n",
       "    </tr>\n",
       "    <tr>\n",
       "      <th>30</th>\n",
       "      <td>American Airlines Group [AAL]</td>\n",
       "      <td>Delta Air Lines [DAL]</td>\n",
       "      <td>437</td>\n",
       "    </tr>\n",
       "    <tr>\n",
       "      <th>35</th>\n",
       "      <td>Apple Inc. [AAPL]</td>\n",
       "      <td>Goldman Sachs Group [GS]</td>\n",
       "      <td>352</td>\n",
       "    </tr>\n",
       "    <tr>\n",
       "      <th>40</th>\n",
       "      <td>Amazon.com Inc [AMZN]</td>\n",
       "      <td>Microsoft Corp. [MSFT]</td>\n",
       "      <td>315</td>\n",
       "    </tr>\n",
       "    <tr>\n",
       "      <th>45</th>\n",
       "      <td>Microsoft Corp. [MSFT]</td>\n",
       "      <td>AT&amp;T Inc [T]</td>\n",
       "      <td>278</td>\n",
       "    </tr>\n",
       "  </tbody>\n",
       "</table>\n",
       "</div>"
      ],
      "text/plain": [
       "                           Comp A                      Comp B  Articles\n",
       "0      Bank of America Corp [BAC]  JPMorgan Chase & Co. [JPM]      3132\n",
       "5        Goldman Sachs Group [GS]         Morgan Stanley [MS]      2031\n",
       "10             Citigroup Inc. [C]    Goldman Sachs Group [GS]      1480\n",
       "15         Microsoft Corp. [MSFT]           Yahoo Inc. [YHOO]      1101\n",
       "20            Chevron Corp. [CVX]     Exxon Mobil Corp. [XOM]       656\n",
       "25             Target Corp. [TGT]       Wal-Mart Stores [WMT]       531\n",
       "30  American Airlines Group [AAL]       Delta Air Lines [DAL]       437\n",
       "35              Apple Inc. [AAPL]    Goldman Sachs Group [GS]       352\n",
       "40          Amazon.com Inc [AMZN]      Microsoft Corp. [MSFT]       315\n",
       "45         Microsoft Corp. [MSFT]                AT&T Inc [T]       278"
      ]
     },
     "execution_count": 288,
     "metadata": {},
     "output_type": "execute_result"
    },
    {
     "name": "stdout",
     "output_type": "stream",
     "text": [
      "time: 190 ms\n"
     ]
    }
   ],
   "source": [
    "top[::5].head(10)"
   ]
  },
  {
   "cell_type": "code",
   "execution_count": 273,
   "metadata": {},
   "outputs": [
    {
     "name": "stdout",
     "output_type": "stream",
     "text": [
      "time: 456 ms\n"
     ]
    }
   ],
   "source": [
    "coocs.to_csv('cooccurrences.csv')"
   ]
  },
  {
   "cell_type": "code",
   "execution_count": 280,
   "metadata": {
    "scrolled": true
   },
   "outputs": [
    {
     "data": {
      "text/html": [
       "<div>\n",
       "<style scoped>\n",
       "    .dataframe tbody tr th:only-of-type {\n",
       "        vertical-align: middle;\n",
       "    }\n",
       "\n",
       "    .dataframe tbody tr th {\n",
       "        vertical-align: top;\n",
       "    }\n",
       "\n",
       "    .dataframe thead th {\n",
       "        text-align: right;\n",
       "    }\n",
       "</style>\n",
       "<table border=\"1\" class=\"dataframe\">\n",
       "  <thead>\n",
       "    <tr style=\"text-align: right;\">\n",
       "      <th></th>\n",
       "      <th>Comp A</th>\n",
       "      <th>Comp B</th>\n",
       "      <th>Articles</th>\n",
       "    </tr>\n",
       "  </thead>\n",
       "  <tbody>\n",
       "    <tr>\n",
       "      <th>0</th>\n",
       "      <td>Bank of America Corp [BAC]</td>\n",
       "      <td>JPMorgan Chase &amp; Co. [JPM]</td>\n",
       "      <td>3132</td>\n",
       "    </tr>\n",
       "    <tr>\n",
       "      <th>1</th>\n",
       "      <td>Bank of America Corp [BAC]</td>\n",
       "      <td>Citigroup Inc. [C]</td>\n",
       "      <td>2951</td>\n",
       "    </tr>\n",
       "    <tr>\n",
       "      <th>2</th>\n",
       "      <td>Citigroup Inc. [C]</td>\n",
       "      <td>JPMorgan Chase &amp; Co. [JPM]</td>\n",
       "      <td>2679</td>\n",
       "    </tr>\n",
       "    <tr>\n",
       "      <th>3</th>\n",
       "      <td>Citigroup Inc. [C]</td>\n",
       "      <td>Morgan Stanley [MS]</td>\n",
       "      <td>2292</td>\n",
       "    </tr>\n",
       "    <tr>\n",
       "      <th>4</th>\n",
       "      <td>Apple Inc. [AAPL]</td>\n",
       "      <td>Microsoft Corp. [MSFT]</td>\n",
       "      <td>2093</td>\n",
       "    </tr>\n",
       "    <tr>\n",
       "      <th>5</th>\n",
       "      <td>Goldman Sachs Group [GS]</td>\n",
       "      <td>Morgan Stanley [MS]</td>\n",
       "      <td>2031</td>\n",
       "    </tr>\n",
       "    <tr>\n",
       "      <th>6</th>\n",
       "      <td>JPMorgan Chase &amp; Co. [JPM]</td>\n",
       "      <td>Morgan Stanley [MS]</td>\n",
       "      <td>1965</td>\n",
       "    </tr>\n",
       "    <tr>\n",
       "      <th>7</th>\n",
       "      <td>Bank of America Corp [BAC]</td>\n",
       "      <td>Morgan Stanley [MS]</td>\n",
       "      <td>1915</td>\n",
       "    </tr>\n",
       "    <tr>\n",
       "      <th>8</th>\n",
       "      <td>Bank of America Corp [BAC]</td>\n",
       "      <td>Wells Fargo [WFC]</td>\n",
       "      <td>1613</td>\n",
       "    </tr>\n",
       "    <tr>\n",
       "      <th>9</th>\n",
       "      <td>Goldman Sachs Group [GS]</td>\n",
       "      <td>JPMorgan Chase &amp; Co. [JPM]</td>\n",
       "      <td>1504</td>\n",
       "    </tr>\n",
       "    <tr>\n",
       "      <th>10</th>\n",
       "      <td>Citigroup Inc. [C]</td>\n",
       "      <td>Goldman Sachs Group [GS]</td>\n",
       "      <td>1480</td>\n",
       "    </tr>\n",
       "    <tr>\n",
       "      <th>11</th>\n",
       "      <td>Ford Motor [F]</td>\n",
       "      <td>General Motors [GM]</td>\n",
       "      <td>1440</td>\n",
       "    </tr>\n",
       "    <tr>\n",
       "      <th>12</th>\n",
       "      <td>Bank of America Corp [BAC]</td>\n",
       "      <td>Goldman Sachs Group [GS]</td>\n",
       "      <td>1439</td>\n",
       "    </tr>\n",
       "    <tr>\n",
       "      <th>13</th>\n",
       "      <td>JPMorgan Chase &amp; Co. [JPM]</td>\n",
       "      <td>Wells Fargo [WFC]</td>\n",
       "      <td>1205</td>\n",
       "    </tr>\n",
       "    <tr>\n",
       "      <th>14</th>\n",
       "      <td>Citigroup Inc. [C]</td>\n",
       "      <td>Wells Fargo [WFC]</td>\n",
       "      <td>1157</td>\n",
       "    </tr>\n",
       "    <tr>\n",
       "      <th>15</th>\n",
       "      <td>Microsoft Corp. [MSFT]</td>\n",
       "      <td>Yahoo Inc. [YHOO]</td>\n",
       "      <td>1101</td>\n",
       "    </tr>\n",
       "    <tr>\n",
       "      <th>16</th>\n",
       "      <td>Apple Inc. [AAPL]</td>\n",
       "      <td>Facebook [FB]</td>\n",
       "      <td>848</td>\n",
       "    </tr>\n",
       "    <tr>\n",
       "      <th>17</th>\n",
       "      <td>Apple Inc. [AAPL]</td>\n",
       "      <td>AT&amp;T Inc [T]</td>\n",
       "      <td>761</td>\n",
       "    </tr>\n",
       "    <tr>\n",
       "      <th>18</th>\n",
       "      <td>Facebook [FB]</td>\n",
       "      <td>Microsoft Corp. [MSFT]</td>\n",
       "      <td>701</td>\n",
       "    </tr>\n",
       "    <tr>\n",
       "      <th>19</th>\n",
       "      <td>Apple Inc. [AAPL]</td>\n",
       "      <td>Intel Corp. [INTC]</td>\n",
       "      <td>691</td>\n",
       "    </tr>\n",
       "    <tr>\n",
       "      <th>20</th>\n",
       "      <td>Chevron Corp. [CVX]</td>\n",
       "      <td>Exxon Mobil Corp. [XOM]</td>\n",
       "      <td>656</td>\n",
       "    </tr>\n",
       "    <tr>\n",
       "      <th>21</th>\n",
       "      <td>Apple Inc. [AAPL]</td>\n",
       "      <td>Amazon.com Inc [AMZN]</td>\n",
       "      <td>622</td>\n",
       "    </tr>\n",
       "    <tr>\n",
       "      <th>22</th>\n",
       "      <td>Intel Corp. [INTC]</td>\n",
       "      <td>Microsoft Corp. [MSFT]</td>\n",
       "      <td>607</td>\n",
       "    </tr>\n",
       "    <tr>\n",
       "      <th>23</th>\n",
       "      <td>Morgan Stanley [MS]</td>\n",
       "      <td>Wells Fargo [WFC]</td>\n",
       "      <td>588</td>\n",
       "    </tr>\n",
       "    <tr>\n",
       "      <th>24</th>\n",
       "      <td>Facebook [FB]</td>\n",
       "      <td>Yahoo Inc. [YHOO]</td>\n",
       "      <td>547</td>\n",
       "    </tr>\n",
       "    <tr>\n",
       "      <th>25</th>\n",
       "      <td>Target Corp. [TGT]</td>\n",
       "      <td>Wal-Mart Stores [WMT]</td>\n",
       "      <td>531</td>\n",
       "    </tr>\n",
       "    <tr>\n",
       "      <th>26</th>\n",
       "      <td>Apple Inc. [AAPL]</td>\n",
       "      <td>Bank of America Corp [BAC]</td>\n",
       "      <td>501</td>\n",
       "    </tr>\n",
       "    <tr>\n",
       "      <th>27</th>\n",
       "      <td>Goldman Sachs Group [GS]</td>\n",
       "      <td>Wells Fargo [WFC]</td>\n",
       "      <td>471</td>\n",
       "    </tr>\n",
       "    <tr>\n",
       "      <th>28</th>\n",
       "      <td>Apple Inc. [AAPL]</td>\n",
       "      <td>Citigroup Inc. [C]</td>\n",
       "      <td>467</td>\n",
       "    </tr>\n",
       "    <tr>\n",
       "      <th>29</th>\n",
       "      <td>Apple Inc. [AAPL]</td>\n",
       "      <td>JPMorgan Chase &amp; Co. [JPM]</td>\n",
       "      <td>446</td>\n",
       "    </tr>\n",
       "    <tr>\n",
       "      <th>...</th>\n",
       "      <td>...</td>\n",
       "      <td>...</td>\n",
       "      <td>...</td>\n",
       "    </tr>\n",
       "    <tr>\n",
       "      <th>70</th>\n",
       "      <td>General Motors [GM]</td>\n",
       "      <td>JPMorgan Chase &amp; Co. [JPM]</td>\n",
       "      <td>220</td>\n",
       "    </tr>\n",
       "    <tr>\n",
       "      <th>71</th>\n",
       "      <td>Apple Inc. [AAPL]</td>\n",
       "      <td>Caterpillar Inc. [CAT]</td>\n",
       "      <td>219</td>\n",
       "    </tr>\n",
       "    <tr>\n",
       "      <th>72</th>\n",
       "      <td>BlackRock [BLK]</td>\n",
       "      <td>JPMorgan Chase &amp; Co. [JPM]</td>\n",
       "      <td>217</td>\n",
       "    </tr>\n",
       "    <tr>\n",
       "      <th>73</th>\n",
       "      <td>International Business Machines [IBM]</td>\n",
       "      <td>Microsoft Corp. [MSFT]</td>\n",
       "      <td>214</td>\n",
       "    </tr>\n",
       "    <tr>\n",
       "      <th>74</th>\n",
       "      <td>CBS Corp. [CBS]</td>\n",
       "      <td>News Corp. [NWSA]</td>\n",
       "      <td>212</td>\n",
       "    </tr>\n",
       "    <tr>\n",
       "      <th>75</th>\n",
       "      <td>Apple Inc. [AAPL]</td>\n",
       "      <td>Boeing Company [BA]</td>\n",
       "      <td>211</td>\n",
       "    </tr>\n",
       "    <tr>\n",
       "      <th>76</th>\n",
       "      <td>American Express Co [AXP]</td>\n",
       "      <td>Citigroup Inc. [C]</td>\n",
       "      <td>209</td>\n",
       "    </tr>\n",
       "    <tr>\n",
       "      <th>77</th>\n",
       "      <td>General Motors [GM]</td>\n",
       "      <td>Goldman Sachs Group [GS]</td>\n",
       "      <td>208</td>\n",
       "    </tr>\n",
       "    <tr>\n",
       "      <th>78</th>\n",
       "      <td>Citigroup Inc. [C]</td>\n",
       "      <td>Microsoft Corp. [MSFT]</td>\n",
       "      <td>207</td>\n",
       "    </tr>\n",
       "    <tr>\n",
       "      <th>79</th>\n",
       "      <td>Bank of America Corp [BAC]</td>\n",
       "      <td>Intel Corp. [INTC]</td>\n",
       "      <td>205</td>\n",
       "    </tr>\n",
       "    <tr>\n",
       "      <th>80</th>\n",
       "      <td>Comcast A Corp [CMCSA]</td>\n",
       "      <td>AT&amp;T Inc [T]</td>\n",
       "      <td>205</td>\n",
       "    </tr>\n",
       "    <tr>\n",
       "      <th>81</th>\n",
       "      <td>Apple Inc. [AAPL]</td>\n",
       "      <td>Cisco Systems [CSCO]</td>\n",
       "      <td>202</td>\n",
       "    </tr>\n",
       "    <tr>\n",
       "      <th>82</th>\n",
       "      <td>Apple Inc. [AAPL]</td>\n",
       "      <td>Wal-Mart Stores [WMT]</td>\n",
       "      <td>202</td>\n",
       "    </tr>\n",
       "    <tr>\n",
       "      <th>83</th>\n",
       "      <td>Bank of America Corp [BAC]</td>\n",
       "      <td>Caterpillar Inc. [CAT]</td>\n",
       "      <td>202</td>\n",
       "    </tr>\n",
       "    <tr>\n",
       "      <th>84</th>\n",
       "      <td>General Electric [GE]</td>\n",
       "      <td>United Technologies [UTX]</td>\n",
       "      <td>201</td>\n",
       "    </tr>\n",
       "    <tr>\n",
       "      <th>85</th>\n",
       "      <td>Citigroup Inc. [C]</td>\n",
       "      <td>Facebook [FB]</td>\n",
       "      <td>199</td>\n",
       "    </tr>\n",
       "    <tr>\n",
       "      <th>86</th>\n",
       "      <td>Apple Inc. [AAPL]</td>\n",
       "      <td>Verizon Communications [VZ]</td>\n",
       "      <td>198</td>\n",
       "    </tr>\n",
       "    <tr>\n",
       "      <th>87</th>\n",
       "      <td>Caterpillar Inc. [CAT]</td>\n",
       "      <td>General Electric [GE]</td>\n",
       "      <td>196</td>\n",
       "    </tr>\n",
       "    <tr>\n",
       "      <th>88</th>\n",
       "      <td>American International Group, Inc. [AIG]</td>\n",
       "      <td>Goldman Sachs Group [GS]</td>\n",
       "      <td>195</td>\n",
       "    </tr>\n",
       "    <tr>\n",
       "      <th>89</th>\n",
       "      <td>BlackRock [BLK]</td>\n",
       "      <td>Citigroup Inc. [C]</td>\n",
       "      <td>195</td>\n",
       "    </tr>\n",
       "    <tr>\n",
       "      <th>90</th>\n",
       "      <td>Boeing Company [BA]</td>\n",
       "      <td>Caterpillar Inc. [CAT]</td>\n",
       "      <td>193</td>\n",
       "    </tr>\n",
       "    <tr>\n",
       "      <th>91</th>\n",
       "      <td>News Corp. [NWSA]</td>\n",
       "      <td>Time Warner Inc. [TWX]</td>\n",
       "      <td>192</td>\n",
       "    </tr>\n",
       "    <tr>\n",
       "      <th>92</th>\n",
       "      <td>Bank of America Corp [BAC]</td>\n",
       "      <td>Berkshire Hathaway [BRK.B]</td>\n",
       "      <td>191</td>\n",
       "    </tr>\n",
       "    <tr>\n",
       "      <th>93</th>\n",
       "      <td>Cisco Systems [CSCO]</td>\n",
       "      <td>Microsoft Corp. [MSFT]</td>\n",
       "      <td>190</td>\n",
       "    </tr>\n",
       "    <tr>\n",
       "      <th>94</th>\n",
       "      <td>Apple Inc. [AAPL]</td>\n",
       "      <td>News Corp. [NWSA]</td>\n",
       "      <td>187</td>\n",
       "    </tr>\n",
       "    <tr>\n",
       "      <th>95</th>\n",
       "      <td>International Business Machines [IBM]</td>\n",
       "      <td>Intel Corp. [INTC]</td>\n",
       "      <td>186</td>\n",
       "    </tr>\n",
       "    <tr>\n",
       "      <th>96</th>\n",
       "      <td>General Electric [GE]</td>\n",
       "      <td>Microsoft Corp. [MSFT]</td>\n",
       "      <td>185</td>\n",
       "    </tr>\n",
       "    <tr>\n",
       "      <th>97</th>\n",
       "      <td>Apple Inc. [AAPL]</td>\n",
       "      <td>Oracle Corp. [ORCL]</td>\n",
       "      <td>184</td>\n",
       "    </tr>\n",
       "    <tr>\n",
       "      <th>98</th>\n",
       "      <td>Goldman Sachs Group [GS]</td>\n",
       "      <td>Intel Corp. [INTC]</td>\n",
       "      <td>184</td>\n",
       "    </tr>\n",
       "    <tr>\n",
       "      <th>99</th>\n",
       "      <td>Microsoft Corp. [MSFT]</td>\n",
       "      <td>News Corp. [NWSA]</td>\n",
       "      <td>184</td>\n",
       "    </tr>\n",
       "  </tbody>\n",
       "</table>\n",
       "<p>100 rows × 3 columns</p>\n",
       "</div>"
      ],
      "text/plain": [
       "                                      Comp A                       Comp B  \\\n",
       "0                 Bank of America Corp [BAC]   JPMorgan Chase & Co. [JPM]   \n",
       "1                 Bank of America Corp [BAC]           Citigroup Inc. [C]   \n",
       "2                         Citigroup Inc. [C]   JPMorgan Chase & Co. [JPM]   \n",
       "3                         Citigroup Inc. [C]          Morgan Stanley [MS]   \n",
       "4                          Apple Inc. [AAPL]       Microsoft Corp. [MSFT]   \n",
       "5                   Goldman Sachs Group [GS]          Morgan Stanley [MS]   \n",
       "6                 JPMorgan Chase & Co. [JPM]          Morgan Stanley [MS]   \n",
       "7                 Bank of America Corp [BAC]          Morgan Stanley [MS]   \n",
       "8                 Bank of America Corp [BAC]            Wells Fargo [WFC]   \n",
       "9                   Goldman Sachs Group [GS]   JPMorgan Chase & Co. [JPM]   \n",
       "10                        Citigroup Inc. [C]     Goldman Sachs Group [GS]   \n",
       "11                            Ford Motor [F]          General Motors [GM]   \n",
       "12                Bank of America Corp [BAC]     Goldman Sachs Group [GS]   \n",
       "13                JPMorgan Chase & Co. [JPM]            Wells Fargo [WFC]   \n",
       "14                        Citigroup Inc. [C]            Wells Fargo [WFC]   \n",
       "15                    Microsoft Corp. [MSFT]            Yahoo Inc. [YHOO]   \n",
       "16                         Apple Inc. [AAPL]                Facebook [FB]   \n",
       "17                         Apple Inc. [AAPL]                 AT&T Inc [T]   \n",
       "18                             Facebook [FB]       Microsoft Corp. [MSFT]   \n",
       "19                         Apple Inc. [AAPL]           Intel Corp. [INTC]   \n",
       "20                       Chevron Corp. [CVX]      Exxon Mobil Corp. [XOM]   \n",
       "21                         Apple Inc. [AAPL]        Amazon.com Inc [AMZN]   \n",
       "22                        Intel Corp. [INTC]       Microsoft Corp. [MSFT]   \n",
       "23                       Morgan Stanley [MS]            Wells Fargo [WFC]   \n",
       "24                             Facebook [FB]            Yahoo Inc. [YHOO]   \n",
       "25                        Target Corp. [TGT]        Wal-Mart Stores [WMT]   \n",
       "26                         Apple Inc. [AAPL]   Bank of America Corp [BAC]   \n",
       "27                  Goldman Sachs Group [GS]            Wells Fargo [WFC]   \n",
       "28                         Apple Inc. [AAPL]           Citigroup Inc. [C]   \n",
       "29                         Apple Inc. [AAPL]   JPMorgan Chase & Co. [JPM]   \n",
       "..                                       ...                          ...   \n",
       "70                       General Motors [GM]   JPMorgan Chase & Co. [JPM]   \n",
       "71                         Apple Inc. [AAPL]       Caterpillar Inc. [CAT]   \n",
       "72                           BlackRock [BLK]   JPMorgan Chase & Co. [JPM]   \n",
       "73     International Business Machines [IBM]       Microsoft Corp. [MSFT]   \n",
       "74                           CBS Corp. [CBS]            News Corp. [NWSA]   \n",
       "75                         Apple Inc. [AAPL]          Boeing Company [BA]   \n",
       "76                 American Express Co [AXP]           Citigroup Inc. [C]   \n",
       "77                       General Motors [GM]     Goldman Sachs Group [GS]   \n",
       "78                        Citigroup Inc. [C]       Microsoft Corp. [MSFT]   \n",
       "79                Bank of America Corp [BAC]           Intel Corp. [INTC]   \n",
       "80                    Comcast A Corp [CMCSA]                 AT&T Inc [T]   \n",
       "81                         Apple Inc. [AAPL]         Cisco Systems [CSCO]   \n",
       "82                         Apple Inc. [AAPL]        Wal-Mart Stores [WMT]   \n",
       "83                Bank of America Corp [BAC]       Caterpillar Inc. [CAT]   \n",
       "84                     General Electric [GE]    United Technologies [UTX]   \n",
       "85                        Citigroup Inc. [C]                Facebook [FB]   \n",
       "86                         Apple Inc. [AAPL]  Verizon Communications [VZ]   \n",
       "87                    Caterpillar Inc. [CAT]        General Electric [GE]   \n",
       "88  American International Group, Inc. [AIG]     Goldman Sachs Group [GS]   \n",
       "89                           BlackRock [BLK]           Citigroup Inc. [C]   \n",
       "90                       Boeing Company [BA]       Caterpillar Inc. [CAT]   \n",
       "91                         News Corp. [NWSA]       Time Warner Inc. [TWX]   \n",
       "92                Bank of America Corp [BAC]   Berkshire Hathaway [BRK.B]   \n",
       "93                      Cisco Systems [CSCO]       Microsoft Corp. [MSFT]   \n",
       "94                         Apple Inc. [AAPL]            News Corp. [NWSA]   \n",
       "95     International Business Machines [IBM]           Intel Corp. [INTC]   \n",
       "96                     General Electric [GE]       Microsoft Corp. [MSFT]   \n",
       "97                         Apple Inc. [AAPL]          Oracle Corp. [ORCL]   \n",
       "98                  Goldman Sachs Group [GS]           Intel Corp. [INTC]   \n",
       "99                    Microsoft Corp. [MSFT]            News Corp. [NWSA]   \n",
       "\n",
       "    Articles  \n",
       "0       3132  \n",
       "1       2951  \n",
       "2       2679  \n",
       "3       2292  \n",
       "4       2093  \n",
       "5       2031  \n",
       "6       1965  \n",
       "7       1915  \n",
       "8       1613  \n",
       "9       1504  \n",
       "10      1480  \n",
       "11      1440  \n",
       "12      1439  \n",
       "13      1205  \n",
       "14      1157  \n",
       "15      1101  \n",
       "16       848  \n",
       "17       761  \n",
       "18       701  \n",
       "19       691  \n",
       "20       656  \n",
       "21       622  \n",
       "22       607  \n",
       "23       588  \n",
       "24       547  \n",
       "25       531  \n",
       "26       501  \n",
       "27       471  \n",
       "28       467  \n",
       "29       446  \n",
       "..       ...  \n",
       "70       220  \n",
       "71       219  \n",
       "72       217  \n",
       "73       214  \n",
       "74       212  \n",
       "75       211  \n",
       "76       209  \n",
       "77       208  \n",
       "78       207  \n",
       "79       205  \n",
       "80       205  \n",
       "81       202  \n",
       "82       202  \n",
       "83       202  \n",
       "84       201  \n",
       "85       199  \n",
       "86       198  \n",
       "87       196  \n",
       "88       195  \n",
       "89       195  \n",
       "90       193  \n",
       "91       192  \n",
       "92       191  \n",
       "93       190  \n",
       "94       187  \n",
       "95       186  \n",
       "96       185  \n",
       "97       184  \n",
       "98       184  \n",
       "99       184  \n",
       "\n",
       "[100 rows x 3 columns]"
      ]
     },
     "execution_count": 280,
     "metadata": {},
     "output_type": "execute_result"
    },
    {
     "name": "stdout",
     "output_type": "stream",
     "text": [
      "time: 983 ms\n"
     ]
    }
   ],
   "source": [
    "top = coocs.stack()\n",
    "top.index.levels[0].name = 'Comp A'\n",
    "top.index.levels[1].name = 'Comp B'\n",
    "top = top[[p[0] < p[1] for p, v in top.iteritems()]].nlargest(100)\n",
    "# print('\\n'.join([\n",
    "#     f\"'{securities_ds.get_company_name(pair[0])}[{pair[0]}]' and '{securities_ds.get_company_name(pair[1])}[{pair[1]}]' occur in {value} articles\"\n",
    "#     for pair, value in top.nlargest(10).iteritems()]))\n",
    "top = top.reset_index()\n",
    "top.columns = list(top.columns[:2]) + ['Articles']\n",
    "top['Comp A'] = [f'{securities_ds.get_company_name(x)} [{x}]' for x in top['Comp A']]\n",
    "top['Comp B'] = [f'{securities_ds.get_company_name(x)} [{x}]' for x in top['Comp B']]\n",
    "top"
   ]
  },
  {
   "cell_type": "markdown",
   "metadata": {},
   "source": [
    "## Reading and analysing high important articles"
   ]
  },
  {
   "cell_type": "code",
   "execution_count": null,
   "metadata": {},
   "outputs": [],
   "source": [
    "def get_article(idx):\n",
    "    return pd.read_csv(BLOOMBERG, skiprows=idx, nrows=1, index_col=0).loc[idx][2]\n",
    "\n",
    "reuters = pd.read_csv(REUTERS, index_col=0)\n",
    "reuters = reuters[reuters['content'].notna()]\n",
    "# bloomberg = pd.read_csv(BLOOMBERG, index_col=0)"
   ]
  }
 ],
 "metadata": {
  "kernelspec": {
   "display_name": "Python 3",
   "language": "python",
   "name": "python3"
  },
  "language_info": {
   "codemirror_mode": {
    "name": "ipython",
    "version": 3
   },
   "file_extension": ".py",
   "mimetype": "text/x-python",
   "name": "python",
   "nbconvert_exporter": "python",
   "pygments_lexer": "ipython3",
   "version": "3.6.0"
  },
  "notify_time": "5"
 },
 "nbformat": 4,
 "nbformat_minor": 2
}
