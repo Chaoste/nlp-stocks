{
 "cells": [
  {
   "cell_type": "code",
   "execution_count": 1,
   "metadata": {},
   "outputs": [
    {
     "name": "stderr",
     "output_type": "stream",
     "text": [
      "c:\\users\\thomas\\hpi\\ma\\venv\\lib\\importlib\\_bootstrap.py:205: RuntimeWarning: cymem.cymem.Pool size changed, may indicate binary incompatibility. Expected 48 from C header, got 64 from PyObject\n",
      "  return f(*args, **kwds)\n",
      "c:\\users\\thomas\\hpi\\ma\\venv\\lib\\importlib\\_bootstrap.py:205: RuntimeWarning: cymem.cymem.Address size changed, may indicate binary incompatibility. Expected 24 from C header, got 40 from PyObject\n",
      "  return f(*args, **kwds)\n",
      "c:\\users\\thomas\\hpi\\ma\\venv\\lib\\importlib\\_bootstrap.py:205: RuntimeWarning: cymem.cymem.Pool size changed, may indicate binary incompatibility. Expected 48 from C header, got 64 from PyObject\n",
      "  return f(*args, **kwds)\n",
      "c:\\users\\thomas\\hpi\\ma\\venv\\lib\\importlib\\_bootstrap.py:205: RuntimeWarning: cymem.cymem.Address size changed, may indicate binary incompatibility. Expected 24 from C header, got 40 from PyObject\n",
      "  return f(*args, **kwds)\n"
     ]
    }
   ],
   "source": [
    "import os\n",
    "import re\n",
    "import glob\n",
    "from datetime import datetime\n",
    "import sys\n",
    "sys.path.append(\"..\") # Adds higher directory to python modules path for importing from src dir\n",
    "\n",
    "import pandas as pd\n",
    "import numpy as np\n",
    "import tqdm\n",
    "import matplotlib\n",
    "from matplotlib import pyplot as plt\n",
    "from tqdm import tqdm_notebook as tqdm\n",
    "\n",
    "import spacy\n",
    "from spacy import displacy\n",
    "from collections import Counter\n",
    "import en_core_web_sm\n",
    "nlp = en_core_web_sm.load()\n",
    "\n",
    "%matplotlib inline\n",
    "%load_ext autotime\n",
    "%load_ext autoreload\n",
    "%autoreload 2"
   ]
  },
  {
   "cell_type": "code",
   "execution_count": 2,
   "metadata": {},
   "outputs": [
    {
     "name": "stdout",
     "output_type": "stream",
     "text": [
      "time: 164 ms\n"
     ]
    }
   ],
   "source": [
    "HOME = \"..\"\n",
    "DATA_DIR = \"data\"\n",
    "REUTERS = os.path.join(HOME, DATA_DIR, \"preprocessed\", \"news_reuters.csv\")\n",
    "BLOOMBERG = os.path.join(HOME, DATA_DIR, \"preprocessed\", \"news_bloomberg.csv\")\n",
    "NEWS = os.path.join(HOME, DATA_DIR, \"preprocessed\", \"news.csv\")\n",
    "# Columns: 'date', 'filename', 'content'"
   ]
  },
  {
   "cell_type": "markdown",
   "metadata": {},
   "source": [
    "### Get companies"
   ]
  },
  {
   "cell_type": "code",
   "execution_count": 3,
   "metadata": {},
   "outputs": [
    {
     "name": "stdout",
     "output_type": "stream",
     "text": [
      "time: 1.01 s\n"
     ]
    }
   ],
   "source": [
    "from src.datasets import NyseSecuritiesDataset\n",
    "from src.datasets import NyseStocksDataset\n",
    "import src.nlp_utils as nlp_utils"
   ]
  },
  {
   "cell_type": "code",
   "execution_count": 24,
   "metadata": {},
   "outputs": [
    {
     "data": {
      "application/vnd.jupyter.widget-view+json": {
       "model_id": "c0a1fa3398a3498185dd56825ba8f9d1",
       "version_major": 2,
       "version_minor": 0
      },
      "text/plain": [
       "HBox(children=(IntProgress(value=0, max=501), HTML(value='')))"
      ]
     },
     "metadata": {},
     "output_type": "display_data"
    },
    {
     "name": "stdout",
     "output_type": "stream",
     "text": [
      "\n",
      "time: 16.2 s\n"
     ]
    }
   ],
   "source": [
    "stocks_ds = NyseStocksDataset(file_path='../data/nyse/prices-split-adjusted.csv')\n",
    "securities_ds = NyseSecuritiesDataset(file_path='../data/nyse/securities.csv')\n",
    "companies = securities_ds.get_all_company_names()  # List[Tuple[symbol, name]]\n",
    "stocks_ds.load()"
   ]
  },
  {
   "cell_type": "markdown",
   "metadata": {},
   "source": [
    "Reuters:\n",
    "- 106519 articles\n",
    "- From 2006-10-20 to 2013-11-20\n",
    "- 45363 before 2010-01-04\n",
    "\n",
    "Bloomberg:\n",
    "- 448395 articles\n",
    "- From 2006-10-20 to 2013-11-26\n",
    "- 1148 before 2010-01-04\n",
    "\n",
    "Nyse:\n",
    "- From 2010-01-04 to 2016-12-30"
   ]
  },
  {
   "cell_type": "code",
   "execution_count": null,
   "metadata": {},
   "outputs": [],
   "source": [
    "dates_r = pd.read_csv(REUTERS, usecols=[0, 1], index_col=0)\n",
    "dates_r['date'] = pd.to_datetime(dates_r['date'], errors='coerce')\n",
    "dates_r['date'].hist()\n",
    "print(sum(dates_r['date'] <= pd.to_datetime('2010-01-04')))"
   ]
  },
  {
   "cell_type": "code",
   "execution_count": null,
   "metadata": {},
   "outputs": [],
   "source": [
    "dates_b = pd.read_csv(BLOOMBERG, usecols=[0, 1], index_col=0)\n",
    "dates_b['date'] = pd.to_datetime(dates_b['date'], errors='coerce')\n",
    "dates_b['date'].hist()\n",
    "print(sum(dates_b['date'] <= pd.to_datetime('2010-01-04')))"
   ]
  },
  {
   "cell_type": "markdown",
   "metadata": {},
   "source": [
    "# Multi Run"
   ]
  },
  {
   "cell_type": "markdown",
   "metadata": {},
   "source": [
    "#### Before NYSE\n",
    "- All from Reuters and Bloomberg before first entry of NYSE dataset\n",
    "- 45363 article from Reuters\n",
    "- 1148 articles from Bloomber\n",
    "- Resulted in about 102.735 company occurrences\n",
    "- `./occurrences-before-nyse.csv` [3.9 MB]"
   ]
  },
  {
   "cell_type": "markdown",
   "metadata": {},
   "source": [
    "#### Reuters\n",
    "\n",
    "- Took 53h (2d 2h 58min 18s)\n",
    "- Analysed 106.519 articles (106.494 included content)\n",
    "- Resulted in 217.518 company occurrences\n",
    "- ... in 52.210 different articles\n",
    "- `./occurrences-reuters.csv`[8.5 MB]"
   ]
  },
  {
   "cell_type": "code",
   "execution_count": 5,
   "metadata": {},
   "outputs": [
    {
     "name": "stdout",
     "output_type": "stream",
     "text": [
      "106519\n",
      "106494\n",
      "time: 5.72 s\n"
     ]
    }
   ],
   "source": [
    "reuters = pd.read_csv(REUTERS, index_col=0)  # nrows=45363\n",
    "print(len(reuters))\n",
    "reuters = reuters[reuters['content'].notna()]\n",
    "print(len(reuters))"
   ]
  },
  {
   "cell_type": "code",
   "execution_count": null,
   "metadata": {},
   "outputs": [],
   "source": [
    "results = pd.DataFrame(\n",
    "    index=range(5 * len(reuters)),\n",
    "    columns=['article_id', 'stock_symbol', 'match_text', 'start_idx', 'end_idx'])\n",
    "counter = 0"
   ]
  },
  {
   "cell_type": "code",
   "execution_count": null,
   "metadata": {
    "scrolled": true
   },
   "outputs": [],
   "source": [
    "pbar = tqdm(reuters.iterrows(), total=len(reuters))\n",
    "for i, article in pbar:\n",
    "    # One full article takes about 7 seconds\n",
    "    found_entities = nlp_utils.find_nyse_corporations(article[2], quiet=True)\n",
    "    for ent, symbol in found_entities:\n",
    "        results.iloc[counter] = (f'r{i}', symbol, ent.text, ent.start_char, ent.end_char)\n",
    "        counter += 1\n",
    "    if (counter % 500) + len(found_entities) != (counter + len(found_entities)) % 500:\n",
    "        results.dropna().to_csv('occurrences-reuters.csv')\n",
    "        pbar.set_description(f\"Stored {counter} entries\")\n",
    "results.dropna().to_csv('occurrences-reuters.csv')"
   ]
  },
  {
   "cell_type": "markdown",
   "metadata": {},
   "source": [
    "#### Bloomberg\n",
    "- Took ?\n",
    "- Analysed 448.395 articles (447.769 included content)\n",
    "- Resulted in ? company occurrences\n",
    "- ... in ? different articles\n",
    "- `./occurrences-bloomberg.csv` [? MB]"
   ]
  },
  {
   "cell_type": "code",
   "execution_count": 6,
   "metadata": {
    "scrolled": true
   },
   "outputs": [
    {
     "name": "stdout",
     "output_type": "stream",
     "text": [
      "448395\n",
      "time: 25.7 s\n"
     ]
    }
   ],
   "source": [
    "bloombergs = pd.read_csv(BLOOMBERG, index_col=0)  # nrows=1148\n",
    "print(len(bloombergs))\n",
    "# bloombergs = bloombergs[bloombergs['content'].notna()]\n",
    "# print(len(bloombergs))"
   ]
  },
  {
   "cell_type": "code",
   "execution_count": 33,
   "metadata": {},
   "outputs": [
    {
     "name": "stdout",
     "output_type": "stream",
     "text": [
      "time: 1.25 s\n"
     ]
    }
   ],
   "source": [
    "results = pd.DataFrame(\n",
    "    index=range(10 * len(bloombergs)),\n",
    "    columns=['article_id', 'stock_symbol', 'match_text', 'start_idx', 'end_idx'])"
   ]
  },
  {
   "cell_type": "code",
   "execution_count": 52,
   "metadata": {},
   "outputs": [
    {
     "name": "stdout",
     "output_type": "stream",
     "text": [
      "time: 34.2 ms\n"
     ]
    }
   ],
   "source": [
    "# _results = pd.read_csv('occurrences-bloomberg.csv', index_col=0)\n",
    "# print(results.shape, _results.shape)\n",
    "# results.iloc[:len(_results)] = _results\n",
    "# TODO: set start to last article id"
   ]
  },
  {
   "cell_type": "code",
   "execution_count": 94,
   "metadata": {},
   "outputs": [
    {
     "name": "stdout",
     "output_type": "stream",
     "text": [
      "time: 28.2 ms\n"
     ]
    }
   ],
   "source": [
    "# x = results2.iloc[:counter]\n",
    "# x.index = x.index + 34996\n",
    "# results.iloc[34996:34996+counter] = x"
   ]
  },
  {
   "cell_type": "code",
   "execution_count": null,
   "metadata": {
    "scrolled": true
   },
   "outputs": [
    {
     "data": {
      "application/vnd.jupyter.widget-view+json": {
       "model_id": "231abbc562e44fdaa943b05544aabdf5",
       "version_major": 2,
       "version_minor": 0
      },
      "text/plain": [
       "HBox(children=(IntProgress(value=0, max=400308), HTML(value='')))"
      ]
     },
     "metadata": {},
     "output_type": "display_data"
    },
    {
     "name": "stdout",
     "output_type": "stream",
     "text": [
      "Stored 49003 entries\n",
      "Stored 50000 entries\n",
      "Stored 51006 entries\n"
     ]
    },
    {
     "name": "stderr",
     "output_type": "stream",
     "text": [
      "IOPub message rate exceeded.\n",
      "The notebook server will temporarily stop sending output\n",
      "to the client in order to avoid crashing it.\n",
      "To change this limit, set the config variable\n",
      "`--NotebookApp.iopub_msg_rate_limit`.\n",
      "\n",
      "Current values:\n",
      "NotebookApp.iopub_msg_rate_limit=1000.0 (msgs/sec)\n",
      "NotebookApp.rate_limit_window=3.0 (secs)\n",
      "\n"
     ]
    },
    {
     "name": "stdout",
     "output_type": "stream",
     "text": [
      "Stored 53002 entries\n"
     ]
    },
    {
     "name": "stderr",
     "output_type": "stream",
     "text": [
      "IOPub message rate exceeded.\n",
      "The notebook server will temporarily stop sending output\n",
      "to the client in order to avoid crashing it.\n",
      "To change this limit, set the config variable\n",
      "`--NotebookApp.iopub_msg_rate_limit`.\n",
      "\n",
      "Current values:\n",
      "NotebookApp.iopub_msg_rate_limit=1000.0 (msgs/sec)\n",
      "NotebookApp.rate_limit_window=3.0 (secs)\n",
      "\n"
     ]
    },
    {
     "name": "stdout",
     "output_type": "stream",
     "text": [
      "Stored 55001 entries\n",
      "Stored 56011 entries\n"
     ]
    },
    {
     "name": "stderr",
     "output_type": "stream",
     "text": [
      "IOPub message rate exceeded.\n",
      "The notebook server will temporarily stop sending output\n",
      "to the client in order to avoid crashing it.\n",
      "To change this limit, set the config variable\n",
      "`--NotebookApp.iopub_msg_rate_limit`.\n",
      "\n",
      "Current values:\n",
      "NotebookApp.iopub_msg_rate_limit=1000.0 (msgs/sec)\n",
      "NotebookApp.rate_limit_window=3.0 (secs)\n",
      "\n"
     ]
    },
    {
     "name": "stdout",
     "output_type": "stream",
     "text": [
      "Stored 58000 entries\n"
     ]
    },
    {
     "name": "stderr",
     "output_type": "stream",
     "text": [
      "IOPub message rate exceeded.\n",
      "The notebook server will temporarily stop sending output\n",
      "to the client in order to avoid crashing it.\n",
      "To change this limit, set the config variable\n",
      "`--NotebookApp.iopub_msg_rate_limit`.\n",
      "\n",
      "Current values:\n",
      "NotebookApp.iopub_msg_rate_limit=1000.0 (msgs/sec)\n",
      "NotebookApp.rate_limit_window=3.0 (secs)\n",
      "\n"
     ]
    },
    {
     "name": "stdout",
     "output_type": "stream",
     "text": [
      "Stored 60001 entries\n",
      "Stored 61000 entries\n"
     ]
    },
    {
     "name": "stderr",
     "output_type": "stream",
     "text": [
      "IOPub message rate exceeded.\n",
      "The notebook server will temporarily stop sending output\n",
      "to the client in order to avoid crashing it.\n",
      "To change this limit, set the config variable\n",
      "`--NotebookApp.iopub_msg_rate_limit`.\n",
      "\n",
      "Current values:\n",
      "NotebookApp.iopub_msg_rate_limit=1000.0 (msgs/sec)\n",
      "NotebookApp.rate_limit_window=3.0 (secs)\n",
      "\n"
     ]
    },
    {
     "name": "stdout",
     "output_type": "stream",
     "text": [
      "Stored 63001 entries\n"
     ]
    },
    {
     "name": "stderr",
     "output_type": "stream",
     "text": [
      "IOPub message rate exceeded.\n",
      "The notebook server will temporarily stop sending output\n",
      "to the client in order to avoid crashing it.\n",
      "To change this limit, set the config variable\n",
      "`--NotebookApp.iopub_msg_rate_limit`.\n",
      "\n",
      "Current values:\n",
      "NotebookApp.iopub_msg_rate_limit=1000.0 (msgs/sec)\n",
      "NotebookApp.rate_limit_window=3.0 (secs)\n",
      "\n"
     ]
    },
    {
     "name": "stdout",
     "output_type": "stream",
     "text": [
      "Stored 65012 entries\n",
      "Stored 66000 entries\n",
      "Stored 67001 entries\n"
     ]
    }
   ],
   "source": [
    "# start = 0\n",
    "# start = 48087\n",
    "counter = start\n",
    "pbar = tqdm(bloombergs.iloc[start:].iterrows(), total=len(bloombergs)-start)\n",
    "for i, article in pbar:\n",
    "    if article.content is np.nan:\n",
    "        continue\n",
    "    # One full article takes about 7 seconds\n",
    "    found_entities = nlp_utils.find_nyse_corporations(article.content, quiet=True)\n",
    "    \n",
    "    for ent, symbol in found_entities:\n",
    "        results.iloc[counter] = (f'b{i}', symbol, ent.text, ent.start_char, ent.end_char)\n",
    "        counter += 1\n",
    "    if (counter % 1000) - len(found_entities) != (counter - len(found_entities)) % 1000:\n",
    "        results.dropna().to_csv('occurrences-bloomberg.csv')\n",
    "        pbar.set_description(f\"Stored {counter} entries\")\n",
    "        print(f\"Stored {counter} entries\")\n",
    "results.dropna().to_csv('occurrences-bloomberg.csv')"
   ]
  },
  {
   "cell_type": "markdown",
   "metadata": {},
   "source": [
    "## Remove headlines from articles and the found entities"
   ]
  },
  {
   "cell_type": "code",
   "execution_count": 9,
   "metadata": {},
   "outputs": [
    {
     "name": "stdout",
     "output_type": "stream",
     "text": [
      "Reuters Articles 106494\n",
      "Bloomberg Articles 447378\n",
      "time: 20.7 s\n"
     ]
    }
   ],
   "source": [
    "reuters = pd.read_csv(REUTERS, index_col=0)\n",
    "reuters = reuters[reuters.content.notna()]\n",
    "print('Reuters Articles', len(reuters))\n",
    "reuters['title_start_idx'] = 0\n",
    "reuters['title_end_idx'] = 0\n",
    "reuters['head_end_idx'] = 0\n",
    "\n",
    "# Don't remove entries with empty content because the bb occurrences are matching the original index values\n",
    "bloombergs = pd.read_csv(BLOOMBERG, index_col=0)\n",
    "bloombergs['title_start_idx'] = 0\n",
    "bloombergs['title_end_idx'] = 0\n",
    "bloombergs['head_end_idx'] = 0\n",
    "\n",
    "# The articles keep their IDs which is necessary for matching them with the occurrences\n",
    "# Both are not necessary for reuters\n",
    "bloombergs = bloombergs[bloombergs.content.notna()]  # 626 article with empty content, e.g. b821, b822, b835, ..., b382080\n",
    "# Regex wouldn't match because only the title's existing: e.g. b19841, b7498, b8401, b11860 (so far all have below 100 chars)\n",
    "# For reuters there are always more than 100 chars, but sometimes only the meta data (~1000 entries)\n",
    "bloombergs = bloombergs[bloombergs.content.str.len() > 100]  # 391 articles, regexes wouldn't match\n",
    "print('Bloomberg Articles', len(bloombergs))"
   ]
  },
  {
   "cell_type": "markdown",
   "metadata": {},
   "source": [
    "#### Data Cleansing"
   ]
  },
  {
   "cell_type": "code",
   "execution_count": 10,
   "metadata": {
    "scrolled": true
   },
   "outputs": [
    {
     "name": "stdout",
     "output_type": "stream",
     "text": [
      "time: 416 ms\n"
     ]
    }
   ],
   "source": [
    "orig_occ_r = pd.read_csv('occurrences-reuters.csv', index_col=0)\n",
    "x = orig_occ_r\n",
    "# All 3406 links in reuters articles are those in the header for the article link (and one in r49915 to uscourts.gov)\n",
    "x = x[~x.match_text.str.contains('www.')]\n",
    "orig_occ_r = x"
   ]
  },
  {
   "cell_type": "code",
   "execution_count": 11,
   "metadata": {},
   "outputs": [
    {
     "name": "stdout",
     "output_type": "stream",
     "text": [
      "(291934, 5)\n",
      "122 out of 111783 links are left\n",
      "time: 1.85 s\n"
     ]
    }
   ],
   "source": [
    "orig_occ_b = pd.read_csv('occurrences-bloomberg.csv', index_col=0)\n",
    "# BB: Links starting before inde 400 are eiter \"http://ww.bloomberg...\" or \"Ministry of Economy, Trade and Industry  http://www.meti.go.jp\"\n",
    "x = orig_occ_b\n",
    "x = x[~x.match_text.str.contains(\"Ministry of Economy, Trade and Industry\")]\n",
    "x = x[~x.match_text.str.contains('http:') | (x.start_idx > 300)]\n",
    "print(x.shape)\n",
    "print(f'{x.match_text.str.contains(\"http:\").sum()} out of {orig_occ_b.match_text.str.contains(\"http:\").sum()} links are left')\n",
    "orig_occ_b = x"
   ]
  },
  {
   "cell_type": "markdown",
   "metadata": {},
   "source": [
    "#### Filter matches from header"
   ]
  },
  {
   "cell_type": "code",
   "execution_count": 14,
   "metadata": {},
   "outputs": [
    {
     "name": "stdout",
     "output_type": "stream",
     "text": [
      "time: 23 ms\n"
     ]
    }
   ],
   "source": [
    "# remove_meta = re.compile(r'(--.*\\n)+[\\n\\s]*')\n",
    "remove_meta = re.compile(r'-- (.*)\\n(?:--.*\\n)+[\\n\\s]*')\n",
    "# remove_meta_2 = re.compile(r'[\\s\\S]*(--.*\\n)(?:(?:[^-]-[^-]|[^-])*\\n){4,}')\n",
    "remove_meta_2 = re.compile(r'[\\s\\S]{0,250}(--.*\\.html\\s*\\n)(?:[^-](?:-[^-])*|-(?:[^-]-)*){250}')\n",
    "\n",
    "def filter_meta_matches(r, article, article_id):\n",
    "    # If there's no occurence in this article, we're done\n",
    "    if not len(r[r.article_id == article_id]):\n",
    "        return r\n",
    "    match = remove_meta.match(article.content)\n",
    "    if match:\n",
    "        article.title_start_idx = match.start(1)\n",
    "        article.title_end_idx = match.end(1)\n",
    "        article.head_end_idx = match.end()\n",
    "        return r[(r.article_id != article_id) | (r.start_idx >= article.head_end_idx) |\n",
    "             (r.start_idx.between(article.title_start_idx, article.title_end_idx) &\n",
    "             r.end_idx.between(article.title_start_idx, article.title_end_idx))]\n",
    "    match = remove_meta_2.match(article.content)\n",
    "    if match:\n",
    "        article.title_start_idx = -1\n",
    "        article.title_end_idx = -1\n",
    "        article.head_end_idx = match.end(1)\n",
    "        return r[(r.article_id != article_id) | (r.start_idx >= article.head_end_idx)]\n",
    "    print(f\"No regex worked for article {article_id}\")\n",
    "    return r"
   ]
  },
  {
   "cell_type": "code",
   "execution_count": 16,
   "metadata": {
    "scrolled": true
   },
   "outputs": [
    {
     "name": "stdout",
     "output_type": "stream",
     "text": [
      "Before - Reuters: (214112, 5)\n"
     ]
    },
    {
     "data": {
      "application/vnd.jupyter.widget-view+json": {
       "model_id": "1eca16be8ae54228809faf82c4181846",
       "version_major": 2,
       "version_minor": 0
      },
      "text/plain": [
       "HBox(children=(IntProgress(value=0, max=106494), HTML(value='')))"
      ]
     },
     "metadata": {},
     "output_type": "display_data"
    },
    {
     "name": "stdout",
     "output_type": "stream",
     "text": [
      "After - Reuters: (214109, 5)\n",
      "time: 58min 28s\n"
     ]
    }
   ],
   "source": [
    "occ_r = orig_occ_r\n",
    "print('Before - Reuters:', orig_occ_r.shape)\n",
    "\n",
    "for i, article in tqdm(reuters.iterrows(), total=len(reuters)):\n",
    "    occ_r = filter_meta_matches(occ_r, article, f'r{i}')\n",
    "\n",
    "print('After - Reuters:', occ_r.shape)\n",
    "# Reduced from 214112 to 214109\n",
    "occ_r.to_csv('occurrences-reuters-v2.csv')"
   ]
  },
  {
   "cell_type": "code",
   "execution_count": 15,
   "metadata": {
    "scrolled": true
   },
   "outputs": [
    {
     "name": "stdout",
     "output_type": "stream",
     "text": [
      "Before - Bloomberg: (291934, 5)\n"
     ]
    },
    {
     "data": {
      "application/vnd.jupyter.widget-view+json": {
       "model_id": "71aefb4f2d2f4bf38416102a7525b8a9",
       "version_major": 2,
       "version_minor": 0
      },
      "text/plain": [
       "HBox(children=(IntProgress(value=0, max=447378), HTML(value='')))"
      ]
     },
     "metadata": {},
     "output_type": "display_data"
    },
    {
     "name": "stdout",
     "output_type": "stream",
     "text": [
      "No regex worked for article b69482\n",
      "No regex worked for article b76189\n",
      "No regex worked for article b83057\n",
      "No regex worked for article b88059\n",
      "No regex worked for article b97550\n",
      "No regex worked for article b98027\n",
      "No regex worked for article b100132\n",
      "No regex worked for article b107901\n",
      "No regex worked for article b113886\n",
      "No regex worked for article b124492\n",
      "No regex worked for article b134323\n",
      "No regex worked for article b136283\n",
      "No regex worked for article b151695\n",
      "No regex worked for article b163888\n",
      "No regex worked for article b164659\n",
      "No regex worked for article b164663\n",
      "No regex worked for article b166778\n",
      "No regex worked for article b166962\n",
      "No regex worked for article b173433\n",
      "No regex worked for article b176106\n",
      "No regex worked for article b176183\n",
      "No regex worked for article b181211\n",
      "No regex worked for article b185876\n",
      "After - Bloomberg: (287426, 5)\n",
      "time: 4h 10min 56s\n"
     ]
    }
   ],
   "source": [
    "occ_b = orig_occ_b\n",
    "print('Before - Bloomberg:', orig_occ_b.shape)\n",
    "# Fails: b69482, b76189, b83057, b88059, b97550, b98027, b100132, b107901, b113886, b124492, b134323, b136283, b151695, b163888, b164659, b164663, b166778, b166962, b173433, b176106, b176183, b181211, b185876\n",
    "for i, article in tqdm(bloombergs.iterrows(), total=len(bloombergs)):\n",
    "    occ_b = filter_meta_matches(occ_b, article, f'b{i}')\n",
    "print('After - Bloomberg:', occ_b.shape)\n",
    "# Reduced from 403596 to , from 111778 links to links (which are not in the header)\n",
    "occ_b.to_csv('occurrences-bloomberg-v2.csv')"
   ]
  },
  {
   "cell_type": "markdown",
   "metadata": {},
   "source": [
    "### Apply on Reuters Article"
   ]
  },
  {
   "cell_type": "code",
   "execution_count": 322,
   "metadata": {
    "scrolled": true
   },
   "outputs": [
    {
     "name": "stdout",
     "output_type": "stream",
     "text": [
      "time: 943 ms\n"
     ]
    }
   ],
   "source": [
    "# idxmax reuters: 61727  (FB 26, MSFT 1, NWSA 44, NWS 44, YHOO 1)\n",
    "reuters = pd.read_csv(REUTERS, skiprows=61727, nrows=1, index_col=0)\n",
    "# print(reuters.loc[61727][2])"
   ]
  },
  {
   "cell_type": "code",
   "execution_count": 6,
   "metadata": {},
   "outputs": [
    {
     "name": "stdout",
     "output_type": "stream",
     "text": [
      "Counter({'ORG': 234, 'PERSON': 117, 'DATE': 76, 'CARDINAL': 33, 'GPE': 26, 'MONEY': 15, 'ORDINAL': 13, 'PERCENT': 7, 'FAC': 4, 'LOC': 3, 'NORP': 2, 'TIME': 1, 'PRODUCT': 1, 'WORK_OF_ART': 1})\n",
      "Counter({'Myspace': 100, 'News Corp': 34, 'Facebook': 24, \"News Corp's\": 8, 'Google': 5, 'Viacom': 4, 'Reuters': 3, 'Allen & Co': 2, 'Sony Music': 2, 'Yahoo': 2, 'Microsoft': 2, 'AOL': 2, 'Miller': 2, 'Museum of Modern Art': 1, 'Austin Ventures': 1, 'Universal Music': 1, 'Abu Dhabi Holdings': 1, 'FAILURES Plenty': 1, 'AOL-Time Warner': 1, 'Delphi': 1, 'Fox Interactive Media': 1, 'MarketWatch': 1, 'Career Search': 1, 'IGN': 1, 'CNET': 1, 'Intermix Media': 1, 'Redpoint Ventures': 1, 'Intermix': 1, 'Redstone': 1, 'Freston': 1, 'News Corp.': 1, 'FarmVille': 1, 'BTIG': 1, 'Fox Interactive': 1, 'TOM': 1, 'Dow Jones': 1, 'the Wall Street Journal': 1, \"Microsoft Corp's\": 1, 'Yahoo Inc.': 1, 'Universal Music Group': 1, 'Warner Music Group': 1, 'EMI Music': 1, 'Myspace Music': 1, 'Paris Hilton': 1, 'Chernin': 1, 'Time Warner': 1, 'MILLER': 1, 'MTV': 1, 'Userplane': 1, 'ComScore': 1, 'MANAGEMENT MUSICAL CHAIRS': 1, 'Chase': 1, 'OUT OF TIME': 1, 'The Daily': 1, 'Apple': 1, 'iPad': 1, ' Claudia Parsons': 1})\n",
      "But few stuck their neck out on as high-profile an opportunity as Murdoch did with Myspace.\n"
     ]
    },
    {
     "data": {
      "text/html": [
       "<div class=\"entities\" style=\"line-height: 2.5\">But few stuck their neck out on as high-profile an opportunity as \n",
       "<mark class=\"entity\" style=\"background: #aa9cfc; padding: 0.45em 0.6em; margin: 0 0.25em; line-height: 1; border-radius: 0.35em; box-decoration-break: clone; -webkit-box-decoration-break: clone\">\n",
       "    Murdoch\n",
       "    <span style=\"font-size: 0.8em; font-weight: bold; line-height: 1; border-radius: 0.35em; text-transform: uppercase; vertical-align: middle; margin-left: 0.5rem\">PERSON</span>\n",
       "</mark>\n",
       " did with \n",
       "<mark class=\"entity\" style=\"background: #7aecec; padding: 0.45em 0.6em; margin: 0 0.25em; line-height: 1; border-radius: 0.35em; box-decoration-break: clone; -webkit-box-decoration-break: clone\">\n",
       "    Myspace\n",
       "    <span style=\"font-size: 0.8em; font-weight: bold; line-height: 1; border-radius: 0.35em; text-transform: uppercase; vertical-align: middle; margin-left: 0.5rem\">ORG</span>\n",
       "</mark>\n",
       ".</div>"
      ],
      "text/plain": [
       "<IPython.core.display.HTML object>"
      ]
     },
     "metadata": {},
     "output_type": "display_data"
    },
    {
     "name": "stdout",
     "output_type": "stream",
     "text": [
      "time: 3.04 s\n"
     ]
    }
   ],
   "source": [
    "article1 = nlp(reuters.loc[61727][2])\n",
    "labels = [x.label_ for x in article1.ents]\n",
    "print(Counter(labels))\n",
    "items = [x.text for x in article1.ents if x.label_ == 'ORG']\n",
    "print(Counter(items))  # .most_common(3)\n",
    "sentences = [x for x in article1.sents]\n",
    "print(sentences[20])\n",
    "displacy.render(nlp(str(sentences[20])), jupyter=True, style='ent')"
   ]
  },
  {
   "cell_type": "code",
   "execution_count": 7,
   "metadata": {
    "scrolled": true
   },
   "outputs": [
    {
     "data": {
      "text/plain": [
       "[['News Corp', 15, 'News Corp.'],\n",
       " ['Facebook', 9, 'Facebook'],\n",
       " [\"News Corp's\", 1, 'News Corp.'],\n",
       " ['Viacom', 3, 'Viacom Inc.'],\n",
       " ['News Corp.', 1, 'News Corp.'],\n",
       " ['Yahoo', 1, 'Yahoo Inc.'],\n",
       " ['Microsoft', 1, 'Microsoft Corp.'],\n",
       " [\"Microsoft Corp's\", 1, 'Microsoft Corp.']]"
      ]
     },
     "execution_count": 7,
     "metadata": {},
     "output_type": "execute_result"
    },
    {
     "name": "stdout",
     "output_type": "stream",
     "text": [
      "time: 1.31 s\n"
     ]
    }
   ],
   "source": [
    "counts = Counter([ent for ent, label in zip(items, labels) if label == 'ORG'])\n",
    "matches = [\n",
    "    [key, counts[key], securities_ds.get_most_similar_company(key)] for key in counts]\n",
    "matches = [x for x in matches if x[2] is not None]\n",
    "matched_stocks = dict([(x[0], x[2]) for x in matches])\n",
    "matches"
   ]
  },
  {
   "cell_type": "code",
   "execution_count": 8,
   "metadata": {},
   "outputs": [
    {
     "name": "stdout",
     "output_type": "stream",
     "text": [
      "---AOL-Time Warner--- 0.2666666805744171\n",
      "                  Name  damerau_lev\n",
      "441   Time Warner Inc.     0.266667\n",
      "72          BorgWarner     0.600000\n",
      "93              Cerner     0.666667\n",
      "172  Estee Lauder Cos.     0.666667\n",
      "5    Acuity Brands Inc     0.666667\n",
      "time: 238 ms\n"
     ]
    }
   ],
   "source": [
    "securities_ds.get_most_similar_company('AOL-Time Warner', quiet=False)"
   ]
  },
  {
   "cell_type": "code",
   "execution_count": 9,
   "metadata": {
    "scrolled": true
   },
   "outputs": [
    {
     "name": "stdout",
     "output_type": "stream",
     "text": [
      "Found ORG occurrences: 234\n",
      "Organisations after filtering:\n",
      " - ORG (NWSA): 43\n",
      " - ORG (FB): 24\n",
      " - ORG (VIAB): 4\n",
      " - ORG (YHOO): 3\n",
      " - ORG (MSFT): 3\n",
      " - ORG (TWX): 1\n",
      " - ORG (AAPL): 1\n"
     ]
    },
    {
     "data": {
      "text/html": [
       "<div class=\"entities\" style=\"line-height: 2.5\">-- Special report: How News Corp got lost in Myspace\r",
       "</br>-- By  Yinka Adegoke\r",
       "</br>-- Thu Apr 7, 2011 1:08pm EDT\r",
       "</br>-- http://www.reuters.com/article/2011/04/07/us-myspace-idUSTRE7364G420110407\r",
       "</br>\r",
       "</br> \r",
       "</br>\r",
       "</br> NEW YORK  (Reuters) - As Rupert Murdoch stepped into the Grand Ballroom of San Francisco's Palace Hotel at the Web 2.0 conference in October 2007, the developers and engineers who packed the room fell into a respectful hush. It was the sort of greeting usually reserved for one of their own tech heroes, not a 76-year-old media mogul. \r",
       "</br>\r",
       "</br> Sitting cross-legged on a red leather couch, Murdoch looked relaxed in an open-necked shirt. Next to him sat Chris De Wolfe, the co-founder of Myspace, the social network that \n",
       "<mark class=\"entity\" style=\"background: rgb(244, 202, 228); padding: 0.45em 0.6em; margin: 0 0.25em; line-height: 1; border-radius: 0.35em; box-decoration-break: clone; -webkit-box-decoration-break: clone\">\n",
       "    News Corp's\n",
       "    <span style=\"font-size: 0.8em; font-weight: bold; line-height: 1; border-radius: 0.35em; text-transform: uppercase; vertical-align: middle; margin-left: 0.5rem\">ORG (NWSA)</span>\n",
       "</mark>\n",
       " chairman had acquired for $580 million two years earlier. De Wolfe had spent weeks trying to sell Murdoch's advisers on the conference, which he saw as a kind of digital coming out party for his boss. But those close to the \n",
       "<mark class=\"entity\" style=\"background: rgb(244, 202, 228); padding: 0.45em 0.6em; margin: 0 0.25em; line-height: 1; border-radius: 0.35em; box-decoration-break: clone; -webkit-box-decoration-break: clone\">\n",
       "    News Corp\n",
       "    <span style=\"font-size: 0.8em; font-weight: bold; line-height: 1; border-radius: 0.35em; text-transform: uppercase; vertical-align: middle; margin-left: 0.5rem\">ORG (NWSA)</span>\n",
       "</mark>\n",
       " chairman worried he might embarrass himself in front of the technorati. Murdoch wasn't concerned. \"I'll do whatever we need to do for Myspace,\" he told associates. After the conference, Murdoch and De Wolfe ambled across the road to a party hosted by Myspace inside San Francisco's Museum of Modern Art. At one point, 20-odd people stood in line for a chance to speak with him. \"He was like a rock star,\" De Wolfe later told a friend. Today, Murdoch has clearly lost his affection for Myspace. In fact, \n",
       "<mark class=\"entity\" style=\"background: rgb(244, 202, 228); padding: 0.45em 0.6em; margin: 0 0.25em; line-height: 1; border-radius: 0.35em; box-decoration-break: clone; -webkit-box-decoration-break: clone\">\n",
       "    News Corp\n",
       "    <span style=\"font-size: 0.8em; font-weight: bold; line-height: 1; border-radius: 0.35em; text-transform: uppercase; vertical-align: middle; margin-left: 0.5rem\">ORG (NWSA)</span>\n",
       "</mark>\n",
       " has put the money-losing site on the block. Some believe \n",
       "<mark class=\"entity\" style=\"background: rgb(244, 202, 228); padding: 0.45em 0.6em; margin: 0 0.25em; line-height: 1; border-radius: 0.35em; box-decoration-break: clone; -webkit-box-decoration-break: clone\">\n",
       "    News Corp\n",
       "    <span style=\"font-size: 0.8em; font-weight: bold; line-height: 1; border-radius: 0.35em; text-transform: uppercase; vertical-align: middle; margin-left: 0.5rem\">ORG (NWSA)</span>\n",
       "</mark>\n",
       " might be willing to unload Myspace at a bargain price. \n",
       "<mark class=\"entity\" style=\"background: rgb(244, 202, 228); padding: 0.45em 0.6em; margin: 0 0.25em; line-height: 1; border-radius: 0.35em; box-decoration-break: clone; -webkit-box-decoration-break: clone\">\n",
       "    News Corp's\n",
       "    <span style=\"font-size: 0.8em; font-weight: bold; line-height: 1; border-radius: 0.35em; text-transform: uppercase; vertical-align: middle; margin-left: 0.5rem\">ORG (NWSA)</span>\n",
       "</mark>\n",
       " bankers Allen & Co have been approached by nearly 20 parties, including Chinese Internet holding company Tencent; Myspace's original co-founder De Wolfe backed by Austin Ventures; and the current management led by Mike Jones, who would consider a buyout if he can raise the funds, according to people with knowledge of the various plans. \n",
       "<mark class=\"entity\" style=\"background: rgb(244, 202, 228); padding: 0.45em 0.6em; margin: 0 0.25em; line-height: 1; border-radius: 0.35em; box-decoration-break: clone; -webkit-box-decoration-break: clone\">\n",
       "    News Corp\n",
       "    <span style=\"font-size: 0.8em; font-weight: bold; line-height: 1; border-radius: 0.35em; text-transform: uppercase; vertical-align: middle; margin-left: 0.5rem\">ORG (NWSA)</span>\n",
       "</mark>\n",
       " has also approached Vevo, an online music video site jointly owned by Universal Music, Sony Music and Abu Dhabi Holdings, to discuss a possible joint venture. Whatever the outcome, the nearly six-year-old marriage has become the latest example of what can happen when a traditional media company imposes its will -- and business plan -- on a start-up that has not yet reached its potential. Interviews with executives who have worked for Myspace and \n",
       "<mark class=\"entity\" style=\"background: rgb(244, 202, 228); padding: 0.45em 0.6em; margin: 0 0.25em; line-height: 1; border-radius: 0.35em; box-decoration-break: clone; -webkit-box-decoration-break: clone\">\n",
       "    News Corp\n",
       "    <span style=\"font-size: 0.8em; font-weight: bold; line-height: 1; border-radius: 0.35em; text-transform: uppercase; vertical-align: middle; margin-left: 0.5rem\">ORG (NWSA)</span>\n",
       "</mark>\n",
       " underscore a stubborn cultural divide that they say exacerbated the once dominant site's problems and hastened its decline. Myspace has now been eclipsed by a rival that Murdoch once dismissed as a \"communications utility\" -- \n",
       "<mark class=\"entity\" style=\"background: rgb(253, 205, 172); padding: 0.45em 0.6em; margin: 0 0.25em; line-height: 1; border-radius: 0.35em; box-decoration-break: clone; -webkit-box-decoration-break: clone\">\n",
       "    Facebook\n",
       "    <span style=\"font-size: 0.8em; font-weight: bold; line-height: 1; border-radius: 0.35em; text-transform: uppercase; vertical-align: middle; margin-left: 0.5rem\">ORG (FB)</span>\n",
       "</mark>\n",
       ". INTERNET FAILURES Plenty of big media companies have misfired in their bids to retool for the Internet age. But few stuck their neck out on as high-profile an opportunity as Murdoch did with Myspace. It was perhaps the most closely-analyzed media coupling since the disastrous AOL-Time Warner merger in 2001. And while the Myspace deal was relatively small for a company of \n",
       "<mark class=\"entity\" style=\"background: rgb(244, 202, 228); padding: 0.45em 0.6em; margin: 0 0.25em; line-height: 1; border-radius: 0.35em; box-decoration-break: clone; -webkit-box-decoration-break: clone\">\n",
       "    News Corp's\n",
       "    <span style=\"font-size: 0.8em; font-weight: bold; line-height: 1; border-radius: 0.35em; text-transform: uppercase; vertical-align: middle; margin-left: 0.5rem\">ORG (NWSA)</span>\n",
       "</mark>\n",
       " size, it nonetheless changed perceptions in crucial ways. \n",
       "<mark class=\"entity\" style=\"background: rgb(244, 202, 228); padding: 0.45em 0.6em; margin: 0 0.25em; line-height: 1; border-radius: 0.35em; box-decoration-break: clone; -webkit-box-decoration-break: clone\">\n",
       "    News Corp\n",
       "    <span style=\"font-size: 0.8em; font-weight: bold; line-height: 1; border-radius: 0.35em; text-transform: uppercase; vertical-align: middle; margin-left: 0.5rem\">ORG (NWSA)</span>\n",
       "</mark>\n",
       " came to be seen as a company of the future, while social media was suddenly considered a serious business opportunity. Before Myspace, Murdoch had a checkered history in the digital arena. He pursued a rash of unsuccessful investments in the nineties -- including Internet service provider Delphi and a Web portal attempt called iGuide -- after his younger son James introduced him to the Web. For a time following those mishaps, he seemed to shun the Internet altogether. Then in late in 2004, people close to him say, he had a change of heart. Murdoch shifted tactics. He set aside a war chest of $2 billion and handpicked a team of young executives to look at possible ways to use the Web as a distribution platform. That team was composed of four rising stars: Ross Levinsohn, Adam Bain, Travis Katz and Michael Kirby. They became the backbone of Fox Interactive Media. Right away, they identified several targets including business news site MarketWatch, Career Search, games network IGN and tech news site CNET. \"But Myspace was the one they thought was the most intriguing with the highest risk and likely best reward,\" said a former \n",
       "<mark class=\"entity\" style=\"background: rgb(244, 202, 228); padding: 0.45em 0.6em; margin: 0 0.25em; line-height: 1; border-radius: 0.35em; box-decoration-break: clone; -webkit-box-decoration-break: clone\">\n",
       "    News Corp\n",
       "    <span style=\"font-size: 0.8em; font-weight: bold; line-height: 1; border-radius: 0.35em; text-transform: uppercase; vertical-align: middle; margin-left: 0.5rem\">ORG (NWSA)</span>\n",
       "</mark>\n",
       " insider at the time. Founded in August 2003 by De Wolfe and Tom Anderson, Myspace was conceived as a way for friends and fans to connect with one another as well as with their favorite bands and artists. It was a kind of musical version of pioneer social network site Friendster. Myspace fast became wildly popular with teenagers and young adults who spent hours designing their own pages with their favorite digital wallpaper, posting photos and adding friends. Up-and-coming bands loved the site as a great new free marketing platform. By 2004, just a year after its launch, Myspace was adding thousands of users a day. Myspace was majority controlled by Intermix Media at 52 percent, with another 25 percent owned by Redpoint Ventures and 20 percent owned by the co-founders. Murdoch swooped in and hammered out a deal with Intermix CEO Richard Rosenblatt over a weekend in July 2005, trumping longtime rival and \n",
       "<mark class=\"entity\" style=\"background: rgb(256, 242, 174); padding: 0.45em 0.6em; margin: 0 0.25em; line-height: 1; border-radius: 0.35em; box-decoration-break: clone; -webkit-box-decoration-break: clone\">\n",
       "    Viacom\n",
       "    <span style=\"font-size: 0.8em; font-weight: bold; line-height: 1; border-radius: 0.35em; text-transform: uppercase; vertical-align: middle; margin-left: 0.5rem\">ORG (VIAB)</span>\n",
       "</mark>\n",
       " Chairman Sumner Redstone in the process. The episode was considered a defeat for \n",
       "<mark class=\"entity\" style=\"background: rgb(256, 242, 174); padding: 0.45em 0.6em; margin: 0 0.25em; line-height: 1; border-radius: 0.35em; box-decoration-break: clone; -webkit-box-decoration-break: clone\">\n",
       "    Viacom\n",
       "    <span style=\"font-size: 0.8em; font-weight: bold; line-height: 1; border-radius: 0.35em; text-transform: uppercase; vertical-align: middle; margin-left: 0.5rem\">ORG (VIAB)</span>\n",
       "</mark>\n",
       ". Blame fell at the feet of CEO Tom Freston, who had given his digital executive, Jason Hirschhorn, the go-ahead to pay what one source close to the situation said was $600 million to $800 million for Myspace. But the deal took too long to put together, and by the time \n",
       "<mark class=\"entity\" style=\"background: rgb(256, 242, 174); padding: 0.45em 0.6em; margin: 0 0.25em; line-height: 1; border-radius: 0.35em; box-decoration-break: clone; -webkit-box-decoration-break: clone\">\n",
       "    Viacom\n",
       "    <span style=\"font-size: 0.8em; font-weight: bold; line-height: 1; border-radius: 0.35em; text-transform: uppercase; vertical-align: middle; margin-left: 0.5rem\">ORG (VIAB)</span>\n",
       "</mark>\n",
       " was ready to pull the trigger, \n",
       "<mark class=\"entity\" style=\"background: rgb(244, 202, 228); padding: 0.45em 0.6em; margin: 0 0.25em; line-height: 1; border-radius: 0.35em; box-decoration-break: clone; -webkit-box-decoration-break: clone\">\n",
       "    News Corp\n",
       "    <span style=\"font-size: 0.8em; font-weight: bold; line-height: 1; border-radius: 0.35em; text-transform: uppercase; vertical-align: middle; margin-left: 0.5rem\">ORG (NWSA)</span>\n",
       "</mark>\n",
       " has already won the day. A frustrated Redstone fired Freston some months later, though it remains unclear whether it was the failure to win Myspace or a dispute with Hollywood star Tom Cruise that brought Freston's time to an end. GREAT TIMING The timing of the Myspace deal couldn't have been better. In the 12 months after the \n",
       "<mark class=\"entity\" style=\"background: rgb(244, 202, 228); padding: 0.45em 0.6em; margin: 0 0.25em; line-height: 1; border-radius: 0.35em; box-decoration-break: clone; -webkit-box-decoration-break: clone\">\n",
       "    News Corp\n",
       "    <span style=\"font-size: 0.8em; font-weight: bold; line-height: 1; border-radius: 0.35em; text-transform: uppercase; vertical-align: middle; margin-left: 0.5rem\">ORG (NWSA)</span>\n",
       "</mark>\n",
       " acquisition, Myspace saw its unique visitors grow by 155 percent to 55.8 million a month, according to Web audience measurement service comScore. \"We couldn't get servers into the building fast enough,\" recalls a former Myspace executive. \"There was tremendous trouble scaling. It was exciting but also scary.\" At the executive level, the strain of running such a fast-growing business began to show almost immediately. Levinsohn oversaw all of \n",
       "<mark class=\"entity\" style=\"background: rgb(244, 202, 228); padding: 0.45em 0.6em; margin: 0 0.25em; line-height: 1; border-radius: 0.35em; box-decoration-break: clone; -webkit-box-decoration-break: clone\">\n",
       "    News Corp's\n",
       "    <span style=\"font-size: 0.8em; font-weight: bold; line-height: 1; border-radius: 0.35em; text-transform: uppercase; vertical-align: middle; margin-left: 0.5rem\">ORG (NWSA)</span>\n",
       "</mark>\n",
       " digital properties, ostensibly putting him above De Wolfe on the corporate ladder. But De Wolfe had Murdoch's ear in those early months. And he \"played it very intelligently politically,\" said a second former Myspace executive. One person close to Murdoch at the time says \"De Wolfe would call Rupert whenever he needed anything\" and that \"created some tension with Ross Levinsohn and Peter Chernin,\" who was second-in-command at \n",
       "<mark class=\"entity\" style=\"background: rgb(244, 202, 228); padding: 0.45em 0.6em; margin: 0 0.25em; line-height: 1; border-radius: 0.35em; box-decoration-break: clone; -webkit-box-decoration-break: clone\">\n",
       "    News Corp.\n",
       "    <span style=\"font-size: 0.8em; font-weight: bold; line-height: 1; border-radius: 0.35em; text-transform: uppercase; vertical-align: middle; margin-left: 0.5rem\">ORG (NWSA)</span>\n",
       "</mark>\n",
       " In early 2007, Murdoch brazenly predicted that Myspace would generate up to a $1 billion in revenue in the next fiscal year. The forecast caused panic at Myspace, according to the two former executives. \"It was a big blunder to say that to the Street,\" said the first executive. \"When you looked at how Myspace's numbers had been trending it was possible -- but it was a stretch. After that moment it was basically like all the tentacles of \n",
       "<mark class=\"entity\" style=\"background: rgb(244, 202, 228); padding: 0.45em 0.6em; margin: 0 0.25em; line-height: 1; border-radius: 0.35em; box-decoration-break: clone; -webkit-box-decoration-break: clone\">\n",
       "    News Corp\n",
       "    <span style=\"font-size: 0.8em; font-weight: bold; line-height: 1; border-radius: 0.35em; text-transform: uppercase; vertical-align: middle; margin-left: 0.5rem\">ORG (NWSA)</span>\n",
       "</mark>\n",
       " got involved in a bid to make that target, so getting anything done became near impossible.\" The other mistake was underestimating \n",
       "<mark class=\"entity\" style=\"background: rgb(253, 205, 172); padding: 0.45em 0.6em; margin: 0 0.25em; line-height: 1; border-radius: 0.35em; box-decoration-break: clone; -webkit-box-decoration-break: clone\">\n",
       "    Facebook\n",
       "    <span style=\"font-size: 0.8em; font-weight: bold; line-height: 1; border-radius: 0.35em; text-transform: uppercase; vertical-align: middle; margin-left: 0.5rem\">ORG (FB)</span>\n",
       "</mark>\n",
       ". Clearly Facebook was growing fast, even though it was building off a much smaller base. It was also coming out with a slew of innovative products. One major step forward for \n",
       "<mark class=\"entity\" style=\"background: rgb(253, 205, 172); padding: 0.45em 0.6em; margin: 0 0.25em; line-height: 1; border-radius: 0.35em; box-decoration-break: clone; -webkit-box-decoration-break: clone\">\n",
       "    Facebook\n",
       "    <span style=\"font-size: 0.8em; font-weight: bold; line-height: 1; border-radius: 0.35em; text-transform: uppercase; vertical-align: middle; margin-left: 0.5rem\">ORG (FB)</span>\n",
       "</mark>\n",
       " was its news feed, an initially controversial, then soon very popular feature which let friends know all the latest news about each other, which inspired repeat visits. (It would take Myspace 18 months to copy this feature.) \n",
       "<mark class=\"entity\" style=\"background: rgb(253, 205, 172); padding: 0.45em 0.6em; margin: 0 0.25em; line-height: 1; border-radius: 0.35em; box-decoration-break: clone; -webkit-box-decoration-break: clone\">\n",
       "    Facebook\n",
       "    <span style=\"font-size: 0.8em; font-weight: bold; line-height: 1; border-radius: 0.35em; text-transform: uppercase; vertical-align: middle; margin-left: 0.5rem\">ORG (FB)</span>\n",
       "</mark>\n",
       " struck another blow in May 2007, opening its platform to third-party developers so they could launch a range of applications on the \n",
       "<mark class=\"entity\" style=\"background: rgb(253, 205, 172); padding: 0.45em 0.6em; margin: 0 0.25em; line-height: 1; border-radius: 0.35em; box-decoration-break: clone; -webkit-box-decoration-break: clone\">\n",
       "    Facebook\n",
       "    <span style=\"font-size: 0.8em; font-weight: bold; line-height: 1; border-radius: 0.35em; text-transform: uppercase; vertical-align: middle; margin-left: 0.5rem\">ORG (FB)</span>\n",
       "</mark>\n",
       " site. With hindsight, this was a key turning point: Facebook quickly became the place for people to play games like FarmVille with their friends, as well as share photos and communicate. Over at Myspace, executives promised the site would open its platform to developers, but after a series of missteps and missed deadlines, Myspace fell even farther behind \n",
       "<mark class=\"entity\" style=\"background: rgb(253, 205, 172); padding: 0.45em 0.6em; margin: 0 0.25em; line-height: 1; border-radius: 0.35em; box-decoration-break: clone; -webkit-box-decoration-break: clone\">\n",
       "    Facebook\n",
       "    <span style=\"font-size: 0.8em; font-weight: bold; line-height: 1; border-radius: 0.35em; text-transform: uppercase; vertical-align: middle; margin-left: 0.5rem\">ORG (FB)</span>\n",
       "</mark>\n",
       ". Its platform eventually opened up to other applications nearly a year later. One of Myspace's strengths, thanks to its being part of a big multinational, was its ability to expand globally very quickly. From 2006 through 2007 it seemed to launch in a new country every month, opening offices throughout Europe and websites in nearly every major country. It also worked with Murdoch's wife Wendi on negotiating a Myspace partnership in China. But what was taking place outside of the United States also provided one of the earliest indications of the threat posed by \n",
       "<mark class=\"entity\" style=\"background: rgb(253, 205, 172); padding: 0.45em 0.6em; margin: 0 0.25em; line-height: 1; border-radius: 0.35em; box-decoration-break: clone; -webkit-box-decoration-break: clone\">\n",
       "    Facebook\n",
       "    <span style=\"font-size: 0.8em; font-weight: bold; line-height: 1; border-radius: 0.35em; text-transform: uppercase; vertical-align: middle; margin-left: 0.5rem\">ORG (FB)</span>\n",
       "</mark>\n",
       ". \"Around November 2007 we noticed \n",
       "<mark class=\"entity\" style=\"background: rgb(253, 205, 172); padding: 0.45em 0.6em; margin: 0 0.25em; line-height: 1; border-radius: 0.35em; box-decoration-break: clone; -webkit-box-decoration-break: clone\">\n",
       "    Facebook\n",
       "    <span style=\"font-size: 0.8em; font-weight: bold; line-height: 1; border-radius: 0.35em; text-transform: uppercase; vertical-align: middle; margin-left: 0.5rem\">ORG (FB)</span>\n",
       "</mark>\n",
       " user numbers in Canada jumped from 500,000 users to 4 million in two months and they were up to nearly 6 million a month later. We started to get worried,\" said the first former Myspace executive, describing the trend as a 'canary in a coal mine' moment. Just a few months later, Myspace executives spotted a similar trend in Britain, an even bigger, more crucial market. And as the numbers improved at \n",
       "<mark class=\"entity\" style=\"background: rgb(253, 205, 172); padding: 0.45em 0.6em; margin: 0 0.25em; line-height: 1; border-radius: 0.35em; box-decoration-break: clone; -webkit-box-decoration-break: clone\">\n",
       "    Facebook\n",
       "    <span style=\"font-size: 0.8em; font-weight: bold; line-height: 1; border-radius: 0.35em; text-transform: uppercase; vertical-align: middle; margin-left: 0.5rem\">ORG (FB)</span>\n",
       "</mark>\n",
       ", the growth in visits to Myspace started to stall. For Myspace, the fairy tale was ending. \"While monthly unique views had stayed pretty high for a long time, internally Myspace insiders knew the daily visitor numbers had been tumbling for a while,\" said a \n",
       "<mark class=\"entity\" style=\"background: rgb(244, 202, 228); padding: 0.45em 0.6em; margin: 0 0.25em; line-height: 1; border-radius: 0.35em; box-decoration-break: clone; -webkit-box-decoration-break: clone\">\n",
       "    News Corp\n",
       "    <span style=\"font-size: 0.8em; font-weight: bold; line-height: 1; border-radius: 0.35em; text-transform: uppercase; vertical-align: middle; margin-left: 0.5rem\">ORG (NWSA)</span>\n",
       "</mark>\n",
       " executive close to the discussions at the time. \n",
       "<mark class=\"entity\" style=\"background: rgb(253, 205, 172); padding: 0.45em 0.6em; margin: 0 0.25em; line-height: 1; border-radius: 0.35em; box-decoration-break: clone; -webkit-box-decoration-break: clone\">\n",
       "    Facebook\n",
       "    <span style=\"font-size: 0.8em; font-weight: bold; line-height: 1; border-radius: 0.35em; text-transform: uppercase; vertical-align: middle; margin-left: 0.5rem\">ORG (FB)</span>\n",
       "</mark>\n",
       "'s ability to design simple, wildly popular features -- even as Myspace's platform became overwhelmed and buggy -- was beginning to get noticed by developers and industry commentators. \n",
       "<mark class=\"entity\" style=\"background: rgb(253, 205, 172); padding: 0.45em 0.6em; margin: 0 0.25em; line-height: 1; border-radius: 0.35em; box-decoration-break: clone; -webkit-box-decoration-break: clone\">\n",
       "    Facebook\n",
       "    <span style=\"font-size: 0.8em; font-weight: bold; line-height: 1; border-radius: 0.35em; text-transform: uppercase; vertical-align: middle; margin-left: 0.5rem\">ORG (FB)</span>\n",
       "</mark>\n",
       " and its founder Mark Zuckerberg were getting all the buzz. Stories were swirling around Silicon Valley that the then 23-year-old Zuckerberg had turned down a $1 billion acquisition offer from \n",
       "<mark class=\"entity\" style=\"background: rgb(241, 226, 204); padding: 0.45em 0.6em; margin: 0 0.25em; line-height: 1; border-radius: 0.35em; box-decoration-break: clone; -webkit-box-decoration-break: clone\">\n",
       "    Yahoo\n",
       "    <span style=\"font-size: 0.8em; font-weight: bold; line-height: 1; border-radius: 0.35em; text-transform: uppercase; vertical-align: middle; margin-left: 0.5rem\">ORG (YHOO)</span>\n",
       "</mark>\n",
       ". (Even Myspace considered making a play for \n",
       "<mark class=\"entity\" style=\"background: rgb(253, 205, 172); padding: 0.45em 0.6em; margin: 0 0.25em; line-height: 1; border-radius: 0.35em; box-decoration-break: clone; -webkit-box-decoration-break: clone\">\n",
       "    Facebook\n",
       "    <span style=\"font-size: 0.8em; font-weight: bold; line-height: 1; border-radius: 0.35em; text-transform: uppercase; vertical-align: middle; margin-left: 0.5rem\">ORG (FB)</span>\n",
       "</mark>\n",
       ". Levinsohn and De Wolfe met Zuckerberg in late 2006 at the W Hotel in Westwood, Los Angeles for informal buyout talks. Those discussions never progressed.) Zuckerberg's great strength, say his one-time rivals from Myspace, was that he and his team were focused on product development and innovation while Myspace had become too concerned with revenue and meeting traffic targets of its Google deal. \"The technology fell behind and it just shows that even when you have a massive user base you still need to offer something new to keep people engaged,\" said BTIG analyst Richard Greenfield. Around this time, the Google agreement, which had been hailed as a major coup by Chernin and Levinsohn as well as Wall Street, started to be viewed by Myspace executives as a double-edged sword. The Google deal required a certain number of Myspace user visits on a regular basis for Google to pay Myspace its guaranteed $300 million a year for three years. That reduced flexibility as Myspace couldn't experiment with its own site without forfeiting revenue. \"It was a good deal in the short-term but in the long term it ended up not being so good,\" said a third former Myspace executive close to advertising sales. \"We were incentivized to keep page views very high and ended up having too many ads plus too many pages, making the site less easy to use than a site like \n",
       "<mark class=\"entity\" style=\"background: rgb(253, 205, 172); padding: 0.45em 0.6em; margin: 0 0.25em; line-height: 1; border-radius: 0.35em; box-decoration-break: clone; -webkit-box-decoration-break: clone\">\n",
       "    Facebook\n",
       "    <span style=\"font-size: 0.8em; font-weight: bold; line-height: 1; border-radius: 0.35em; text-transform: uppercase; vertical-align: middle; margin-left: 0.5rem\">ORG (FB)</span>\n",
       "</mark>\n",
       ".\" The suggestion was made to the top brass at Fox Interactive that they sacrifice some of the page views. They refused, according to two of the former Myspace executives. Quarterly revenue targets for the parent company were simply too pressing to lose advertising dollars while engineers tinkered with the site. Now, with the benefit of hindsight, executives said that given a choice it would have been better to ink a flexible deal similar to one \n",
       "<mark class=\"entity\" style=\"background: rgb(253, 205, 172); padding: 0.45em 0.6em; margin: 0 0.25em; line-height: 1; border-radius: 0.35em; box-decoration-break: clone; -webkit-box-decoration-break: clone\">\n",
       "    Facebook\n",
       "    <span style=\"font-size: 0.8em; font-weight: bold; line-height: 1; border-radius: 0.35em; text-transform: uppercase; vertical-align: middle; margin-left: 0.5rem\">ORG (FB)</span>\n",
       "</mark>\n",
       " had reached with \n",
       "<mark class=\"entity\" style=\"background: rgb(203, 213, 232); padding: 0.45em 0.6em; margin: 0 0.25em; line-height: 1; border-radius: 0.35em; box-decoration-break: clone; -webkit-box-decoration-break: clone\">\n",
       "    Microsoft\n",
       "    <span style=\"font-size: 0.8em; font-weight: bold; line-height: 1; border-radius: 0.35em; text-transform: uppercase; vertical-align: middle; margin-left: 0.5rem\">ORG (MSFT)</span>\n",
       "</mark>\n",
       ". That deal was based on a revenue sharing agreement rather than revenue guarantees. But cash-flow wasn't the only problem. Myspace simply had not innovated much since it was bought. The site was also built on \n",
       "<mark class=\"entity\" style=\"background: rgb(203, 213, 232); padding: 0.45em 0.6em; margin: 0 0.25em; line-height: 1; border-radius: 0.35em; box-decoration-break: clone; -webkit-box-decoration-break: clone\">\n",
       "    Microsoft\n",
       "    <span style=\"font-size: 0.8em; font-weight: bold; line-height: 1; border-radius: 0.35em; text-transform: uppercase; vertical-align: middle; margin-left: 0.5rem\">ORG (MSFT)</span>\n",
       "</mark>\n",
       "'s .NET technology, considered by many to be a grievous handicap. Few Web 2.0 developers use that platform and it's not well suited to a site with tens of millions of users. \"There was a tremendous platform stability problem within the site,\" said an executive who worked with Myspace after De Wolfe had left. \"The way that the technical infrastructure was set up it took literally 10 to 15 times longer to build code on the Myspace system than it would on any other technical platform.\" The executive, who has since left the company, added: \"They never ever understood how weak the site's interface was and as any great product developer knows you can have the best code in the world but if your design and user experience isn't phenomenal your site is going to fail.\" Myspace had yet another disadvantage. It was based in Los Angeles, hardly a hotbed for developer talent. Though it did eventually open shop in San Francisco and Seattle, observers say it was already too late to attract top flight engineers, the sort that were flocking to \n",
       "<mark class=\"entity\" style=\"background: rgb(253, 205, 172); padding: 0.45em 0.6em; margin: 0 0.25em; line-height: 1; border-radius: 0.35em; box-decoration-break: clone; -webkit-box-decoration-break: clone\">\n",
       "    Facebook\n",
       "    <span style=\"font-size: 0.8em; font-weight: bold; line-height: 1; border-radius: 0.35em; text-transform: uppercase; vertical-align: middle; margin-left: 0.5rem\">ORG (FB)</span>\n",
       "</mark>\n",
       ", Google and a new generation of Web 2.0 start-ups. A related roadblock was the lack of a typical start-up's incentive system. Once start-up companies are acquired by big public companies they no longer can offer cheap stock options that could be worth millions and inspire young teams to work 18-hour days. \n",
       "<mark class=\"entity\" style=\"background: rgb(244, 202, 228); padding: 0.45em 0.6em; margin: 0 0.25em; line-height: 1; border-radius: 0.35em; box-decoration-break: clone; -webkit-box-decoration-break: clone\">\n",
       "    News Corp\n",
       "    <span style=\"font-size: 0.8em; font-weight: bold; line-height: 1; border-radius: 0.35em; text-transform: uppercase; vertical-align: middle; margin-left: 0.5rem\">ORG (NWSA)</span>\n",
       "</mark>\n",
       " tried to put together a \"phantom stock\" for Myspacers but that didn't work and lasted only a year. TOM IS NOT YOUR FRIEND By 2008, Murdoch, who was spending increasing amounts of his time concentrating on how to integrate Dow Jones and the Wall Street Journal into \n",
       "<mark class=\"entity\" style=\"background: rgb(244, 202, 228); padding: 0.45em 0.6em; margin: 0 0.25em; line-height: 1; border-radius: 0.35em; box-decoration-break: clone; -webkit-box-decoration-break: clone\">\n",
       "    News Corp\n",
       "    <span style=\"font-size: 0.8em; font-weight: bold; line-height: 1; border-radius: 0.35em; text-transform: uppercase; vertical-align: middle; margin-left: 0.5rem\">ORG (NWSA)</span>\n",
       "</mark>\n",
       ", caught wind of the trouble at Myspace. He began to manage expectations. At the Web 2.0 event in San Francisco, he pulled back from his $1 billion revenue target. He said the figure would be closer to around $750 million. Quietly, Murdoch had started to consider his options for Myspace. In early 2008 there was a lot of uncertainty surrounding \n",
       "<mark class=\"entity\" style=\"background: rgb(203, 213, 232); padding: 0.45em 0.6em; margin: 0 0.25em; line-height: 1; border-radius: 0.35em; box-decoration-break: clone; -webkit-box-decoration-break: clone\">\n",
       "    Microsoft Corp's\n",
       "    <span style=\"font-size: 0.8em; font-weight: bold; line-height: 1; border-radius: 0.35em; text-transform: uppercase; vertical-align: middle; margin-left: 0.5rem\">ORG (MSFT)</span>\n",
       "</mark>\n",
       " ill-fated attempt to take control of \n",
       "<mark class=\"entity\" style=\"background: rgb(241, 226, 204); padding: 0.45em 0.6em; margin: 0 0.25em; line-height: 1; border-radius: 0.35em; box-decoration-break: clone; -webkit-box-decoration-break: clone\">\n",
       "    Yahoo Inc.\n",
       "    <span style=\"font-size: 0.8em; font-weight: bold; line-height: 1; border-radius: 0.35em; text-transform: uppercase; vertical-align: middle; margin-left: 0.5rem\">ORG (YHOO)</span>\n",
       "</mark>\n",
       " Murdoch moved quickly and had discussions with \n",
       "<mark class=\"entity\" style=\"background: rgb(241, 226, 204); padding: 0.45em 0.6em; margin: 0 0.25em; line-height: 1; border-radius: 0.35em; box-decoration-break: clone; -webkit-box-decoration-break: clone\">\n",
       "    Yahoo\n",
       "    <span style=\"font-size: 0.8em; font-weight: bold; line-height: 1; border-radius: 0.35em; text-transform: uppercase; vertical-align: middle; margin-left: 0.5rem\">ORG (YHOO)</span>\n",
       "</mark>\n",
       " about a possible equity stake swap which would value Myspace at anywhere from $6 billion to $10 billion but those talks came to nothing. There was nonetheless some good news for Myspace in 2008: the long overdue launch of a joint venture with the major label owners Vivendi's Universal Music Group, Sony Music, Warner Music Group and EMI Music. Myspace Music was a way of ensuring that Myspace would remain an important destination for music discovery by fans of the labels' bands and ensure that Myspace kept up its traffic numbers. By now, breakout acts such as Arctic Monkeys and Lily Allen had used Myspace to build followings -- and keeping its profile high in the music world was essential for the site. But even with the boost from the music venture, Myspace was losing its once enormous lead over \n",
       "<mark class=\"entity\" style=\"background: rgb(253, 205, 172); padding: 0.45em 0.6em; margin: 0 0.25em; line-height: 1; border-radius: 0.35em; box-decoration-break: clone; -webkit-box-decoration-break: clone\">\n",
       "    Facebook\n",
       "    <span style=\"font-size: 0.8em; font-weight: bold; line-height: 1; border-radius: 0.35em; text-transform: uppercase; vertical-align: middle; margin-left: 0.5rem\">ORG (FB)</span>\n",
       "</mark>\n",
       ". By the end of that year, \n",
       "<mark class=\"entity\" style=\"background: rgb(253, 205, 172); padding: 0.45em 0.6em; margin: 0 0.25em; line-height: 1; border-radius: 0.35em; box-decoration-break: clone; -webkit-box-decoration-break: clone\">\n",
       "    Facebook\n",
       "    <span style=\"font-size: 0.8em; font-weight: bold; line-height: 1; border-radius: 0.35em; text-transform: uppercase; vertical-align: middle; margin-left: 0.5rem\">ORG (FB)</span>\n",
       "</mark>\n",
       " had grown to 54 million U.S. visitors in a month, while Myspace stalled at a peak of 76 million users. It was around this time that management issues began to boil over. In the digital world, De Wolfe's already high profile had broken through the stratosphere as reports started circulating that he was dating socialite Paris Hilton. That wasn't the kind of thing \n",
       "<mark class=\"entity\" style=\"background: rgb(244, 202, 228); padding: 0.45em 0.6em; margin: 0 0.25em; line-height: 1; border-radius: 0.35em; box-decoration-break: clone; -webkit-box-decoration-break: clone\">\n",
       "    News Corp\n",
       "    <span style=\"font-size: 0.8em; font-weight: bold; line-height: 1; border-radius: 0.35em; text-transform: uppercase; vertical-align: middle; margin-left: 0.5rem\">ORG (NWSA)</span>\n",
       "</mark>\n",
       " was used to from its executives, despite the huge profile of its chairman. At work, De Wolfe had to deal with complaints about Myspace co-founder Tom Anderson. \"Tom was responsible for the product but ended up being a complete bottleneck on getting things done,\" said the \n",
       "<mark class=\"entity\" style=\"background: rgb(244, 202, 228); padding: 0.45em 0.6em; margin: 0 0.25em; line-height: 1; border-radius: 0.35em; box-decoration-break: clone; -webkit-box-decoration-break: clone\">\n",
       "    News Corp\n",
       "    <span style=\"font-size: 0.8em; font-weight: bold; line-height: 1; border-radius: 0.35em; text-transform: uppercase; vertical-align: middle; margin-left: 0.5rem\">ORG (NWSA)</span>\n",
       "</mark>\n",
       " executive. The first Myspace executive said De Wolfe \"was being pressured for months to fire Tom but he wasn't that kind of guy, he stayed loyal.\" In early 2009 \n",
       "<mark class=\"entity\" style=\"background: rgb(244, 202, 228); padding: 0.45em 0.6em; margin: 0 0.25em; line-height: 1; border-radius: 0.35em; box-decoration-break: clone; -webkit-box-decoration-break: clone\">\n",
       "    News Corp\n",
       "    <span style=\"font-size: 0.8em; font-weight: bold; line-height: 1; border-radius: 0.35em; text-transform: uppercase; vertical-align: middle; margin-left: 0.5rem\">ORG (NWSA)</span>\n",
       "</mark>\n",
       " announced that Chernin, who was Murdoch's trusted No.2, would be stepping down in June to pursue other entrepreneurial opportunities. While Chernin was widely, and correctly, seen as Murdoch's eyes and ears in Hollywood, he had another important role -- he was a key filter between the Los Angeles-based Myspace and Murdoch. The departure was the beginning of the end for the old Myspace. Over the next year, the company would struggle through sweeping management changes, restructuring and layoffs, while losing more ground to \n",
       "<mark class=\"entity\" style=\"background: rgb(253, 205, 172); padding: 0.45em 0.6em; margin: 0 0.25em; line-height: 1; border-radius: 0.35em; box-decoration-break: clone; -webkit-box-decoration-break: clone\">\n",
       "    Facebook\n",
       "    <span style=\"font-size: 0.8em; font-weight: bold; line-height: 1; border-radius: 0.35em; text-transform: uppercase; vertical-align: middle; margin-left: 0.5rem\">ORG (FB)</span>\n",
       "</mark>\n",
       ". \"Chernin leaving was the trigger for major change with Myspace, all the businesses got reexamined because they were going to be reporting into Murdoch,\" said the \n",
       "<mark class=\"entity\" style=\"background: rgb(244, 202, 228); padding: 0.45em 0.6em; margin: 0 0.25em; line-height: 1; border-radius: 0.35em; box-decoration-break: clone; -webkit-box-decoration-break: clone\">\n",
       "    News Corp\n",
       "    <span style=\"font-size: 0.8em; font-weight: bold; line-height: 1; border-radius: 0.35em; text-transform: uppercase; vertical-align: middle; margin-left: 0.5rem\">ORG (NWSA)</span>\n",
       "</mark>\n",
       " executive. \"This was when they started toying around with the idea of a chief digital officer.\" In March of 2009 reports started circulating that Murdoch was looking at bringing in Jonathan Miller, the former AOL CEO, who had had mixed success in turning around that ship while it was still part of \n",
       "<mark class=\"entity\" style=\"background: rgb(230, 245, 201); padding: 0.45em 0.6em; margin: 0 0.25em; line-height: 1; border-radius: 0.35em; box-decoration-break: clone; -webkit-box-decoration-break: clone\">\n",
       "    Time Warner\n",
       "    <span style=\"font-size: 0.8em; font-weight: bold; line-height: 1; border-radius: 0.35em; text-transform: uppercase; vertical-align: middle; margin-left: 0.5rem\">ORG (TWX)</span>\n",
       "</mark>\n",
       ". Miller was confirmed as \n",
       "<mark class=\"entity\" style=\"background: rgb(244, 202, 228); padding: 0.45em 0.6em; margin: 0 0.25em; line-height: 1; border-radius: 0.35em; box-decoration-break: clone; -webkit-box-decoration-break: clone\">\n",
       "    News Corp's\n",
       "    <span style=\"font-size: 0.8em; font-weight: bold; line-height: 1; border-radius: 0.35em; text-transform: uppercase; vertical-align: middle; margin-left: 0.5rem\">ORG (NWSA)</span>\n",
       "</mark>\n",
       " chief digital officer the following month with a remit to \"fix Myspace.\" He immediately set about recruiting his own team to help solve the Myspace problem. But first he had to get rid of the current management team. \"Rupert appointed Miller because he really didn't want to have to fire Chris himself,\" said the former \n",
       "<mark class=\"entity\" style=\"background: rgb(244, 202, 228); padding: 0.45em 0.6em; margin: 0 0.25em; line-height: 1; border-radius: 0.35em; box-decoration-break: clone; -webkit-box-decoration-break: clone\">\n",
       "    News Corp\n",
       "    <span style=\"font-size: 0.8em; font-weight: bold; line-height: 1; border-radius: 0.35em; text-transform: uppercase; vertical-align: middle; margin-left: 0.5rem\">ORG (NWSA)</span>\n",
       "</mark>\n",
       " insider. MILLER TIME Three weeks later De Wolfe was out, while Anderson, who was every Myspace user's first 'friend' was initially kept on in a consultant role. As chief digital officer, Miller then recruited the former \n",
       "<mark class=\"entity\" style=\"background: rgb(253, 205, 172); padding: 0.45em 0.6em; margin: 0 0.25em; line-height: 1; border-radius: 0.35em; box-decoration-break: clone; -webkit-box-decoration-break: clone\">\n",
       "    Facebook\n",
       "    <span style=\"font-size: 0.8em; font-weight: bold; line-height: 1; border-radius: 0.35em; text-transform: uppercase; vertical-align: middle; margin-left: 0.5rem\">ORG (FB)</span>\n",
       "</mark>\n",
       " chief operating officer Owen Van Natta as Myspace CEO. Murdoch had also reached out to Jason Hirschhorn, the former MTV executive who had unsuccessfully negotiated to buy Myspace for \n",
       "<mark class=\"entity\" style=\"background: rgb(256, 242, 174); padding: 0.45em 0.6em; margin: 0 0.25em; line-height: 1; border-radius: 0.35em; box-decoration-break: clone; -webkit-box-decoration-break: clone\">\n",
       "    Viacom\n",
       "    <span style=\"font-size: 0.8em; font-weight: bold; line-height: 1; border-radius: 0.35em; text-transform: uppercase; vertical-align: middle; margin-left: 0.5rem\">ORG (VIAB)</span>\n",
       "</mark>\n",
       " back in 2005. Hirschhorn, who had gone to school with Murdoch's son James in New York, came on board in a strategy role. To round out the team, Miller recruited Mike Jones, who had previously sold his social communications start-up Userplane to AOL while it was run by Miller. With De Wolfe out of the way, the new team dived through Myspace user data. They were alarmed at what they found. \"They'd hoped it was in a bit better shape but you really couldn't tell from outside it was already over the precipice,\" said a fourth Myspace former executive. \"It was clear that they had lost ground in the social networking area.\" ComScore, the tracking firm, would soon publicly confirm what executives already knew from studying internal data: \n",
       "<mark class=\"entity\" style=\"background: rgb(253, 205, 172); padding: 0.45em 0.6em; margin: 0 0.25em; line-height: 1; border-radius: 0.35em; box-decoration-break: clone; -webkit-box-decoration-break: clone\">\n",
       "    Facebook\n",
       "    <span style=\"font-size: 0.8em; font-weight: bold; line-height: 1; border-radius: 0.35em; text-transform: uppercase; vertical-align: middle; margin-left: 0.5rem\">ORG (FB)</span>\n",
       "</mark>\n",
       " had officially overtaken Myspace in the United States, its biggest market. In May 2009, both had just over 70 million unique visitors. Two months later, \n",
       "<mark class=\"entity\" style=\"background: rgb(253, 205, 172); padding: 0.45em 0.6em; margin: 0 0.25em; line-height: 1; border-radius: 0.35em; box-decoration-break: clone; -webkit-box-decoration-break: clone\">\n",
       "    Facebook\n",
       "    <span style=\"font-size: 0.8em; font-weight: bold; line-height: 1; border-radius: 0.35em; text-transform: uppercase; vertical-align: middle; margin-left: 0.5rem\">ORG (FB)</span>\n",
       "</mark>\n",
       " had grown to 77 million visitors while Myspace had dropped to 68 million. \"That was when everyone here started to hit the panic buttons,\" said the \n",
       "<mark class=\"entity\" style=\"background: rgb(244, 202, 228); padding: 0.45em 0.6em; margin: 0 0.25em; line-height: 1; border-radius: 0.35em; box-decoration-break: clone; -webkit-box-decoration-break: clone\">\n",
       "    News Corp\n",
       "    <span style=\"font-size: 0.8em; font-weight: bold; line-height: 1; border-radius: 0.35em; text-transform: uppercase; vertical-align: middle; margin-left: 0.5rem\">ORG (NWSA)</span>\n",
       "</mark>\n",
       " executive. Myspace's new managers were said internally to have the risky job of \"catching a falling knife.\" Myspace was modestly profitable when it was bought in 2005. Soon after the acquisition \n",
       "<mark class=\"entity\" style=\"background: rgb(244, 202, 228); padding: 0.45em 0.6em; margin: 0 0.25em; line-height: 1; border-radius: 0.35em; box-decoration-break: clone; -webkit-box-decoration-break: clone\">\n",
       "    News Corp\n",
       "    <span style=\"font-size: 0.8em; font-weight: bold; line-height: 1; border-radius: 0.35em; text-transform: uppercase; vertical-align: middle; margin-left: 0.5rem\">ORG (NWSA)</span>\n",
       "</mark>\n",
       " invested heavily, upgrading its technology and bringing on hundreds of new staffers. These investments combined with the visitor traffic drop-off meant that Myspace started generating significant losses. Miller and his team quickly came round to the conclusion that battling \n",
       "<mark class=\"entity\" style=\"background: rgb(253, 205, 172); padding: 0.45em 0.6em; margin: 0 0.25em; line-height: 1; border-radius: 0.35em; box-decoration-break: clone; -webkit-box-decoration-break: clone\">\n",
       "    Facebook\n",
       "    <span style=\"font-size: 0.8em; font-weight: bold; line-height: 1; border-radius: 0.35em; text-transform: uppercase; vertical-align: middle; margin-left: 0.5rem\">ORG (FB)</span>\n",
       "</mark>\n",
       " head-on was a fool's errand. They began discussing ways to capitalize on Myspace's roots as a social network for up-and-coming bands and their fans. They also started to think about how to restructure what had become a bloated Myspace with around 2,000 staffers. Jones told Miller if the business was going to survive it would need to shrink to a fifth of the size it was, according to a person close to one of the executives. Before long, the new team started to show cracks. CEO Van Natta, who had been considered for Miller's job, was clashing with Hirschhorn and Jones, the two lieutenants he did not appoint. \"You would suggest an initiative to Mike (Jones), he'd approve it and then Owen (Van Natta) would just veto it. It was interesting to watch,\" said the second former Myspace executive. In the meantime, the ongoing fall-off in visitor traffic was badly hurting revenue guarantees \n",
       "<mark class=\"entity\" style=\"background: rgb(244, 202, 228); padding: 0.45em 0.6em; margin: 0 0.25em; line-height: 1; border-radius: 0.35em; box-decoration-break: clone; -webkit-box-decoration-break: clone\">\n",
       "    News Corp\n",
       "    <span style=\"font-size: 0.8em; font-weight: bold; line-height: 1; border-radius: 0.35em; text-transform: uppercase; vertical-align: middle; margin-left: 0.5rem\">ORG (NWSA)</span>\n",
       "</mark>\n",
       " had inked in its advertising deal with Google. Myspace had made the $300 million target in the first two years of the deal -- 2007 and 2008 -- but it rapidly became clear that was not going to be the case in 2009. Murdoch was forced to be upfront with Wall Street on an earnings conference call that November. \"We have not been making minimum guarantees, so our search revenue will not be what was advertised,\" he said in reply to a question about why Myspace would miss revenue forecasts. \n",
       "<mark class=\"entity\" style=\"background: rgb(244, 202, 228); padding: 0.45em 0.6em; margin: 0 0.25em; line-height: 1; border-radius: 0.35em; box-decoration-break: clone; -webkit-box-decoration-break: clone\">\n",
       "    News Corp's\n",
       "    <span style=\"font-size: 0.8em; font-weight: bold; line-height: 1; border-radius: 0.35em; text-transform: uppercase; vertical-align: middle; margin-left: 0.5rem\">ORG (NWSA)</span>\n",
       "</mark>\n",
       " digital revenues were down 26 percent from the previous fiscal quarter. Murdoch told analysts that Myspace revenue would fall short by around $100 million of its $300 million target due to the drop in traffic. MANAGEMENT MUSICAL CHAIRS At Myspace headquarters, infighting only worsened in late 2009. By early 2010, Van Natta quit as chief executive. He was replaced by Hirschhorn and Jones as co-presidents. Shortly thereafter, Hirschhorn left and Jones became chief executive. Former \n",
       "<mark class=\"entity\" style=\"background: rgb(244, 202, 228); padding: 0.45em 0.6em; margin: 0 0.25em; line-height: 1; border-radius: 0.35em; box-decoration-break: clone; -webkit-box-decoration-break: clone\">\n",
       "    News Corp\n",
       "    <span style=\"font-size: 0.8em; font-weight: bold; line-height: 1; border-radius: 0.35em; text-transform: uppercase; vertical-align: middle; margin-left: 0.5rem\">ORG (NWSA)</span>\n",
       "</mark>\n",
       " and Myspace executives who spoke to Reuters were scathing about the management changes. \"There was nine months of not doing anything but talking bad about their product in front of their own people,\" said the third former Myspace executive. \"I heard they had negative stuff up on white boards and lots of people were disheartened.\" Another former \n",
       "<mark class=\"entity\" style=\"background: rgb(244, 202, 228); padding: 0.45em 0.6em; margin: 0 0.25em; line-height: 1; border-radius: 0.35em; box-decoration-break: clone; -webkit-box-decoration-break: clone\">\n",
       "    News Corp\n",
       "    <span style=\"font-size: 0.8em; font-weight: bold; line-height: 1; border-radius: 0.35em; text-transform: uppercase; vertical-align: middle; margin-left: 0.5rem\">ORG (NWSA)</span>\n",
       "</mark>\n",
       " executive said, \"Why would you spend a year and a half thinking about the things you want to do instead of moving quickly to take advantage of the scale while you still have it?\" The growing list of troubles at Myspace raised alarm bells at \n",
       "<mark class=\"entity\" style=\"background: rgb(244, 202, 228); padding: 0.45em 0.6em; margin: 0 0.25em; line-height: 1; border-radius: 0.35em; box-decoration-break: clone; -webkit-box-decoration-break: clone\">\n",
       "    News Corp's\n",
       "    <span style=\"font-size: 0.8em; font-weight: bold; line-height: 1; border-radius: 0.35em; text-transform: uppercase; vertical-align: middle; margin-left: 0.5rem\">ORG (NWSA)</span>\n",
       "</mark>\n",
       " headquarters in New York. Back in June 2009 Murdoch had replaced Chernin with Chase Carey, the former DirecTV CEO and a long time \n",
       "<mark class=\"entity\" style=\"background: rgb(244, 202, 228); padding: 0.45em 0.6em; margin: 0 0.25em; line-height: 1; border-radius: 0.35em; box-decoration-break: clone; -webkit-box-decoration-break: clone\">\n",
       "    News Corp\n",
       "    <span style=\"font-size: 0.8em; font-weight: bold; line-height: 1; border-radius: 0.35em; text-transform: uppercase; vertical-align: middle; margin-left: 0.5rem\">ORG (NWSA)</span>\n",
       "</mark>\n",
       " executive. Carey, a straight-talking, dollars and cents kind of executive whose only obvious extravagance is his remarkable handlebar mustache, immediately raised doubts about Myspace, stating what many outside observers considered obvious. \"Chase's arrival was key, no one inside would admit that they had lost confidence in Myspace but he just called it like he saw it when he came back,\" said a business partner of \n",
       "<mark class=\"entity\" style=\"background: rgb(244, 202, 228); padding: 0.45em 0.6em; margin: 0 0.25em; line-height: 1; border-radius: 0.35em; box-decoration-break: clone; -webkit-box-decoration-break: clone\">\n",
       "    News Corp\n",
       "    <span style=\"font-size: 0.8em; font-weight: bold; line-height: 1; border-radius: 0.35em; text-transform: uppercase; vertical-align: middle; margin-left: 0.5rem\">ORG (NWSA)</span>\n",
       "</mark>\n",
       " who was retold the conversations. Carey warned time was running out for Myspace, telling Wall Street it had \"quarters not years\" to get its act together. In the fall of 2010, he began to talk publicly about the possibility of a sale. After months of planning, Myspace relaunched in October 2010. The idea was to pull in users and advertisers by positioning itself as an entertainment site with Hollywood stars and pop bands. In February, four months after the relaunch, Myspace's unique users had fallen by 30 percent to 38 million, an even faster decline than many had expected. Just as troubling, Web advertising measurement firm eMarketer estimates that Myspace's worldwide ad revenues dropped by 40 percent in 2010 to $288 million and forecasts that number will tumble to around $156 million in 2012. During that same period \n",
       "<mark class=\"entity\" style=\"background: rgb(253, 205, 172); padding: 0.45em 0.6em; margin: 0 0.25em; line-height: 1; border-radius: 0.35em; box-decoration-break: clone; -webkit-box-decoration-break: clone\">\n",
       "    Facebook\n",
       "    <span style=\"font-size: 0.8em; font-weight: bold; line-height: 1; border-radius: 0.35em; text-transform: uppercase; vertical-align: middle; margin-left: 0.5rem\">ORG (FB)</span>\n",
       "</mark>\n",
       "'s ad revenues are forecast to more than treble to over $5.7 billon. OUT OF TIME At \n",
       "<mark class=\"entity\" style=\"background: rgb(244, 202, 228); padding: 0.45em 0.6em; margin: 0 0.25em; line-height: 1; border-radius: 0.35em; box-decoration-break: clone; -webkit-box-decoration-break: clone\">\n",
       "    News Corp\n",
       "    <span style=\"font-size: 0.8em; font-weight: bold; line-height: 1; border-radius: 0.35em; text-transform: uppercase; vertical-align: middle; margin-left: 0.5rem\">ORG (NWSA)</span>\n",
       "</mark>\n",
       ", patience seems to have run out. To some extent, the issue for \n",
       "<mark class=\"entity\" style=\"background: rgb(244, 202, 228); padding: 0.45em 0.6em; margin: 0 0.25em; line-height: 1; border-radius: 0.35em; box-decoration-break: clone; -webkit-box-decoration-break: clone\">\n",
       "    News Corp\n",
       "    <span style=\"font-size: 0.8em; font-weight: bold; line-height: 1; border-radius: 0.35em; text-transform: uppercase; vertical-align: middle; margin-left: 0.5rem\">ORG (NWSA)</span>\n",
       "</mark>\n",
       " goes beyond Myspace's fall. The world has changed dramatically since Murdoch made his bold play for the site in August 2005. \n",
       "<mark class=\"entity\" style=\"background: rgb(244, 202, 228); padding: 0.45em 0.6em; margin: 0 0.25em; line-height: 1; border-radius: 0.35em; box-decoration-break: clone; -webkit-box-decoration-break: clone\">\n",
       "    News Corp\n",
       "    <span style=\"font-size: 0.8em; font-weight: bold; line-height: 1; border-radius: 0.35em; text-transform: uppercase; vertical-align: middle; margin-left: 0.5rem\">ORG (NWSA)</span>\n",
       "</mark>\n",
       " still sees its future in the digital world, but executives interviewed for this piece repeatedly said the focus is now on harnessing digital distribution platforms for the company's vast news and entertainment content. \"I think we learned a lot from Myspace but our focus in digital now is how do we take our core businesses and extend them in meaningful ways over digital platforms,\" said \n",
       "<mark class=\"entity\" style=\"background: rgb(244, 202, 228); padding: 0.45em 0.6em; margin: 0 0.25em; line-height: 1; border-radius: 0.35em; box-decoration-break: clone; -webkit-box-decoration-break: clone\">\n",
       "    News Corp\n",
       "    <span style=\"font-size: 0.8em; font-weight: bold; line-height: 1; border-radius: 0.35em; text-transform: uppercase; vertical-align: middle; margin-left: 0.5rem\">ORG (NWSA)</span>\n",
       "</mark>\n",
       " spokeswoman Julie Henderson. The most obvious manifestation of this strategy is Murdoch's latest digital baby, The Daily, this time built from the ground up. The Daily is a digital only news 'paper' designed specifically for tablets such as \n",
       "<mark class=\"entity\" style=\"background: rgb(179, 226, 205); padding: 0.45em 0.6em; margin: 0 0.25em; line-height: 1; border-radius: 0.35em; box-decoration-break: clone; -webkit-box-decoration-break: clone\">\n",
       "    Apple\n",
       "    <span style=\"font-size: 0.8em; font-weight: bold; line-height: 1; border-radius: 0.35em; text-transform: uppercase; vertical-align: middle; margin-left: 0.5rem\">ORG (AAPL)</span>\n",
       "</mark>\n",
       "'s iPad. Miller is charged with making this latest digital venture work, but it has gotten off to an uncertain start. Outside of that, \n",
       "<mark class=\"entity\" style=\"background: rgb(244, 202, 228); padding: 0.45em 0.6em; margin: 0 0.25em; line-height: 1; border-radius: 0.35em; box-decoration-break: clone; -webkit-box-decoration-break: clone\">\n",
       "    News Corp\n",
       "    <span style=\"font-size: 0.8em; font-weight: bold; line-height: 1; border-radius: 0.35em; text-transform: uppercase; vertical-align: middle; margin-left: 0.5rem\">ORG (NWSA)</span>\n",
       "</mark>\n",
       " is infusing digital capabilities throughout its existing businesses rather than looking to buy the next \n",
       "<mark class=\"entity\" style=\"background: rgb(253, 205, 172); padding: 0.45em 0.6em; margin: 0 0.25em; line-height: 1; border-radius: 0.35em; box-decoration-break: clone; -webkit-box-decoration-break: clone\">\n",
       "    Facebook\n",
       "    <span style=\"font-size: 0.8em; font-weight: bold; line-height: 1; border-radius: 0.35em; text-transform: uppercase; vertical-align: middle; margin-left: 0.5rem\">ORG (FB)</span>\n",
       "</mark>\n",
       " or Myspace. \"The digital challenge for all media companies right now is in their core businesses. It's not about what they can bolt on, but rather how they preserve the economics of their businesses and deal with fundamental issues that affect the entirety of the business,\" said \n",
       "<mark class=\"entity\" style=\"background: rgb(244, 202, 228); padding: 0.45em 0.6em; margin: 0 0.25em; line-height: 1; border-radius: 0.35em; box-decoration-break: clone; -webkit-box-decoration-break: clone\">\n",
       "    News Corp's\n",
       "    <span style=\"font-size: 0.8em; font-weight: bold; line-height: 1; border-radius: 0.35em; text-transform: uppercase; vertical-align: middle; margin-left: 0.5rem\">ORG (NWSA)</span>\n",
       "</mark>\n",
       " digital chief Miller. \"Bolting on additional lines of businesses in areas where they don't have expertise is hard.\" \n",
       "<mark class=\"entity\" style=\"background: rgb(244, 202, 228); padding: 0.45em 0.6em; margin: 0 0.25em; line-height: 1; border-radius: 0.35em; box-decoration-break: clone; -webkit-box-decoration-break: clone\">\n",
       "    News Corp\n",
       "    <span style=\"font-size: 0.8em; font-weight: bold; line-height: 1; border-radius: 0.35em; text-transform: uppercase; vertical-align: middle; margin-left: 0.5rem\">ORG (NWSA)</span>\n",
       "</mark>\n",
       " executives generally speak of Myspace in the past tense even though both in public and in private conversations with Reuters they argued that Myspace might still have a future within \n",
       "<mark class=\"entity\" style=\"background: rgb(244, 202, 228); padding: 0.45em 0.6em; margin: 0 0.25em; line-height: 1; border-radius: 0.35em; box-decoration-break: clone; -webkit-box-decoration-break: clone\">\n",
       "    News Corp\n",
       "    <span style=\"font-size: 0.8em; font-weight: bold; line-height: 1; border-radius: 0.35em; text-transform: uppercase; vertical-align: middle; margin-left: 0.5rem\">ORG (NWSA)</span>\n",
       "</mark>\n",
       " -- something that seems increasingly unlikely after the company appointed boutique investment bank Allen & Co to explore options that could include a sale or a spin-off into some sort of joint venture. \"The best thing for Myspace will be a situation where it can have the time and space to pursue its destiny -- and one that, frankly, removes the constant spotlight,\" said Miller. The new focus on social entertainment means Myspace will attract a different kind of user and initially less traffic, say current \n",
       "<mark class=\"entity\" style=\"background: rgb(244, 202, 228); padding: 0.45em 0.6em; margin: 0 0.25em; line-height: 1; border-radius: 0.35em; box-decoration-break: clone; -webkit-box-decoration-break: clone\">\n",
       "    News Corp\n",
       "    <span style=\"font-size: 0.8em; font-weight: bold; line-height: 1; border-radius: 0.35em; text-transform: uppercase; vertical-align: middle; margin-left: 0.5rem\">ORG (NWSA)</span>\n",
       "</mark>\n",
       " and Myspace executives. \"We expected that in changing the strategy we were going to have a big change in the audience,\" said Myspace CEO Jones. \"The entertainment category is a really big category if we get the concept right -- but it's just going to take time.\" Time that \n",
       "<mark class=\"entity\" style=\"background: rgb(244, 202, 228); padding: 0.45em 0.6em; margin: 0 0.25em; line-height: 1; border-radius: 0.35em; box-decoration-break: clone; -webkit-box-decoration-break: clone\">\n",
       "    News Corp\n",
       "    <span style=\"font-size: 0.8em; font-weight: bold; line-height: 1; border-radius: 0.35em; text-transform: uppercase; vertical-align: middle; margin-left: 0.5rem\">ORG (NWSA)</span>\n",
       "</mark>\n",
       " may not be willing to wait. (Reporting by Yinka Adegoke; editing by  Kenneth Li ,  Paul Thomasch , Jim Impoco and  Claudia Parsons )</div>"
      ],
      "text/plain": [
       "<IPython.core.display.HTML object>"
      ]
     },
     "metadata": {},
     "output_type": "display_data"
    },
    {
     "name": "stdout",
     "output_type": "stream",
     "text": [
      "time: 5.63 s\n"
     ]
    }
   ],
   "source": [
    "found_entities = nlp_utils.find_nyse_corporations(reuters.loc[61727][2], quiet=False)"
   ]
  },
  {
   "cell_type": "markdown",
   "metadata": {},
   "source": [
    "### Apply on Bloomberg Article"
   ]
  },
  {
   "cell_type": "code",
   "execution_count": null,
   "metadata": {
    "scrolled": true
   },
   "outputs": [],
   "source": [
    "# idxmax bloomberg: 316777  (AAPL 1, FB 79, JPM 1, MSFT 1, MS 7)\n",
    "bloomberg = pd.read_csv(BLOOMBERG, skiprows=316777, nrows=1, index_col=0)\n",
    "# print(bloomberg.loc[316777][2])"
   ]
  },
  {
   "cell_type": "code",
   "execution_count": null,
   "metadata": {},
   "outputs": [],
   "source": [
    "found_entities = nlp_utils.find_nyse_corporations(bloomberg.loc[316777][2], quiet=False)"
   ]
  },
  {
   "cell_type": "markdown",
   "metadata": {},
   "source": [
    "### Fix matches for short company name (3M matches too many strings)"
   ]
  },
  {
   "cell_type": "code",
   "execution_count": 155,
   "metadata": {},
   "outputs": [
    {
     "name": "stdout",
     "output_type": "stream",
     "text": [
      "time: 2.41 s\n"
     ]
    }
   ],
   "source": [
    "occ_b = pd.read_csv('occurrences-bloomberg-v2.csv', index_col=0)\n",
    "# 32189 entries, this problem seems to only exist for 3M co. [MMM]\n",
    "cleaned_up = occ_b[(occ_b['stock_symbol'] != 'MMM') | occ_b.match_text.str.contains('3M')]\n",
    "# cleaned_up.to_csv('occurrences-bloomberg-v2.csv')"
   ]
  },
  {
   "cell_type": "code",
   "execution_count": 156,
   "metadata": {},
   "outputs": [
    {
     "name": "stdout",
     "output_type": "stream",
     "text": [
      "time: 1.92 s\n"
     ]
    }
   ],
   "source": [
    "occ_r = pd.read_csv('occurrences-reuters-v2.csv', index_col=0)\n",
    "# 5751 entries, this problem seems to only exist for 3M co. [MMM]\n",
    "cleaned_up = occ_r[(occ_r['stock_symbol'] != 'MMM') | occ_r.match_text.str.contains('3M')]\n",
    "# cleaned_up.to_csv('occurrences-reuters-v2.csv')"
   ]
  },
  {
   "cell_type": "markdown",
   "metadata": {},
   "source": [
    "### Calculate Cooccurrences"
   ]
  },
  {
   "cell_type": "code",
   "execution_count": 269,
   "metadata": {},
   "outputs": [
    {
     "name": "stdout",
     "output_type": "stream",
     "text": [
      "time: 688 ms\n"
     ]
    }
   ],
   "source": [
    "def get_cooccurrences(occs):\n",
    "    grouped = occs.groupby(['article_id', 'stock_symbol'], sort=False)\n",
    "    occ_per_article = grouped.size().reset_index().pivot('article_id', 'stock_symbol').fillna(0).astype(int)\n",
    "    occ_per_article.columns = occ_per_article.columns.droplevel(0)\n",
    "    comp_does_occure = (occ_per_article != 0).astype(int)\n",
    "    cooc = comp_does_occure.T.dot(comp_does_occure)\n",
    "    # comps_article_counts = np.diag(cooc)  # (occ_per_article != 0).astype(int).sum(axis=0)\n",
    "    np.fill_diagonal(cooc.values, 0)\n",
    "    return cooc\n",
    "\n",
    "occs_b = pd.read_csv('occurrences-bloomberg-v2.csv', index_col=0)\n",
    "occs_r = pd.read_csv('occurrences-reuters-v2.csv', index_col=0)\n",
    "occs = pd.concat([occs_b, occs_r]).reset_index(drop=True)"
   ]
  },
  {
   "cell_type": "code",
   "execution_count": 201,
   "metadata": {},
   "outputs": [
    {
     "name": "stdout",
     "output_type": "stream",
     "text": [
      "time: 19.6 s\n"
     ]
    }
   ],
   "source": [
    "# cooc_r = get_cooccurrences(occs_r)\n",
    "# cooc_b = get_cooccurrences(occs_b)\n",
    "coocs = get_cooccurrences(occs)"
   ]
  },
  {
   "cell_type": "code",
   "execution_count": 288,
   "metadata": {},
   "outputs": [
    {
     "data": {
      "text/html": [
       "<div>\n",
       "<style scoped>\n",
       "    .dataframe tbody tr th:only-of-type {\n",
       "        vertical-align: middle;\n",
       "    }\n",
       "\n",
       "    .dataframe tbody tr th {\n",
       "        vertical-align: top;\n",
       "    }\n",
       "\n",
       "    .dataframe thead th {\n",
       "        text-align: right;\n",
       "    }\n",
       "</style>\n",
       "<table border=\"1\" class=\"dataframe\">\n",
       "  <thead>\n",
       "    <tr style=\"text-align: right;\">\n",
       "      <th></th>\n",
       "      <th>Comp A</th>\n",
       "      <th>Comp B</th>\n",
       "      <th>Articles</th>\n",
       "    </tr>\n",
       "  </thead>\n",
       "  <tbody>\n",
       "    <tr>\n",
       "      <th>0</th>\n",
       "      <td>Bank of America Corp [BAC]</td>\n",
       "      <td>JPMorgan Chase &amp; Co. [JPM]</td>\n",
       "      <td>3132</td>\n",
       "    </tr>\n",
       "    <tr>\n",
       "      <th>5</th>\n",
       "      <td>Goldman Sachs Group [GS]</td>\n",
       "      <td>Morgan Stanley [MS]</td>\n",
       "      <td>2031</td>\n",
       "    </tr>\n",
       "    <tr>\n",
       "      <th>10</th>\n",
       "      <td>Citigroup Inc. [C]</td>\n",
       "      <td>Goldman Sachs Group [GS]</td>\n",
       "      <td>1480</td>\n",
       "    </tr>\n",
       "    <tr>\n",
       "      <th>15</th>\n",
       "      <td>Microsoft Corp. [MSFT]</td>\n",
       "      <td>Yahoo Inc. [YHOO]</td>\n",
       "      <td>1101</td>\n",
       "    </tr>\n",
       "    <tr>\n",
       "      <th>20</th>\n",
       "      <td>Chevron Corp. [CVX]</td>\n",
       "      <td>Exxon Mobil Corp. [XOM]</td>\n",
       "      <td>656</td>\n",
       "    </tr>\n",
       "    <tr>\n",
       "      <th>25</th>\n",
       "      <td>Target Corp. [TGT]</td>\n",
       "      <td>Wal-Mart Stores [WMT]</td>\n",
       "      <td>531</td>\n",
       "    </tr>\n",
       "    <tr>\n",
       "      <th>30</th>\n",
       "      <td>American Airlines Group [AAL]</td>\n",
       "      <td>Delta Air Lines [DAL]</td>\n",
       "      <td>437</td>\n",
       "    </tr>\n",
       "    <tr>\n",
       "      <th>35</th>\n",
       "      <td>Apple Inc. [AAPL]</td>\n",
       "      <td>Goldman Sachs Group [GS]</td>\n",
       "      <td>352</td>\n",
       "    </tr>\n",
       "    <tr>\n",
       "      <th>40</th>\n",
       "      <td>Amazon.com Inc [AMZN]</td>\n",
       "      <td>Microsoft Corp. [MSFT]</td>\n",
       "      <td>315</td>\n",
       "    </tr>\n",
       "    <tr>\n",
       "      <th>45</th>\n",
       "      <td>Microsoft Corp. [MSFT]</td>\n",
       "      <td>AT&amp;T Inc [T]</td>\n",
       "      <td>278</td>\n",
       "    </tr>\n",
       "  </tbody>\n",
       "</table>\n",
       "</div>"
      ],
      "text/plain": [
       "                           Comp A                      Comp B  Articles\n",
       "0      Bank of America Corp [BAC]  JPMorgan Chase & Co. [JPM]      3132\n",
       "5        Goldman Sachs Group [GS]         Morgan Stanley [MS]      2031\n",
       "10             Citigroup Inc. [C]    Goldman Sachs Group [GS]      1480\n",
       "15         Microsoft Corp. [MSFT]           Yahoo Inc. [YHOO]      1101\n",
       "20            Chevron Corp. [CVX]     Exxon Mobil Corp. [XOM]       656\n",
       "25             Target Corp. [TGT]       Wal-Mart Stores [WMT]       531\n",
       "30  American Airlines Group [AAL]       Delta Air Lines [DAL]       437\n",
       "35              Apple Inc. [AAPL]    Goldman Sachs Group [GS]       352\n",
       "40          Amazon.com Inc [AMZN]      Microsoft Corp. [MSFT]       315\n",
       "45         Microsoft Corp. [MSFT]                AT&T Inc [T]       278"
      ]
     },
     "execution_count": 288,
     "metadata": {},
     "output_type": "execute_result"
    },
    {
     "name": "stdout",
     "output_type": "stream",
     "text": [
      "time: 190 ms\n"
     ]
    }
   ],
   "source": [
    "top[::5].head(10)"
   ]
  },
  {
   "cell_type": "code",
   "execution_count": 273,
   "metadata": {},
   "outputs": [
    {
     "name": "stdout",
     "output_type": "stream",
     "text": [
      "time: 456 ms\n"
     ]
    }
   ],
   "source": [
    "coocs.to_csv('cooccurrences.csv')"
   ]
  },
  {
   "cell_type": "code",
   "execution_count": 280,
   "metadata": {
    "scrolled": true
   },
   "outputs": [
    {
     "data": {
      "text/html": [
       "<div>\n",
       "<style scoped>\n",
       "    .dataframe tbody tr th:only-of-type {\n",
       "        vertical-align: middle;\n",
       "    }\n",
       "\n",
       "    .dataframe tbody tr th {\n",
       "        vertical-align: top;\n",
       "    }\n",
       "\n",
       "    .dataframe thead th {\n",
       "        text-align: right;\n",
       "    }\n",
       "</style>\n",
       "<table border=\"1\" class=\"dataframe\">\n",
       "  <thead>\n",
       "    <tr style=\"text-align: right;\">\n",
       "      <th></th>\n",
       "      <th>Comp A</th>\n",
       "      <th>Comp B</th>\n",
       "      <th>Articles</th>\n",
       "    </tr>\n",
       "  </thead>\n",
       "  <tbody>\n",
       "    <tr>\n",
       "      <th>0</th>\n",
       "      <td>Bank of America Corp [BAC]</td>\n",
       "      <td>JPMorgan Chase &amp; Co. [JPM]</td>\n",
       "      <td>3132</td>\n",
       "    </tr>\n",
       "    <tr>\n",
       "      <th>1</th>\n",
       "      <td>Bank of America Corp [BAC]</td>\n",
       "      <td>Citigroup Inc. [C]</td>\n",
       "      <td>2951</td>\n",
       "    </tr>\n",
       "    <tr>\n",
       "      <th>2</th>\n",
       "      <td>Citigroup Inc. [C]</td>\n",
       "      <td>JPMorgan Chase &amp; Co. [JPM]</td>\n",
       "      <td>2679</td>\n",
       "    </tr>\n",
       "    <tr>\n",
       "      <th>3</th>\n",
       "      <td>Citigroup Inc. [C]</td>\n",
       "      <td>Morgan Stanley [MS]</td>\n",
       "      <td>2292</td>\n",
       "    </tr>\n",
       "    <tr>\n",
       "      <th>4</th>\n",
       "      <td>Apple Inc. [AAPL]</td>\n",
       "      <td>Microsoft Corp. [MSFT]</td>\n",
       "      <td>2093</td>\n",
       "    </tr>\n",
       "    <tr>\n",
       "      <th>5</th>\n",
       "      <td>Goldman Sachs Group [GS]</td>\n",
       "      <td>Morgan Stanley [MS]</td>\n",
       "      <td>2031</td>\n",
       "    </tr>\n",
       "    <tr>\n",
       "      <th>6</th>\n",
       "      <td>JPMorgan Chase &amp; Co. [JPM]</td>\n",
       "      <td>Morgan Stanley [MS]</td>\n",
       "      <td>1965</td>\n",
       "    </tr>\n",
       "    <tr>\n",
       "      <th>7</th>\n",
       "      <td>Bank of America Corp [BAC]</td>\n",
       "      <td>Morgan Stanley [MS]</td>\n",
       "      <td>1915</td>\n",
       "    </tr>\n",
       "    <tr>\n",
       "      <th>8</th>\n",
       "      <td>Bank of America Corp [BAC]</td>\n",
       "      <td>Wells Fargo [WFC]</td>\n",
       "      <td>1613</td>\n",
       "    </tr>\n",
       "    <tr>\n",
       "      <th>9</th>\n",
       "      <td>Goldman Sachs Group [GS]</td>\n",
       "      <td>JPMorgan Chase &amp; Co. [JPM]</td>\n",
       "      <td>1504</td>\n",
       "    </tr>\n",
       "    <tr>\n",
       "      <th>10</th>\n",
       "      <td>Citigroup Inc. [C]</td>\n",
       "      <td>Goldman Sachs Group [GS]</td>\n",
       "      <td>1480</td>\n",
       "    </tr>\n",
       "    <tr>\n",
       "      <th>11</th>\n",
       "      <td>Ford Motor [F]</td>\n",
       "      <td>General Motors [GM]</td>\n",
       "      <td>1440</td>\n",
       "    </tr>\n",
       "    <tr>\n",
       "      <th>12</th>\n",
       "      <td>Bank of America Corp [BAC]</td>\n",
       "      <td>Goldman Sachs Group [GS]</td>\n",
       "      <td>1439</td>\n",
       "    </tr>\n",
       "    <tr>\n",
       "      <th>13</th>\n",
       "      <td>JPMorgan Chase &amp; Co. [JPM]</td>\n",
       "      <td>Wells Fargo [WFC]</td>\n",
       "      <td>1205</td>\n",
       "    </tr>\n",
       "    <tr>\n",
       "      <th>14</th>\n",
       "      <td>Citigroup Inc. [C]</td>\n",
       "      <td>Wells Fargo [WFC]</td>\n",
       "      <td>1157</td>\n",
       "    </tr>\n",
       "    <tr>\n",
       "      <th>15</th>\n",
       "      <td>Microsoft Corp. [MSFT]</td>\n",
       "      <td>Yahoo Inc. [YHOO]</td>\n",
       "      <td>1101</td>\n",
       "    </tr>\n",
       "    <tr>\n",
       "      <th>16</th>\n",
       "      <td>Apple Inc. [AAPL]</td>\n",
       "      <td>Facebook [FB]</td>\n",
       "      <td>848</td>\n",
       "    </tr>\n",
       "    <tr>\n",
       "      <th>17</th>\n",
       "      <td>Apple Inc. [AAPL]</td>\n",
       "      <td>AT&amp;T Inc [T]</td>\n",
       "      <td>761</td>\n",
       "    </tr>\n",
       "    <tr>\n",
       "      <th>18</th>\n",
       "      <td>Facebook [FB]</td>\n",
       "      <td>Microsoft Corp. [MSFT]</td>\n",
       "      <td>701</td>\n",
       "    </tr>\n",
       "    <tr>\n",
       "      <th>19</th>\n",
       "      <td>Apple Inc. [AAPL]</td>\n",
       "      <td>Intel Corp. [INTC]</td>\n",
       "      <td>691</td>\n",
       "    </tr>\n",
       "    <tr>\n",
       "      <th>20</th>\n",
       "      <td>Chevron Corp. [CVX]</td>\n",
       "      <td>Exxon Mobil Corp. [XOM]</td>\n",
       "      <td>656</td>\n",
       "    </tr>\n",
       "    <tr>\n",
       "      <th>21</th>\n",
       "      <td>Apple Inc. [AAPL]</td>\n",
       "      <td>Amazon.com Inc [AMZN]</td>\n",
       "      <td>622</td>\n",
       "    </tr>\n",
       "    <tr>\n",
       "      <th>22</th>\n",
       "      <td>Intel Corp. [INTC]</td>\n",
       "      <td>Microsoft Corp. [MSFT]</td>\n",
       "      <td>607</td>\n",
       "    </tr>\n",
       "    <tr>\n",
       "      <th>23</th>\n",
       "      <td>Morgan Stanley [MS]</td>\n",
       "      <td>Wells Fargo [WFC]</td>\n",
       "      <td>588</td>\n",
       "    </tr>\n",
       "    <tr>\n",
       "      <th>24</th>\n",
       "      <td>Facebook [FB]</td>\n",
       "      <td>Yahoo Inc. [YHOO]</td>\n",
       "      <td>547</td>\n",
       "    </tr>\n",
       "    <tr>\n",
       "      <th>25</th>\n",
       "      <td>Target Corp. [TGT]</td>\n",
       "      <td>Wal-Mart Stores [WMT]</td>\n",
       "      <td>531</td>\n",
       "    </tr>\n",
       "    <tr>\n",
       "      <th>26</th>\n",
       "      <td>Apple Inc. [AAPL]</td>\n",
       "      <td>Bank of America Corp [BAC]</td>\n",
       "      <td>501</td>\n",
       "    </tr>\n",
       "    <tr>\n",
       "      <th>27</th>\n",
       "      <td>Goldman Sachs Group [GS]</td>\n",
       "      <td>Wells Fargo [WFC]</td>\n",
       "      <td>471</td>\n",
       "    </tr>\n",
       "    <tr>\n",
       "      <th>28</th>\n",
       "      <td>Apple Inc. [AAPL]</td>\n",
       "      <td>Citigroup Inc. [C]</td>\n",
       "      <td>467</td>\n",
       "    </tr>\n",
       "    <tr>\n",
       "      <th>29</th>\n",
       "      <td>Apple Inc. [AAPL]</td>\n",
       "      <td>JPMorgan Chase &amp; Co. [JPM]</td>\n",
       "      <td>446</td>\n",
       "    </tr>\n",
       "    <tr>\n",
       "      <th>...</th>\n",
       "      <td>...</td>\n",
       "      <td>...</td>\n",
       "      <td>...</td>\n",
       "    </tr>\n",
       "    <tr>\n",
       "      <th>70</th>\n",
       "      <td>General Motors [GM]</td>\n",
       "      <td>JPMorgan Chase &amp; Co. [JPM]</td>\n",
       "      <td>220</td>\n",
       "    </tr>\n",
       "    <tr>\n",
       "      <th>71</th>\n",
       "      <td>Apple Inc. [AAPL]</td>\n",
       "      <td>Caterpillar Inc. [CAT]</td>\n",
       "      <td>219</td>\n",
       "    </tr>\n",
       "    <tr>\n",
       "      <th>72</th>\n",
       "      <td>BlackRock [BLK]</td>\n",
       "      <td>JPMorgan Chase &amp; Co. [JPM]</td>\n",
       "      <td>217</td>\n",
       "    </tr>\n",
       "    <tr>\n",
       "      <th>73</th>\n",
       "      <td>International Business Machines [IBM]</td>\n",
       "      <td>Microsoft Corp. [MSFT]</td>\n",
       "      <td>214</td>\n",
       "    </tr>\n",
       "    <tr>\n",
       "      <th>74</th>\n",
       "      <td>CBS Corp. [CBS]</td>\n",
       "      <td>News Corp. [NWSA]</td>\n",
       "      <td>212</td>\n",
       "    </tr>\n",
       "    <tr>\n",
       "      <th>75</th>\n",
       "      <td>Apple Inc. [AAPL]</td>\n",
       "      <td>Boeing Company [BA]</td>\n",
       "      <td>211</td>\n",
       "    </tr>\n",
       "    <tr>\n",
       "      <th>76</th>\n",
       "      <td>American Express Co [AXP]</td>\n",
       "      <td>Citigroup Inc. [C]</td>\n",
       "      <td>209</td>\n",
       "    </tr>\n",
       "    <tr>\n",
       "      <th>77</th>\n",
       "      <td>General Motors [GM]</td>\n",
       "      <td>Goldman Sachs Group [GS]</td>\n",
       "      <td>208</td>\n",
       "    </tr>\n",
       "    <tr>\n",
       "      <th>78</th>\n",
       "      <td>Citigroup Inc. [C]</td>\n",
       "      <td>Microsoft Corp. [MSFT]</td>\n",
       "      <td>207</td>\n",
       "    </tr>\n",
       "    <tr>\n",
       "      <th>79</th>\n",
       "      <td>Bank of America Corp [BAC]</td>\n",
       "      <td>Intel Corp. [INTC]</td>\n",
       "      <td>205</td>\n",
       "    </tr>\n",
       "    <tr>\n",
       "      <th>80</th>\n",
       "      <td>Comcast A Corp [CMCSA]</td>\n",
       "      <td>AT&amp;T Inc [T]</td>\n",
       "      <td>205</td>\n",
       "    </tr>\n",
       "    <tr>\n",
       "      <th>81</th>\n",
       "      <td>Apple Inc. [AAPL]</td>\n",
       "      <td>Cisco Systems [CSCO]</td>\n",
       "      <td>202</td>\n",
       "    </tr>\n",
       "    <tr>\n",
       "      <th>82</th>\n",
       "      <td>Apple Inc. [AAPL]</td>\n",
       "      <td>Wal-Mart Stores [WMT]</td>\n",
       "      <td>202</td>\n",
       "    </tr>\n",
       "    <tr>\n",
       "      <th>83</th>\n",
       "      <td>Bank of America Corp [BAC]</td>\n",
       "      <td>Caterpillar Inc. [CAT]</td>\n",
       "      <td>202</td>\n",
       "    </tr>\n",
       "    <tr>\n",
       "      <th>84</th>\n",
       "      <td>General Electric [GE]</td>\n",
       "      <td>United Technologies [UTX]</td>\n",
       "      <td>201</td>\n",
       "    </tr>\n",
       "    <tr>\n",
       "      <th>85</th>\n",
       "      <td>Citigroup Inc. [C]</td>\n",
       "      <td>Facebook [FB]</td>\n",
       "      <td>199</td>\n",
       "    </tr>\n",
       "    <tr>\n",
       "      <th>86</th>\n",
       "      <td>Apple Inc. [AAPL]</td>\n",
       "      <td>Verizon Communications [VZ]</td>\n",
       "      <td>198</td>\n",
       "    </tr>\n",
       "    <tr>\n",
       "      <th>87</th>\n",
       "      <td>Caterpillar Inc. [CAT]</td>\n",
       "      <td>General Electric [GE]</td>\n",
       "      <td>196</td>\n",
       "    </tr>\n",
       "    <tr>\n",
       "      <th>88</th>\n",
       "      <td>American International Group, Inc. [AIG]</td>\n",
       "      <td>Goldman Sachs Group [GS]</td>\n",
       "      <td>195</td>\n",
       "    </tr>\n",
       "    <tr>\n",
       "      <th>89</th>\n",
       "      <td>BlackRock [BLK]</td>\n",
       "      <td>Citigroup Inc. [C]</td>\n",
       "      <td>195</td>\n",
       "    </tr>\n",
       "    <tr>\n",
       "      <th>90</th>\n",
       "      <td>Boeing Company [BA]</td>\n",
       "      <td>Caterpillar Inc. [CAT]</td>\n",
       "      <td>193</td>\n",
       "    </tr>\n",
       "    <tr>\n",
       "      <th>91</th>\n",
       "      <td>News Corp. [NWSA]</td>\n",
       "      <td>Time Warner Inc. [TWX]</td>\n",
       "      <td>192</td>\n",
       "    </tr>\n",
       "    <tr>\n",
       "      <th>92</th>\n",
       "      <td>Bank of America Corp [BAC]</td>\n",
       "      <td>Berkshire Hathaway [BRK.B]</td>\n",
       "      <td>191</td>\n",
       "    </tr>\n",
       "    <tr>\n",
       "      <th>93</th>\n",
       "      <td>Cisco Systems [CSCO]</td>\n",
       "      <td>Microsoft Corp. [MSFT]</td>\n",
       "      <td>190</td>\n",
       "    </tr>\n",
       "    <tr>\n",
       "      <th>94</th>\n",
       "      <td>Apple Inc. [AAPL]</td>\n",
       "      <td>News Corp. [NWSA]</td>\n",
       "      <td>187</td>\n",
       "    </tr>\n",
       "    <tr>\n",
       "      <th>95</th>\n",
       "      <td>International Business Machines [IBM]</td>\n",
       "      <td>Intel Corp. [INTC]</td>\n",
       "      <td>186</td>\n",
       "    </tr>\n",
       "    <tr>\n",
       "      <th>96</th>\n",
       "      <td>General Electric [GE]</td>\n",
       "      <td>Microsoft Corp. [MSFT]</td>\n",
       "      <td>185</td>\n",
       "    </tr>\n",
       "    <tr>\n",
       "      <th>97</th>\n",
       "      <td>Apple Inc. [AAPL]</td>\n",
       "      <td>Oracle Corp. [ORCL]</td>\n",
       "      <td>184</td>\n",
       "    </tr>\n",
       "    <tr>\n",
       "      <th>98</th>\n",
       "      <td>Goldman Sachs Group [GS]</td>\n",
       "      <td>Intel Corp. [INTC]</td>\n",
       "      <td>184</td>\n",
       "    </tr>\n",
       "    <tr>\n",
       "      <th>99</th>\n",
       "      <td>Microsoft Corp. [MSFT]</td>\n",
       "      <td>News Corp. [NWSA]</td>\n",
       "      <td>184</td>\n",
       "    </tr>\n",
       "  </tbody>\n",
       "</table>\n",
       "<p>100 rows × 3 columns</p>\n",
       "</div>"
      ],
      "text/plain": [
       "                                      Comp A                       Comp B  \\\n",
       "0                 Bank of America Corp [BAC]   JPMorgan Chase & Co. [JPM]   \n",
       "1                 Bank of America Corp [BAC]           Citigroup Inc. [C]   \n",
       "2                         Citigroup Inc. [C]   JPMorgan Chase & Co. [JPM]   \n",
       "3                         Citigroup Inc. [C]          Morgan Stanley [MS]   \n",
       "4                          Apple Inc. [AAPL]       Microsoft Corp. [MSFT]   \n",
       "5                   Goldman Sachs Group [GS]          Morgan Stanley [MS]   \n",
       "6                 JPMorgan Chase & Co. [JPM]          Morgan Stanley [MS]   \n",
       "7                 Bank of America Corp [BAC]          Morgan Stanley [MS]   \n",
       "8                 Bank of America Corp [BAC]            Wells Fargo [WFC]   \n",
       "9                   Goldman Sachs Group [GS]   JPMorgan Chase & Co. [JPM]   \n",
       "10                        Citigroup Inc. [C]     Goldman Sachs Group [GS]   \n",
       "11                            Ford Motor [F]          General Motors [GM]   \n",
       "12                Bank of America Corp [BAC]     Goldman Sachs Group [GS]   \n",
       "13                JPMorgan Chase & Co. [JPM]            Wells Fargo [WFC]   \n",
       "14                        Citigroup Inc. [C]            Wells Fargo [WFC]   \n",
       "15                    Microsoft Corp. [MSFT]            Yahoo Inc. [YHOO]   \n",
       "16                         Apple Inc. [AAPL]                Facebook [FB]   \n",
       "17                         Apple Inc. [AAPL]                 AT&T Inc [T]   \n",
       "18                             Facebook [FB]       Microsoft Corp. [MSFT]   \n",
       "19                         Apple Inc. [AAPL]           Intel Corp. [INTC]   \n",
       "20                       Chevron Corp. [CVX]      Exxon Mobil Corp. [XOM]   \n",
       "21                         Apple Inc. [AAPL]        Amazon.com Inc [AMZN]   \n",
       "22                        Intel Corp. [INTC]       Microsoft Corp. [MSFT]   \n",
       "23                       Morgan Stanley [MS]            Wells Fargo [WFC]   \n",
       "24                             Facebook [FB]            Yahoo Inc. [YHOO]   \n",
       "25                        Target Corp. [TGT]        Wal-Mart Stores [WMT]   \n",
       "26                         Apple Inc. [AAPL]   Bank of America Corp [BAC]   \n",
       "27                  Goldman Sachs Group [GS]            Wells Fargo [WFC]   \n",
       "28                         Apple Inc. [AAPL]           Citigroup Inc. [C]   \n",
       "29                         Apple Inc. [AAPL]   JPMorgan Chase & Co. [JPM]   \n",
       "..                                       ...                          ...   \n",
       "70                       General Motors [GM]   JPMorgan Chase & Co. [JPM]   \n",
       "71                         Apple Inc. [AAPL]       Caterpillar Inc. [CAT]   \n",
       "72                           BlackRock [BLK]   JPMorgan Chase & Co. [JPM]   \n",
       "73     International Business Machines [IBM]       Microsoft Corp. [MSFT]   \n",
       "74                           CBS Corp. [CBS]            News Corp. [NWSA]   \n",
       "75                         Apple Inc. [AAPL]          Boeing Company [BA]   \n",
       "76                 American Express Co [AXP]           Citigroup Inc. [C]   \n",
       "77                       General Motors [GM]     Goldman Sachs Group [GS]   \n",
       "78                        Citigroup Inc. [C]       Microsoft Corp. [MSFT]   \n",
       "79                Bank of America Corp [BAC]           Intel Corp. [INTC]   \n",
       "80                    Comcast A Corp [CMCSA]                 AT&T Inc [T]   \n",
       "81                         Apple Inc. [AAPL]         Cisco Systems [CSCO]   \n",
       "82                         Apple Inc. [AAPL]        Wal-Mart Stores [WMT]   \n",
       "83                Bank of America Corp [BAC]       Caterpillar Inc. [CAT]   \n",
       "84                     General Electric [GE]    United Technologies [UTX]   \n",
       "85                        Citigroup Inc. [C]                Facebook [FB]   \n",
       "86                         Apple Inc. [AAPL]  Verizon Communications [VZ]   \n",
       "87                    Caterpillar Inc. [CAT]        General Electric [GE]   \n",
       "88  American International Group, Inc. [AIG]     Goldman Sachs Group [GS]   \n",
       "89                           BlackRock [BLK]           Citigroup Inc. [C]   \n",
       "90                       Boeing Company [BA]       Caterpillar Inc. [CAT]   \n",
       "91                         News Corp. [NWSA]       Time Warner Inc. [TWX]   \n",
       "92                Bank of America Corp [BAC]   Berkshire Hathaway [BRK.B]   \n",
       "93                      Cisco Systems [CSCO]       Microsoft Corp. [MSFT]   \n",
       "94                         Apple Inc. [AAPL]            News Corp. [NWSA]   \n",
       "95     International Business Machines [IBM]           Intel Corp. [INTC]   \n",
       "96                     General Electric [GE]       Microsoft Corp. [MSFT]   \n",
       "97                         Apple Inc. [AAPL]          Oracle Corp. [ORCL]   \n",
       "98                  Goldman Sachs Group [GS]           Intel Corp. [INTC]   \n",
       "99                    Microsoft Corp. [MSFT]            News Corp. [NWSA]   \n",
       "\n",
       "    Articles  \n",
       "0       3132  \n",
       "1       2951  \n",
       "2       2679  \n",
       "3       2292  \n",
       "4       2093  \n",
       "5       2031  \n",
       "6       1965  \n",
       "7       1915  \n",
       "8       1613  \n",
       "9       1504  \n",
       "10      1480  \n",
       "11      1440  \n",
       "12      1439  \n",
       "13      1205  \n",
       "14      1157  \n",
       "15      1101  \n",
       "16       848  \n",
       "17       761  \n",
       "18       701  \n",
       "19       691  \n",
       "20       656  \n",
       "21       622  \n",
       "22       607  \n",
       "23       588  \n",
       "24       547  \n",
       "25       531  \n",
       "26       501  \n",
       "27       471  \n",
       "28       467  \n",
       "29       446  \n",
       "..       ...  \n",
       "70       220  \n",
       "71       219  \n",
       "72       217  \n",
       "73       214  \n",
       "74       212  \n",
       "75       211  \n",
       "76       209  \n",
       "77       208  \n",
       "78       207  \n",
       "79       205  \n",
       "80       205  \n",
       "81       202  \n",
       "82       202  \n",
       "83       202  \n",
       "84       201  \n",
       "85       199  \n",
       "86       198  \n",
       "87       196  \n",
       "88       195  \n",
       "89       195  \n",
       "90       193  \n",
       "91       192  \n",
       "92       191  \n",
       "93       190  \n",
       "94       187  \n",
       "95       186  \n",
       "96       185  \n",
       "97       184  \n",
       "98       184  \n",
       "99       184  \n",
       "\n",
       "[100 rows x 3 columns]"
      ]
     },
     "execution_count": 280,
     "metadata": {},
     "output_type": "execute_result"
    },
    {
     "name": "stdout",
     "output_type": "stream",
     "text": [
      "time: 983 ms\n"
     ]
    }
   ],
   "source": [
    "top = coocs.stack()\n",
    "top.index.levels[0].name = 'Comp A'\n",
    "top.index.levels[1].name = 'Comp B'\n",
    "top = top[[p[0] < p[1] for p, v in top.iteritems()]].nlargest(100)\n",
    "# print('\\n'.join([\n",
    "#     f\"'{securities_ds.get_company_name(pair[0])}[{pair[0]}]' and '{securities_ds.get_company_name(pair[1])}[{pair[1]}]' occur in {value} articles\"\n",
    "#     for pair, value in top.nlargest(10).iteritems()]))\n",
    "top = top.reset_index()\n",
    "top.columns = list(top.columns[:2]) + ['Articles']\n",
    "top['Comp A'] = [f'{securities_ds.get_company_name(x)} [{x}]' for x in top['Comp A']]\n",
    "top['Comp B'] = [f'{securities_ds.get_company_name(x)} [{x}]' for x in top['Comp B']]\n",
    "top"
   ]
  },
  {
   "cell_type": "markdown",
   "metadata": {},
   "source": [
    "## Reading and analysing high important articles"
   ]
  },
  {
   "cell_type": "code",
   "execution_count": null,
   "metadata": {},
   "outputs": [],
   "source": [
    "def get_article(idx):\n",
    "    return pd.read_csv(BLOOMBERG, skiprows=idx, nrows=1, index_col=0).loc[idx][2]\n",
    "\n",
    "reuters = pd.read_csv(REUTERS, index_col=0)\n",
    "reuters = reuters[reuters['content'].notna()]\n",
    "# bloomberg = pd.read_csv(BLOOMBERG, index_col=0)"
   ]
  }
 ],
 "metadata": {
  "kernelspec": {
   "display_name": "Python 3",
   "language": "python",
   "name": "python3"
  },
  "language_info": {
   "codemirror_mode": {
    "name": "ipython",
    "version": 3
   },
   "file_extension": ".py",
   "mimetype": "text/x-python",
   "name": "python",
   "nbconvert_exporter": "python",
   "pygments_lexer": "ipython3",
   "version": "3.6.0"
  },
  "notify_time": "5"
 },
 "nbformat": 4,
 "nbformat_minor": 2
}
