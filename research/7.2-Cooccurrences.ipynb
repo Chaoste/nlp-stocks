{
 "cells": [
  {
   "cell_type": "markdown",
   "metadata": {
    "heading_collapsed": true
   },
   "source": [
    "### Setup"
   ]
  },
  {
   "cell_type": "markdown",
   "metadata": {
    "hidden": true
   },
   "source": [
    "- Generate cooccurrences (value represents number of articles in which two companies occur together)\n",
    "\n",
    "TODO:\n",
    "- Other measures for cooccurrence?"
   ]
  },
  {
   "cell_type": "code",
   "execution_count": 1,
   "metadata": {
    "hidden": true
   },
   "outputs": [
    {
     "name": "stderr",
     "output_type": "stream",
     "text": [
      "c:\\users\\thomas\\hpi\\ma\\venv\\lib\\importlib\\_bootstrap.py:205: RuntimeWarning: cymem.cymem.Pool size changed, may indicate binary incompatibility. Expected 48 from C header, got 64 from PyObject\n",
      "  return f(*args, **kwds)\n",
      "c:\\users\\thomas\\hpi\\ma\\venv\\lib\\importlib\\_bootstrap.py:205: RuntimeWarning: cymem.cymem.Address size changed, may indicate binary incompatibility. Expected 24 from C header, got 40 from PyObject\n",
      "  return f(*args, **kwds)\n",
      "c:\\users\\thomas\\hpi\\ma\\venv\\lib\\importlib\\_bootstrap.py:205: RuntimeWarning: cymem.cymem.Pool size changed, may indicate binary incompatibility. Expected 48 from C header, got 64 from PyObject\n",
      "  return f(*args, **kwds)\n",
      "c:\\users\\thomas\\hpi\\ma\\venv\\lib\\importlib\\_bootstrap.py:205: RuntimeWarning: cymem.cymem.Address size changed, may indicate binary incompatibility. Expected 24 from C header, got 40 from PyObject\n",
      "  return f(*args, **kwds)\n"
     ]
    }
   ],
   "source": [
    "import os\n",
    "import re\n",
    "import glob\n",
    "from datetime import datetime\n",
    "import sys\n",
    "sys.path.append(\"..\") # Adds higher directory to python modules path for importing from src dir\n",
    "\n",
    "import pandas as pd\n",
    "import numpy as np\n",
    "import tqdm\n",
    "import matplotlib\n",
    "from matplotlib import pyplot as plt\n",
    "from tqdm import tqdm_notebook as tqdm\n",
    "\n",
    "import spacy\n",
    "from spacy import displacy\n",
    "from collections import Counter\n",
    "import en_core_web_sm\n",
    "nlp = en_core_web_sm.load()\n",
    "\n",
    "from src.datasets import NyseStocksDataset, NyseSecuritiesDataset, NyseFundamentalsDataset\n",
    "import src.econometric_utils as eco\n",
    "import src.regression_utils as regr\n",
    "import src.plot_utils as plot\n",
    "import src.math_utils as math_utils\n",
    "import src.nlp_utils as nlp_utils\n",
    "import src.utils as utils\n",
    "\n",
    "%matplotlib inline\n",
    "%load_ext autotime\n",
    "%load_ext autoreload\n",
    "%autoreload 2"
   ]
  },
  {
   "cell_type": "code",
   "execution_count": 2,
   "metadata": {
    "hidden": true
   },
   "outputs": [
    {
     "data": {
      "application/vnd.jupyter.widget-view+json": {
       "model_id": "8ab8fbebdc4a4c19a3bb4915274597a7",
       "version_major": 2,
       "version_minor": 0
      },
      "text/plain": [
       "HBox(children=(IntProgress(value=0, max=470), HTML(value='')))"
      ]
     },
     "metadata": {},
     "output_type": "display_data"
    },
    {
     "name": "stdout",
     "output_type": "stream",
     "text": [
      "\n",
      "time: 11 s\n"
     ]
    }
   ],
   "source": [
    "stocks_ds = NyseStocksDataset(file_path='../data/nyse/prices-split-adjusted.csv')\n",
    "securities_ds = NyseSecuritiesDataset(file_path='../data/nyse/securities.csv')\n",
    "companies = securities_ds.get_all_company_names()  # List[Tuple[symbol, name]]\n",
    "stocks_ds.load()"
   ]
  },
  {
   "cell_type": "markdown",
   "metadata": {
    "heading_collapsed": true
   },
   "source": [
    "### Preprocess & Validate"
   ]
  },
  {
   "cell_type": "code",
   "execution_count": null,
   "metadata": {
    "hidden": true
   },
   "outputs": [],
   "source": [
    "NEWS = os.path.join(\"..\", \"data\", \"preprocessed\", \"news-v3.csv\")\n",
    "articles = pd.read_csv(NEWS, index_col=0)\n",
    "# articles = pd.read_csv(NEWS, index_col=0, nrows=people_occ.article_id.max()+50)\n",
    "# articles = pd.read_csv(NEWS, index_col=0, skiprows=range(1, people_occ.article_id.max()))\n",
    "# articles = articles[articles.index < 106519]"
   ]
  },
  {
   "cell_type": "code",
   "execution_count": null,
   "metadata": {
    "hidden": true
   },
   "outputs": [],
   "source": [
    "def find_increases(people_occ, article, add=0, strict=False):\n",
    "    increases = {}\n",
    "    pbar = tqdm(articles.index)\n",
    "    for article_id in pbar:\n",
    "        for i, row in people_occ[people_occ.article_id == article_id].iterrows():\n",
    "            if pd.isna(articles.loc[article_id+add].content) or articles.loc[article_id+add].content[row.start_idx:row.end_idx] != row.match_text:\n",
    "                if strict:\n",
    "                    raise ValueError(f'No match for {i} with {row.match_text} in article {article_id}')\n",
    "                j = 0\n",
    "                while j < 600 and (pd.isna(articles.loc[article_id+add+j].content) or articles.loc[article_id+add+j].content[row.start_idx:row.end_idx] != row.match_text):\n",
    "                    j += 1\n",
    "                add += j\n",
    "                assert articles.loc[article_id+add].content[row.start_idx:row.end_idx] == row.match_text, (article_id, i, j)\n",
    "                increases[article_id] = add\n",
    "                pbar.set_description(f'{article_id} -> {add}')\n",
    "                # print(article_id, add)\n",
    "        for i, row in comp_occ[comp_occ.article_id == article_id].iterrows():\n",
    "            assert articles.loc[article_id].content[row.start_idx:row.end_idx] == row.match_text\n",
    "    return increases\n",
    "\n",
    "# x = find_increases(people_occ_bb, articles)"
   ]
  },
  {
   "cell_type": "code",
   "execution_count": null,
   "metadata": {
    "hidden": true
   },
   "outputs": [],
   "source": [
    "for i, row in tqdm(people_occ.iterrows(), total=len(people_occ)):\n",
    "    assert articles.loc[row.article_id].content[row.start_idx:row.end_idx] == row.match_text"
   ]
  },
  {
   "cell_type": "code",
   "execution_count": null,
   "metadata": {
    "hidden": true
   },
   "outputs": [],
   "source": [
    "comp_names = securities_ds.get_all_company_names()\n",
    "assert all([com in comp_names.Name.values for com in people_occ.company.unique()]), 'Sanity Check: Valid company names'\n",
    "assert all(people_occ.notna().any()), 'Sanity Check: No missing values'"
   ]
  },
  {
   "cell_type": "markdown",
   "metadata": {
    "hidden": true
   },
   "source": [
    "TODO: Validate correctness article_ids, start_idx and end_idx\n",
    "\n",
    "TODO: Repeat after Bloomberg was added"
   ]
  },
  {
   "cell_type": "code",
   "execution_count": null,
   "metadata": {
    "hidden": true
   },
   "outputs": [],
   "source": [
    "for x in tqdm(comp_occ.match_text.values):\n",
    "    assert not securities_ds.get_most_similar_company(x, debug=True)[1], x"
   ]
  },
  {
   "cell_type": "markdown",
   "metadata": {
    "hidden": true
   },
   "source": [
    "Regarding Bloomberg Company Occ from Anacode:\n",
    "\n",
    "\n",
    "- Reuters ID: 0 to 106518\n",
    "- Bloomberg: b0 equals 106519, b448394 equals 554913 (shift by 106519)\n",
    "\n",
    "__Problems:__\n",
    "- Article matching: 2 should be 106520, 447759 should be 554904\n",
    "- The difference of ids shift increases by 626 -> counter appears to increase ID again and again (same as for reuters)\n",
    "- 490 companies (I only have 443)\n",
    "- Many false positives like 169 (Watson Pharam matches to WLTW in article 108(+106519)"
   ]
  },
  {
   "cell_type": "markdown",
   "metadata": {},
   "source": [
    "### Data"
   ]
  },
  {
   "cell_type": "code",
   "execution_count": 31,
   "metadata": {},
   "outputs": [
    {
     "name": "stdout",
     "output_type": "stream",
     "text": [
      "time: 43.4 s\n"
     ]
    }
   ],
   "source": [
    "all_correlations = pd.read_csv('../data/preprocessed/econometrics/correlations.csv', index_col=[0, 1])\n",
    "all_correlations.index.levels[1].name = None\n",
    "all_correlations = all_correlations[[a < b for a, b in all_correlations.index]]\n",
    "all_correlations.index = all_correlations.index.remove_unused_levels()\n",
    "\n",
    "comp_occ = pd.read_csv('../data/preprocessed/occurrences/occurrences.csv', index_col=0).reset_index(drop=True)\n",
    "# FIXME: Remove later\n",
    "# comp_occ = comp_occ[comp_occ.article_id <= 106493]\n",
    "comp_coocc = nlp_utils.get_cooccurrences(comp_occ).stack()\n",
    "comp_coocc = comp_coocc[[a < b for a, b in comp_coocc.index]]\n",
    "comp_coocc.index = comp_coocc.index.remove_unused_levels()"
   ]
  },
  {
   "cell_type": "code",
   "execution_count": 6,
   "metadata": {},
   "outputs": [
    {
     "name": "stdout",
     "output_type": "stream",
     "text": [
      "time: 233 ms\n"
     ]
    }
   ],
   "source": [
    "# ', '.join(map(lambda x: f'{x[0]}: {x[1]}', x.items()))\n",
    "increments_re = pd.Series({ 26944: 1, 55568: 2, 55624: 3, 56146: 4, 60323: 5, 68948: 6, 68978: 7, 72066: 8, 72779: 9, 74970: 10, 75163: 11, 75690: 12, 80466: 13, 81443: 14, 88575: 15, 89332: 16, 92712: 17, 94556: 18, 95271: 19, 95551: 20, 98957: 21, 99316: 22, 102077: 23, 102831: 24, 104671: 25 })\n",
    "increments_bb = pd.Series({ 107371: 6, 107384: 12, 107401: 13, 107423: 16, 107437: 23, 107458: 27, 107487: 34, 107502: 36, 107522: 38, 107546: 43, 107563: 45, 107585: 50, 107628: 63, 107638: 69, 107644: 70, 107651: 76, 107657: 78, 107702: 94, 107707: 97, 107733: 106, 107779: 124, 107803: 130, 107845: 191, 107892: 271, 107930: 273, 107942: 275, 107955: 276, 107964: 278, 107978: 282, 107990: 286, 108046: 287, 108251: 288, 108528: 289, 108566: 290, 108633: 292, 108753: 293, 108874: 296, 109128: 297, 109261: 299, 109442: 300, 109536: 302, 109639: 306, 109708: 308, 109922: 309, 110074: 310, 110236: 311, 110446: 312, 110496: 313, 110624: 314, 110754: 315, 110898: 316, 111111: 318, 111293: 319, 111436: 321, 111494: 322, 111675: 324, 111731: 326, 111882: 327, 112465: 329, 112616: 330, 112647: 331, 113071: 332, 113176: 333, 113321: 335, 113766: 338, 113846: 339, 113850: 340, 113942: 341, 114207: 343, 114657: 346, 114932: 349, 114980: 351, 115126: 352, 115217: 353, 115336: 354, 115487: 356, 115704: 359, 115865: 360, 116048: 361, 116136: 362, 116510: 364, 116669: 369, 116681: 370, 116866: 372, 117270: 374, 117559: 375, 117687: 377, 118014: 379, 118808: 382, 119147: 384, 119236: 385, 119256: 386, 119688: 388, 119843: 389, 119969: 390, 120140: 392, 120292: 393, 120356: 394, 120712: 396, 120965: 399, 121265: 400, 121535: 401, 121684: 402, 121791: 404, 122103: 405, 122435: 407, 122654: 408, 122879: 409, 123177: 410, 123739: 411, 123770: 412, 124177: 415, 124317: 416, 124398: 417, 124570: 418, 124581: 419, 124669: 420, 124938: 421, 125002: 422, 125394: 423, 125508: 424, 125617: 426, 125771: 427, 125827: 428, 126015: 434, 126103: 435, 126588: 436, 126740: 437, 126879: 439, 127110: 442, 127322: 444, 127485: 445, 127825: 447, 127929: 448, 128181: 451, 128322: 454, 128379: 457, 128480: 458, 128798: 459, 129010: 462, 129084: 463, 129205: 464, 129391: 465, 129624: 469, 129875: 471, 129905: 472, 130211: 475, 130499: 477, 130623: 478, 130798: 479, 130833: 480, 131088: 485, 131110: 486, 131229: 487, 131515: 489, 148956: 490, 149498: 493, 149513: 494, 149517: 495, 149787: 508, 149856: 510, 150010: 511, 151114: 512, 151344: 513, 151462: 514, 151640: 515, 151964: 520, 152008: 521, 152159: 522, 152211: 523, 152417: 524, 163470: 525, 163653: 526, 163662: 528, 167219: 530, 167253: 533, 167292: 546, 167366: 554, 167408: 555, 293997: 566, 294038: 579, 294068: 587, 294114: 590, 416623: 592, 416691: 593, 416820: 595, 416865: 596, 474335: 597, 474439: 598, 474626: 599, 474676: 600, 474787: 603, 487231: 605, 487458: 607, 487571: 608, 487655: 609, 487659: 610, 487686: 611, 487723: 612, 487758: 614, 487784: 616, 487906: 622, 488022: 626 })\n",
    "\n",
    "def get_increase(idx):\n",
    "    increments = increments_re if idx < 106535 else increments_bb\n",
    "    diffs = idx - increments.index\n",
    "    if all(diffs < 0):\n",
    "        return 0\n",
    "    return increments.iloc[diffs[diffs >= 0].argmin()]"
   ]
  },
  {
   "cell_type": "code",
   "execution_count": 7,
   "metadata": {},
   "outputs": [
    {
     "name": "stdout",
     "output_type": "stream",
     "text": [
      "time: 5.8 s\n"
     ]
    }
   ],
   "source": [
    "people_occ_re = pd.read_csv('../data/preprocessed/occurrences/occurrences-reuters-people-enriched.csv')\n",
    "people_occ_re = people_occ_re[people_occ_re.columns[2:]]\n",
    "people_occ_re.article_id += people_occ_re.article_id.apply(get_increase)\n",
    "\n",
    "people_occ_bb = pd.read_csv('../data/preprocessed/occurrences/occurrences-bloomberg-people-enriched.csv', index_col=0)\n",
    "people_occ_bb.article_id += 106519\n",
    "people_occ_bb.article_id += people_occ_bb.article_id.apply(get_increase)\n",
    "\n",
    "people_occ = pd.concat([people_occ_re, people_occ_bb])\n",
    "people_occ.reset_index(drop=True, inplace=True)\n",
    "\n",
    "name2symbol = dict([(com, securities_ds.get_company(com)) for com in people_occ.company.unique()])\n",
    "people_occ['stock_symbol'] = people_occ.company.apply(name2symbol.get)\n",
    "people_coocc = nlp_utils.get_cooccurrences(people_occ).stack()\n",
    "people_coocc = people_coocc[[a < b for a, b in people_coocc.index]]\n",
    "\n",
    "people_occ_train = people_occ[~people_occ.article_id.isin(article_ids_before_train)]\n",
    "people_coocc_train = nlp_utils.get_cooccurrences(people_occ_train).stack()\n",
    "people_coocc_train = people_coocc_train[[a < b for a, b in people_coocc_train.index]]"
   ]
  },
  {
   "cell_type": "code",
   "execution_count": null,
   "metadata": {},
   "outputs": [],
   "source": [
    "columns = ['article_id', 'start_idx', 'end_idx', 'stock_symbol']\n",
    "mixed_occ = pd.concat([comp_occ[columns], people_occ[columns]]).sort_values(['article_id', 'start_idx']).reset_index(drop=True)\n",
    "mixed_occ.drop_duplicates(['article_id', 'start_idx', 'end_idx'], inplace=True)\n",
    "mixed_occ.reset_index(drop=True, inplace=True)"
   ]
  },
  {
   "cell_type": "markdown",
   "metadata": {
    "heading_collapsed": true
   },
   "source": [
    "#### Only during train set"
   ]
  },
  {
   "cell_type": "code",
   "execution_count": null,
   "metadata": {
    "hidden": true
   },
   "outputs": [],
   "source": [
    "TRAIN_FRAME = pd.to_datetime('2010-01-05'), pd.to_datetime('2012-05-21')\n",
    "VAL_FRAME = pd.to_datetime('2012-05-22'), pd.to_datetime('2012-12-31')\n",
    "NEWS = os.path.join(\"..\", \"data\", \"preprocessed\", \"news-v3.csv\")\n",
    "# articles = pd.read_csv(NEWS, index_col=0, nrows=people_occ.article_id.max()+50,)\n",
    "articles_dates = pd.read_csv(NEWS, index_col=0, usecols=[0, 1, 2])\n",
    "articles_dates.date = pd.to_datetime(articles_dates.date)\n",
    "article_ids_before_train = set(articles_dates.index[articles_dates.date < TRAIN_FRAME[0]])"
   ]
  },
  {
   "cell_type": "code",
   "execution_count": null,
   "metadata": {
    "hidden": true
   },
   "outputs": [],
   "source": [
    "# comp_occ_train = comp_occ[~comp_occ.article_id.isin(article_ids_before_train)].reset_index(drop=True)\n",
    "# comp_coocc_train = nlp_utils.get_cooccurrences(comp_occ_train).stack()\n",
    "# comp_coocc_train = comp_coocc_train[[a < b for a, b in comp_coocc_train.index]]\n",
    "\n",
    "# people_occ_train = people_occ[~people_occ.article_id.isin(article_ids_before_train)]\n",
    "# people_coocc_train = nlp_utils.get_cooccurrences(people_occ_train).stack()\n",
    "# people_coocc_train = people_coocc_train[[a < b for a, b in people_coocc_train.index]]"
   ]
  },
  {
   "cell_type": "markdown",
   "metadata": {
    "hidden": true
   },
   "source": [
    "- 40.702.147 Entities\n",
    "- 9.636.490 tagged as ORG\n",
    "- 463.595 linked to my stock companys (distributed over 126.583 articles)"
   ]
  },
  {
   "cell_type": "markdown",
   "metadata": {
    "hidden": true
   },
   "source": [
    "Damerau-Levenshtein distance is not working (too repelling)"
   ]
  },
  {
   "cell_type": "markdown",
   "metadata": {
    "heading_collapsed": true
   },
   "source": [
    "### Inspect Articles For Show Cases"
   ]
  },
  {
   "cell_type": "code",
   "execution_count": null,
   "metadata": {
    "hidden": true,
    "scrolled": true
   },
   "outputs": [],
   "source": [
    "NEWS = os.path.join(\"..\", \"data\", \"preprocessed\", \"news-v3.csv\")\n",
    "# articles = pd.read_csv(NEWS, index_col=0, nrows=people_occ.article_id.max()+50,)\n",
    "articles = pd.read_csv(NEWS, index_col=0)\n",
    "\n",
    "# for i, row in tqdm(comp_occ.iterrows(), total=len(comp_occ)):\n",
    "#     assert row.match_text == articles.loc[row.article_id].content[row.start_idx:row.end_idx], i"
   ]
  },
  {
   "cell_type": "code",
   "execution_count": 8,
   "metadata": {
    "hidden": true
   },
   "outputs": [
    {
     "name": "stdout",
     "output_type": "stream",
     "text": [
      "time: 199 ms\n"
     ]
    }
   ],
   "source": [
    "# _, occ_per_article = nlp_utils.get_cooccurrences(comp_occ, debug=True)\n",
    "\n",
    "def merge_ranges(index_pairs):\n",
    "    ranges = []\n",
    "    for x, y in index_pairs:\n",
    "        x = max(x, 0)\n",
    "        if len(ranges) == 0:\n",
    "            ranges.append([x, y])\n",
    "        else:\n",
    "            _, last_y = ranges[-1]\n",
    "            if x <= last_y and y > last_y:\n",
    "                ranges[-1][1] = y\n",
    "            elif x > last_y: \n",
    "                ranges.append([x, y])\n",
    "    return ranges\n",
    "\n",
    "def get_matching_article(symA, symB):\n",
    "    x = occ_per_article[[symA, symB]]\n",
    "    return x[(x[symA] != 0) & (x[symB] != 0)].index.tolist()\n",
    "\n",
    "def print_cooccurrences(symA, symB):\n",
    "    x = occ_per_article[[symA, symB]]\n",
    "    for idx, row in x[(x[symA] != 0) & (x[symB] != 0)].iterrows():\n",
    "        print(f'--->Article: {idx}<----', row[symA], row[symB])\n",
    "        temp_occs = comp_occ[(comp_occ.article_id == idx) & (comp_occ.stock_symbol.isin([symA, symB]))]\n",
    "        # temp_occs.sort_values('start_idx', ascending=True, inplace=True)\n",
    "        init_indeces = [(row.start_idx - 100, row.end_idx + 100) for i, row in temp_occs.iterrows()]\n",
    "        indeces = merge_ranges(init_indeces)\n",
    "        if len(init_indeces) == len(indices):\n",
    "            continue\n",
    "        for x, y in indeces:\n",
    "            print('\\n>>>', articles.loc[idx].content[x:y], '>>>\\n')"
   ]
  },
  {
   "cell_type": "code",
   "execution_count": null,
   "metadata": {
    "hidden": true
   },
   "outputs": [],
   "source": [
    "# match_articles = get_matching_article('CB', 'ALL')\n",
    "match_articles = get_matching_article('IBM', 'MCD')\n",
    "# 'ADP', 'XOM'\n",
    "# print(articles.loc[match_articles[1]].content)\n",
    "print_cooccurrences('IBM', 'MCD')"
   ]
  },
  {
   "cell_type": "code",
   "execution_count": null,
   "metadata": {
    "hidden": true
   },
   "outputs": [],
   "source": [
    "merged[(merged['Same Industry'] == 0) & (merged.Cooccurrences > 5) & (merged.Residuals > 0.25)]"
   ]
  },
  {
   "cell_type": "markdown",
   "metadata": {},
   "source": [
    "### Try New Distance Measure"
   ]
  },
  {
   "cell_type": "code",
   "execution_count": 18,
   "metadata": {},
   "outputs": [
    {
     "data": {
      "text/plain": [
       "(367190, 463595, 16460, 19009)"
      ]
     },
     "execution_count": 18,
     "metadata": {},
     "output_type": "execute_result"
    },
    {
     "name": "stdout",
     "output_type": "stream",
     "text": [
      "time: 730 ms\n"
     ]
    }
   ],
   "source": [
    "len(comp_occ_train), len(comp_occ), len(people_occ_train), len(people_occ)"
   ]
  },
  {
   "cell_type": "code",
   "execution_count": null,
   "metadata": {
    "scrolled": true
   },
   "outputs": [],
   "source": [
    "comp_distances = nlp_utils.get_distances(comp_occ)\n",
    "comp_distances_train = nlp_utils.get_distances(comp_occ_train)\n",
    "people_distances = nlp_utils.get_distances(people_occ)\n",
    "# mixed_distances = nlp_utils.get_distances(mixed_occ)"
   ]
  },
  {
   "cell_type": "code",
   "execution_count": 34,
   "metadata": {
    "scrolled": true
   },
   "outputs": [
    {
     "data": {
      "application/vnd.jupyter.widget-view+json": {
       "model_id": "b3115c31b18f4d54aca7e28d984f44d0",
       "version_major": 2,
       "version_minor": 0
      },
      "text/plain": [
       "HBox(children=(IntProgress(value=0, max=126583), HTML(value='')))"
      ]
     },
     "metadata": {},
     "output_type": "display_data"
    },
    {
     "data": {
      "application/vnd.jupyter.widget-view+json": {
       "model_id": "885bb01b8a914d53a97057ac993387c2",
       "version_major": 2,
       "version_minor": 0
      },
      "text/plain": [
       "HBox(children=(IntProgress(value=0, max=104221), HTML(value='')))"
      ]
     },
     "metadata": {},
     "output_type": "display_data"
    },
    {
     "data": {
      "application/vnd.jupyter.widget-view+json": {
       "model_id": "92da338eaedf41d999b49a80b1fa90e0",
       "version_major": 2,
       "version_minor": 0
      },
      "text/plain": [
       "HBox(children=(IntProgress(value=0, max=15332), HTML(value='')))"
      ]
     },
     "metadata": {},
     "output_type": "display_data"
    },
    {
     "name": "stdout",
     "output_type": "stream",
     "text": [
      "time: 19min 28s\n"
     ]
    }
   ],
   "source": [
    "comp_distances2 = nlp_utils.get_cheap_distances(comp_occ)\n",
    "comp_distances_train2 = nlp_utils.get_distances(comp_occ_train)\n",
    "people_distances2 = nlp_utils.get_cheap_distances(people_occ)\n",
    "# mixed_distances2 = nlp_utils.get_cheap_distances(mixed_occ)"
   ]
  },
  {
   "cell_type": "markdown",
   "metadata": {},
   "source": [
    "### Correlate Features"
   ]
  },
  {
   "cell_type": "code",
   "execution_count": 115,
   "metadata": {},
   "outputs": [
    {
     "name": "stdout",
     "output_type": "stream",
     "text": [
      "time: 4.29 s\n"
     ]
    }
   ],
   "source": [
    "def make_mergable(x):\n",
    "    if len(x.shape) == 2:\n",
    "        x = x.stack()\n",
    "    return x[[a < b for a, b in x.index]]\n",
    "\n",
    "merged = pd.concat([comp_coocc.rename('Cooccurrences'),  # 429\n",
    "#                     comp_coocc_train.rename('Cooccurrences - Train'),  # 429\n",
    "                    people_coocc.rename('Cooccurrences - People'),  # 200\n",
    "#                     people_coocc_train.rename('Cooccurrences - People - Train'),  # 200\n",
    "                    # mixed_coocc.rename('Cooccurrences - Mixed'),  # 200\n",
    "                    make_mergable(comp_distances).rename('Dist'),\n",
    "#                     make_mergable(comp_distances_train).rename('Dist - Train'),\n",
    "                    make_mergable(people_distances).rename('Dist - People'),\n",
    "                    # make_mergable(mixed_distances).rename('Dist - Mixed'),  # 450\n",
    "                    make_mergable(comp_distances2).rename('Dist2'),\n",
    "#                     make_mergable(comp_distances_train2).rename('Dist2 - Train'),\n",
    "                    make_mergable(people_distances2).rename('Dist2 - People'),\n",
    "                    # make_mergable(mixed_distances2).rename('Dist2 - Mixed'),\n",
    "                    *[all_correlations[col].abs() for col in all_correlations.columns]  # 466\n",
    "                   ], axis=1).dropna(subset=['Cooccurrences', 'Price']).fillna(0)\n",
    "merged.index = merged.index.remove_unused_levels()\n",
    "merged['Cooccurrences - Add'] = merged['Cooccurrences'] + merged['Cooccurrences - People']\n",
    "merged['Dist - Add'] = merged['Dist'] + merged['Dist - People']\n",
    "merged['Dist2 - Add'] = merged['Dist2'] + merged['Dist2 - People']"
   ]
  },
  {
   "cell_type": "code",
   "execution_count": 192,
   "metadata": {},
   "outputs": [
    {
     "name": "stdout",
     "output_type": "stream",
     "text": [
      "108811 466 466\n",
      "97903 442 442\n",
      "86736 416 416\n",
      "time: 303 ms\n"
     ]
    }
   ],
   "source": [
    "print(len(all_correlations.index), len(all_correlations.index.levels[0]), len(all_correlations.index.levels[1]))\n",
    "print(len(comp_coocc.index), len(comp_coocc.index.levels[0]), len(comp_coocc.index.levels[1]))\n",
    "print(len(merged.index), len(merged.index.levels[0]), len(merged.index.levels[1]))"
   ]
  },
  {
   "cell_type": "code",
   "execution_count": 86,
   "metadata": {},
   "outputs": [
    {
     "data": {
      "text/html": [
       "<div>\n",
       "<style scoped>\n",
       "    .dataframe tbody tr th:only-of-type {\n",
       "        vertical-align: middle;\n",
       "    }\n",
       "\n",
       "    .dataframe tbody tr th {\n",
       "        vertical-align: top;\n",
       "    }\n",
       "\n",
       "    .dataframe thead th {\n",
       "        text-align: right;\n",
       "    }\n",
       "</style>\n",
       "<table border=\"1\" class=\"dataframe\">\n",
       "  <thead>\n",
       "    <tr style=\"text-align: right;\">\n",
       "      <th></th>\n",
       "      <th>Cooccurrences</th>\n",
       "      <th>Cooccurrences - People</th>\n",
       "      <th>Dist</th>\n",
       "      <th>Dist - People</th>\n",
       "      <th>Dist2</th>\n",
       "      <th>Dist2 - People</th>\n",
       "      <th>Price</th>\n",
       "      <th>Return</th>\n",
       "      <th>Normalized</th>\n",
       "      <th>Residuals</th>\n",
       "      <th>Same Industry</th>\n",
       "      <th>Cooccurrences - Add</th>\n",
       "      <th>Dist - Add</th>\n",
       "      <th>Dist2 - Add</th>\n",
       "    </tr>\n",
       "  </thead>\n",
       "  <tbody>\n",
       "    <tr>\n",
       "      <th>Cooccurrences</th>\n",
       "      <td>1.0000</td>\n",
       "      <td>0.5239</td>\n",
       "      <td>0.1319</td>\n",
       "      <td>0.2279</td>\n",
       "      <td>0.1314</td>\n",
       "      <td>0.2183</td>\n",
       "      <td>0.0056</td>\n",
       "      <td>0.0588</td>\n",
       "      <td>0.0774</td>\n",
       "      <td>0.0799</td>\n",
       "      <td>0.0690</td>\n",
       "      <td>0.9999</td>\n",
       "      <td>0.1635</td>\n",
       "      <td>0.1594</td>\n",
       "    </tr>\n",
       "    <tr>\n",
       "      <th>Cooccurrences - People</th>\n",
       "      <td>0.5239</td>\n",
       "      <td>1.0000</td>\n",
       "      <td>0.0415</td>\n",
       "      <td>0.4456</td>\n",
       "      <td>0.0404</td>\n",
       "      <td>0.4648</td>\n",
       "      <td>-0.0009</td>\n",
       "      <td>0.0263</td>\n",
       "      <td>0.0363</td>\n",
       "      <td>0.0392</td>\n",
       "      <td>0.0393</td>\n",
       "      <td>0.5345</td>\n",
       "      <td>0.1081</td>\n",
       "      <td>0.1049</td>\n",
       "    </tr>\n",
       "    <tr>\n",
       "      <th>Dist</th>\n",
       "      <td>0.1319</td>\n",
       "      <td>0.0415</td>\n",
       "      <td>1.0000</td>\n",
       "      <td>0.0720</td>\n",
       "      <td>0.8595</td>\n",
       "      <td>0.0757</td>\n",
       "      <td>-0.0132</td>\n",
       "      <td>0.0930</td>\n",
       "      <td>0.1067</td>\n",
       "      <td>0.1079</td>\n",
       "      <td>0.1624</td>\n",
       "      <td>0.1315</td>\n",
       "      <td>0.9885</td>\n",
       "      <td>0.8524</td>\n",
       "    </tr>\n",
       "    <tr>\n",
       "      <th>Dist - People</th>\n",
       "      <td>0.2279</td>\n",
       "      <td>0.4456</td>\n",
       "      <td>0.0720</td>\n",
       "      <td>1.0000</td>\n",
       "      <td>0.0682</td>\n",
       "      <td>0.8835</td>\n",
       "      <td>-0.0011</td>\n",
       "      <td>0.0173</td>\n",
       "      <td>0.0312</td>\n",
       "      <td>0.0331</td>\n",
       "      <td>0.0362</td>\n",
       "      <td>0.2327</td>\n",
       "      <td>0.2219</td>\n",
       "      <td>0.1911</td>\n",
       "    </tr>\n",
       "    <tr>\n",
       "      <th>Dist2</th>\n",
       "      <td>0.1314</td>\n",
       "      <td>0.0404</td>\n",
       "      <td>0.8595</td>\n",
       "      <td>0.0682</td>\n",
       "      <td>1.0000</td>\n",
       "      <td>0.0767</td>\n",
       "      <td>-0.0356</td>\n",
       "      <td>0.0746</td>\n",
       "      <td>0.0916</td>\n",
       "      <td>0.0921</td>\n",
       "      <td>0.1447</td>\n",
       "      <td>0.1310</td>\n",
       "      <td>0.8506</td>\n",
       "      <td>0.9901</td>\n",
       "    </tr>\n",
       "    <tr>\n",
       "      <th>Dist2 - People</th>\n",
       "      <td>0.2183</td>\n",
       "      <td>0.4648</td>\n",
       "      <td>0.0757</td>\n",
       "      <td>0.8835</td>\n",
       "      <td>0.0767</td>\n",
       "      <td>1.0000</td>\n",
       "      <td>-0.0006</td>\n",
       "      <td>0.0201</td>\n",
       "      <td>0.0303</td>\n",
       "      <td>0.0319</td>\n",
       "      <td>0.0424</td>\n",
       "      <td>0.2234</td>\n",
       "      <td>0.2080</td>\n",
       "      <td>0.2157</td>\n",
       "    </tr>\n",
       "    <tr>\n",
       "      <th>Price</th>\n",
       "      <td>0.0056</td>\n",
       "      <td>-0.0009</td>\n",
       "      <td>-0.0132</td>\n",
       "      <td>-0.0011</td>\n",
       "      <td>-0.0356</td>\n",
       "      <td>-0.0006</td>\n",
       "      <td>1.0000</td>\n",
       "      <td>0.1783</td>\n",
       "      <td>0.0418</td>\n",
       "      <td>0.0398</td>\n",
       "      <td>0.0553</td>\n",
       "      <td>0.0055</td>\n",
       "      <td>-0.0131</td>\n",
       "      <td>-0.0350</td>\n",
       "    </tr>\n",
       "    <tr>\n",
       "      <th>Return</th>\n",
       "      <td>0.0588</td>\n",
       "      <td>0.0263</td>\n",
       "      <td>0.0930</td>\n",
       "      <td>0.0173</td>\n",
       "      <td>0.0746</td>\n",
       "      <td>0.0201</td>\n",
       "      <td>0.1783</td>\n",
       "      <td>1.0000</td>\n",
       "      <td>0.1296</td>\n",
       "      <td>0.1299</td>\n",
       "      <td>0.2679</td>\n",
       "      <td>0.0587</td>\n",
       "      <td>0.0936</td>\n",
       "      <td>0.0759</td>\n",
       "    </tr>\n",
       "    <tr>\n",
       "      <th>Normalized</th>\n",
       "      <td>0.0774</td>\n",
       "      <td>0.0363</td>\n",
       "      <td>0.1067</td>\n",
       "      <td>0.0312</td>\n",
       "      <td>0.0916</td>\n",
       "      <td>0.0303</td>\n",
       "      <td>0.0418</td>\n",
       "      <td>0.1296</td>\n",
       "      <td>1.0000</td>\n",
       "      <td>0.9882</td>\n",
       "      <td>0.1963</td>\n",
       "      <td>0.0773</td>\n",
       "      <td>0.1091</td>\n",
       "      <td>0.0940</td>\n",
       "    </tr>\n",
       "    <tr>\n",
       "      <th>Residuals</th>\n",
       "      <td>0.0799</td>\n",
       "      <td>0.0392</td>\n",
       "      <td>0.1079</td>\n",
       "      <td>0.0331</td>\n",
       "      <td>0.0921</td>\n",
       "      <td>0.0319</td>\n",
       "      <td>0.0398</td>\n",
       "      <td>0.1299</td>\n",
       "      <td>0.9882</td>\n",
       "      <td>1.0000</td>\n",
       "      <td>0.2013</td>\n",
       "      <td>0.0799</td>\n",
       "      <td>0.1105</td>\n",
       "      <td>0.0947</td>\n",
       "    </tr>\n",
       "    <tr>\n",
       "      <th>Same Industry</th>\n",
       "      <td>0.0690</td>\n",
       "      <td>0.0393</td>\n",
       "      <td>0.1624</td>\n",
       "      <td>0.0362</td>\n",
       "      <td>0.1447</td>\n",
       "      <td>0.0424</td>\n",
       "      <td>0.0553</td>\n",
       "      <td>0.2679</td>\n",
       "      <td>0.1963</td>\n",
       "      <td>0.2013</td>\n",
       "      <td>1.0000</td>\n",
       "      <td>0.0690</td>\n",
       "      <td>0.1643</td>\n",
       "      <td>0.1477</td>\n",
       "    </tr>\n",
       "    <tr>\n",
       "      <th>Cooccurrences - Add</th>\n",
       "      <td>0.9999</td>\n",
       "      <td>0.5345</td>\n",
       "      <td>0.1315</td>\n",
       "      <td>0.2327</td>\n",
       "      <td>0.1310</td>\n",
       "      <td>0.2234</td>\n",
       "      <td>0.0055</td>\n",
       "      <td>0.0587</td>\n",
       "      <td>0.0773</td>\n",
       "      <td>0.0799</td>\n",
       "      <td>0.0690</td>\n",
       "      <td>1.0000</td>\n",
       "      <td>0.1638</td>\n",
       "      <td>0.1597</td>\n",
       "    </tr>\n",
       "    <tr>\n",
       "      <th>Dist - Add</th>\n",
       "      <td>0.1635</td>\n",
       "      <td>0.1081</td>\n",
       "      <td>0.9885</td>\n",
       "      <td>0.2219</td>\n",
       "      <td>0.8506</td>\n",
       "      <td>0.2080</td>\n",
       "      <td>-0.0131</td>\n",
       "      <td>0.0936</td>\n",
       "      <td>0.1091</td>\n",
       "      <td>0.1105</td>\n",
       "      <td>0.1643</td>\n",
       "      <td>0.1638</td>\n",
       "      <td>1.0000</td>\n",
       "      <td>0.8622</td>\n",
       "    </tr>\n",
       "    <tr>\n",
       "      <th>Dist2 - Add</th>\n",
       "      <td>0.1594</td>\n",
       "      <td>0.1049</td>\n",
       "      <td>0.8524</td>\n",
       "      <td>0.1911</td>\n",
       "      <td>0.9901</td>\n",
       "      <td>0.2157</td>\n",
       "      <td>-0.0350</td>\n",
       "      <td>0.0759</td>\n",
       "      <td>0.0940</td>\n",
       "      <td>0.0947</td>\n",
       "      <td>0.1477</td>\n",
       "      <td>0.1597</td>\n",
       "      <td>0.8622</td>\n",
       "      <td>1.0000</td>\n",
       "    </tr>\n",
       "  </tbody>\n",
       "</table>\n",
       "</div>"
      ],
      "text/plain": [
       "                        Cooccurrences  Cooccurrences - People    Dist  \\\n",
       "Cooccurrences                  1.0000                  0.5239  0.1319   \n",
       "Cooccurrences - People         0.5239                  1.0000  0.0415   \n",
       "Dist                           0.1319                  0.0415  1.0000   \n",
       "Dist - People                  0.2279                  0.4456  0.0720   \n",
       "Dist2                          0.1314                  0.0404  0.8595   \n",
       "Dist2 - People                 0.2183                  0.4648  0.0757   \n",
       "Price                          0.0056                 -0.0009 -0.0132   \n",
       "Return                         0.0588                  0.0263  0.0930   \n",
       "Normalized                     0.0774                  0.0363  0.1067   \n",
       "Residuals                      0.0799                  0.0392  0.1079   \n",
       "Same Industry                  0.0690                  0.0393  0.1624   \n",
       "Cooccurrences - Add            0.9999                  0.5345  0.1315   \n",
       "Dist - Add                     0.1635                  0.1081  0.9885   \n",
       "Dist2 - Add                    0.1594                  0.1049  0.8524   \n",
       "\n",
       "                        Dist - People   Dist2  Dist2 - People   Price  Return  \\\n",
       "Cooccurrences                  0.2279  0.1314          0.2183  0.0056  0.0588   \n",
       "Cooccurrences - People         0.4456  0.0404          0.4648 -0.0009  0.0263   \n",
       "Dist                           0.0720  0.8595          0.0757 -0.0132  0.0930   \n",
       "Dist - People                  1.0000  0.0682          0.8835 -0.0011  0.0173   \n",
       "Dist2                          0.0682  1.0000          0.0767 -0.0356  0.0746   \n",
       "Dist2 - People                 0.8835  0.0767          1.0000 -0.0006  0.0201   \n",
       "Price                         -0.0011 -0.0356         -0.0006  1.0000  0.1783   \n",
       "Return                         0.0173  0.0746          0.0201  0.1783  1.0000   \n",
       "Normalized                     0.0312  0.0916          0.0303  0.0418  0.1296   \n",
       "Residuals                      0.0331  0.0921          0.0319  0.0398  0.1299   \n",
       "Same Industry                  0.0362  0.1447          0.0424  0.0553  0.2679   \n",
       "Cooccurrences - Add            0.2327  0.1310          0.2234  0.0055  0.0587   \n",
       "Dist - Add                     0.2219  0.8506          0.2080 -0.0131  0.0936   \n",
       "Dist2 - Add                    0.1911  0.9901          0.2157 -0.0350  0.0759   \n",
       "\n",
       "                        Normalized  Residuals  Same Industry  \\\n",
       "Cooccurrences               0.0774     0.0799         0.0690   \n",
       "Cooccurrences - People      0.0363     0.0392         0.0393   \n",
       "Dist                        0.1067     0.1079         0.1624   \n",
       "Dist - People               0.0312     0.0331         0.0362   \n",
       "Dist2                       0.0916     0.0921         0.1447   \n",
       "Dist2 - People              0.0303     0.0319         0.0424   \n",
       "Price                       0.0418     0.0398         0.0553   \n",
       "Return                      0.1296     0.1299         0.2679   \n",
       "Normalized                  1.0000     0.9882         0.1963   \n",
       "Residuals                   0.9882     1.0000         0.2013   \n",
       "Same Industry               0.1963     0.2013         1.0000   \n",
       "Cooccurrences - Add         0.0773     0.0799         0.0690   \n",
       "Dist - Add                  0.1091     0.1105         0.1643   \n",
       "Dist2 - Add                 0.0940     0.0947         0.1477   \n",
       "\n",
       "                        Cooccurrences - Add  Dist - Add  Dist2 - Add  \n",
       "Cooccurrences                        0.9999      0.1635       0.1594  \n",
       "Cooccurrences - People               0.5345      0.1081       0.1049  \n",
       "Dist                                 0.1315      0.9885       0.8524  \n",
       "Dist - People                        0.2327      0.2219       0.1911  \n",
       "Dist2                                0.1310      0.8506       0.9901  \n",
       "Dist2 - People                       0.2234      0.2080       0.2157  \n",
       "Price                                0.0055     -0.0131      -0.0350  \n",
       "Return                               0.0587      0.0936       0.0759  \n",
       "Normalized                           0.0773      0.1091       0.0940  \n",
       "Residuals                            0.0799      0.1105       0.0947  \n",
       "Same Industry                        0.0690      0.1643       0.1477  \n",
       "Cooccurrences - Add                  1.0000      0.1638       0.1597  \n",
       "Dist - Add                           0.1638      1.0000       0.8622  \n",
       "Dist2 - Add                          0.1597      0.8622       1.0000  "
      ]
     },
     "execution_count": 86,
     "metadata": {},
     "output_type": "execute_result"
    },
    {
     "name": "stdout",
     "output_type": "stream",
     "text": [
      "time: 319 ms\n"
     ]
    }
   ],
   "source": [
    "merged.corr().round(4)"
   ]
  },
  {
   "cell_type": "code",
   "execution_count": 55,
   "metadata": {},
   "outputs": [
    {
     "data": {
      "text/html": [
       "<div>\n",
       "<style scoped>\n",
       "    .dataframe tbody tr th:only-of-type {\n",
       "        vertical-align: middle;\n",
       "    }\n",
       "\n",
       "    .dataframe tbody tr th {\n",
       "        vertical-align: top;\n",
       "    }\n",
       "\n",
       "    .dataframe thead th {\n",
       "        text-align: right;\n",
       "    }\n",
       "</style>\n",
       "<table border=\"1\" class=\"dataframe\">\n",
       "  <thead>\n",
       "    <tr style=\"text-align: right;\">\n",
       "      <th></th>\n",
       "      <th>Cooccurrences</th>\n",
       "      <th>Cooccurrences - People</th>\n",
       "      <th>Dist</th>\n",
       "      <th>Dist - People</th>\n",
       "      <th>Dist2</th>\n",
       "      <th>Dist2 - People</th>\n",
       "      <th>Price</th>\n",
       "      <th>Return</th>\n",
       "      <th>Normalized</th>\n",
       "      <th>Residuals</th>\n",
       "      <th>Same Industry</th>\n",
       "      <th>Cooccurrences - Add</th>\n",
       "      <th>Dist - Add</th>\n",
       "      <th>Dist2 - Add</th>\n",
       "    </tr>\n",
       "  </thead>\n",
       "  <tbody>\n",
       "    <tr>\n",
       "      <th>Cooccurrences</th>\n",
       "      <td>1.0000</td>\n",
       "      <td>0.0880</td>\n",
       "      <td>0.9383</td>\n",
       "      <td>0.0879</td>\n",
       "      <td>0.9141</td>\n",
       "      <td>0.0879</td>\n",
       "      <td>-0.0331</td>\n",
       "      <td>0.0485</td>\n",
       "      <td>0.0506</td>\n",
       "      <td>0.0505</td>\n",
       "      <td>0.1431</td>\n",
       "      <td>0.9957</td>\n",
       "      <td>0.9349</td>\n",
       "      <td>0.9118</td>\n",
       "    </tr>\n",
       "    <tr>\n",
       "      <th>Cooccurrences - People</th>\n",
       "      <td>0.0880</td>\n",
       "      <td>1.0000</td>\n",
       "      <td>0.0810</td>\n",
       "      <td>0.9990</td>\n",
       "      <td>0.0773</td>\n",
       "      <td>0.9985</td>\n",
       "      <td>0.0010</td>\n",
       "      <td>0.0154</td>\n",
       "      <td>0.0120</td>\n",
       "      <td>0.0127</td>\n",
       "      <td>0.0456</td>\n",
       "      <td>0.1380</td>\n",
       "      <td>0.1352</td>\n",
       "      <td>0.1383</td>\n",
       "    </tr>\n",
       "    <tr>\n",
       "      <th>Dist</th>\n",
       "      <td>0.9383</td>\n",
       "      <td>0.0810</td>\n",
       "      <td>1.0000</td>\n",
       "      <td>0.0810</td>\n",
       "      <td>0.9591</td>\n",
       "      <td>0.0810</td>\n",
       "      <td>-0.0312</td>\n",
       "      <td>0.0476</td>\n",
       "      <td>0.0497</td>\n",
       "      <td>0.0497</td>\n",
       "      <td>0.1426</td>\n",
       "      <td>0.9345</td>\n",
       "      <td>0.9949</td>\n",
       "      <td>0.9546</td>\n",
       "    </tr>\n",
       "    <tr>\n",
       "      <th>Dist - People</th>\n",
       "      <td>0.0879</td>\n",
       "      <td>0.9990</td>\n",
       "      <td>0.0810</td>\n",
       "      <td>1.0000</td>\n",
       "      <td>0.0773</td>\n",
       "      <td>0.9993</td>\n",
       "      <td>0.0010</td>\n",
       "      <td>0.0154</td>\n",
       "      <td>0.0120</td>\n",
       "      <td>0.0127</td>\n",
       "      <td>0.0456</td>\n",
       "      <td>0.1379</td>\n",
       "      <td>0.1353</td>\n",
       "      <td>0.1384</td>\n",
       "    </tr>\n",
       "    <tr>\n",
       "      <th>Dist2</th>\n",
       "      <td>0.9141</td>\n",
       "      <td>0.0773</td>\n",
       "      <td>0.9591</td>\n",
       "      <td>0.0773</td>\n",
       "      <td>1.0000</td>\n",
       "      <td>0.0773</td>\n",
       "      <td>-0.0319</td>\n",
       "      <td>0.0447</td>\n",
       "      <td>0.0478</td>\n",
       "      <td>0.0478</td>\n",
       "      <td>0.1366</td>\n",
       "      <td>0.9103</td>\n",
       "      <td>0.9546</td>\n",
       "      <td>0.9937</td>\n",
       "    </tr>\n",
       "    <tr>\n",
       "      <th>Dist2 - People</th>\n",
       "      <td>0.0879</td>\n",
       "      <td>0.9985</td>\n",
       "      <td>0.0810</td>\n",
       "      <td>0.9993</td>\n",
       "      <td>0.0773</td>\n",
       "      <td>1.0000</td>\n",
       "      <td>0.0010</td>\n",
       "      <td>0.0154</td>\n",
       "      <td>0.0120</td>\n",
       "      <td>0.0127</td>\n",
       "      <td>0.0456</td>\n",
       "      <td>0.1379</td>\n",
       "      <td>0.1352</td>\n",
       "      <td>0.1384</td>\n",
       "    </tr>\n",
       "    <tr>\n",
       "      <th>Price</th>\n",
       "      <td>-0.0331</td>\n",
       "      <td>0.0010</td>\n",
       "      <td>-0.0312</td>\n",
       "      <td>0.0010</td>\n",
       "      <td>-0.0319</td>\n",
       "      <td>0.0010</td>\n",
       "      <td>1.0000</td>\n",
       "      <td>0.1127</td>\n",
       "      <td>0.0186</td>\n",
       "      <td>0.0176</td>\n",
       "      <td>0.0456</td>\n",
       "      <td>-0.0329</td>\n",
       "      <td>-0.0309</td>\n",
       "      <td>-0.0316</td>\n",
       "    </tr>\n",
       "    <tr>\n",
       "      <th>Return</th>\n",
       "      <td>0.0485</td>\n",
       "      <td>0.0154</td>\n",
       "      <td>0.0476</td>\n",
       "      <td>0.0154</td>\n",
       "      <td>0.0447</td>\n",
       "      <td>0.0154</td>\n",
       "      <td>0.1127</td>\n",
       "      <td>1.0000</td>\n",
       "      <td>0.0570</td>\n",
       "      <td>0.0564</td>\n",
       "      <td>0.1876</td>\n",
       "      <td>0.0489</td>\n",
       "      <td>0.0480</td>\n",
       "      <td>0.0451</td>\n",
       "    </tr>\n",
       "    <tr>\n",
       "      <th>Normalized</th>\n",
       "      <td>0.0506</td>\n",
       "      <td>0.0120</td>\n",
       "      <td>0.0497</td>\n",
       "      <td>0.0120</td>\n",
       "      <td>0.0478</td>\n",
       "      <td>0.0120</td>\n",
       "      <td>0.0186</td>\n",
       "      <td>0.0570</td>\n",
       "      <td>1.0000</td>\n",
       "      <td>0.8735</td>\n",
       "      <td>0.1195</td>\n",
       "      <td>0.0504</td>\n",
       "      <td>0.0496</td>\n",
       "      <td>0.0478</td>\n",
       "    </tr>\n",
       "    <tr>\n",
       "      <th>Residuals</th>\n",
       "      <td>0.0505</td>\n",
       "      <td>0.0127</td>\n",
       "      <td>0.0497</td>\n",
       "      <td>0.0127</td>\n",
       "      <td>0.0478</td>\n",
       "      <td>0.0127</td>\n",
       "      <td>0.0176</td>\n",
       "      <td>0.0564</td>\n",
       "      <td>0.8735</td>\n",
       "      <td>1.0000</td>\n",
       "      <td>0.1213</td>\n",
       "      <td>0.0504</td>\n",
       "      <td>0.0497</td>\n",
       "      <td>0.0479</td>\n",
       "    </tr>\n",
       "    <tr>\n",
       "      <th>Same Industry</th>\n",
       "      <td>0.1431</td>\n",
       "      <td>0.0456</td>\n",
       "      <td>0.1426</td>\n",
       "      <td>0.0456</td>\n",
       "      <td>0.1366</td>\n",
       "      <td>0.0456</td>\n",
       "      <td>0.0456</td>\n",
       "      <td>0.1876</td>\n",
       "      <td>0.1195</td>\n",
       "      <td>0.1213</td>\n",
       "      <td>1.0000</td>\n",
       "      <td>0.1440</td>\n",
       "      <td>0.1435</td>\n",
       "      <td>0.1377</td>\n",
       "    </tr>\n",
       "    <tr>\n",
       "      <th>Cooccurrences - Add</th>\n",
       "      <td>0.9957</td>\n",
       "      <td>0.1380</td>\n",
       "      <td>0.9345</td>\n",
       "      <td>0.1379</td>\n",
       "      <td>0.9103</td>\n",
       "      <td>0.1379</td>\n",
       "      <td>-0.0329</td>\n",
       "      <td>0.0489</td>\n",
       "      <td>0.0504</td>\n",
       "      <td>0.0504</td>\n",
       "      <td>0.1440</td>\n",
       "      <td>1.0000</td>\n",
       "      <td>0.9385</td>\n",
       "      <td>0.9152</td>\n",
       "    </tr>\n",
       "    <tr>\n",
       "      <th>Dist - Add</th>\n",
       "      <td>0.9349</td>\n",
       "      <td>0.1352</td>\n",
       "      <td>0.9949</td>\n",
       "      <td>0.1353</td>\n",
       "      <td>0.9546</td>\n",
       "      <td>0.1352</td>\n",
       "      <td>-0.0309</td>\n",
       "      <td>0.0480</td>\n",
       "      <td>0.0496</td>\n",
       "      <td>0.0497</td>\n",
       "      <td>0.1435</td>\n",
       "      <td>0.9385</td>\n",
       "      <td>1.0000</td>\n",
       "      <td>0.9591</td>\n",
       "    </tr>\n",
       "    <tr>\n",
       "      <th>Dist2 - Add</th>\n",
       "      <td>0.9118</td>\n",
       "      <td>0.1383</td>\n",
       "      <td>0.9546</td>\n",
       "      <td>0.1384</td>\n",
       "      <td>0.9937</td>\n",
       "      <td>0.1384</td>\n",
       "      <td>-0.0316</td>\n",
       "      <td>0.0451</td>\n",
       "      <td>0.0478</td>\n",
       "      <td>0.0479</td>\n",
       "      <td>0.1377</td>\n",
       "      <td>0.9152</td>\n",
       "      <td>0.9591</td>\n",
       "      <td>1.0000</td>\n",
       "    </tr>\n",
       "  </tbody>\n",
       "</table>\n",
       "</div>"
      ],
      "text/plain": [
       "                        Cooccurrences  Cooccurrences - People    Dist  \\\n",
       "Cooccurrences                  1.0000                  0.0880  0.9383   \n",
       "Cooccurrences - People         0.0880                  1.0000  0.0810   \n",
       "Dist                           0.9383                  0.0810  1.0000   \n",
       "Dist - People                  0.0879                  0.9990  0.0810   \n",
       "Dist2                          0.9141                  0.0773  0.9591   \n",
       "Dist2 - People                 0.0879                  0.9985  0.0810   \n",
       "Price                         -0.0331                  0.0010 -0.0312   \n",
       "Return                         0.0485                  0.0154  0.0476   \n",
       "Normalized                     0.0506                  0.0120  0.0497   \n",
       "Residuals                      0.0505                  0.0127  0.0497   \n",
       "Same Industry                  0.1431                  0.0456  0.1426   \n",
       "Cooccurrences - Add            0.9957                  0.1380  0.9345   \n",
       "Dist - Add                     0.9349                  0.1352  0.9949   \n",
       "Dist2 - Add                    0.9118                  0.1383  0.9546   \n",
       "\n",
       "                        Dist - People   Dist2  Dist2 - People   Price  Return  \\\n",
       "Cooccurrences                  0.0879  0.9141          0.0879 -0.0331  0.0485   \n",
       "Cooccurrences - People         0.9990  0.0773          0.9985  0.0010  0.0154   \n",
       "Dist                           0.0810  0.9591          0.0810 -0.0312  0.0476   \n",
       "Dist - People                  1.0000  0.0773          0.9993  0.0010  0.0154   \n",
       "Dist2                          0.0773  1.0000          0.0773 -0.0319  0.0447   \n",
       "Dist2 - People                 0.9993  0.0773          1.0000  0.0010  0.0154   \n",
       "Price                          0.0010 -0.0319          0.0010  1.0000  0.1127   \n",
       "Return                         0.0154  0.0447          0.0154  0.1127  1.0000   \n",
       "Normalized                     0.0120  0.0478          0.0120  0.0186  0.0570   \n",
       "Residuals                      0.0127  0.0478          0.0127  0.0176  0.0564   \n",
       "Same Industry                  0.0456  0.1366          0.0456  0.0456  0.1876   \n",
       "Cooccurrences - Add            0.1379  0.9103          0.1379 -0.0329  0.0489   \n",
       "Dist - Add                     0.1353  0.9546          0.1352 -0.0309  0.0480   \n",
       "Dist2 - Add                    0.1384  0.9937          0.1384 -0.0316  0.0451   \n",
       "\n",
       "                        Normalized  Residuals  Same Industry  \\\n",
       "Cooccurrences               0.0506     0.0505         0.1431   \n",
       "Cooccurrences - People      0.0120     0.0127         0.0456   \n",
       "Dist                        0.0497     0.0497         0.1426   \n",
       "Dist - People               0.0120     0.0127         0.0456   \n",
       "Dist2                       0.0478     0.0478         0.1366   \n",
       "Dist2 - People              0.0120     0.0127         0.0456   \n",
       "Price                       0.0186     0.0176         0.0456   \n",
       "Return                      0.0570     0.0564         0.1876   \n",
       "Normalized                  1.0000     0.8735         0.1195   \n",
       "Residuals                   0.8735     1.0000         0.1213   \n",
       "Same Industry               0.1195     0.1213         1.0000   \n",
       "Cooccurrences - Add         0.0504     0.0504         0.1440   \n",
       "Dist - Add                  0.0496     0.0497         0.1435   \n",
       "Dist2 - Add                 0.0478     0.0479         0.1377   \n",
       "\n",
       "                        Cooccurrences - Add  Dist - Add  Dist2 - Add  \n",
       "Cooccurrences                        0.9957      0.9349       0.9118  \n",
       "Cooccurrences - People               0.1380      0.1352       0.1383  \n",
       "Dist                                 0.9345      0.9949       0.9546  \n",
       "Dist - People                        0.1379      0.1353       0.1384  \n",
       "Dist2                                0.9103      0.9546       0.9937  \n",
       "Dist2 - People                       0.1379      0.1352       0.1384  \n",
       "Price                               -0.0329     -0.0309      -0.0316  \n",
       "Return                               0.0489      0.0480       0.0451  \n",
       "Normalized                           0.0504      0.0496       0.0478  \n",
       "Residuals                            0.0504      0.0497       0.0479  \n",
       "Same Industry                        0.1440      0.1435       0.1377  \n",
       "Cooccurrences - Add                  1.0000      0.9385       0.9152  \n",
       "Dist - Add                           0.9385      1.0000       0.9591  \n",
       "Dist2 - Add                          0.9152      0.9591       1.0000  "
      ]
     },
     "execution_count": 55,
     "metadata": {},
     "output_type": "execute_result"
    },
    {
     "name": "stdout",
     "output_type": "stream",
     "text": [
      "time: 2.08 s\n"
     ]
    }
   ],
   "source": [
    "merged.corr(method='kendall').round(4)"
   ]
  },
  {
   "cell_type": "markdown",
   "metadata": {
    "heading_collapsed": true
   },
   "source": [
    "#### News Correlations"
   ]
  },
  {
   "cell_type": "code",
   "execution_count": 44,
   "metadata": {
    "collapsed": true,
    "hidden": true
   },
   "outputs": [
    {
     "data": {
      "text/html": [
       "<div>\n",
       "<style scoped>\n",
       "    .dataframe tbody tr th:only-of-type {\n",
       "        vertical-align: middle;\n",
       "    }\n",
       "\n",
       "    .dataframe tbody tr th {\n",
       "        vertical-align: top;\n",
       "    }\n",
       "\n",
       "    .dataframe thead th {\n",
       "        text-align: right;\n",
       "    }\n",
       "</style>\n",
       "<table border=\"1\" class=\"dataframe\">\n",
       "  <thead>\n",
       "    <tr style=\"text-align: right;\">\n",
       "      <th></th>\n",
       "      <th>Stock Correlation</th>\n",
       "      <th>Co-occurrences</th>\n",
       "      <th>Minimum Distance</th>\n",
       "      <th>Pairwise Distance</th>\n",
       "      <th>Same Industry</th>\n",
       "    </tr>\n",
       "  </thead>\n",
       "  <tbody>\n",
       "    <tr>\n",
       "      <th>Stock Correlation</th>\n",
       "      <td>1.0000</td>\n",
       "      <td>0.0799</td>\n",
       "      <td>0.0947</td>\n",
       "      <td>0.1105</td>\n",
       "      <td>0.2013</td>\n",
       "    </tr>\n",
       "    <tr>\n",
       "      <th>Co-occurrences</th>\n",
       "      <td>0.0799</td>\n",
       "      <td>1.0000</td>\n",
       "      <td>0.1594</td>\n",
       "      <td>0.1635</td>\n",
       "      <td>0.0690</td>\n",
       "    </tr>\n",
       "    <tr>\n",
       "      <th>Minimum Distance</th>\n",
       "      <td>0.0947</td>\n",
       "      <td>0.1594</td>\n",
       "      <td>1.0000</td>\n",
       "      <td>0.8622</td>\n",
       "      <td>0.1477</td>\n",
       "    </tr>\n",
       "    <tr>\n",
       "      <th>Pairwise Distance</th>\n",
       "      <td>0.1105</td>\n",
       "      <td>0.1635</td>\n",
       "      <td>0.8622</td>\n",
       "      <td>1.0000</td>\n",
       "      <td>0.1643</td>\n",
       "    </tr>\n",
       "    <tr>\n",
       "      <th>Same Industry</th>\n",
       "      <td>0.2013</td>\n",
       "      <td>0.0690</td>\n",
       "      <td>0.1477</td>\n",
       "      <td>0.1643</td>\n",
       "      <td>1.0000</td>\n",
       "    </tr>\n",
       "  </tbody>\n",
       "</table>\n",
       "</div>"
      ],
      "text/plain": [
       "                   Stock Correlation  Co-occurrences  Minimum Distance  \\\n",
       "Stock Correlation             1.0000          0.0799            0.0947   \n",
       "Co-occurrences                0.0799          1.0000            0.1594   \n",
       "Minimum Distance              0.0947          0.1594            1.0000   \n",
       "Pairwise Distance             0.1105          0.1635            0.8622   \n",
       "Same Industry                 0.2013          0.0690            0.1477   \n",
       "\n",
       "                   Pairwise Distance  Same Industry  \n",
       "Stock Correlation             0.1105         0.2013  \n",
       "Co-occurrences                0.1635         0.0690  \n",
       "Minimum Distance              0.8622         0.1477  \n",
       "Pairwise Distance             1.0000         0.1643  \n",
       "Same Industry                 0.1643         1.0000  "
      ]
     },
     "execution_count": 44,
     "metadata": {},
     "output_type": "execute_result"
    },
    {
     "name": "stdout",
     "output_type": "stream",
     "text": [
      "time: 231 ms\n"
     ]
    }
   ],
   "source": [
    "columns = ['Residuals', 'Cooccurrences', 'Dist2 - Add', 'Dist - Add', 'Same Industry']\n",
    "renamed_columns = ['Stock Correlation', 'Co-occurrences', 'Minimum Distance', 'Pairwise Distance', 'Same Industry']\n",
    "final = merged[columns].rename(dict(zip(columns, renamed_columns)), axis=1)\n",
    "final.corr().round(4)"
   ]
  },
  {
   "cell_type": "code",
   "execution_count": 45,
   "metadata": {
    "collapsed": true,
    "hidden": true
   },
   "outputs": [
    {
     "data": {
      "text/html": [
       "<div>\n",
       "<style scoped>\n",
       "    .dataframe tbody tr th:only-of-type {\n",
       "        vertical-align: middle;\n",
       "    }\n",
       "\n",
       "    .dataframe tbody tr th {\n",
       "        vertical-align: top;\n",
       "    }\n",
       "\n",
       "    .dataframe thead th {\n",
       "        text-align: right;\n",
       "    }\n",
       "</style>\n",
       "<table border=\"1\" class=\"dataframe\">\n",
       "  <thead>\n",
       "    <tr style=\"text-align: right;\">\n",
       "      <th></th>\n",
       "      <th>Stock Correlation</th>\n",
       "      <th>Co-occurrences</th>\n",
       "      <th>Minimum Distance</th>\n",
       "      <th>Pairwise Distance</th>\n",
       "      <th>Same Industry</th>\n",
       "    </tr>\n",
       "  </thead>\n",
       "  <tbody>\n",
       "    <tr>\n",
       "      <th>Stock Correlation</th>\n",
       "      <td>1.0000</td>\n",
       "      <td>0.0505</td>\n",
       "      <td>0.0479</td>\n",
       "      <td>0.0497</td>\n",
       "      <td>0.1213</td>\n",
       "    </tr>\n",
       "    <tr>\n",
       "      <th>Co-occurrences</th>\n",
       "      <td>0.0505</td>\n",
       "      <td>1.0000</td>\n",
       "      <td>0.9118</td>\n",
       "      <td>0.9349</td>\n",
       "      <td>0.1431</td>\n",
       "    </tr>\n",
       "    <tr>\n",
       "      <th>Minimum Distance</th>\n",
       "      <td>0.0479</td>\n",
       "      <td>0.9118</td>\n",
       "      <td>1.0000</td>\n",
       "      <td>0.9591</td>\n",
       "      <td>0.1377</td>\n",
       "    </tr>\n",
       "    <tr>\n",
       "      <th>Pairwise Distance</th>\n",
       "      <td>0.0497</td>\n",
       "      <td>0.9349</td>\n",
       "      <td>0.9591</td>\n",
       "      <td>1.0000</td>\n",
       "      <td>0.1435</td>\n",
       "    </tr>\n",
       "    <tr>\n",
       "      <th>Same Industry</th>\n",
       "      <td>0.1213</td>\n",
       "      <td>0.1431</td>\n",
       "      <td>0.1377</td>\n",
       "      <td>0.1435</td>\n",
       "      <td>1.0000</td>\n",
       "    </tr>\n",
       "  </tbody>\n",
       "</table>\n",
       "</div>"
      ],
      "text/plain": [
       "                   Stock Correlation  Co-occurrences  Minimum Distance  \\\n",
       "Stock Correlation             1.0000          0.0505            0.0479   \n",
       "Co-occurrences                0.0505          1.0000            0.9118   \n",
       "Minimum Distance              0.0479          0.9118            1.0000   \n",
       "Pairwise Distance             0.0497          0.9349            0.9591   \n",
       "Same Industry                 0.1213          0.1431            0.1377   \n",
       "\n",
       "                   Pairwise Distance  Same Industry  \n",
       "Stock Correlation             0.0497         0.1213  \n",
       "Co-occurrences                0.9349         0.1431  \n",
       "Minimum Distance              0.9591         0.1377  \n",
       "Pairwise Distance             1.0000         0.1435  \n",
       "Same Industry                 0.1435         1.0000  "
      ]
     },
     "execution_count": 45,
     "metadata": {},
     "output_type": "execute_result"
    },
    {
     "name": "stdout",
     "output_type": "stream",
     "text": [
      "time: 371 ms\n"
     ]
    }
   ],
   "source": [
    "final.corr(method='kendall').round(4)"
   ]
  },
  {
   "cell_type": "markdown",
   "metadata": {
    "heading_collapsed": true
   },
   "source": [
    "#### Stock Correlations"
   ]
  },
  {
   "cell_type": "code",
   "execution_count": 46,
   "metadata": {
    "collapsed": true,
    "hidden": true
   },
   "outputs": [
    {
     "data": {
      "text/plain": [
       "0.1000    0.01\n",
       "0.0500    0.01\n",
       "0.0100    0.01\n",
       "0.0010    0.01\n",
       "0.0001    0.01\n",
       "dtype: float64"
      ]
     },
     "execution_count": 46,
     "metadata": {},
     "output_type": "execute_result"
    },
    {
     "name": "stdout",
     "output_type": "stream",
     "text": [
      "time: 202 ms\n"
     ]
    }
   ],
   "source": [
    "math_utils.r_critical_values(len(merged))"
   ]
  },
  {
   "cell_type": "code",
   "execution_count": 47,
   "metadata": {
    "collapsed": true,
    "hidden": true
   },
   "outputs": [
    {
     "data": {
      "text/html": [
       "<div>\n",
       "<style scoped>\n",
       "    .dataframe tbody tr th:only-of-type {\n",
       "        vertical-align: middle;\n",
       "    }\n",
       "\n",
       "    .dataframe tbody tr th {\n",
       "        vertical-align: top;\n",
       "    }\n",
       "\n",
       "    .dataframe thead th {\n",
       "        text-align: right;\n",
       "    }\n",
       "</style>\n",
       "<table border=\"1\" class=\"dataframe\">\n",
       "  <thead>\n",
       "    <tr style=\"text-align: right;\">\n",
       "      <th></th>\n",
       "      <th>Pairwise Distance</th>\n",
       "      <th>Price</th>\n",
       "      <th>Return</th>\n",
       "      <th>Normalized</th>\n",
       "      <th>Residuals</th>\n",
       "      <th>Same Industry</th>\n",
       "    </tr>\n",
       "  </thead>\n",
       "  <tbody>\n",
       "    <tr>\n",
       "      <th>Pairwise Distance</th>\n",
       "      <td>1.0000</td>\n",
       "      <td>-0.0131</td>\n",
       "      <td>0.0936</td>\n",
       "      <td>0.1091</td>\n",
       "      <td>0.1105</td>\n",
       "      <td>0.1643</td>\n",
       "    </tr>\n",
       "    <tr>\n",
       "      <th>Price</th>\n",
       "      <td>-0.0131</td>\n",
       "      <td>1.0000</td>\n",
       "      <td>0.1783</td>\n",
       "      <td>0.0418</td>\n",
       "      <td>0.0398</td>\n",
       "      <td>0.0553</td>\n",
       "    </tr>\n",
       "    <tr>\n",
       "      <th>Return</th>\n",
       "      <td>0.0936</td>\n",
       "      <td>0.1783</td>\n",
       "      <td>1.0000</td>\n",
       "      <td>0.1296</td>\n",
       "      <td>0.1299</td>\n",
       "      <td>0.2679</td>\n",
       "    </tr>\n",
       "    <tr>\n",
       "      <th>Normalized</th>\n",
       "      <td>0.1091</td>\n",
       "      <td>0.0418</td>\n",
       "      <td>0.1296</td>\n",
       "      <td>1.0000</td>\n",
       "      <td>0.9882</td>\n",
       "      <td>0.1963</td>\n",
       "    </tr>\n",
       "    <tr>\n",
       "      <th>Residuals</th>\n",
       "      <td>0.1105</td>\n",
       "      <td>0.0398</td>\n",
       "      <td>0.1299</td>\n",
       "      <td>0.9882</td>\n",
       "      <td>1.0000</td>\n",
       "      <td>0.2013</td>\n",
       "    </tr>\n",
       "    <tr>\n",
       "      <th>Same Industry</th>\n",
       "      <td>0.1643</td>\n",
       "      <td>0.0553</td>\n",
       "      <td>0.2679</td>\n",
       "      <td>0.1963</td>\n",
       "      <td>0.2013</td>\n",
       "      <td>1.0000</td>\n",
       "    </tr>\n",
       "  </tbody>\n",
       "</table>\n",
       "</div>"
      ],
      "text/plain": [
       "                   Pairwise Distance   Price  Return  Normalized  Residuals  \\\n",
       "Pairwise Distance             1.0000 -0.0131  0.0936      0.1091     0.1105   \n",
       "Price                        -0.0131  1.0000  0.1783      0.0418     0.0398   \n",
       "Return                        0.0936  0.1783  1.0000      0.1296     0.1299   \n",
       "Normalized                    0.1091  0.0418  0.1296      1.0000     0.9882   \n",
       "Residuals                     0.1105  0.0398  0.1299      0.9882     1.0000   \n",
       "Same Industry                 0.1643  0.0553  0.2679      0.1963     0.2013   \n",
       "\n",
       "                   Same Industry  \n",
       "Pairwise Distance         0.1643  \n",
       "Price                     0.0553  \n",
       "Return                    0.2679  \n",
       "Normalized                0.1963  \n",
       "Residuals                 0.2013  \n",
       "Same Industry             1.0000  "
      ]
     },
     "execution_count": 47,
     "metadata": {},
     "output_type": "execute_result"
    },
    {
     "name": "stdout",
     "output_type": "stream",
     "text": [
      "time: 240 ms\n"
     ]
    }
   ],
   "source": [
    "merged[['Dist - Add', *all_correlations.columns]].rename({'Dist - Add': 'Pairwise Distance'}, axis=1).corr().round(4)"
   ]
  },
  {
   "cell_type": "code",
   "execution_count": 48,
   "metadata": {
    "collapsed": true,
    "hidden": true
   },
   "outputs": [
    {
     "data": {
      "text/html": [
       "<div>\n",
       "<style scoped>\n",
       "    .dataframe tbody tr th:only-of-type {\n",
       "        vertical-align: middle;\n",
       "    }\n",
       "\n",
       "    .dataframe tbody tr th {\n",
       "        vertical-align: top;\n",
       "    }\n",
       "\n",
       "    .dataframe thead th {\n",
       "        text-align: right;\n",
       "    }\n",
       "</style>\n",
       "<table border=\"1\" class=\"dataframe\">\n",
       "  <thead>\n",
       "    <tr style=\"text-align: right;\">\n",
       "      <th></th>\n",
       "      <th>Pairwise Distance</th>\n",
       "      <th>Price</th>\n",
       "      <th>Return</th>\n",
       "      <th>Normalized</th>\n",
       "      <th>Residuals</th>\n",
       "      <th>Same Industry</th>\n",
       "    </tr>\n",
       "  </thead>\n",
       "  <tbody>\n",
       "    <tr>\n",
       "      <th>Pairwise Distance</th>\n",
       "      <td>1.0000</td>\n",
       "      <td>-0.0309</td>\n",
       "      <td>0.0480</td>\n",
       "      <td>0.0496</td>\n",
       "      <td>0.0497</td>\n",
       "      <td>0.1435</td>\n",
       "    </tr>\n",
       "    <tr>\n",
       "      <th>Price</th>\n",
       "      <td>-0.0309</td>\n",
       "      <td>1.0000</td>\n",
       "      <td>0.1127</td>\n",
       "      <td>0.0186</td>\n",
       "      <td>0.0176</td>\n",
       "      <td>0.0456</td>\n",
       "    </tr>\n",
       "    <tr>\n",
       "      <th>Return</th>\n",
       "      <td>0.0480</td>\n",
       "      <td>0.1127</td>\n",
       "      <td>1.0000</td>\n",
       "      <td>0.0570</td>\n",
       "      <td>0.0564</td>\n",
       "      <td>0.1876</td>\n",
       "    </tr>\n",
       "    <tr>\n",
       "      <th>Normalized</th>\n",
       "      <td>0.0496</td>\n",
       "      <td>0.0186</td>\n",
       "      <td>0.0570</td>\n",
       "      <td>1.0000</td>\n",
       "      <td>0.8735</td>\n",
       "      <td>0.1195</td>\n",
       "    </tr>\n",
       "    <tr>\n",
       "      <th>Residuals</th>\n",
       "      <td>0.0497</td>\n",
       "      <td>0.0176</td>\n",
       "      <td>0.0564</td>\n",
       "      <td>0.8735</td>\n",
       "      <td>1.0000</td>\n",
       "      <td>0.1213</td>\n",
       "    </tr>\n",
       "    <tr>\n",
       "      <th>Same Industry</th>\n",
       "      <td>0.1435</td>\n",
       "      <td>0.0456</td>\n",
       "      <td>0.1876</td>\n",
       "      <td>0.1195</td>\n",
       "      <td>0.1213</td>\n",
       "      <td>1.0000</td>\n",
       "    </tr>\n",
       "  </tbody>\n",
       "</table>\n",
       "</div>"
      ],
      "text/plain": [
       "                   Pairwise Distance   Price  Return  Normalized  Residuals  \\\n",
       "Pairwise Distance             1.0000 -0.0309  0.0480      0.0496     0.0497   \n",
       "Price                        -0.0309  1.0000  0.1127      0.0186     0.0176   \n",
       "Return                        0.0480  0.1127  1.0000      0.0570     0.0564   \n",
       "Normalized                    0.0496  0.0186  0.0570      1.0000     0.8735   \n",
       "Residuals                     0.0497  0.0176  0.0564      0.8735     1.0000   \n",
       "Same Industry                 0.1435  0.0456  0.1876      0.1195     0.1213   \n",
       "\n",
       "                   Same Industry  \n",
       "Pairwise Distance         0.1435  \n",
       "Price                     0.0456  \n",
       "Return                    0.1876  \n",
       "Normalized                0.1195  \n",
       "Residuals                 0.1213  \n",
       "Same Industry             1.0000  "
      ]
     },
     "execution_count": 48,
     "metadata": {},
     "output_type": "execute_result"
    },
    {
     "name": "stdout",
     "output_type": "stream",
     "text": [
      "time: 586 ms\n"
     ]
    }
   ],
   "source": [
    "merged[['Dist - Add', *all_correlations.columns]].rename({'Dist - Add': 'Pairwise Distance'}, axis=1).corr(method='kendall').round(4)"
   ]
  },
  {
   "cell_type": "markdown",
   "metadata": {},
   "source": [
    "#### Final"
   ]
  },
  {
   "cell_type": "code",
   "execution_count": null,
   "metadata": {
    "scrolled": true
   },
   "outputs": [],
   "source": [
    "print('\\nPearson:\\n')\n",
    "print(utils.pandas_df_to_markdown_table(final.corr().round(4)))\n",
    "print('\\nSpearman:\\n')\n",
    "print(utils.pandas_df_to_markdown_table(final.corr(method='spearman').round(4)))\n",
    "print('\\nKendall:\\n')\n",
    "print(utils.pandas_df_to_markdown_table(final.corr(method='kendall').round(4)))"
   ]
  },
  {
   "cell_type": "markdown",
   "metadata": {},
   "source": [
    "Pearson:\n",
    "\n",
    "|        -          |   Stock Correlation |   Co-occurrences |   Minimum Distance |   Pairwise Distance |   Same Industry |\n",
    "|:------------------|--------------------:|-----------------:|-------------------:|--------------------:|----------------:|\n",
    "| Stock Correlation |              1      |           0.0923 |             0.1088 |              0.1156 |          0.2008 |\n",
    "| Co-occurrences    |              0.0923 |           1      |             0.2271 |              0.2236 |          0.0821 |\n",
    "| Minimum Distance  |              0.1088 |           0.2271 |             1      |              0.907  |          0.1675 |\n",
    "| Pairwise Distance |              0.1156 |           0.2236 |             0.907  |              1      |          0.1668 |\n",
    "| Same Industry     |              0.2008 |           0.0821 |             0.1675 |              0.1668 |          1      |\n",
    "\n",
    "Spearman:\n",
    "\n",
    "|        -          |   Stock Correlation |   Co-occurrences |   Minimum Distance |   Pairwise Distance |   Same Industry |\n",
    "|:------------------|--------------------:|-----------------:|-------------------:|--------------------:|----------------:|\n",
    "| Stock Correlation |              1      |           0.0681 |             0.0659 |              0.0666 |          0.1482 |\n",
    "| Co-occurrences    |              0.0681 |           1      |             0.9894 |              0.99   |          0.1676 |\n",
    "| Minimum Distance  |              0.0659 |           0.9894 |             1      |              0.9993 |          0.1663 |\n",
    "| Pairwise Distance |              0.0666 |           0.99   |             0.9993 |              1      |          0.1677 |\n",
    "| Same Industry     |              0.1482 |           0.1676 |             0.1663 |              0.1677 |          1      |\n",
    "\n",
    "Kendall:\n",
    "\n",
    "|        -          |   Stock Correlation |   Co-occurrences |   Minimum Distance |   Pairwise Distance |   Same Industry |\n",
    "|:------------------|--------------------:|-----------------:|-------------------:|--------------------:|----------------:|\n",
    "| Stock Correlation |              1      |           0.0546 |             0.0525 |              0.0532 |          0.121  |\n",
    "| Co-occurrences    |              0.0546 |           1      |             0.9472 |              0.9549 |          0.1645 |\n",
    "| Minimum Distance  |              0.0525 |           0.9472 |             1      |              0.9817 |          0.1621 |\n",
    "| Pairwise Distance |              0.0532 |           0.9549 |             0.9817 |              1      |          0.1638 |\n",
    "| Same Industry     |              0.121  |           0.1645 |             0.1621 |              0.1638 |          1      |"
   ]
  },
  {
   "cell_type": "markdown",
   "metadata": {},
   "source": [
    "- Normalization partly removed correlation between stock return and industry\n",
    "    - Return vs. Same Industry: 0.2717 --> Normalized vs. Same Industry: 0.1960\n",
    "- Correlation between Stock and Cooc increased with each preprocessing step\n",
    "- \"Cooc\" / \"Add Cooc\" correlates with \"Residuals\"\n",
    "- Addition of People Dist and Comp Dist increased Correlation\n",
    "- Spearman: Higher for intra-text features (Cooc, Distances, Same Industry) --> monotonic, non-linear relationship, Lower in comparison with stock correlation --> linear relationship between both feature types\n",
    "- Kendall: All values are lower than spearman, same as spearman compared to pearson\n",
    "- Pearson/Spearman Significance: 0.10 -> 0.0058, 0.05 -> 0.0069, 0.01 -> 0.0090\n",
    "- Kendall Significance: 0.10 -> 0.0038, 0.05 -> 0.0046, 0.01 -> 0.0060"
   ]
  },
  {
   "cell_type": "markdown",
   "metadata": {},
   "source": [
    "Plot/Print diagonal:\n",
    "- https://seaborn.pydata.org/examples/many_pairwise_correlations.html"
   ]
  }
 ],
 "metadata": {
  "kernelspec": {
   "display_name": "Python 3",
   "language": "python",
   "name": "python3"
  },
  "language_info": {
   "codemirror_mode": {
    "name": "ipython",
    "version": 3
   },
   "file_extension": ".py",
   "mimetype": "text/x-python",
   "name": "python",
   "nbconvert_exporter": "python",
   "pygments_lexer": "ipython3",
   "version": "3.6.0"
  },
  "notify_time": "5",
  "toc": {
   "base_numbering": 1,
   "nav_menu": {},
   "number_sections": true,
   "sideBar": true,
   "skip_h1_title": false,
   "title_cell": "Table of Contents",
   "title_sidebar": "Contents",
   "toc_cell": false,
   "toc_position": {},
   "toc_section_display": true,
   "toc_window_display": false
  }
 },
 "nbformat": 4,
 "nbformat_minor": 2
}
