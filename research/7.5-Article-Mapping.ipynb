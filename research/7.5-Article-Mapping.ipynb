{
 "cells": [
  {
   "cell_type": "markdown",
   "metadata": {},
   "source": [
    "### Content:\n",
    "- Use SpaCy NLP to find companys\n",
    "- Match companys in news with stock companies (using regex)\n",
    "- Exclude matches in headers afterwards (using regex)\n",
    "- Apply NLP on one Reuters and one Bloomberg article as show cases\n",
    "- Fix matchings for 3M Company\n",
    "- Generate cooccurrences (value represents number of articles in which two companies occur together)\n",
    "\n",
    "#### TODO:\n",
    "- Read through some articles to find a show case how it relates to stock prices"
   ]
  },
  {
   "cell_type": "code",
   "execution_count": 225,
   "metadata": {},
   "outputs": [
    {
     "name": "stdout",
     "output_type": "stream",
     "text": [
      "The autotime extension is already loaded. To reload it, use:\n",
      "  %reload_ext autotime\n",
      "The autoreload extension is already loaded. To reload it, use:\n",
      "  %reload_ext autoreload\n",
      "time: 1.34 s\n"
     ]
    }
   ],
   "source": [
    "import itertools\n",
    "import os\n",
    "import re\n",
    "import glob\n",
    "from datetime import datetime\n",
    "import sys\n",
    "from matplotlib.font_manager import FontProperties\n",
    "sys.path.append(\"..\") # Adds higher directory to python modules path for importing from src dir\n",
    "\n",
    "import pandas as pd\n",
    "import numpy as np\n",
    "import tqdm\n",
    "import matplotlib\n",
    "from matplotlib import pyplot as plt\n",
    "from tqdm import tqdm_notebook as tqdm\n",
    "\n",
    "import src.nlp_utils as nlp_utils\n",
    "import src.text_classification_utils as tc_utils\n",
    "\n",
    "import spacy\n",
    "from spacy import displacy\n",
    "from collections import Counter\n",
    "import en_core_web_sm\n",
    "nlp = en_core_web_sm.load(disable=['parser', 'tagger'])\n",
    "\n",
    "%matplotlib inline\n",
    "%load_ext autotime\n",
    "%load_ext autoreload\n",
    "%autoreload 2"
   ]
  },
  {
   "cell_type": "code",
   "execution_count": 226,
   "metadata": {},
   "outputs": [
    {
     "name": "stdout",
     "output_type": "stream",
     "text": [
      "time: 266 ms\n"
     ]
    }
   ],
   "source": [
    "HOME = \"..\"\n",
    "DATA_DIR = \"data\"\n",
    "REUTERS = os.path.join(HOME, DATA_DIR, \"preprocessed\", \"news_reuters.csv\")\n",
    "BLOOMBERG = os.path.join(HOME, DATA_DIR, \"preprocessed\", \"news_bloomberg.csv\")\n",
    "ENTITIES_v1 = os.path.join(\"..\", \"data\", \"preprocessed\", \"entities.csv\")\n",
    "ENTITIES_v2 = os.path.join(\"..\", \"data\", \"preprocessed\", \"entities-v2.csv\")\n",
    "ENTITIES = ENTITIES_v2\n",
    "OCCS = os.path.join(HOME, DATA_DIR, \"preprocessed\", \"occurrences\", \"occurrences.csv\")\n",
    "# Numerical IDs (equals df index)\n",
    "NEWS_v2 = os.path.join(HOME, DATA_DIR, \"preprocessed\", \"news-v2.csv\")\n",
    "# Sorted by date\n",
    "NEWS_v3 = os.path.join(HOME, DATA_DIR, \"preprocessed\", \"news-v3.csv\")\n",
    "# Without all entities\n",
    "NEWS_v4 = os.path.join(HOME, DATA_DIR, \"preprocessed\", \"news-v4.csv\")\n",
    "NEWS = NEWS_v3\n",
    "# Columns: 'date', 'filename', 'content'"
   ]
  },
  {
   "cell_type": "markdown",
   "metadata": {},
   "source": [
    "## Article Id Mapping"
   ]
  },
  {
   "cell_type": "code",
   "execution_count": null,
   "metadata": {},
   "outputs": [],
   "source": [
    "news = pd.read_csv(NEWS, index_col=0)\n",
    "\n",
    "# 8650 duplicated filenames, 786 duplicated contents\n",
    "# d = news.filename.duplicated()\n",
    "# print(news.loc[1716].iloc[1].content) # 1201 letters\n",
    "# print(news.loc[1641].iloc[1].content) # 541 letters"
   ]
  },
  {
   "cell_type": "code",
   "execution_count": null,
   "metadata": {},
   "outputs": [],
   "source": [
    "def get_old_idx(article):\n",
    "    if article.reuters:\n",
    "        return f'r{article.name}'\n",
    "    return f'b{article.name}'\n",
    "\n",
    "# [get_old_idx(idx, article) for idx, article in news.iterrows()];\n",
    "news['old_idx'] = news.apply(get_old_idx, axis=1)"
   ]
  },
  {
   "cell_type": "code",
   "execution_count": null,
   "metadata": {},
   "outputs": [],
   "source": [
    "news.reset_index(drop=True, inplace=True)\n",
    "news = news[['old_idx', 'date', 'filename', 'content']]\n",
    "\n",
    "new_to_old_idx = news.old_idx.to_dict()\n",
    "old_to_new_idx = {v: k for k, v in new_to_old_idx.items()}"
   ]
  },
  {
   "cell_type": "code",
   "execution_count": null,
   "metadata": {},
   "outputs": [],
   "source": [
    "news.to_csv('news-v2.csv')"
   ]
  },
  {
   "cell_type": "markdown",
   "metadata": {},
   "source": [
    "## Sanity Check for Occurrences"
   ]
  },
  {
   "cell_type": "code",
   "execution_count": null,
   "metadata": {},
   "outputs": [],
   "source": [
    "news = pd.read_csv(NEWS_v2, index_col=0)"
   ]
  },
  {
   "cell_type": "code",
   "execution_count": null,
   "metadata": {},
   "outputs": [],
   "source": [
    "new_to_old_idx = news.old_idx.to_dict()\n",
    "old_to_new_idx = {v: k for k, v in new_to_old_idx.items()}"
   ]
  },
  {
   "cell_type": "code",
   "execution_count": null,
   "metadata": {},
   "outputs": [],
   "source": [
    "bb = pd.read_csv('../data/preprocessed/occurrences/occurrences-bloomberg-v2.csv', index_col=0)\n",
    "re = pd.read_csv('../data/preprocessed/occurrences/occurrences-reuters-v2.csv', index_col=0)"
   ]
  },
  {
   "cell_type": "code",
   "execution_count": null,
   "metadata": {},
   "outputs": [],
   "source": [
    "n_tests = 100000\n",
    "# for idx in tqdm(np.random.choice(len(re), n_tests, replace=False)):\n",
    "#     occurrence = re.iloc[idx]\n",
    "for idx in tqdm(np.random.choice(len(bb), n_tests, replace=False)):\n",
    "    occurrence = bb.iloc[idx]\n",
    "    str_in_article = news.loc[old_to_new_idx[occurrence.article_id]].content[occurrence.start_idx:occurrence.end_idx]\n",
    "    assert str_in_article == occurrence.match_text, f\"Didn't match for occurrence {idx}\""
   ]
  },
  {
   "cell_type": "code",
   "execution_count": null,
   "metadata": {},
   "outputs": [],
   "source": [
    "re.article_id = re.article_id.apply(old_to_new_idx.get)\n",
    "bb.article_id = bb.article_id.apply(old_to_new_idx.get)\n",
    "occurrences = pd.concat([re, bb])\n",
    "\n",
    "n_tests = 100000\n",
    "for idx in tqdm(np.random.choice(len(occurrences), n_tests, replace=False)):\n",
    "    occurrence = occurrences.iloc[idx]\n",
    "    str_in_article = news.loc[occurrence.article_id].content[occurrence.start_idx:occurrence.end_idx]\n",
    "    assert str_in_article == occurrence.match_text, f\"Didn't match for occurrence {idx}\""
   ]
  },
  {
   "cell_type": "markdown",
   "metadata": {},
   "source": [
    "## Sanity Check for Entities"
   ]
  },
  {
   "cell_type": "code",
   "execution_count": null,
   "metadata": {},
   "outputs": [],
   "source": [
    "entities = pd.read_csv(ENTITIES, index_col=0, nrows=10000)\n",
    "news = pd.read_csv(NEWS, index_col=0, nrows=10000)"
   ]
  },
  {
   "cell_type": "code",
   "execution_count": null,
   "metadata": {},
   "outputs": [],
   "source": [
    "nan_txt_entities = entities[entities.match_text.isna()]\n",
    "txts = []\n",
    "for _, row in nan_txt_entities.iterrows():\n",
    "    txts.append(news.loc[row.article_id].content[row.start_idx:row.end_idx])\n",
    "txts = np.array(txts)\n",
    "print(np.unique(txts))  # -> N/A or NA with das transformed in real nan values\n",
    "# In entities.csv the files is empty -> e.g. line 2335779: \"2291077,39064,,1172,1174,ORG\""
   ]
  },
  {
   "cell_type": "code",
   "execution_count": null,
   "metadata": {},
   "outputs": [],
   "source": [
    "n_tests = 10000\n",
    "for idx in tqdm(np.random.choice(len(entities), n_tests, replace=False)):\n",
    "    entity = entities.iloc[idx]\n",
    "    str_in_article = news3.loc[entity.article_id].content[entity.start_idx:entity.end_idx]\n",
    "    assert (isinstance(entity.match_text, float) and np.isnan(entity.match_text)) or str_in_article == entity.match_text, f\"Didn't match entity at {idx}\""
   ]
  },
  {
   "cell_type": "markdown",
   "metadata": {},
   "source": [
    "## News-v3\n",
    "Reuters and Bloomberg are now mixed because they are sorted by date. This does not change the indexes."
   ]
  },
  {
   "cell_type": "code",
   "execution_count": null,
   "metadata": {},
   "outputs": [],
   "source": [
    "news = pd.read_csv(NEWS_v2, index_col=0)\n",
    "news.date = pd.to_datetime(news.date)\n",
    "news = news.sort_values(by=['date'])"
   ]
  },
  {
   "cell_type": "code",
   "execution_count": null,
   "metadata": {},
   "outputs": [],
   "source": [
    "with open(NEWS_v3, mode='w', newline='\\n', encoding='utf-8') as f:\n",
    "    news.to_csv(f, line_terminator='\\n', encoding='utf-8')"
   ]
  },
  {
   "cell_type": "markdown",
   "metadata": {},
   "source": [
    "### Testing HDF5\n",
    "Performance roughly as good as csv. --> http://matthewrocklin.com/blog/work/2015/03/16/Fast-Serialization"
   ]
  },
  {
   "cell_type": "code",
   "execution_count": null,
   "metadata": {},
   "outputs": [],
   "source": [
    "news.to_hdf(NEWS_v3[:-3]+'h5', 'df')"
   ]
  },
  {
   "cell_type": "code",
   "execution_count": null,
   "metadata": {},
   "outputs": [],
   "source": [
    "news = pd.read_hdf(NEWS_v3[:-3]+'h5')"
   ]
  },
  {
   "cell_type": "markdown",
   "metadata": {},
   "source": [
    "Note: v3 contained \\r\\r for each \\r because of Windows line formatting rules"
   ]
  },
  {
   "cell_type": "markdown",
   "metadata": {},
   "source": [
    "## Replace entities"
   ]
  },
  {
   "cell_type": "markdown",
   "metadata": {},
   "source": [
    "#### Merge Entities and Occs"
   ]
  },
  {
   "cell_type": "code",
   "execution_count": null,
   "metadata": {},
   "outputs": [],
   "source": [
    "news = pd.read_csv(NEWS_v3, index_col=0)"
   ]
  },
  {
   "cell_type": "code",
   "execution_count": 3,
   "metadata": {},
   "outputs": [
    {
     "name": "stderr",
     "output_type": "stream",
     "text": [
      "c:\\users\\thomas\\hpi\\ma\\venv\\lib\\site-packages\\numpy\\lib\\arraysetops.py:522: FutureWarning: elementwise comparison failed; returning scalar instead, but in the future will perform elementwise comparison\n",
      "  mask |= (ar1 == a)\n"
     ]
    },
    {
     "name": "stdout",
     "output_type": "stream",
     "text": [
      "time: 53.6 s\n"
     ]
    }
   ],
   "source": [
    "entities = pd.read_csv(ENTITIES_v1, index_col=0)\n",
    "occs = pd.read_csv(OCCS, index_col=0)"
   ]
  },
  {
   "cell_type": "code",
   "execution_count": 4,
   "metadata": {
    "scrolled": true
   },
   "outputs": [
    {
     "name": "stdout",
     "output_type": "stream",
     "text": [
      "Frames are merged\n",
      "time: 1min 22s\n"
     ]
    }
   ],
   "source": [
    "entities = nlp_utils.merge_entities_and_occs(entities, occs, quiet=False)"
   ]
  },
  {
   "cell_type": "code",
   "execution_count": 5,
   "metadata": {},
   "outputs": [
    {
     "name": "stdout",
     "output_type": "stream",
     "text": [
      "time: 53.4 s\n"
     ]
    }
   ],
   "source": [
    "entities.sort_values(by=['article_id', 'start_idx'], ascending=[True, False], inplace=True)"
   ]
  },
  {
   "cell_type": "code",
   "execution_count": 6,
   "metadata": {},
   "outputs": [
    {
     "name": "stdout",
     "output_type": "stream",
     "text": [
      "time: 4min 19s\n"
     ]
    }
   ],
   "source": [
    "with open(ENTITIES_v2, mode='w', newline='\\n', encoding='utf-8') as f:\n",
    "    entities.to_csv(f, line_terminator='\\n', encoding='utf-8')"
   ]
  },
  {
   "cell_type": "markdown",
   "metadata": {},
   "source": [
    "### Notes\n",
    "- 2.3 mio ORG entities start with an empty space. This might led to not matching stock symbols. (Example \" Exxon Mobile\")\n",
    "- Entity Labels: ['ORG', 'GPE', 'MONEY', 'DATE', 'QUANTITY', 'CARDINAL', 'NORP', 'PERSON', 'PRODUCT', 'LAW', 'PERCENT']\n",
    "- Company Occurrences are marked with < SYM >"
   ]
  },
  {
   "cell_type": "code",
   "execution_count": 7,
   "metadata": {},
   "outputs": [
    {
     "name": "stderr",
     "output_type": "stream",
     "text": [
      "c:\\users\\thomas\\hpi\\ma\\venv\\lib\\site-packages\\numpy\\lib\\arraysetops.py:522: FutureWarning: elementwise comparison failed; returning scalar instead, but in the future will perform elementwise comparison\n",
      "  mask |= (ar1 == a)\n"
     ]
    },
    {
     "name": "stdout",
     "output_type": "stream",
     "text": [
      "time: 1min\n"
     ]
    }
   ],
   "source": [
    "entities = pd.read_csv(ENTITIES_v2, index_col=0)"
   ]
  },
  {
   "cell_type": "code",
   "execution_count": null,
   "metadata": {},
   "outputs": [],
   "source": [
    "grouped = entities.groupby('article_id', sort=False)"
   ]
  },
  {
   "cell_type": "code",
   "execution_count": null,
   "metadata": {},
   "outputs": [],
   "source": [
    "def remove_substr(s, to_idx, from_idx):\n",
    "    return s[:to_idx]+s[from_idx:]"
   ]
  },
  {
   "cell_type": "code",
   "execution_count": null,
   "metadata": {},
   "outputs": [],
   "source": [
    "for article_id, group in tqdm(grouped, total=len(grouped.groups)):\n",
    "    # group.sort_values(by='start_idx', inplace=True, ascending=False)\n",
    "    s = news.loc[article_id].content\n",
    "    for i, row in group.iterrows():\n",
    "        # print(news.loc[0].content[row.start_idx-2:row.end_idx+2])\n",
    "        # Plus 1 for end_idx so the next sign (probably a space) will also be removed\n",
    "        s = remove_substr(s, row.start_idx, row.end_idx+1)\n",
    "        # print(s[row.start_idx-2:row.end_idx+2])\n",
    "    news.loc[article_id].content = s\n",
    "    # print(s)\n",
    "    # assert False"
   ]
  },
  {
   "cell_type": "code",
   "execution_count": null,
   "metadata": {},
   "outputs": [],
   "source": [
    "NEWS_v4 = os.path.join(HOME, DATA_DIR, \"preprocessed\", \"news-v4.csv\")\n",
    "with open(NEWS_v4, mode='w', newline='\\n', encoding='utf-8') as f:\n",
    "    news.to_csv(f, line_terminator='\\n', encoding='utf-8')"
   ]
  },
  {
   "cell_type": "markdown",
   "metadata": {},
   "source": [
    "# Collect & Plot for paper"
   ]
  },
  {
   "cell_type": "code",
   "execution_count": 336,
   "metadata": {},
   "outputs": [
    {
     "name": "stdout",
     "output_type": "stream",
     "text": [
      "time: 27.1 s\n"
     ]
    }
   ],
   "source": [
    "news = pd.read_csv(NEWS_v4)\n",
    "news['is_reuter']= news.old_idx.str.slice(0, 1) == 'r'\n",
    "news = news[['date', 'is_reuter', 'content', 'filename']]\n",
    "news.set_index(pd.DatetimeIndex(news.date.rename('index')), inplace=True)\n",
    "news.date = pd.to_datetime(news.date)"
   ]
  },
  {
   "cell_type": "markdown",
   "metadata": {},
   "source": [
    "### Inspect & Remove Duplicates"
   ]
  },
  {
   "cell_type": "code",
   "execution_count": 616,
   "metadata": {},
   "outputs": [
    {
     "name": "stdout",
     "output_type": "stream",
     "text": [
      "time: 2.02 s\n"
     ]
    }
   ],
   "source": [
    "element_group_sizes = news.filename.groupby(news.filename).transform('size')  # Much more efficient than filter()\n",
    "only_duplicated_articles = news[element_group_sizes > 1]"
   ]
  },
  {
   "cell_type": "code",
   "execution_count": 658,
   "metadata": {},
   "outputs": [
    {
     "data": {
      "text/html": [
       "<div>\n",
       "<style scoped>\n",
       "    .dataframe tbody tr th:only-of-type {\n",
       "        vertical-align: middle;\n",
       "    }\n",
       "\n",
       "    .dataframe tbody tr th {\n",
       "        vertical-align: top;\n",
       "    }\n",
       "\n",
       "    .dataframe thead tr th {\n",
       "        text-align: left;\n",
       "    }\n",
       "\n",
       "    .dataframe thead tr:last-of-type th {\n",
       "        text-align: right;\n",
       "    }\n",
       "</style>\n",
       "<table border=\"1\" class=\"dataframe\">\n",
       "  <thead>\n",
       "    <tr>\n",
       "      <th></th>\n",
       "      <th colspan=\"4\" halign=\"left\">date</th>\n",
       "      <th colspan=\"3\" halign=\"left\">content</th>\n",
       "    </tr>\n",
       "    <tr>\n",
       "      <th></th>\n",
       "      <th>min</th>\n",
       "      <th>max</th>\n",
       "      <th>len</th>\n",
       "      <th>timedelta</th>\n",
       "      <th>mean_changes</th>\n",
       "      <th>min_len</th>\n",
       "      <th>max_len</th>\n",
       "    </tr>\n",
       "    <tr>\n",
       "      <th>filename</th>\n",
       "      <th></th>\n",
       "      <th></th>\n",
       "      <th></th>\n",
       "      <th></th>\n",
       "      <th></th>\n",
       "      <th></th>\n",
       "      <th></th>\n",
       "    </tr>\n",
       "  </thead>\n",
       "  <tbody>\n",
       "    <tr>\n",
       "      <th>-a-dodgers-owner-frank-mccourt-says-divorce-settlement-mediation-failed</th>\n",
       "      <td>2010-11-30</td>\n",
       "      <td>2010-12-01</td>\n",
       "      <td>2</td>\n",
       "      <td>1 days</td>\n",
       "      <td>1431.0</td>\n",
       "      <td>470</td>\n",
       "      <td>1901</td>\n",
       "    </tr>\n",
       "    <tr>\n",
       "      <th>-dark-knight-weekend-sales-below-estimates-analyst-says</th>\n",
       "      <td>2012-07-22</td>\n",
       "      <td>2012-07-23</td>\n",
       "      <td>2</td>\n",
       "      <td>1 days</td>\n",
       "      <td>5.0</td>\n",
       "      <td>3763</td>\n",
       "      <td>3768</td>\n",
       "    </tr>\n",
       "    <tr>\n",
       "      <th>-despicable-me-2-tops-depp-s-lone-ranger-for-holiday-weekend</th>\n",
       "      <td>2013-07-07</td>\n",
       "      <td>2013-07-08</td>\n",
       "      <td>2</td>\n",
       "      <td>1 days</td>\n",
       "      <td>2080.0</td>\n",
       "      <td>2370</td>\n",
       "      <td>4450</td>\n",
       "    </tr>\n",
       "    <tr>\n",
       "      <th>-evangile-2010-falls-to-lowest-level-since-release-on-liv-ex</th>\n",
       "      <td>2013-08-05</td>\n",
       "      <td>2013-10-23</td>\n",
       "      <td>2</td>\n",
       "      <td>79 days</td>\n",
       "      <td>92.0</td>\n",
       "      <td>1677</td>\n",
       "      <td>1769</td>\n",
       "    </tr>\n",
       "    <tr>\n",
       "      <th>-hobbit-repeats-as-top-movie-with-37-million-in-ticket-sales</th>\n",
       "      <td>2012-12-23</td>\n",
       "      <td>2012-12-24</td>\n",
       "      <td>2</td>\n",
       "      <td>1 days</td>\n",
       "      <td>19.0</td>\n",
       "      <td>3741</td>\n",
       "      <td>3760</td>\n",
       "    </tr>\n",
       "  </tbody>\n",
       "</table>\n",
       "</div>"
      ],
      "text/plain": [
       "                                                         date                 \\\n",
       "                                                          min        max len   \n",
       "filename                                                                       \n",
       "-a-dodgers-owner-frank-mccourt-says-divorce-set... 2010-11-30 2010-12-01   2   \n",
       "-dark-knight-weekend-sales-below-estimates-anal... 2012-07-22 2012-07-23   2   \n",
       "-despicable-me-2-tops-depp-s-lone-ranger-for-ho... 2013-07-07 2013-07-08   2   \n",
       "-evangile-2010-falls-to-lowest-level-since-rele... 2013-08-05 2013-10-23   2   \n",
       "-hobbit-repeats-as-top-movie-with-37-million-in... 2012-12-23 2012-12-24   2   \n",
       "\n",
       "                                                                  content  \\\n",
       "                                                   timedelta mean_changes   \n",
       "filename                                                                    \n",
       "-a-dodgers-owner-frank-mccourt-says-divorce-set...    1 days       1431.0   \n",
       "-dark-knight-weekend-sales-below-estimates-anal...    1 days          5.0   \n",
       "-despicable-me-2-tops-depp-s-lone-ranger-for-ho...    1 days       2080.0   \n",
       "-evangile-2010-falls-to-lowest-level-since-rele...   79 days         92.0   \n",
       "-hobbit-repeats-as-top-movie-with-37-million-in...    1 days         19.0   \n",
       "\n",
       "                                                                    \n",
       "                                                   min_len max_len  \n",
       "filename                                                            \n",
       "-a-dodgers-owner-frank-mccourt-says-divorce-set...     470    1901  \n",
       "-dark-knight-weekend-sales-below-estimates-anal...    3763    3768  \n",
       "-despicable-me-2-tops-depp-s-lone-ranger-for-ho...    2370    4450  \n",
       "-evangile-2010-falls-to-lowest-level-since-rele...    1677    1769  \n",
       "-hobbit-repeats-as-top-movie-with-37-million-in...    3741    3760  "
      ]
     },
     "execution_count": 658,
     "metadata": {},
     "output_type": "execute_result"
    },
    {
     "name": "stdout",
     "output_type": "stream",
     "text": [
      "time: 6.02 s\n"
     ]
    }
   ],
   "source": [
    "# Inspect properties of duplicates\n",
    "def timedelta(x):\n",
    "    return x.max() - x.min()\n",
    "\n",
    "def mean_changes(x):\n",
    "    return abs(x[:-1].str.len() - x.shift(-1)[:-1].str.len()).mean()\n",
    "\n",
    "def min_len(x):\n",
    "    return min(x.str.len())\n",
    "\n",
    "def max_len(x):\n",
    "    return max(x.str.len())\n",
    "\n",
    "group_props = only_duplicated_articles.groupby('filename').agg({ 'date': [min, max, len, timedelta], 'content': [mean_changes, min_len, max_len] })\n",
    "group_props.head()"
   ]
  },
  {
   "cell_type": "code",
   "execution_count": 452,
   "metadata": {},
   "outputs": [
    {
     "name": "stdout",
     "output_type": "stream",
     "text": [
      "time: 228 ms\n"
     ]
    }
   ],
   "source": [
    "# 'certificate-of-deposits-reported-india-money-markets' occurs 568 times, \"Following is a table showing certificate of deposits\"\n",
    "# 'commercial-papers-reported-india-money-markets' occurs 378 times, \"Following is a table showing commercial papers\"\n",
    "# 'india-s-bse-and-nse-equity-derivative-market-activity' occurs 332 times, \"Following are the highlights for the \\nequity derivative market activity\"\n",
    "# 'fed-funds-open-at-0-16-within-target-range-according-to-icap' occurs 17 times, \n",
    "# 3685 filenames are occurring multiple times, covering 12028 entries\n",
    "duplicated_title = 'fed-funds-open-at-0-16-within-target-range-according-to-icap'"
   ]
  },
  {
   "cell_type": "markdown",
   "metadata": {},
   "source": [
    "### Filtering\n",
    "\n",
    "Starting with: 106.519 Reuters, 448.395 Bloomberg, 554.914 articles in total\n",
    "\n",
    "1. Content empty: 25 Reuters, 628 Bloomberg\n",
    "2. Less than 300 chars: 1253 Reuters, 2148 Bloomberg\n",
    "3. Drop duplicates keeping the last occurrence: 8343 removed for 3685 articles (e.g. 'certificate-of-deposits-reported-india-money-markets' occurs 568 times)\n",
    "\n",
    "-> Results in 105.241 Reuters and 445.619 Bloomberg, 542.517 articles in total"
   ]
  },
  {
   "cell_type": "code",
   "execution_count": 686,
   "metadata": {},
   "outputs": [
    {
     "name": "stdout",
     "output_type": "stream",
     "text": [
      "time: 1.1 s\n"
     ]
    }
   ],
   "source": [
    "news = news[news.content.notna()]\n",
    "news = news[news.content.str.len() >= 300]\n",
    "news.drop_duplicates('filename', keep='last', inplace=True)"
   ]
  },
  {
   "cell_type": "markdown",
   "metadata": {},
   "source": [
    "### Plot Distribution of Left Articles"
   ]
  },
  {
   "cell_type": "code",
   "execution_count": 688,
   "metadata": {
    "scrolled": true
   },
   "outputs": [
    {
     "name": "stdout",
     "output_type": "stream",
     "text": [
      "time: 273 ms\n"
     ]
    }
   ],
   "source": [
    "reuters_daily_counts = news[['is_reuter', 'date']].groupby('date').sum().astype(int)\n",
    "reuters_daily_counts.set_index(pd.DatetimeIndex(reuters_daily_counts.index), inplace=True)\n",
    "reuters_quarterly_counts = reuters_daily_counts.resample('Q', convention='end').agg('sum')"
   ]
  },
  {
   "cell_type": "code",
   "execution_count": 689,
   "metadata": {},
   "outputs": [
    {
     "name": "stdout",
     "output_type": "stream",
     "text": [
      "time: 248 ms\n"
     ]
    }
   ],
   "source": [
    "bloomberg_daily_counts = news[['is_reuter', 'date']].groupby('date').count() - reuters_daily_counts\n",
    "bloomberg_daily_counts.set_index(pd.DatetimeIndex(bloomberg_daily_counts.index), inplace=True)\n",
    "bloomberg_quarterly_counts = bloomberg_daily_counts.resample('Q', convention='end').agg('sum')"
   ]
  },
  {
   "cell_type": "code",
   "execution_count": 690,
   "metadata": {},
   "outputs": [
    {
     "name": "stdout",
     "output_type": "stream",
     "text": [
      "time: 197 ms\n"
     ]
    }
   ],
   "source": [
    "quarterly_counts = pd.concat([reuters_quarterly_counts, bloomberg_quarterly_counts], axis=1)\n",
    "quarterly_counts.columns = ['Reuters', 'Bloomberg']"
   ]
  },
  {
   "cell_type": "code",
   "execution_count": 691,
   "metadata": {},
   "outputs": [
    {
     "data": {
      "image/png": "[encoded data removed]",
      "text/plain": [
       "<matplotlib.figure.Figure at 0x161c9799e10>"
      ]
     },
     "metadata": {
      "needs_background": "light"
     },
     "output_type": "display_data"
    },
    {
     "name": "stdout",
     "output_type": "stream",
     "text": [
      "time: 793 ms\n"
     ]
    }
   ],
   "source": [
    "labels = ['Q4'] + [f'{q}' for y, q in itertools.product(range(2007, 2014), ['Q1', 'Q2', 'Q3', 'Q4'])]\n",
    "labels = [x if x in ['Q1', 'Q3'] else '' for x in labels]\n",
    "ax = quarterly_counts.plot.bar(legend=True, stacked=True, color=['#037d95', '#ffa823'])\n",
    "ax.set_xlabel('')\n",
    "ax.set_ylabel('Amount')\n",
    "ax.set_title('Distribution of Finance Articles')\n",
    "\n",
    "\n",
    "ax.set_xticks(np.arange(len(labels)))\n",
    "ax.set_xticklabels(labels, rotation='horizontal')\n",
    "\n",
    "y_axis_title_pos = 1\n",
    "ax.text(0.7, -6700, '|', ha='right', va='center')\n",
    "for idx, year in enumerate(range(2007, 2014)):\n",
    "    title_pos = y_axis_title_pos + 1.5\n",
    "    ax.text(title_pos, -7000, year, ha='center', va='center', rotation=0,\n",
    "            fontproperties=FontProperties(weight='bold'))\n",
    "    if year < 2013:\n",
    "        sep_pos = y_axis_title_pos + 3.7\n",
    "        ax.text(sep_pos, -6700, '|', ha='right', va='center')\n",
    "    y_axis_title_pos += 4\n",
    "\n",
    "ax.set_yticklabels([f'{abs(x / 1000):n}k' for x in ax.get_yticks()])\n",
    "\n",
    "ax.set_axisbelow(True)\n",
    "ax.yaxis.grid(color='gray', linestyle='dashed')\n",
    "ax.axvline(12.5, linestyle='dashed', color='gray')\n",
    "plt.gcf().savefig('articles-distribution.pdf')"
   ]
  }
 ],
 "metadata": {
  "kernelspec": {
   "display_name": "Python 3",
   "language": "python",
   "name": "python3"
  },
  "language_info": {
   "codemirror_mode": {
    "name": "ipython",
    "version": 3
   },
   "file_extension": ".py",
   "mimetype": "text/x-python",
   "name": "python",
   "nbconvert_exporter": "python",
   "pygments_lexer": "ipython3",
   "version": "3.6.0"
  },
  "notify_time": "5"
 },
 "nbformat": 4,
 "nbformat_minor": 2
}
