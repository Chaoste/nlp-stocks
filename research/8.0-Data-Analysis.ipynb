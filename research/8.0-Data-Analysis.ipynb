{
 "cells": [
  {
   "cell_type": "code",
   "execution_count": 1,
   "metadata": {},
   "outputs": [
    {
     "name": "stderr",
     "output_type": "stream",
     "text": [
      "c:\\users\\thomas\\hpi\\ma\\venv\\lib\\importlib\\_bootstrap.py:205: RuntimeWarning: cymem.cymem.Pool size changed, may indicate binary incompatibility. Expected 48 from C header, got 64 from PyObject\n",
      "  return f(*args, **kwds)\n",
      "c:\\users\\thomas\\hpi\\ma\\venv\\lib\\importlib\\_bootstrap.py:205: RuntimeWarning: cymem.cymem.Address size changed, may indicate binary incompatibility. Expected 24 from C header, got 40 from PyObject\n",
      "  return f(*args, **kwds)\n",
      "c:\\users\\thomas\\hpi\\ma\\venv\\lib\\importlib\\_bootstrap.py:205: RuntimeWarning: cymem.cymem.Pool size changed, may indicate binary incompatibility. Expected 48 from C header, got 64 from PyObject\n",
      "  return f(*args, **kwds)\n",
      "c:\\users\\thomas\\hpi\\ma\\venv\\lib\\importlib\\_bootstrap.py:205: RuntimeWarning: cymem.cymem.Address size changed, may indicate binary incompatibility. Expected 24 from C header, got 40 from PyObject\n",
      "  return f(*args, **kwds)\n"
     ]
    }
   ],
   "source": [
    "import os\n",
    "import re\n",
    "import glob\n",
    "from datetime import datetime\n",
    "import sys\n",
    "sys.path.append(\"..\") # Adds higher directory to python modules path for importing from src dir\n",
    "\n",
    "import pandas as pd\n",
    "import numpy as np\n",
    "import matplotlib\n",
    "from matplotlib import pyplot as plt\n",
    "\n",
    "from tqdm import tqdm_notebook as tqdm\n",
    "\n",
    "from src.datasets import NyseSecuritiesDataset\n",
    "from src.datasets import NyseStocksDataset\n",
    "from src.datasets.nyse_stocks import *\n",
    "import src.nlp_utils as nlp_utils\n",
    "\n",
    "%matplotlib inline\n",
    "%load_ext autotime\n",
    "%load_ext autoreload\n",
    "%autoreload 2"
   ]
  },
  {
   "cell_type": "code",
   "execution_count": 2,
   "metadata": {},
   "outputs": [
    {
     "name": "stdout",
     "output_type": "stream",
     "text": [
      "time: 107 ms\n"
     ]
    }
   ],
   "source": [
    "HOME = \"..\"\n",
    "DATA_DIR = \"data\"\n",
    "REUTERS = os.path.join(HOME, DATA_DIR, \"preprocessed\", \"news_reuters.csv\")\n",
    "BLOOMBERG = os.path.join(HOME, DATA_DIR, \"preprocessed\", \"news_bloomberg.csv\")\n",
    "NEWS = os.path.join(HOME, DATA_DIR, \"preprocessed\", \"news.csv\")\n",
    "# Columns: 'date', 'filename', 'content'"
   ]
  },
  {
   "cell_type": "code",
   "execution_count": 3,
   "metadata": {
    "scrolled": true
   },
   "outputs": [
    {
     "data": {
      "application/vnd.jupyter.widget-view+json": {
       "model_id": "e501f60c609d404cadd4054f2a571320",
       "version_major": 2,
       "version_minor": 0
      },
      "text/plain": [
       "HBox(children=(IntProgress(value=0, max=501), HTML(value='')))"
      ]
     },
     "metadata": {},
     "output_type": "display_data"
    },
    {
     "name": "stdout",
     "output_type": "stream",
     "text": [
      "\n",
      "time: 10.8 s\n"
     ]
    }
   ],
   "source": [
    "stocks_ds = NyseStocksDataset(file_path='../data/nyse/prices.csv')  # prices-split-adjusted\n",
    "prices = stocks_ds.get_all_prices()\n",
    "X_train, y_train, X_test, y_test = stocks_ds.data()"
   ]
  },
  {
   "cell_type": "markdown",
   "metadata": {},
   "source": [
    "### Inspect train-test-val"
   ]
  },
  {
   "cell_type": "code",
   "execution_count": 4,
   "metadata": {},
   "outputs": [
    {
     "name": "stdout",
     "output_type": "stream",
     "text": [
      "477682 247457 126125 out of 851264\n",
      "time: 223 ms\n"
     ]
    }
   ],
   "source": [
    "train = prices[prices['date'] < TRAIN_VAL_SPLIT][FEATURES]\n",
    "val = prices[(prices['date'] >= TRAIN_VAL_SPLIT) & (prices['date'] < TRAIN_TEST_SPLIT)][FEATURES]\n",
    "test = prices[prices['date'] >= TRAIN_TEST_SPLIT][FEATURES]\n",
    "print(len(train), len(val), len(test), 'out of', len(prices))"
   ]
  },
  {
   "cell_type": "markdown",
   "metadata": {},
   "source": [
    "### Inspect symbols and time spans"
   ]
  },
  {
   "cell_type": "code",
   "execution_count": 5,
   "metadata": {},
   "outputs": [
    {
     "name": "stdout",
     "output_type": "stream",
     "text": [
      "Symbols without stock prices:\n",
      "BRK.B, BF.B, MS, UA\n",
      "time: 241 ms\n"
     ]
    }
   ],
   "source": [
    "securities_ds = NyseSecuritiesDataset(file_path='../data/nyse/securities.csv')\n",
    "symbols = securities_ds.data()['Ticker symbol'].drop_duplicates()\n",
    "symbols2 = prices['symbol'].drop_duplicates()\n",
    "print(\"Symbols without stock prices:\")\n",
    "print(', '.join(symbols[~symbols.isin(symbols2)]))\n",
    "assert not any(symbols2.str.find('BRK') != -1)\n",
    "assert len(symbols2[~symbols2.isin(symbols)]) == 0"
   ]
  },
  {
   "cell_type": "code",
   "execution_count": 6,
   "metadata": {},
   "outputs": [
    {
     "data": {
      "image/png": "[encoded data removed]",
      "text/plain": [
       "<matplotlib.figure.Figure at 0x16d2cec01d0>"
      ]
     },
     "metadata": {
      "needs_background": "light"
     },
     "output_type": "display_data"
    },
    {
     "name": "stdout",
     "output_type": "stream",
     "text": [
      "time: 397 ms\n"
     ]
    }
   ],
   "source": [
    "ax = prices.date.groupby(prices.date.dt.year).count().plot(kind=\"bar\")\n",
    "ax.get_figure().autofmt_xdate()"
   ]
  },
  {
   "cell_type": "code",
   "execution_count": 95,
   "metadata": {
    "scrolled": true
   },
   "outputs": [
    {
     "data": {
      "application/vnd.jupyter.widget-view+json": {
       "model_id": "c9ae692cb15d40dda113cc20887ff1be",
       "version_major": 2,
       "version_minor": 0
      },
      "text/plain": [
       "HBox(children=(IntProgress(value=0, max=501), HTML(value='')))"
      ]
     },
     "metadata": {},
     "output_type": "display_data"
    },
    {
     "name": "stdout",
     "output_type": "stream",
     "text": [
      "WLTW: started at 2016-01-14 00:00:00\n",
      "CHTR: started at 2010-01-05 00:00:00\n",
      "LYB: started at 2010-04-28 00:00:00\n",
      "GM: started at 2010-11-18 00:00:00\n",
      "ABBV: started at 2013-01-02 00:00:00\n",
      "DLPH: started at 2013-01-02 00:00:00\n",
      "FB: started at 2013-01-02 00:00:00\n",
      "FBHS: started at 2013-01-02 00:00:00\n",
      "HCA: started at 2013-01-02 00:00:00\n",
      "KMI: started at 2013-01-02 00:00:00\n",
      "KORS: started at 2013-01-02 00:00:00\n",
      "MPC: started at 2013-01-02 00:00:00\n",
      "NLSN: started at 2013-01-02 00:00:00\n",
      "PSX: started at 2013-01-02 00:00:00\n",
      "TDG: started at 2013-01-02 00:00:00\n",
      "TRIP: started at 2013-01-02 00:00:00\n",
      "XYL: started at 2013-01-02 00:00:00\n",
      "ZTS: started at 2013-02-01 00:00:00\n",
      "COTY: started at 2013-06-13 00:00:00\n",
      "MNK: started at 2013-06-17 00:00:00\n",
      "NWS: started at 2013-06-19 00:00:00\n",
      "NWSA: started at 2013-06-19 00:00:00\n",
      "EVHC: started at 2013-08-14 00:00:00\n",
      "ALLE: started at 2013-11-18 00:00:00\n",
      "CFG: started at 2015-01-02 00:00:00\n",
      "NAVI: started at 2015-01-02 00:00:00\n",
      "QRVO: started at 2015-01-02 00:00:00\n",
      "SYF: started at 2015-01-02 00:00:00\n",
      "WRK: started at 2015-06-24 00:00:00\n",
      "KHC: started at 2015-07-06 00:00:00\n",
      "PYPL: started at 2015-07-06 00:00:00\n",
      "HPE: started at 2015-10-19 00:00:00\n",
      "CSRA: started at 2015-11-16 00:00:00\n",
      "FTV: started at 2016-07-05 00:00:00\n",
      "\n",
      "time: 38.8 s\n"
     ]
    }
   ],
   "source": [
    "for sym in tqdm(symbols2):\n",
    "    stocks_prices = prices[prices['symbol'] == sym]\n",
    "    # assert not any(stocks_prices['date'] >= stocks_prices.shift(-1)['date']), 'Prices are not sorted by date'\n",
    "    if stocks_prices['date'].min() != START_DATE:\n",
    "        print(f'{sym}: started at {stocks_prices[\"date\"].min()}')\n",
    "    if stocks_prices['date'].max() != END_DATE:\n",
    "        print(f'{sym}: ended at {stocks_prices[\"date\"].max()}')"
   ]
  },
  {
   "cell_type": "markdown",
   "metadata": {},
   "source": [
    "### Visualization label distribution"
   ]
  },
  {
   "cell_type": "code",
   "execution_count": 7,
   "metadata": {},
   "outputs": [
    {
     "name": "stdout",
     "output_type": "stream",
     "text": [
      "time: 115 ms\n"
     ]
    }
   ],
   "source": [
    "# Source: http://www.gardening.cornell.edu/homegardening/scene638f.html\n",
    "primary = '#037d95'  # blue green\n",
    "secondary = '#ffa823'  # orange yellow\n",
    "ternary = '#c8116b'  # red violet"
   ]
  },
  {
   "cell_type": "code",
   "execution_count": 10,
   "metadata": {},
   "outputs": [
    {
     "name": "stdout",
     "output_type": "stream",
     "text": [
      "time: 878 ms\n"
     ]
    }
   ],
   "source": [
    "epsilon = 0.01\n",
    "def get_label(rel_dist):\n",
    "        return -1 if rel_dist < -epsilon else 1 \\\n",
    "            if rel_dist > epsilon else 0\n",
    "\n",
    "y = stocks_ds.prices[['open', 'close']].copy()\n",
    "y['rel_dist'] = 1 - (y['close'] / y['open'])\n",
    "y['label'] = y['rel_dist'].apply(get_label)"
   ]
  },
  {
   "cell_type": "code",
   "execution_count": 12,
   "metadata": {},
   "outputs": [
    {
     "data": {
      "image/png": "[encoded data removed]",
      "text/plain": [
       "<matplotlib.figure.Figure at 0x16d2f39e438>"
      ]
     },
     "metadata": {
      "needs_background": "light"
     },
     "output_type": "display_data"
    },
    {
     "name": "stdout",
     "output_type": "stream",
     "text": [
      "time: 1.07 s\n"
     ]
    }
   ],
   "source": [
    "fig, axes = plt.subplots(1, 2, figsize=(12, 3))\n",
    "axes = axes.flat\n",
    "\n",
    "labels_down = y[y['label'] == -1]['rel_dist']\n",
    "labels_still = y[y['label'] == 0]['rel_dist']\n",
    "labels_ups = y[y['label'] == 1]['rel_dist']\n",
    "\n",
    "axes[1].hist(labels_down, range=(-0.1, -epsilon), color=primary)\n",
    "axes[1].hist(labels_still, range=(-epsilon, epsilon), bins=1, color=ternary)\n",
    "axes[1].hist(labels_ups, range=(epsilon, 0.1), color=secondary)\n",
    "axes[1].set_title('Distribution of relative distances')\n",
    "\n",
    "ind = np.arange(-1, 2)\n",
    "axes[0].bar(ind, [len(labels_down), len(labels_still), len(labels_ups)],\n",
    "            color=[primary, ternary, secondary])\n",
    "axes[0].set_xticks(ind)\n",
    "axes[0].set_xticklabels(['Down', 'Still', 'Up'])\n",
    "axes[0].set_title('Amount per class')\n",
    "\n",
    "fig.tight_layout()\n",
    "# fig.savefig('./plots/labels_distribution_e01.png')"
   ]
  }
 ],
 "metadata": {
  "kernelspec": {
   "display_name": "Python 3",
   "language": "python",
   "name": "python3"
  },
  "language_info": {
   "codemirror_mode": {
    "name": "ipython",
    "version": 3
   },
   "file_extension": ".py",
   "mimetype": "text/x-python",
   "name": "python",
   "nbconvert_exporter": "python",
   "pygments_lexer": "ipython3",
   "version": "3.6.0"
  },
  "notify_time": "5"
 },
 "nbformat": 4,
 "nbformat_minor": 2
}
