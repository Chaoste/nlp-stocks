{
 "cells": [
  {
   "cell_type": "code",
   "execution_count": 170,
   "metadata": {},
   "outputs": [
    {
     "name": "stdout",
     "output_type": "stream",
     "text": [
      "The autotime extension is already loaded. To reload it, use:\n",
      "  %reload_ext autotime\n",
      "The autoreload extension is already loaded. To reload it, use:\n",
      "  %reload_ext autoreload\n",
      "time: 772 ms\n"
     ]
    }
   ],
   "source": [
    "import os\n",
    "import re\n",
    "import glob\n",
    "from datetime import datetime\n",
    "import sys\n",
    "from collections import defaultdict\n",
    "\n",
    "import pandas as pd\n",
    "import numpy as np\n",
    "import matplotlib\n",
    "from matplotlib import pyplot as plt\n",
    "sys.path.append(\"..\") # Adds higher directory to python modules path for importing from src dir\n",
    "\n",
    "from sklearn.neural_network import MLPClassifier\n",
    "from sklearn.svm import SVC\n",
    "\n",
    "from src.algorithms.simple.lstm import SimpleLSTM\n",
    "from src.datasets import NyseStocksDataset, NyseSecuritiesDataset\n",
    "from src.evaluation import Plotter\n",
    "from src.pipeline import run_pipeline, prepare_data, evaluate_results\n",
    "\n",
    "%matplotlib inline\n",
    "%load_ext autotime\n",
    "%load_ext autoreload\n",
    "%autoreload 2"
   ]
  },
  {
   "cell_type": "code",
   "execution_count": 2,
   "metadata": {
    "scrolled": true
   },
   "outputs": [
    {
     "data": {
      "application/vnd.jupyter.widget-view+json": {
       "model_id": "ac0c0436bdf247748dfc064f81f6ba45",
       "version_major": 2,
       "version_minor": 0
      },
      "text/plain": [
       "HBox(children=(IntProgress(value=0, max=501), HTML(value='')))"
      ]
     },
     "metadata": {},
     "output_type": "display_data"
    },
    {
     "name": "stdout",
     "output_type": "stream",
     "text": [
      "\n",
      "time: 11.3 s\n"
     ]
    }
   ],
   "source": [
    "sec_ds = NyseSecuritiesDataset(file_path='../data/nyse/securities.csv')\n",
    "sec_ds.data()\n",
    "\n",
    "stocks_ds = NyseStocksDataset(file_path='../data/nyse/prices.csv')  # prices-split-adjusted\n",
    "X_train, y_train, X_test, y_test = stocks_ds.data()"
   ]
  },
  {
   "cell_type": "code",
   "execution_count": 3,
   "metadata": {},
   "outputs": [
    {
     "name": "stdout",
     "output_type": "stream",
     "text": [
      "time: 195 ms\n"
     ]
    }
   ],
   "source": [
    "plotter = Plotter('../reports')"
   ]
  },
  {
   "cell_type": "markdown",
   "metadata": {},
   "source": [
    "## Run Pipeline"
   ]
  },
  {
   "cell_type": "code",
   "execution_count": 4,
   "metadata": {},
   "outputs": [
    {
     "name": "stdout",
     "output_type": "stream",
     "text": [
      "(721646, 37) (721646,) (126111, 37) (126111,)\n",
      "1.0: 266725 -1.0: 245211 0.0: 209710\n",
      "1.0: 47281 -1.0: 41305 0.0: 37525\n",
      "time: 384 ms\n"
     ]
    }
   ],
   "source": [
    "# stocks_ds = NyseStocksDataset(file_path='../data/nyse/prices.csv')\n",
    "# X_train, y_train, X_test, y_test = stocks_ds.data()\n",
    "print(X_train.shape, y_train.shape, X_test.shape, y_test.shape)\n",
    "print(*[f'{v}: {sum(y_train == v)}' for v in y_train.unique()])\n",
    "print(*[f'{v}: {sum(y_test == v)}' for v in y_test.unique()])"
   ]
  },
  {
   "cell_type": "code",
   "execution_count": 5,
   "metadata": {},
   "outputs": [
    {
     "name": "stdout",
     "output_type": "stream",
     "text": [
      "Train Labels --> -1.0: 20000; 0.0: 20000; 1.0: 20000\n",
      "Training range: 2010-01-13 00:00:00 to 2010-10-01 00:00:00\n",
      "Test Labels --> -1.0: 2000; 0.0: 2000; 1.0: 2000\n",
      "Testing range: 2016-01-04 00:00:00 to 2016-12-30 00:00:00\n",
      "Done preparing data\n",
      "time: 995 ms\n"
     ]
    }
   ],
   "source": [
    "# stocks_ds = NyseStocksDataset(file_path='../data/nyse/prices.csv')\n",
    "# X_train, y_train, X_test, y_test = stocks_ds.data()\n",
    "\n",
    "# fit 60k: 600ms, 3min, 13min\n",
    "# fit 300k: 1h40m, 36s, 1h13m\n",
    "# fit 600k: ?\n",
    "\n",
    "small_data = prepare_data(stocks_ds, 20000, 2000)\n",
    "small_X_train, small_y_train, small_X_test, small_y_test = small_data"
   ]
  },
  {
   "cell_type": "code",
   "execution_count": 11,
   "metadata": {
    "scrolled": true
   },
   "outputs": [
    {
     "name": "stdout",
     "output_type": "stream",
     "text": [
      "[LibSVM]              precision    recall  f1-score   support\n",
      "\n",
      "        Down       0.28      0.14      0.18      2000\n",
      "       Still       0.37      0.53      0.44      2000\n",
      "          Up       0.31      0.34      0.32      2000\n",
      "\n",
      "   micro avg       0.33      0.33      0.33      6000\n",
      "   macro avg       0.32      0.33      0.31      6000\n",
      "weighted avg       0.32      0.33      0.31      6000\n",
      "\n",
      "Precision=0.31930461132868\n",
      "Recall=0.33266666666666667\n",
      "F1-Score=0.3126841998928995\n",
      "Accuracy=0.33266666666666667\n",
      "MCC=-0.0010404274096390241\n",
      "time: 7min 49s\n"
     ]
    }
   ],
   "source": [
    "predictor = SVC(verbose=True, gamma='scale')  # kernel='linear'\n",
    "pipeline_svc, y_pred = run_pipeline(predictor, small_data, time_dim=False)\n",
    "ev_svc = evaluate_results(small_data[3], y_pred)"
   ]
  },
  {
   "cell_type": "code",
   "execution_count": 13,
   "metadata": {
    "scrolled": true
   },
   "outputs": [
    {
     "name": "stdout",
     "output_type": "stream",
     "text": [
      "Iteration 1, loss = 1.10548421\n",
      "Iteration 2, loss = 1.09527870\n",
      "Iteration 3, loss = 1.09401680\n",
      "Iteration 4, loss = 1.09194390\n",
      "Iteration 5, loss = 1.08993213\n",
      "Iteration 6, loss = 1.08871687\n",
      "Iteration 7, loss = 1.08778364\n",
      "Iteration 8, loss = 1.08655321\n",
      "Iteration 9, loss = 1.08528651\n",
      "Iteration 10, loss = 1.08388225\n",
      "Iteration 11, loss = 1.08224360\n",
      "Iteration 12, loss = 1.08020557\n",
      "Iteration 13, loss = 1.07924731\n",
      "Iteration 14, loss = 1.07773276\n",
      "Iteration 15, loss = 1.07766532\n",
      "Iteration 16, loss = 1.07456821\n",
      "Iteration 17, loss = 1.07486332\n",
      "Iteration 18, loss = 1.07349334\n",
      "Iteration 19, loss = 1.07311267\n",
      "Iteration 20, loss = 1.07060003\n",
      "Iteration 21, loss = 1.07049716\n",
      "Iteration 22, loss = 1.07001303\n",
      "Iteration 23, loss = 1.07038464\n",
      "Iteration 24, loss = 1.06958092\n",
      "Iteration 25, loss = 1.06787391\n",
      "Iteration 26, loss = 1.06996117\n",
      "Iteration 27, loss = 1.06797507\n",
      "Iteration 28, loss = 1.06692242\n",
      "Iteration 29, loss = 1.06704511\n",
      "Iteration 30, loss = 1.06642374\n",
      "Iteration 31, loss = 1.06519299\n",
      "Iteration 32, loss = 1.06519142\n",
      "Iteration 33, loss = 1.06624881\n",
      "Iteration 34, loss = 1.06380241\n",
      "Iteration 35, loss = 1.06536311\n",
      "Iteration 36, loss = 1.06413590\n",
      "Iteration 37, loss = 1.06374769\n",
      "Iteration 38, loss = 1.06265009\n",
      "Iteration 39, loss = 1.06200101\n",
      "Iteration 40, loss = 1.06227335\n",
      "Iteration 41, loss = 1.06267879\n",
      "Iteration 42, loss = 1.06193608\n",
      "Iteration 43, loss = 1.06001628\n",
      "Iteration 44, loss = 1.05955721\n",
      "Iteration 45, loss = 1.06083290\n",
      "Iteration 46, loss = 1.05903668\n",
      "Iteration 47, loss = 1.05937891\n",
      "Iteration 48, loss = 1.05900069\n",
      "Iteration 49, loss = 1.05932877\n",
      "Iteration 50, loss = 1.05878330\n",
      "Iteration 51, loss = 1.05806428\n",
      "Iteration 52, loss = 1.05576130\n",
      "Iteration 53, loss = 1.05732200\n",
      "Iteration 54, loss = 1.05629806\n",
      "Iteration 55, loss = 1.05601048\n",
      "Iteration 56, loss = 1.05542219\n",
      "Iteration 57, loss = 1.05497959\n",
      "Iteration 58, loss = 1.05538275\n",
      "Iteration 59, loss = 1.05381202\n",
      "Iteration 60, loss = 1.05436963\n",
      "Iteration 61, loss = 1.05358224\n",
      "Iteration 62, loss = 1.05415879\n",
      "Iteration 63, loss = 1.05454014\n",
      "Iteration 64, loss = 1.05286497\n",
      "Iteration 65, loss = 1.05234088\n",
      "Iteration 66, loss = 1.05229365\n",
      "Iteration 67, loss = 1.05283689\n",
      "Iteration 68, loss = 1.05183136\n",
      "Iteration 69, loss = 1.05043447\n",
      "Iteration 70, loss = 1.05114805\n",
      "Iteration 71, loss = 1.05085175\n",
      "Iteration 72, loss = 1.05070721\n",
      "Iteration 73, loss = 1.05016882\n",
      "Iteration 74, loss = 1.04972256\n",
      "Iteration 75, loss = 1.04932455\n",
      "Iteration 76, loss = 1.04993119\n",
      "Iteration 77, loss = 1.04779806\n",
      "Iteration 78, loss = 1.05042963\n",
      "Iteration 79, loss = 1.04819427\n",
      "Iteration 80, loss = 1.04780417\n",
      "Iteration 81, loss = 1.04745175\n",
      "Iteration 82, loss = 1.04745012\n",
      "Iteration 83, loss = 1.04766466\n",
      "Iteration 84, loss = 1.04805538\n",
      "Iteration 85, loss = 1.04764049\n",
      "Iteration 86, loss = 1.04658660\n",
      "Iteration 87, loss = 1.04569589\n",
      "Iteration 88, loss = 1.04553744\n",
      "Iteration 89, loss = 1.04553162\n",
      "Iteration 90, loss = 1.04422005\n",
      "Iteration 91, loss = 1.04642983\n",
      "Iteration 92, loss = 1.04445094\n",
      "Iteration 93, loss = 1.04431060\n",
      "Iteration 94, loss = 1.04387941\n",
      "Iteration 95, loss = 1.04313641\n",
      "Iteration 96, loss = 1.04314807\n",
      "Iteration 97, loss = 1.04317725\n",
      "Iteration 98, loss = 1.04291189\n",
      "Iteration 99, loss = 1.04241466\n",
      "Iteration 100, loss = 1.04141985\n"
     ]
    },
    {
     "name": "stderr",
     "output_type": "stream",
     "text": [
      "c:\\users\\thomas\\hpi\\ma\\venv\\lib\\site-packages\\sklearn\\neural_network\\multilayer_perceptron.py:562: ConvergenceWarning: Stochastic Optimizer: Maximum iterations (100) reached and the optimization hasn't converged yet.\n",
      "  % self.max_iter, ConvergenceWarning)\n"
     ]
    },
    {
     "name": "stdout",
     "output_type": "stream",
     "text": [
      "              precision    recall  f1-score   support\n",
      "\n",
      "        Down       0.29      0.35      0.31      2000\n",
      "       Still       0.35      0.42      0.38      2000\n",
      "          Up       0.30      0.17      0.22      2000\n",
      "\n",
      "   micro avg       0.32      0.32      0.32      6000\n",
      "   macro avg       0.31      0.32      0.31      6000\n",
      "weighted avg       0.31      0.32      0.31      6000\n",
      "\n",
      "Precision=0.31274568386638857\n",
      "Recall=0.31516666666666665\n",
      "F1-Score=0.30655751144417637\n",
      "Accuracy=0.31516666666666665\n",
      "MCC=-0.027854506473725206\n",
      "time: 38.9 s\n"
     ]
    }
   ],
   "source": [
    "predictor = MLPClassifier(activation='tanh',\n",
    "    hidden_layer_sizes=(32, 32, 32, 3), max_iter=100,\n",
    "    solver='adam', verbose=10, random_state=42)  # tol=1e-4, learning_rate_init=1e-4, alpha=0.0001\n",
    "pipeline_mlp, y_pred = run_pipeline(predictor, small_data, time_dim=False)\n",
    "ev_mlp = evaluate_results(small_data[3], y_pred)"
   ]
  },
  {
   "cell_type": "code",
   "execution_count": 139,
   "metadata": {},
   "outputs": [
    {
     "data": {
      "text/plain": [
       "MultiIndex(levels=[['date', 'symbol', 'day_1', 'day_2', 'day_3', 'day_4', 'day_5', 'day_6', 'day_7'], ['', 'C', 'H', 'L', 'O', 'V']],\n",
       "           labels=[[0, 1, 2, 2, 2, 2, 2, 3, 3, 3, 3, 3, 4, 4, 4, 4, 4, 5, 5, 5, 5, 5, 6, 6, 6, 6, 6, 7, 7, 7, 7, 7, 8, 8, 8, 8, 8], [0, 0, 4, 1, 3, 2, 5, 4, 1, 3, 2, 5, 4, 1, 3, 2, 5, 4, 1, 3, 2, 5, 4, 1, 3, 2, 5, 4, 1, 3, 2, 5, 4, 1, 3, 2, 5]],\n",
       "           names=['day', 'feature'])"
      ]
     },
     "execution_count": 139,
     "metadata": {},
     "output_type": "execute_result"
    },
    {
     "name": "stdout",
     "output_type": "stream",
     "text": [
      "time: 241 ms\n"
     ]
    }
   ],
   "source": [
    "X_test.iloc[0].index."
   ]
  },
  {
   "cell_type": "code",
   "execution_count": 160,
   "metadata": {},
   "outputs": [
    {
     "data": {
      "text/plain": [
       "array([7, 6, 5, 4, 3, 2, 1])"
      ]
     },
     "execution_count": 160,
     "metadata": {},
     "output_type": "execute_result"
    },
    {
     "name": "stdout",
     "output_type": "stream",
     "text": [
      "time: 874 ms\n"
     ]
    }
   ],
   "source": [
    "np.arange(7, 0, -1)"
   ]
  },
  {
   "cell_type": "code",
   "execution_count": 178,
   "metadata": {},
   "outputs": [
    {
     "name": "stdout",
     "output_type": "stream",
     "text": [
      "time: 224 ms\n"
     ]
    }
   ],
   "source": [
    "def get_company_name(self, sym) -> str:\n",
    "        securities = self.data()\n",
    "        return securities[securities['Ticker symbol'] == sym].iloc[0]['Name']\n",
    "NyseSecuritiesDataset.get_company_name = get_company_name"
   ]
  },
  {
   "cell_type": "code",
   "execution_count": 202,
   "metadata": {},
   "outputs": [
    {
     "data": {
      "image/png": "[encoded data removed]",
      "text/plain": [
       "<matplotlib.figure.Figure at 0x1f7175c9630>"
      ]
     },
     "metadata": {
      "needs_background": "light"
     },
     "output_type": "display_data"
    },
    {
     "name": "stdout",
     "output_type": "stream",
     "text": [
      "time: 456 ms\n"
     ]
    }
   ],
   "source": [
    "def translate_label(v):\n",
    "    return 'Up' if v == 1 else 'Down' if v == -1 else 'Still'\n",
    "\n",
    "def np_to_datetime(d64):\n",
    "    timestamp = (d64 - np.datetime64(0, 's')) / np.timedelta64(1, 's')\n",
    "    return datetime.utcfromtimestamp(timestamp)\n",
    "\n",
    "def plot_sample(prediction, X, y):\n",
    "    features = set(X.index.levels[1]) - set(('', ))\n",
    "    n_timestamps = len(set(X.index.levels[0]) - set(('date', 'symbol')))\n",
    "    ax = X[:, 'O'].plot(label='Open', alpha=0.3)\n",
    "    if 'C' in features:\n",
    "        X[:, 'C'].plot(label='Close', alpha=0.3)\n",
    "    if 'L' in features:\n",
    "        X[:, 'L'].plot(label='Low', alpha=0.3)\n",
    "    if 'H' in features:\n",
    "        X[:, 'H'].plot(label='High', alpha=0.3)\n",
    "    if 'V' in features:\n",
    "        v_max = X[:, 'V'].max()\n",
    "        scalar = max([X[:, f].max() for f in features if f != 'V']) / v_max\n",
    "        (X[:, 'V'] * scalar).plot(label=f'Volume ({v_max:.2n})', alpha=0.3)\n",
    "    last_open = X[:, 'O'].iloc[n_timestamps - 1]\n",
    "    filler = [None]*(n_timestamps - 1) + [last_open]\n",
    "    plt.plot(filler + [last_open * (1 + y*0.1)], '--', label=f'Label ({translate_label(y)})')\n",
    "    plt.plot(filler + [last_open + (1 + prediction*0.1)], '--', label=f'Prediction ({translate_label(prediction)})')\n",
    "    ax.legend()\n",
    "    ax.set_xticklabels([None] + list(np.arange(n_timestamps, 0, - 1)) + ['next'])\n",
    "    date = np_to_datetime(X['date'].values[0])\n",
    "    sym = X['symbol'].values[0]\n",
    "    ax.set_title(f\"Sample #{X.name}: {sec_ds.get_company_name('WLTW')}({sym}) - {date:%A, %B %d, %Y}\")\n",
    "\n",
    "plot_sample(y_pred[0], X_test.iloc[0], y_test.iloc[0])   # small_data[2].iloc[0] has no symol or date"
   ]
  },
  {
   "cell_type": "code",
   "execution_count": 75,
   "metadata": {
    "scrolled": true
   },
   "outputs": [
    {
     "data": {
      "application/vnd.jupyter.widget-view+json": {
       "model_id": "54f9bdb585714070865a1ce59afec3f6",
       "version_major": 2,
       "version_minor": 0
      },
      "text/plain": [
       "HBox(children=(IntProgress(value=0, description='Training', max=50, style=ProgressStyle(description_width='ini…"
      ]
     },
     "metadata": {},
     "output_type": "display_data"
    },
    {
     "data": {
      "application/vnd.jupyter.widget-view+json": {
       "model_id": "a56b9b56367a418db117951a49497716",
       "version_major": 2,
       "version_minor": 0
      },
      "text/plain": [
       "HBox(children=(IntProgress(value=0, description='Epoch 0', max=60000, style=ProgressStyle(description_width='i…"
      ]
     },
     "metadata": {},
     "output_type": "display_data"
    },
    {
     "name": "stdout",
     "output_type": "stream",
     "text": [
      "User Interaction: Stopped earlier!\n",
      "              precision    recall  f1-score   support\n",
      "\n",
      "        Down       0.33      0.41      0.36      2000\n",
      "       Still       0.34      0.56      0.42      2000\n",
      "          Up       0.28      0.02      0.04      2000\n",
      "\n",
      "   micro avg       0.33      0.33      0.33      6000\n",
      "   macro avg       0.31      0.33      0.28      6000\n",
      "weighted avg       0.31      0.33      0.28      6000\n",
      "\n",
      "Precision=0.31425948484772015\n",
      "Recall=0.3313333333333333\n",
      "F1-Score=0.2750275062548486\n",
      "Accuracy=0.3313333333333333\n",
      "MCC=-0.003411705172299551\n",
      "time: 10.1 s\n"
     ]
    }
   ],
   "source": [
    "# Optimize for batch_size (comp. time vs acc), shuffle vs no shuffle, \n",
    "predictor = SimpleLSTM(epochs=50, batch_size=32, n_units=[128])\n",
    "pipeline_lstm, y_pred = run_pipeline(predictor, small_data)\n",
    "ev_lstm = evaluate_results(small_data[3], y_pred)\n",
    "# plotter.plot_history(predictor.history, store=False)"
   ]
  },
  {
   "cell_type": "code",
   "execution_count": null,
   "metadata": {},
   "outputs": [],
   "source": [
    "evaluations = pd.DataFrame(dict([('SVC', ev_svc), ('MLP', ev_mlp), ('LSTM', ev_lstm)]),\n",
    "                           index=['mcc', 'acc', 'f1', 'prec', 'rec'])\n",
    "evaluations"
   ]
  },
  {
   "cell_type": "code",
   "execution_count": null,
   "metadata": {},
   "outputs": [],
   "source": [
    "# evaluations.to_csv('../reports/Ev_svc_mlp_lstm_60k_6k.csv')\n",
    "# evaluations.to_csv('../reports/Ev_svc_mlp_lstm_450k_45k.csv')"
   ]
  },
  {
   "cell_type": "markdown",
   "metadata": {},
   "source": [
    "## Plot samples"
   ]
  },
  {
   "cell_type": "code",
   "execution_count": null,
   "metadata": {},
   "outputs": [],
   "source": []
  }
 ],
 "metadata": {
  "kernelspec": {
   "display_name": "Python 3",
   "language": "python",
   "name": "python3"
  },
  "language_info": {
   "codemirror_mode": {
    "name": "ipython",
    "version": 3
   },
   "file_extension": ".py",
   "mimetype": "text/x-python",
   "name": "python",
   "nbconvert_exporter": "python",
   "pygments_lexer": "ipython3",
   "version": "3.6.0"
  },
  "notify_time": "5"
 },
 "nbformat": 4,
 "nbformat_minor": 2
}
