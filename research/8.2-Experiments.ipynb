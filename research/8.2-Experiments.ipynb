{
 "cells": [
  {
   "cell_type": "code",
   "execution_count": 1,
   "metadata": {},
   "outputs": [
    {
     "name": "stderr",
     "output_type": "stream",
     "text": [
      "Using TensorFlow backend.\n"
     ]
    }
   ],
   "source": [
    "import os\n",
    "import re\n",
    "import glob\n",
    "from datetime import datetime\n",
    "import sys\n",
    "from collections import defaultdict\n",
    "\n",
    "import pandas as pd\n",
    "import numpy as np\n",
    "import matplotlib\n",
    "from matplotlib import pyplot as plt\n",
    "sys.path.append(\"..\") # Adds higher directory to python modules path for importing from src dir\n",
    "\n",
    "from sklearn.svm import SVC\n",
    "\n",
    "from src.algorithms.simple.lstm import SimpleLSTM\n",
    "from src.algorithms.simple.mlp import MLPClassifier\n",
    "from src.datasets import NyseStocksDataset\n",
    "from src.evaluation import Plotter\n",
    "from src.pipeline import run_pipeline, prepare_data, evaluate_results\n",
    "\n",
    "%matplotlib inline\n",
    "%load_ext autotime\n",
    "%load_ext autoreload\n",
    "%autoreload 2"
   ]
  },
  {
   "cell_type": "code",
   "execution_count": 2,
   "metadata": {},
   "outputs": [
    {
     "name": "stdout",
     "output_type": "stream",
     "text": [
      "time: 205 ms\n"
     ]
    }
   ],
   "source": [
    "plotter = Plotter('../reports')"
   ]
  },
  {
   "cell_type": "code",
   "execution_count": 3,
   "metadata": {},
   "outputs": [
    {
     "data": {
      "application/vnd.jupyter.widget-view+json": {
       "model_id": "b4169491c6a84398b46b31d4159d5613",
       "version_major": 2,
       "version_minor": 0
      },
      "text/plain": [
       "HBox(children=(IntProgress(value=0, max=501), HTML(value='')))"
      ]
     },
     "metadata": {},
     "output_type": "display_data"
    },
    {
     "name": "stdout",
     "output_type": "stream",
     "text": [
      "\n"
     ]
    },
    {
     "data": {
      "application/vnd.jupyter.widget-view+json": {
       "model_id": "19d5322e11e649fb89049a780f2a484e",
       "version_major": 2,
       "version_minor": 0
      },
      "text/plain": [
       "HBox(children=(IntProgress(value=0, max=501), HTML(value='')))"
      ]
     },
     "metadata": {},
     "output_type": "display_data"
    },
    {
     "name": "stdout",
     "output_type": "stream",
     "text": [
      "\n"
     ]
    },
    {
     "data": {
      "application/vnd.jupyter.widget-view+json": {
       "model_id": "e3f29b9a4f72473298f0bb50887009c5",
       "version_major": 2,
       "version_minor": 0
      },
      "text/plain": [
       "HBox(children=(IntProgress(value=0, max=501), HTML(value='')))"
      ]
     },
     "metadata": {},
     "output_type": "display_data"
    },
    {
     "name": "stdout",
     "output_type": "stream",
     "text": [
      "\n"
     ]
    },
    {
     "data": {
      "application/vnd.jupyter.widget-view+json": {
       "model_id": "150b3420587d4785b1f27c1c24358642",
       "version_major": 2,
       "version_minor": 0
      },
      "text/plain": [
       "HBox(children=(IntProgress(value=0, max=501), HTML(value='')))"
      ]
     },
     "metadata": {},
     "output_type": "display_data"
    },
    {
     "name": "stdout",
     "output_type": "stream",
     "text": [
      "\n",
      "time: 43 s\n"
     ]
    }
   ],
   "source": [
    "datasets = [\n",
    "    NyseStocksDataset('All-3C', file_path='../data/nyse/prices.csv'),\n",
    "    NyseStocksDataset('Open-3C', file_path='../data/nyse/prices.csv', features=['open']),\n",
    "    NyseStocksDataset('OC-3C', file_path='../data/nyse/prices.csv', features=['open', 'close']),\n",
    "    NyseStocksDataset('All-2C', file_path='../data/nyse/prices.csv', epsilon=None),\n",
    "]\n",
    "[ds.load() for ds in datasets];"
   ]
  },
  {
   "cell_type": "code",
   "execution_count": 4,
   "metadata": {},
   "outputs": [
    {
     "data": {
      "text/plain": [
       "4"
      ]
     },
     "execution_count": 4,
     "metadata": {},
     "output_type": "execute_result"
    },
    {
     "name": "stdout",
     "output_type": "stream",
     "text": [
      "time: 218 ms\n"
     ]
    }
   ],
   "source": [
    "4"
   ]
  },
  {
   "cell_type": "code",
   "execution_count": 5,
   "metadata": {},
   "outputs": [
    {
     "name": "stdout",
     "output_type": "stream",
     "text": [
      "---------- Prepare dataset ----------\n",
      "Train Labels --> -1.0: 20000; 0.0: 20000; 1.0: 20000\n",
      "Training range: 2010-01-13 00:00:00 to 2010-10-01 00:00:00\n",
      "Test Labels --> -1.0: 2000; 0.0: 2000; 1.0: 2000\n",
      "Testing range: 2016-01-04 00:00:00 to 2016-12-30 00:00:00\n",
      "Done preparing data\n",
      "---------- SimpleLSTM | All-3C ----------\n"
     ]
    },
    {
     "data": {
      "application/vnd.jupyter.widget-view+json": {
       "model_id": "2fe3e6eab1d54fc69e053dc92d143a13",
       "version_major": 2,
       "version_minor": 0
      },
      "text/plain": [
       "HBox(children=(IntProgress(value=0, description='Training', max=10, style=ProgressStyle(description_width='ini…"
      ]
     },
     "metadata": {},
     "output_type": "display_data"
    },
    {
     "data": {
      "application/vnd.jupyter.widget-view+json": {
       "model_id": "",
       "version_major": 2,
       "version_minor": 0
      },
      "text/plain": [
       "HBox(children=(IntProgress(value=0, description='Epoch 0', max=60000, style=ProgressStyle(description_width='i…"
      ]
     },
     "metadata": {},
     "output_type": "display_data"
    },
    {
     "data": {
      "application/vnd.jupyter.widget-view+json": {
       "model_id": "",
       "version_major": 2,
       "version_minor": 0
      },
      "text/plain": [
       "HBox(children=(IntProgress(value=0, description='Epoch 1', max=60000, style=ProgressStyle(description_width='i…"
      ]
     },
     "metadata": {},
     "output_type": "display_data"
    },
    {
     "data": {
      "application/vnd.jupyter.widget-view+json": {
       "model_id": "",
       "version_major": 2,
       "version_minor": 0
      },
      "text/plain": [
       "HBox(children=(IntProgress(value=0, description='Epoch 2', max=60000, style=ProgressStyle(description_width='i…"
      ]
     },
     "metadata": {},
     "output_type": "display_data"
    },
    {
     "data": {
      "application/vnd.jupyter.widget-view+json": {
       "model_id": "",
       "version_major": 2,
       "version_minor": 0
      },
      "text/plain": [
       "HBox(children=(IntProgress(value=0, description='Epoch 3', max=60000, style=ProgressStyle(description_width='i…"
      ]
     },
     "metadata": {},
     "output_type": "display_data"
    },
    {
     "data": {
      "application/vnd.jupyter.widget-view+json": {
       "model_id": "",
       "version_major": 2,
       "version_minor": 0
      },
      "text/plain": [
       "HBox(children=(IntProgress(value=0, description='Epoch 4', max=60000, style=ProgressStyle(description_width='i…"
      ]
     },
     "metadata": {},
     "output_type": "display_data"
    },
    {
     "data": {
      "application/vnd.jupyter.widget-view+json": {
       "model_id": "",
       "version_major": 2,
       "version_minor": 0
      },
      "text/plain": [
       "HBox(children=(IntProgress(value=0, description='Epoch 5', max=60000, style=ProgressStyle(description_width='i…"
      ]
     },
     "metadata": {},
     "output_type": "display_data"
    },
    {
     "data": {
      "application/vnd.jupyter.widget-view+json": {
       "model_id": "",
       "version_major": 2,
       "version_minor": 0
      },
      "text/plain": [
       "HBox(children=(IntProgress(value=0, description='Epoch 6', max=60000, style=ProgressStyle(description_width='i…"
      ]
     },
     "metadata": {},
     "output_type": "display_data"
    },
    {
     "data": {
      "application/vnd.jupyter.widget-view+json": {
       "model_id": "",
       "version_major": 2,
       "version_minor": 0
      },
      "text/plain": [
       "HBox(children=(IntProgress(value=0, description='Epoch 7', max=60000, style=ProgressStyle(description_width='i…"
      ]
     },
     "metadata": {},
     "output_type": "display_data"
    },
    {
     "data": {
      "application/vnd.jupyter.widget-view+json": {
       "model_id": "",
       "version_major": 2,
       "version_minor": 0
      },
      "text/plain": [
       "HBox(children=(IntProgress(value=0, description='Epoch 8', max=60000, style=ProgressStyle(description_width='i…"
      ]
     },
     "metadata": {},
     "output_type": "display_data"
    },
    {
     "data": {
      "application/vnd.jupyter.widget-view+json": {
       "model_id": "",
       "version_major": 2,
       "version_minor": 0
      },
      "text/plain": [
       "HBox(children=(IntProgress(value=0, description='Epoch 9', max=60000, style=ProgressStyle(description_width='i…"
      ]
     },
     "metadata": {},
     "output_type": "display_data"
    },
    {
     "name": "stdout",
     "output_type": "stream",
     "text": [
      "\n",
      "              precision    recall  f1-score   support\n",
      "\n",
      "        Down       0.26      0.18      0.21      2000\n",
      "       Still       0.35      0.50      0.41      2000\n",
      "          Up       0.29      0.26      0.27      2000\n",
      "\n",
      "   micro avg       0.31      0.31      0.31      6000\n",
      "   macro avg       0.30      0.31      0.30      6000\n",
      "weighted avg       0.30      0.31      0.30      6000\n",
      "\n",
      "Precision=0.30161466324014463\n",
      "Recall=0.313\n",
      "F1-Score=0.29984536394380285\n",
      "Accuracy=0.313\n",
      "MCC=-0.03129704425756518\n",
      "---------- MLPClassifier | All-3C ----------\n"
     ]
    },
    {
     "data": {
      "application/vnd.jupyter.widget-view+json": {
       "model_id": "94f3b5bf72ab4ce3a9146d9b7d0ebb4d",
       "version_major": 2,
       "version_minor": 0
      },
      "text/plain": [
       "HBox(children=(IntProgress(value=0, max=150), HTML(value='')))"
      ]
     },
     "metadata": {},
     "output_type": "display_data"
    },
    {
     "name": "stderr",
     "output_type": "stream",
     "text": [
      "c:\\users\\thomas\\hpi\\ma\\venv\\lib\\site-packages\\sklearn\\neural_network\\multilayer_perceptron.py:562: ConvergenceWarning: Stochastic Optimizer: Maximum iterations (150) reached and the optimization hasn't converged yet.\n",
      "  % self.max_iter, ConvergenceWarning)\n"
     ]
    },
    {
     "name": "stdout",
     "output_type": "stream",
     "text": [
      "\n",
      "              precision    recall  f1-score   support\n",
      "\n",
      "        Down       0.25      0.28      0.26      2000\n",
      "       Still       0.34      0.42      0.38      2000\n",
      "          Up       0.29      0.18      0.22      2000\n",
      "\n",
      "   micro avg       0.30      0.30      0.30      6000\n",
      "   macro avg       0.29      0.30      0.29      6000\n",
      "weighted avg       0.29      0.30      0.29      6000\n",
      "\n",
      "Precision=0.2926426274579076\n",
      "Recall=0.29533333333333334\n",
      "F1-Score=0.28877798232547663\n",
      "Accuracy=0.29533333333333334\n",
      "MCC=-0.05793085547550047\n",
      "---------- SVC | All-3C ----------\n",
      "[LibSVM]              precision    recall  f1-score   support\n",
      "\n",
      "        Down       0.28      0.14      0.18      2000\n",
      "       Still       0.37      0.53      0.44      2000\n",
      "          Up       0.31      0.34      0.32      2000\n",
      "\n",
      "   micro avg       0.33      0.33      0.33      6000\n",
      "   macro avg       0.32      0.33      0.31      6000\n",
      "weighted avg       0.32      0.33      0.31      6000\n",
      "\n",
      "Precision=0.31930461132868\n",
      "Recall=0.33266666666666667\n",
      "F1-Score=0.3126841998928995\n",
      "Accuracy=0.33266666666666667\n",
      "MCC=-0.0010404274096390241\n",
      "---------- Prepare dataset ----------\n",
      "Train Labels --> -1.0: 20000; 0.0: 20000; 1.0: 20000\n",
      "Training range: 2010-01-13 00:00:00 to 2010-10-01 00:00:00\n",
      "Test Labels --> -1.0: 2000; 0.0: 2000; 1.0: 2000\n",
      "Testing range: 2016-01-04 00:00:00 to 2016-12-30 00:00:00\n",
      "Done preparing data\n",
      "---------- SimpleLSTM | Open-3C ----------\n"
     ]
    },
    {
     "data": {
      "application/vnd.jupyter.widget-view+json": {
       "model_id": "2fdcf62a41b846b6983f3a9ef3ebe0c9",
       "version_major": 2,
       "version_minor": 0
      },
      "text/plain": [
       "HBox(children=(IntProgress(value=0, description='Training', max=10, style=ProgressStyle(description_width='ini…"
      ]
     },
     "metadata": {},
     "output_type": "display_data"
    },
    {
     "data": {
      "application/vnd.jupyter.widget-view+json": {
       "model_id": "",
       "version_major": 2,
       "version_minor": 0
      },
      "text/plain": [
       "HBox(children=(IntProgress(value=0, description='Epoch 0', max=60000, style=ProgressStyle(description_width='i…"
      ]
     },
     "metadata": {},
     "output_type": "display_data"
    },
    {
     "data": {
      "application/vnd.jupyter.widget-view+json": {
       "model_id": "",
       "version_major": 2,
       "version_minor": 0
      },
      "text/plain": [
       "HBox(children=(IntProgress(value=0, description='Epoch 1', max=60000, style=ProgressStyle(description_width='i…"
      ]
     },
     "metadata": {},
     "output_type": "display_data"
    },
    {
     "data": {
      "application/vnd.jupyter.widget-view+json": {
       "model_id": "",
       "version_major": 2,
       "version_minor": 0
      },
      "text/plain": [
       "HBox(children=(IntProgress(value=0, description='Epoch 2', max=60000, style=ProgressStyle(description_width='i…"
      ]
     },
     "metadata": {},
     "output_type": "display_data"
    },
    {
     "data": {
      "application/vnd.jupyter.widget-view+json": {
       "model_id": "",
       "version_major": 2,
       "version_minor": 0
      },
      "text/plain": [
       "HBox(children=(IntProgress(value=0, description='Epoch 3', max=60000, style=ProgressStyle(description_width='i…"
      ]
     },
     "metadata": {},
     "output_type": "display_data"
    },
    {
     "data": {
      "application/vnd.jupyter.widget-view+json": {
       "model_id": "",
       "version_major": 2,
       "version_minor": 0
      },
      "text/plain": [
       "HBox(children=(IntProgress(value=0, description='Epoch 4', max=60000, style=ProgressStyle(description_width='i…"
      ]
     },
     "metadata": {},
     "output_type": "display_data"
    },
    {
     "data": {
      "application/vnd.jupyter.widget-view+json": {
       "model_id": "",
       "version_major": 2,
       "version_minor": 0
      },
      "text/plain": [
       "HBox(children=(IntProgress(value=0, description='Epoch 5', max=60000, style=ProgressStyle(description_width='i…"
      ]
     },
     "metadata": {},
     "output_type": "display_data"
    },
    {
     "data": {
      "application/vnd.jupyter.widget-view+json": {
       "model_id": "",
       "version_major": 2,
       "version_minor": 0
      },
      "text/plain": [
       "HBox(children=(IntProgress(value=0, description='Epoch 6', max=60000, style=ProgressStyle(description_width='i…"
      ]
     },
     "metadata": {},
     "output_type": "display_data"
    },
    {
     "data": {
      "application/vnd.jupyter.widget-view+json": {
       "model_id": "",
       "version_major": 2,
       "version_minor": 0
      },
      "text/plain": [
       "HBox(children=(IntProgress(value=0, description='Epoch 7', max=60000, style=ProgressStyle(description_width='i…"
      ]
     },
     "metadata": {},
     "output_type": "display_data"
    },
    {
     "data": {
      "application/vnd.jupyter.widget-view+json": {
       "model_id": "",
       "version_major": 2,
       "version_minor": 0
      },
      "text/plain": [
       "HBox(children=(IntProgress(value=0, description='Epoch 8', max=60000, style=ProgressStyle(description_width='i…"
      ]
     },
     "metadata": {},
     "output_type": "display_data"
    },
    {
     "data": {
      "application/vnd.jupyter.widget-view+json": {
       "model_id": "",
       "version_major": 2,
       "version_minor": 0
      },
      "text/plain": [
       "HBox(children=(IntProgress(value=0, description='Epoch 9', max=60000, style=ProgressStyle(description_width='i…"
      ]
     },
     "metadata": {},
     "output_type": "display_data"
    },
    {
     "name": "stdout",
     "output_type": "stream",
     "text": [
      "\n",
      "              precision    recall  f1-score   support\n",
      "\n",
      "        Down       0.34      0.33      0.34      2000\n",
      "       Still       0.34      0.58      0.43      2000\n",
      "          Up       0.34      0.10      0.16      2000\n",
      "\n",
      "   micro avg       0.34      0.34      0.34      6000\n",
      "   macro avg       0.34      0.34      0.31      6000\n",
      "weighted avg       0.34      0.34      0.31      6000\n",
      "\n",
      "Precision=0.3411137676758818\n",
      "Recall=0.33916666666666667\n",
      "F1-Score=0.3078677688489503\n",
      "Accuracy=0.33916666666666667\n",
      "MCC=0.009600603131811946\n",
      "---------- MLPClassifier | Open-3C ----------\n"
     ]
    },
    {
     "data": {
      "application/vnd.jupyter.widget-view+json": {
       "model_id": "a807e5eb3f14455e9340311e3848f8b4",
       "version_major": 2,
       "version_minor": 0
      },
      "text/plain": [
       "HBox(children=(IntProgress(value=0, max=150), HTML(value='')))"
      ]
     },
     "metadata": {},
     "output_type": "display_data"
    },
    {
     "name": "stderr",
     "output_type": "stream",
     "text": [
      "c:\\users\\thomas\\hpi\\ma\\venv\\lib\\site-packages\\sklearn\\neural_network\\multilayer_perceptron.py:562: ConvergenceWarning: Stochastic Optimizer: Maximum iterations (150) reached and the optimization hasn't converged yet.\n",
      "  % self.max_iter, ConvergenceWarning)\n"
     ]
    },
    {
     "name": "stdout",
     "output_type": "stream",
     "text": [
      "\n",
      "              precision    recall  f1-score   support\n",
      "\n",
      "        Down       0.36      0.37      0.37      2000\n",
      "       Still       0.36      0.35      0.36      2000\n",
      "          Up       0.31      0.32      0.31      2000\n",
      "\n",
      "   micro avg       0.35      0.35      0.35      6000\n",
      "   macro avg       0.35      0.35      0.35      6000\n",
      "weighted avg       0.35      0.35      0.35      6000\n",
      "\n",
      "Precision=0.3454656130185299\n",
      "Recall=0.3451666666666667\n",
      "F1-Score=0.3452719502894981\n",
      "Accuracy=0.3451666666666667\n",
      "MCC=0.01775221102763951\n",
      "---------- SVC | Open-3C ----------\n",
      "[LibSVM]              precision    recall  f1-score   support\n",
      "\n",
      "        Down       0.33      0.22      0.26      2000\n",
      "       Still       0.36      0.40      0.38      2000\n",
      "          Up       0.32      0.39      0.35      2000\n",
      "\n",
      "   micro avg       0.33      0.33      0.33      6000\n",
      "   macro avg       0.33      0.33      0.33      6000\n",
      "weighted avg       0.33      0.33      0.33      6000\n",
      "\n",
      "Precision=0.33465463005344703\n",
      "Recall=0.33466666666666667\n",
      "F1-Score=0.32906142424805984\n",
      "Accuracy=0.33466666666666667\n",
      "MCC=0.0020316173281643133\n",
      "---------- Prepare dataset ----------\n",
      "Train Labels --> -1.0: 20000; 0.0: 20000; 1.0: 20000\n",
      "Training range: 2010-01-13 00:00:00 to 2010-10-01 00:00:00\n",
      "Test Labels --> -1.0: 2000; 0.0: 2000; 1.0: 2000\n",
      "Testing range: 2016-01-04 00:00:00 to 2016-12-30 00:00:00\n",
      "Done preparing data\n",
      "---------- SimpleLSTM | OC-3C ----------\n"
     ]
    },
    {
     "data": {
      "application/vnd.jupyter.widget-view+json": {
       "model_id": "463b418d8181460d8143a77ed4d8f778",
       "version_major": 2,
       "version_minor": 0
      },
      "text/plain": [
       "HBox(children=(IntProgress(value=0, description='Training', max=10, style=ProgressStyle(description_width='ini…"
      ]
     },
     "metadata": {},
     "output_type": "display_data"
    },
    {
     "data": {
      "application/vnd.jupyter.widget-view+json": {
       "model_id": "",
       "version_major": 2,
       "version_minor": 0
      },
      "text/plain": [
       "HBox(children=(IntProgress(value=0, description='Epoch 0', max=60000, style=ProgressStyle(description_width='i…"
      ]
     },
     "metadata": {},
     "output_type": "display_data"
    },
    {
     "data": {
      "application/vnd.jupyter.widget-view+json": {
       "model_id": "",
       "version_major": 2,
       "version_minor": 0
      },
      "text/plain": [
       "HBox(children=(IntProgress(value=0, description='Epoch 1', max=60000, style=ProgressStyle(description_width='i…"
      ]
     },
     "metadata": {},
     "output_type": "display_data"
    },
    {
     "data": {
      "application/vnd.jupyter.widget-view+json": {
       "model_id": "",
       "version_major": 2,
       "version_minor": 0
      },
      "text/plain": [
       "HBox(children=(IntProgress(value=0, description='Epoch 2', max=60000, style=ProgressStyle(description_width='i…"
      ]
     },
     "metadata": {},
     "output_type": "display_data"
    },
    {
     "data": {
      "application/vnd.jupyter.widget-view+json": {
       "model_id": "",
       "version_major": 2,
       "version_minor": 0
      },
      "text/plain": [
       "HBox(children=(IntProgress(value=0, description='Epoch 3', max=60000, style=ProgressStyle(description_width='i…"
      ]
     },
     "metadata": {},
     "output_type": "display_data"
    },
    {
     "data": {
      "application/vnd.jupyter.widget-view+json": {
       "model_id": "",
       "version_major": 2,
       "version_minor": 0
      },
      "text/plain": [
       "HBox(children=(IntProgress(value=0, description='Epoch 4', max=60000, style=ProgressStyle(description_width='i…"
      ]
     },
     "metadata": {},
     "output_type": "display_data"
    },
    {
     "data": {
      "application/vnd.jupyter.widget-view+json": {
       "model_id": "",
       "version_major": 2,
       "version_minor": 0
      },
      "text/plain": [
       "HBox(children=(IntProgress(value=0, description='Epoch 5', max=60000, style=ProgressStyle(description_width='i…"
      ]
     },
     "metadata": {},
     "output_type": "display_data"
    },
    {
     "data": {
      "application/vnd.jupyter.widget-view+json": {
       "model_id": "",
       "version_major": 2,
       "version_minor": 0
      },
      "text/plain": [
       "HBox(children=(IntProgress(value=0, description='Epoch 6', max=60000, style=ProgressStyle(description_width='i…"
      ]
     },
     "metadata": {},
     "output_type": "display_data"
    },
    {
     "data": {
      "application/vnd.jupyter.widget-view+json": {
       "model_id": "",
       "version_major": 2,
       "version_minor": 0
      },
      "text/plain": [
       "HBox(children=(IntProgress(value=0, description='Epoch 7', max=60000, style=ProgressStyle(description_width='i…"
      ]
     },
     "metadata": {},
     "output_type": "display_data"
    },
    {
     "data": {
      "application/vnd.jupyter.widget-view+json": {
       "model_id": "",
       "version_major": 2,
       "version_minor": 0
      },
      "text/plain": [
       "HBox(children=(IntProgress(value=0, description='Epoch 8', max=60000, style=ProgressStyle(description_width='i…"
      ]
     },
     "metadata": {},
     "output_type": "display_data"
    },
    {
     "data": {
      "application/vnd.jupyter.widget-view+json": {
       "model_id": "",
       "version_major": 2,
       "version_minor": 0
      },
      "text/plain": [
       "HBox(children=(IntProgress(value=0, description='Epoch 9', max=60000, style=ProgressStyle(description_width='i…"
      ]
     },
     "metadata": {},
     "output_type": "display_data"
    },
    {
     "name": "stdout",
     "output_type": "stream",
     "text": [
      "\n",
      "              precision    recall  f1-score   support\n",
      "\n",
      "        Down       0.35      0.36      0.35      2000\n",
      "       Still       0.34      0.55      0.42      2000\n",
      "          Up       0.34      0.12      0.18      2000\n",
      "\n",
      "   micro avg       0.34      0.34      0.34      6000\n",
      "   macro avg       0.34      0.34      0.32      6000\n",
      "weighted avg       0.34      0.34      0.32      6000\n",
      "\n",
      "Precision=0.3405807425024758\n",
      "Recall=0.3408333333333333\n",
      "F1-Score=0.3153875297303072\n",
      "Accuracy=0.3408333333333333\n",
      "MCC=0.012075684478945223\n",
      "---------- MLPClassifier | OC-3C ----------\n"
     ]
    },
    {
     "data": {
      "application/vnd.jupyter.widget-view+json": {
       "model_id": "d807baefb86f41fbbdabc6578ddff651",
       "version_major": 2,
       "version_minor": 0
      },
      "text/plain": [
       "HBox(children=(IntProgress(value=0, max=150), HTML(value='')))"
      ]
     },
     "metadata": {},
     "output_type": "display_data"
    },
    {
     "name": "stderr",
     "output_type": "stream",
     "text": [
      "c:\\users\\thomas\\hpi\\ma\\venv\\lib\\site-packages\\sklearn\\neural_network\\multilayer_perceptron.py:562: ConvergenceWarning: Stochastic Optimizer: Maximum iterations (150) reached and the optimization hasn't converged yet.\n",
      "  % self.max_iter, ConvergenceWarning)\n"
     ]
    },
    {
     "name": "stdout",
     "output_type": "stream",
     "text": [
      "\n",
      "              precision    recall  f1-score   support\n",
      "\n",
      "        Down       0.34      0.28      0.31      2000\n",
      "       Still       0.38      0.41      0.39      2000\n",
      "          Up       0.32      0.34      0.33      2000\n",
      "\n",
      "   micro avg       0.35      0.35      0.35      6000\n",
      "   macro avg       0.34      0.35      0.34      6000\n",
      "weighted avg       0.34      0.35      0.34      6000\n",
      "\n",
      "Precision=0.3448887433318737\n",
      "Recall=0.3455\n",
      "F1-Score=0.34404510754103185\n",
      "Accuracy=0.3455\n",
      "MCC=0.0183090603485236\n",
      "---------- SVC | OC-3C ----------\n",
      "[LibSVM]              precision    recall  f1-score   support\n",
      "\n",
      "        Down       0.33      0.21      0.26      2000\n",
      "       Still       0.38      0.39      0.39      2000\n",
      "          Up       0.33      0.44      0.38      2000\n",
      "\n",
      "   micro avg       0.35      0.35      0.35      6000\n",
      "   macro avg       0.35      0.35      0.34      6000\n",
      "weighted avg       0.35      0.35      0.34      6000\n",
      "\n",
      "Precision=0.3471263734979933\n",
      "Recall=0.3473333333333333\n",
      "F1-Score=0.3398190297100664\n",
      "Accuracy=0.3473333333333333\n",
      "MCC=0.02145647136312637\n",
      "---------- Prepare dataset ----------\n",
      "Train Labels --> -1.0: 20000; 1.0: 20000\n",
      "Training range: 2010-01-13 00:00:00 to 2010-05-24 00:00:00\n",
      "Test Labels --> -1.0: 2000; 1.0: 2000\n",
      "Testing range: 2016-01-04 00:00:00 to 2016-12-30 00:00:00\n",
      "Done preparing data\n",
      "---------- SimpleLSTM | All-2C ----------\n"
     ]
    },
    {
     "data": {
      "application/vnd.jupyter.widget-view+json": {
       "model_id": "8e6b7eaca6f140d4b281f2bad3a8996a",
       "version_major": 2,
       "version_minor": 0
      },
      "text/plain": [
       "HBox(children=(IntProgress(value=0, description='Training', max=10, style=ProgressStyle(description_width='ini…"
      ]
     },
     "metadata": {},
     "output_type": "display_data"
    },
    {
     "data": {
      "application/vnd.jupyter.widget-view+json": {
       "model_id": "",
       "version_major": 2,
       "version_minor": 0
      },
      "text/plain": [
       "HBox(children=(IntProgress(value=0, description='Epoch 0', max=40000, style=ProgressStyle(description_width='i…"
      ]
     },
     "metadata": {},
     "output_type": "display_data"
    },
    {
     "data": {
      "application/vnd.jupyter.widget-view+json": {
       "model_id": "",
       "version_major": 2,
       "version_minor": 0
      },
      "text/plain": [
       "HBox(children=(IntProgress(value=0, description='Epoch 1', max=40000, style=ProgressStyle(description_width='i…"
      ]
     },
     "metadata": {},
     "output_type": "display_data"
    },
    {
     "data": {
      "application/vnd.jupyter.widget-view+json": {
       "model_id": "",
       "version_major": 2,
       "version_minor": 0
      },
      "text/plain": [
       "HBox(children=(IntProgress(value=0, description='Epoch 2', max=40000, style=ProgressStyle(description_width='i…"
      ]
     },
     "metadata": {},
     "output_type": "display_data"
    },
    {
     "data": {
      "application/vnd.jupyter.widget-view+json": {
       "model_id": "",
       "version_major": 2,
       "version_minor": 0
      },
      "text/plain": [
       "HBox(children=(IntProgress(value=0, description='Epoch 3', max=40000, style=ProgressStyle(description_width='i…"
      ]
     },
     "metadata": {},
     "output_type": "display_data"
    },
    {
     "data": {
      "application/vnd.jupyter.widget-view+json": {
       "model_id": "",
       "version_major": 2,
       "version_minor": 0
      },
      "text/plain": [
       "HBox(children=(IntProgress(value=0, description='Epoch 4', max=40000, style=ProgressStyle(description_width='i…"
      ]
     },
     "metadata": {},
     "output_type": "display_data"
    },
    {
     "data": {
      "application/vnd.jupyter.widget-view+json": {
       "model_id": "",
       "version_major": 2,
       "version_minor": 0
      },
      "text/plain": [
       "HBox(children=(IntProgress(value=0, description='Epoch 5', max=40000, style=ProgressStyle(description_width='i…"
      ]
     },
     "metadata": {},
     "output_type": "display_data"
    },
    {
     "data": {
      "application/vnd.jupyter.widget-view+json": {
       "model_id": "",
       "version_major": 2,
       "version_minor": 0
      },
      "text/plain": [
       "HBox(children=(IntProgress(value=0, description='Epoch 6', max=40000, style=ProgressStyle(description_width='i…"
      ]
     },
     "metadata": {},
     "output_type": "display_data"
    },
    {
     "data": {
      "application/vnd.jupyter.widget-view+json": {
       "model_id": "",
       "version_major": 2,
       "version_minor": 0
      },
      "text/plain": [
       "HBox(children=(IntProgress(value=0, description='Epoch 7', max=40000, style=ProgressStyle(description_width='i…"
      ]
     },
     "metadata": {},
     "output_type": "display_data"
    },
    {
     "data": {
      "application/vnd.jupyter.widget-view+json": {
       "model_id": "",
       "version_major": 2,
       "version_minor": 0
      },
      "text/plain": [
       "HBox(children=(IntProgress(value=0, description='Epoch 8', max=40000, style=ProgressStyle(description_width='i…"
      ]
     },
     "metadata": {},
     "output_type": "display_data"
    },
    {
     "data": {
      "application/vnd.jupyter.widget-view+json": {
       "model_id": "",
       "version_major": 2,
       "version_minor": 0
      },
      "text/plain": [
       "HBox(children=(IntProgress(value=0, description='Epoch 9', max=40000, style=ProgressStyle(description_width='i…"
      ]
     },
     "metadata": {},
     "output_type": "display_data"
    },
    {
     "name": "stdout",
     "output_type": "stream",
     "text": [
      "\n"
     ]
    },
    {
     "ename": "ValueError",
     "evalue": "Number of classes, 2, does not match size of target_names, 3. Try specifying the labels parameter",
     "output_type": "error",
     "traceback": [
      "\u001b[1;31m---------------------------------------------------------------------------\u001b[0m",
      "\u001b[1;31mValueError\u001b[0m                                Traceback (most recent call last)",
      "\u001b[1;32m<ipython-input-5-a154af9bd938>\u001b[0m in \u001b[0;36m<module>\u001b[1;34m()\u001b[0m\n\u001b[0;32m     20\u001b[0m         \u001b[0mprint\u001b[0m\u001b[1;33m(\u001b[0m\u001b[1;34m'-'\u001b[0m\u001b[1;33m*\u001b[0m\u001b[1;36m10\u001b[0m\u001b[1;33m,\u001b[0m \u001b[0mpredictor_name\u001b[0m\u001b[1;33m,\u001b[0m \u001b[1;34m'|'\u001b[0m\u001b[1;33m,\u001b[0m \u001b[0mds\u001b[0m\u001b[1;33m,\u001b[0m \u001b[1;34m'-'\u001b[0m\u001b[1;33m*\u001b[0m\u001b[1;36m10\u001b[0m\u001b[1;33m)\u001b[0m\u001b[1;33m\u001b[0m\u001b[0m\n\u001b[0;32m     21\u001b[0m         \u001b[0mpipeline\u001b[0m\u001b[1;33m,\u001b[0m \u001b[0my_pred\u001b[0m \u001b[1;33m=\u001b[0m \u001b[0mrun_pipeline\u001b[0m\u001b[1;33m(\u001b[0m\u001b[0mpredictor\u001b[0m\u001b[1;33m,\u001b[0m \u001b[0mdata\u001b[0m\u001b[1;33m,\u001b[0m \u001b[0mtime_dim\u001b[0m\u001b[1;33m=\u001b[0m\u001b[0mcan_handle_time_dim\u001b[0m\u001b[1;33m)\u001b[0m\u001b[1;33m\u001b[0m\u001b[0m\n\u001b[1;32m---> 22\u001b[1;33m         \u001b[0mev\u001b[0m \u001b[1;33m=\u001b[0m \u001b[0mevaluate_results\u001b[0m\u001b[1;33m(\u001b[0m\u001b[0mdata\u001b[0m\u001b[1;33m[\u001b[0m\u001b[1;36m3\u001b[0m\u001b[1;33m]\u001b[0m\u001b[1;33m,\u001b[0m \u001b[0my_pred\u001b[0m\u001b[1;33m)\u001b[0m\u001b[1;33m\u001b[0m\u001b[0m\n\u001b[0m\u001b[0;32m     23\u001b[0m         \u001b[0mresults\u001b[0m\u001b[1;33m[\u001b[0m\u001b[0mstr\u001b[0m\u001b[1;33m(\u001b[0m\u001b[0mds\u001b[0m\u001b[1;33m)\u001b[0m\u001b[1;33m]\u001b[0m\u001b[1;33m[\u001b[0m\u001b[0mpredictor_name\u001b[0m\u001b[1;33m]\u001b[0m \u001b[1;33m=\u001b[0m \u001b[1;33m(\u001b[0m\u001b[0mpipeline\u001b[0m\u001b[1;33m,\u001b[0m \u001b[0mev\u001b[0m\u001b[1;33m)\u001b[0m\u001b[1;33m\u001b[0m\u001b[0m\n",
      "\u001b[1;32m~\\HPI\\MA\\src\\pipeline.py\u001b[0m in \u001b[0;36mevaluate_results\u001b[1;34m(y_true, y_pred)\u001b[0m\n\u001b[0;32m    101\u001b[0m     \u001b[0my_true\u001b[0m \u001b[1;33m=\u001b[0m \u001b[0mnp\u001b[0m\u001b[1;33m.\u001b[0m\u001b[0marray\u001b[0m\u001b[1;33m(\u001b[0m\u001b[0my_true\u001b[0m\u001b[1;33m)\u001b[0m\u001b[1;33m\u001b[0m\u001b[0m\n\u001b[0;32m    102\u001b[0m     \u001b[0my_pred\u001b[0m \u001b[1;33m=\u001b[0m \u001b[0mnp\u001b[0m\u001b[1;33m.\u001b[0m\u001b[0marray\u001b[0m\u001b[1;33m(\u001b[0m\u001b[0my_pred\u001b[0m\u001b[1;33m)\u001b[0m\u001b[1;33m\u001b[0m\u001b[0m\n\u001b[1;32m--> 103\u001b[1;33m     \u001b[0mprint\u001b[0m\u001b[1;33m(\u001b[0m\u001b[0mclassification_report\u001b[0m\u001b[1;33m(\u001b[0m\u001b[0my_true\u001b[0m\u001b[1;33m,\u001b[0m \u001b[0my_pred\u001b[0m\u001b[1;33m,\u001b[0m \u001b[0mtarget_names\u001b[0m\u001b[1;33m=\u001b[0m\u001b[1;33m[\u001b[0m\u001b[1;34m'Down'\u001b[0m\u001b[1;33m,\u001b[0m \u001b[1;34m'Still'\u001b[0m\u001b[1;33m,\u001b[0m \u001b[1;34m'Up'\u001b[0m\u001b[1;33m]\u001b[0m\u001b[1;33m)\u001b[0m\u001b[1;33m)\u001b[0m\u001b[1;33m\u001b[0m\u001b[0m\n\u001b[0m\u001b[0;32m    104\u001b[0m     \u001b[0mprec\u001b[0m\u001b[1;33m,\u001b[0m \u001b[0mrec\u001b[0m\u001b[1;33m,\u001b[0m \u001b[0mf1\u001b[0m\u001b[1;33m,\u001b[0m \u001b[0m_\u001b[0m \u001b[1;33m=\u001b[0m \u001b[0mprecision_recall_fscore_support\u001b[0m\u001b[1;33m(\u001b[0m\u001b[0my_true\u001b[0m\u001b[1;33m,\u001b[0m \u001b[0my_pred\u001b[0m\u001b[1;33m,\u001b[0m \u001b[0maverage\u001b[0m\u001b[1;33m=\u001b[0m\u001b[1;34m'weighted'\u001b[0m\u001b[1;33m)\u001b[0m\u001b[1;33m\u001b[0m\u001b[0m\n\u001b[0;32m    105\u001b[0m     \u001b[0mprint\u001b[0m\u001b[1;33m(\u001b[0m\u001b[1;34mf'Precision={prec}'\u001b[0m\u001b[1;33m)\u001b[0m\u001b[1;33m\u001b[0m\u001b[0m\n",
      "\u001b[1;32mc:\\users\\thomas\\hpi\\ma\\venv\\lib\\site-packages\\sklearn\\metrics\\classification.py\u001b[0m in \u001b[0;36mclassification_report\u001b[1;34m(y_true, y_pred, labels, target_names, sample_weight, digits, output_dict)\u001b[0m\n\u001b[0;32m   1541\u001b[0m                 \u001b[1;34m\"Number of classes, {0}, does not match size of \"\u001b[0m\u001b[1;33m\u001b[0m\u001b[0m\n\u001b[0;32m   1542\u001b[0m                 \u001b[1;34m\"target_names, {1}. Try specifying the labels \"\u001b[0m\u001b[1;33m\u001b[0m\u001b[0m\n\u001b[1;32m-> 1543\u001b[1;33m                 \u001b[1;34m\"parameter\"\u001b[0m\u001b[1;33m.\u001b[0m\u001b[0mformat\u001b[0m\u001b[1;33m(\u001b[0m\u001b[0mlen\u001b[0m\u001b[1;33m(\u001b[0m\u001b[0mlabels\u001b[0m\u001b[1;33m)\u001b[0m\u001b[1;33m,\u001b[0m \u001b[0mlen\u001b[0m\u001b[1;33m(\u001b[0m\u001b[0mtarget_names\u001b[0m\u001b[1;33m)\u001b[0m\u001b[1;33m)\u001b[0m\u001b[1;33m\u001b[0m\u001b[0m\n\u001b[0m\u001b[0;32m   1544\u001b[0m             )\n\u001b[0;32m   1545\u001b[0m     \u001b[1;32mif\u001b[0m \u001b[0mtarget_names\u001b[0m \u001b[1;32mis\u001b[0m \u001b[1;32mNone\u001b[0m\u001b[1;33m:\u001b[0m\u001b[1;33m\u001b[0m\u001b[0m\n",
      "\u001b[1;31mValueError\u001b[0m: Number of classes, 2, does not match size of target_names, 3. Try specifying the labels parameter"
     ]
    },
    {
     "name": "stdout",
     "output_type": "stream",
     "text": [
      "time: 32min 51s\n"
     ]
    }
   ],
   "source": [
    "def gen_predictors(n_features, n_timestamps=7, n_classes=3):\n",
    "    return [\n",
    "        SimpleLSTM(n_timestamps=n_timestamps, n_features=n_features, n_classes=n_classes,\n",
    "                   epochs=10, batch_size=32, n_units=[64, 64]),\n",
    "        MLPClassifier(activation='tanh', hidden_layer_sizes=(32, 32, 32, 3), max_iter=150,\n",
    "                      solver='adam', verbose=True, random_state=42),  # tol=1e-4, learning_rate_init=1e-4, alpha=0.0001\n",
    "        SVC(verbose=True, gamma='scale'),\n",
    "    ]\n",
    "\n",
    "results = defaultdict(lambda: defaultdict(list))\n",
    "\n",
    "for ds in datasets:\n",
    "    print('-'*10, 'Prepare dataset', '-'*10)\n",
    "    data = prepare_data(ds, 20000, 2000)\n",
    "    n_features = len(data[0].columns.levels[1])\n",
    "    predictors = gen_predictors(n_features)\n",
    "    for predictor in predictors:\n",
    "        predictor_name = predictor.__class__.__name__\n",
    "        can_handle_time_dim = isinstance(predictor, SimpleLSTM)\n",
    "        print('-'*10, predictor_name, '|', ds, '-'*10)\n",
    "        pipeline, y_pred = run_pipeline(predictor, data, time_dim=can_handle_time_dim)\n",
    "        ev = evaluate_results(data[3], y_pred)\n",
    "        results[str(ds)][predictor_name] = (pipeline, ev)"
   ]
  },
  {
   "cell_type": "code",
   "execution_count": 6,
   "metadata": {},
   "outputs": [
    {
     "data": {
      "text/plain": [
       "defaultdict(<function __main__.<lambda>()>,\n",
       "            {'All-3C': defaultdict(list, {'SimpleLSTM': (Pipeline(memory=None,\n",
       "                                steps=[('pre-scaling', FunctionTransformer(accept_sparse=False, check_inverse=True,\n",
       "                                     func=<function from_3d_to_2d at 0x000001B56F9B3510>,\n",
       "                                     inv_kw_args=None, inverse_func=None, kw_args=None,\n",
       "                                     pass_y='deprecated', validate=False)), ('scaler', RobustScaler(copy=True, quantile...one, kw_args=None,\n",
       "                                     pass_y='deprecated', validate=False)), ('predictor', SimpleLSTM(s=42))]),\n",
       "                           {'prec': 0.30161466324014463,\n",
       "                            'rec': 0.313,\n",
       "                            'f1': 0.29984536394380285,\n",
       "                            'acc': 0.313,\n",
       "                            'mcc': -0.03129704425756518}),\n",
       "                          'MLPClassifier': (Pipeline(memory=None,\n",
       "                                steps=[('pre-scaling', FunctionTransformer(accept_sparse=False, check_inverse=True,\n",
       "                                     func=<function from_3d_to_2d at 0x000001B56F9B3510>,\n",
       "                                     inv_kw_args=None, inverse_func=None, kw_args=None,\n",
       "                                     pass_y='deprecated', validate=False)), ('scaler', RobustScaler(copy=True, quantile...e=True, solver='adam', tol=0.0001,\n",
       "                                  validation_fraction=0.1, verbose=True, warm_start=False))]),\n",
       "                           {'prec': 0.2926426274579076,\n",
       "                            'rec': 0.29533333333333334,\n",
       "                            'f1': 0.28877798232547663,\n",
       "                            'acc': 0.29533333333333334,\n",
       "                            'mcc': -0.05793085547550047}),\n",
       "                          'SVC': (Pipeline(memory=None,\n",
       "                                steps=[('pre-scaling', FunctionTransformer(accept_sparse=False, check_inverse=True,\n",
       "                                     func=<function from_3d_to_2d at 0x000001B56F9B3510>,\n",
       "                                     inv_kw_args=None, inverse_func=None, kw_args=None,\n",
       "                                     pass_y='deprecated', validate=False)), ('scaler', RobustScaler(copy=True, quantile...',\n",
       "                             max_iter=-1, probability=False, random_state=None, shrinking=True,\n",
       "                             tol=0.001, verbose=True))]),\n",
       "                           {'prec': 0.31930461132868,\n",
       "                            'rec': 0.33266666666666667,\n",
       "                            'f1': 0.3126841998928995,\n",
       "                            'acc': 0.33266666666666667,\n",
       "                            'mcc': -0.0010404274096390241})}),\n",
       "             'Open-3C': defaultdict(list, {'SimpleLSTM': (Pipeline(memory=None,\n",
       "                                steps=[('pre-scaling', FunctionTransformer(accept_sparse=False, check_inverse=True,\n",
       "                                     func=<function from_3d_to_2d at 0x000001B56F9B3510>,\n",
       "                                     inv_kw_args=None, inverse_func=None, kw_args=None,\n",
       "                                     pass_y='deprecated', validate=False)), ('scaler', RobustScaler(copy=True, quantile...one, kw_args=None,\n",
       "                                     pass_y='deprecated', validate=False)), ('predictor', SimpleLSTM(s=42))]),\n",
       "                           {'prec': 0.3411137676758818,\n",
       "                            'rec': 0.33916666666666667,\n",
       "                            'f1': 0.3078677688489503,\n",
       "                            'acc': 0.33916666666666667,\n",
       "                            'mcc': 0.009600603131811946}),\n",
       "                          'MLPClassifier': (Pipeline(memory=None,\n",
       "                                steps=[('pre-scaling', FunctionTransformer(accept_sparse=False, check_inverse=True,\n",
       "                                     func=<function from_3d_to_2d at 0x000001B56F9B3510>,\n",
       "                                     inv_kw_args=None, inverse_func=None, kw_args=None,\n",
       "                                     pass_y='deprecated', validate=False)), ('scaler', RobustScaler(copy=True, quantile...e=True, solver='adam', tol=0.0001,\n",
       "                                  validation_fraction=0.1, verbose=True, warm_start=False))]),\n",
       "                           {'prec': 0.3454656130185299,\n",
       "                            'rec': 0.3451666666666667,\n",
       "                            'f1': 0.3452719502894981,\n",
       "                            'acc': 0.3451666666666667,\n",
       "                            'mcc': 0.01775221102763951}),\n",
       "                          'SVC': (Pipeline(memory=None,\n",
       "                                steps=[('pre-scaling', FunctionTransformer(accept_sparse=False, check_inverse=True,\n",
       "                                     func=<function from_3d_to_2d at 0x000001B56F9B3510>,\n",
       "                                     inv_kw_args=None, inverse_func=None, kw_args=None,\n",
       "                                     pass_y='deprecated', validate=False)), ('scaler', RobustScaler(copy=True, quantile...',\n",
       "                             max_iter=-1, probability=False, random_state=None, shrinking=True,\n",
       "                             tol=0.001, verbose=True))]),\n",
       "                           {'prec': 0.33465463005344703,\n",
       "                            'rec': 0.33466666666666667,\n",
       "                            'f1': 0.32906142424805984,\n",
       "                            'acc': 0.33466666666666667,\n",
       "                            'mcc': 0.0020316173281643133})}),\n",
       "             'OC-3C': defaultdict(list, {'SimpleLSTM': (Pipeline(memory=None,\n",
       "                                steps=[('pre-scaling', FunctionTransformer(accept_sparse=False, check_inverse=True,\n",
       "                                     func=<function from_3d_to_2d at 0x000001B56F9B3510>,\n",
       "                                     inv_kw_args=None, inverse_func=None, kw_args=None,\n",
       "                                     pass_y='deprecated', validate=False)), ('scaler', RobustScaler(copy=True, quantile...one, kw_args=None,\n",
       "                                     pass_y='deprecated', validate=False)), ('predictor', SimpleLSTM(s=42))]),\n",
       "                           {'prec': 0.3405807425024758,\n",
       "                            'rec': 0.3408333333333333,\n",
       "                            'f1': 0.3153875297303072,\n",
       "                            'acc': 0.3408333333333333,\n",
       "                            'mcc': 0.012075684478945223}),\n",
       "                          'MLPClassifier': (Pipeline(memory=None,\n",
       "                                steps=[('pre-scaling', FunctionTransformer(accept_sparse=False, check_inverse=True,\n",
       "                                     func=<function from_3d_to_2d at 0x000001B56F9B3510>,\n",
       "                                     inv_kw_args=None, inverse_func=None, kw_args=None,\n",
       "                                     pass_y='deprecated', validate=False)), ('scaler', RobustScaler(copy=True, quantile...e=True, solver='adam', tol=0.0001,\n",
       "                                  validation_fraction=0.1, verbose=True, warm_start=False))]),\n",
       "                           {'prec': 0.3448887433318737,\n",
       "                            'rec': 0.3455,\n",
       "                            'f1': 0.34404510754103185,\n",
       "                            'acc': 0.3455,\n",
       "                            'mcc': 0.0183090603485236}),\n",
       "                          'SVC': (Pipeline(memory=None,\n",
       "                                steps=[('pre-scaling', FunctionTransformer(accept_sparse=False, check_inverse=True,\n",
       "                                     func=<function from_3d_to_2d at 0x000001B56F9B3510>,\n",
       "                                     inv_kw_args=None, inverse_func=None, kw_args=None,\n",
       "                                     pass_y='deprecated', validate=False)), ('scaler', RobustScaler(copy=True, quantile...',\n",
       "                             max_iter=-1, probability=False, random_state=None, shrinking=True,\n",
       "                             tol=0.001, verbose=True))]),\n",
       "                           {'prec': 0.3471263734979933,\n",
       "                            'rec': 0.3473333333333333,\n",
       "                            'f1': 0.3398190297100664,\n",
       "                            'acc': 0.3473333333333333,\n",
       "                            'mcc': 0.02145647136312637})})})"
      ]
     },
     "execution_count": 6,
     "metadata": {},
     "output_type": "execute_result"
    },
    {
     "name": "stdout",
     "output_type": "stream",
     "text": [
      "time: 332 ms\n"
     ]
    }
   ],
   "source": [
    "results"
   ]
  },
  {
   "cell_type": "code",
   "execution_count": null,
   "metadata": {},
   "outputs": [],
   "source": [
    "evaluations = pd.DataFrame(dict([('SVC', ev_svc), ('MLP', ev_mlp), ('LSTM', ev_lstm)]),\n",
    "                           index=['mcc', 'acc', 'f1', 'prec', 'rec'])\n",
    "evaluations"
   ]
  },
  {
   "cell_type": "code",
   "execution_count": null,
   "metadata": {},
   "outputs": [],
   "source": [
    "# evaluations.to_csv('../reports/Ev_svc_mlp_lstm_60k_6k.csv')\n",
    "# evaluations.to_csv('../reports/Ev_svc_mlp_lstm_450k_45k.csv')"
   ]
  }
 ],
 "metadata": {
  "kernelspec": {
   "display_name": "Python 3",
   "language": "python",
   "name": "python3"
  },
  "language_info": {
   "codemirror_mode": {
    "name": "ipython",
    "version": 3
   },
   "file_extension": ".py",
   "mimetype": "text/x-python",
   "name": "python",
   "nbconvert_exporter": "python",
   "pygments_lexer": "ipython3",
   "version": "3.6.0"
  },
  "notify_time": "5"
 },
 "nbformat": 4,
 "nbformat_minor": 2
}
