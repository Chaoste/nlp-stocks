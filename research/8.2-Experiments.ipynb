{
 "cells": [
  {
   "cell_type": "code",
   "execution_count": null,
   "metadata": {},
   "outputs": [],
   "source": [
    "import os\n",
    "import re\n",
    "import glob\n",
    "from datetime import datetime\n",
    "import sys\n",
    "from collections import defaultdict\n",
    "\n",
    "import pandas as pd\n",
    "import numpy as np\n",
    "import matplotlib\n",
    "from matplotlib import pyplot as plt\n",
    "sys.path.append(\"..\") # Adds higher directory to python modules path for importing from src dir\n",
    "\n",
    "from src.algorithms import SimpleLSTM, MLPClassifier, SVC\n",
    "from src.datasets import NyseStocksDataset\n",
    "from src.evaluation import Evaluator, Plotter\n",
    "from src.utils import print_metrics_as_md, pandas_df_to_markdown_table\n",
    "# from src.pipeline import run_pipeline, prepare_data, evaluate_results\n",
    "# from src.experiments import get_metrics\n",
    "\n",
    "%matplotlib inline\n",
    "%load_ext autotime\n",
    "%load_ext autoreload\n",
    "%autoreload 2"
   ]
  },
  {
   "cell_type": "code",
   "execution_count": null,
   "metadata": {},
   "outputs": [],
   "source": [
    "plotter = Plotter('../reports')"
   ]
  },
  {
   "cell_type": "markdown",
   "metadata": {},
   "source": [
    "# Experiments"
   ]
  },
  {
   "cell_type": "markdown",
   "metadata": {},
   "source": [
    "## 1. Feature selection\n",
    "- MLP & SimpleLSTM\n",
    "- All-2C, All-3C, OC-3C, OHLC-3C, Open-3C\n",
    "\n",
    "Winner: __OC-3C__\n",
    "\n",
    "|  -   |     All-2C    MLP   |     All-2C    SLSTM_shuffle   |     All-3C    MLP   |     All-3C    SLSTM_shuffle   |     OC-3C    MLP   |     OC-3C    SLSTM_shuffle   |     OHLC-3C    MLP   |     OHLC-3C    SLSTM_shuffle   |     Open-3C    MLP   |     Open-3C    SLSTM_shuffle   |\n",
    "|:-----|--------------------:|------------------------------:|--------------------:|------------------------------:|-------------------:|-----------------------------:|---------------------:|-------------------------------:|---------------------:|-------------------------------:|\n",
    "| prec |           0.473675  |                     0.451195  |           0.330751  |                     0.298249  |          0.368896  |                    0.340891  |            0.320769  |                     0.33705    |           0.369802   |                      0.342179  |\n",
    "| rec  |           0.4825    |                     0.451833  |           0.310833  |                     0.309333  |          0.344833  |                    0.340833  |            0.305     |                     0.336333   |           0.337      |                      0.3395    |\n",
    "| f1   |           0.435161  |                     0.450036  |           0.308623  |                     0.297981  |          0.300402  |                    0.316042  |            0.287787  |                     0.314503   |           0.234739   |                      0.308558  |\n",
    "| acc  |           0.4825    |                     0.451833  |           0.310833  |                     0.309333  |          0.344833  |                    0.340833  |            0.305     |                     0.336333   |           0.337      |                      0.3395    |\n",
    "| mcc  |          -0.0429275 |                    -0.0969692 |          -0.0348393 |                    -0.0367314 |          0.0213947 |                    0.0120531 |           -0.0450657 |                     0.00477629 |           0.00990098 |                      0.0101475 |\n",
    "\n",
    "[comment]: <> (Execution Code: print_metrics_as_md \"../reports/custom/feature-selection.csv\")"
   ]
  },
  {
   "cell_type": "markdown",
   "metadata": {},
   "source": [
    "## 2. Number of Classes\n",
    "- MLP & SimpleLSTM & SimpleLSTMShuffle & SVC\n",
    "- All-2C, All-3C, OC-2C, OC-3C\n",
    "\n",
    "Winner: __OC-3C__\n",
    "\n",
    "\n",
    "| -  |   datasets    predictors     |     All-2C    MLP   |     All-2C    SLSTM   |     All-2C    SLSTM_shuffle   |     All-2C    SVC   |     All-3C    MLP   |     All-3C    SLSTM   |     All-3C    SLSTM_shuffle   |     All-3C    SVC   |     OC-2C    MLP   |     OC-2C    SLSTM   |     OC-2C    SLSTM_shuffle   |     OC-2C    SVC   |     OC-3C    MLP   |     OC-3C    SLSTM   |     OC-3C    SLSTM_shuffle   |     OC-3C    SVC   |\n",
    "|---:|:-----------------------------|--------------------:|----------------------:|------------------------------:|--------------------:|--------------------:|----------------------:|------------------------------:|--------------------:|-------------------:|---------------------:|-----------------------------:|-------------------:|-------------------:|---------------------:|-----------------------------:|-------------------:|\n",
    "|  0 | prec                         |             0.47367 |               0.25    |                       0.46111 |             0.46438 |             0.33075 |               0.11111 |                       0.30102 |             0.3193  |            0.50449 |              0.25    |                      0.50802 |            0.49017 |            0.3689  |              0.11111 |                      0.34566 |            0.34713 |\n",
    "|  1 | rec                          |             0.4825  |               0.5     |                       0.466   |             0.46883 |             0.31083 |               0.33333 |                       0.31167 |             0.33267 |            0.502   |              0.5     |                      0.508   |            0.49017 |            0.34483 |              0.33333 |                      0.33467 |            0.34733 |\n",
    "|  2 | f1                           |             0.43516 |               0.33333 |                       0.44866 |             0.45169 |             0.30862 |               0.16667 |                       0.29172 |             0.31268 |            0.42185 |              0.33333 |                      0.50775 |            0.49017 |            0.3004  |              0.16667 |                      0.28432 |            0.33982 |\n",
    "|  3 | acc                          |             0.4825  |               0.5     |                       0.466   |             0.46883 |             0.31083 |               0.33333 |                       0.31167 |             0.33267 |            0.502   |              0.5     |                      0.508   |            0.49017 |            0.34483 |              0.33333 |                      0.33467 |            0.34733 |\n",
    "|  4 | mcc                          |            -0.04293 |               0       |                      -0.07273 |            -0.06664 |            -0.03484 |               0       |                      -0.03433 |            -0.00104 |            0.00599 |              0       |                      0.01602 |           -0.01967 |            0.02139 |              0       |                      0.00225 |            0.02146 |\n",
    "\n",
    "\n",
    "[comment]: <> (Execution Code: print_metrics_as_md \"../reports/custom/classes-2vs3.csv\")"
   ]
  },
  {
   "cell_type": "markdown",
   "metadata": {},
   "source": [
    "## 3. Test on Many Samples\n",
    "\n",
    "- MLP & SimpleLSTMShuffle\n",
    "- All-3C, OC-3C\n",
    "- Samples: 600k\n",
    "\n",
    "Winner: __All-3C, MLP__\n",
    "\n",
    "When training with more samples it's useful to provide more features.\n",
    "Still wondering why LSTM isn't better than MLP - might be because LSTM didn't converge (see history plots). The val_acc didn't improve until 20th epoch and afterwards started oszillation intensively (with an increasing mean).\n",
    "\n",
    "| -  |   datasets    predictors     |     All-3C    MLP   |     All-3C    SLSTM_shuffle   |     OC-3C    MLP   |     OC-3C    SLSTM_shuffle   |\n",
    "|---:|:-----------------------------|--------------------:|------------------------------:|-------------------:|-----------------------------:|\n",
    "|  0 | prec                         |             0.39888 |                       0.37705 |            0.36527 |                      0.38532 |\n",
    "|  1 | rec                          |             0.40535 |                       0.35013 |            0.36832 |                      0.35853 |\n",
    "|  2 | f1                           |             0.39455 |                       0.29944 |            0.33878 |                      0.30229 |\n",
    "|  3 | acc                          |             0.40535 |                       0.35013 |            0.36832 |                      0.35853 |\n",
    "|  4 | mcc                          |             0.10996 |                       0.03225 |            0.05683 |                      0.04865 |\n",
    "\n",
    "[comment]: <> (Execution Code: print_metrics_as_md \"../reports/custom/600k-samples.csv\")"
   ]
  },
  {
   "cell_type": "markdown",
   "metadata": {},
   "source": [
    "## 4. Why does not Shuffling Fail for LSTM?\n",
    "\n",
    "- SimpleLSTM & SimpleLSTMShuffle\n",
    "- OC-3C\n",
    "\n",
    "1st Run: learning rate=0.1\n",
    "\n",
    "| -  |   datasets    predictors     |     OC-3C    SLSTM   |     OC-3C    SLSTM_shuffle   |\n",
    "|---:|:-----------------------------|---------------------:|-----------------------------:|\n",
    "|  0 | prec                         |              0.11111 |                      0.2377  |\n",
    "|  1 | rec                          |              0.33333 |                      0.34017 |\n",
    "|  2 | f1                           |              0.16667 |                      0.23521 |\n",
    "|  3 | acc                          |              0.33333 |                      0.34017 |\n",
    "|  4 | mcc                          |              0       |                      0.01705 |\n",
    "\n",
    "2nd Run: learning rate=0.01\n",
    "\n",
    "| -  |   datasets    predictors     |     OC-3C    SLSTM   |     OC-3C    SLSTM_shuffle   |\n",
    "|---:|:-----------------------------|---------------------:|-----------------------------:|\n",
    "|  0 | prec                         |              0.11111 |                      0.30789 |\n",
    "|  1 | rec                          |              0.33333 |                      0.32    |\n",
    "|  2 | f1                           |              0.16667 |                      0.26147 |\n",
    "|  3 | acc                          |              0.33333 |                      0.32    |\n",
    "|  4 | mcc                          |              0       |                     -0.0231  |\n",
    "\n",
    "Winner: __SLSTM_shuffle[lr=0.1]__\n",
    "\n",
    "[comment]: <> (Execution Code: print_metrics_as_md \"../reports/custom/shuffling.csv\")\n",
    "[comment]: <> (Execution Code: print_metrics_as_md \"../reports/custom/shuffling.csv-1\")"
   ]
  },
  {
   "cell_type": "markdown",
   "metadata": {},
   "source": [
    "## 5. Good batch sizes for SLSTM\n",
    "\n",
    "- SimpleLSTM [bs = 16 - 512]\n",
    "- OC-3C, All-3C\n",
    "\n",
    "The history of the approaches showed dann a very high batch size leeds to a saver convergence. But it's only converging for train and val data. Test set remains bad. I guess, the models with high batch size are more stable but also totally overfit.\n",
    "\n",
    "|   -    |   datasets    predictors     |     OC-3C    SLSTM_bs16   |     OC-3C    SLSTM_bs32   |     OC-3C    SLSTM_bs64   |     OC-3C    SLSTM_bs128   |     OC-3C    SLSTM_bs256   |\n",
    "|:-------|:-----------------------------|--------------------------:|--------------------------:|--------------------------:|---------------------------:|---------------------------:|\n",
    "| 0      | prec                         |                   0.36755 |                   0.3343  |                   0.35211 |                    0.35629 |                    0.3551  |\n",
    "| 1      | rec                          |                   0.34544 |                   0.34344 |                   0.358   |                    0.35622 |                    0.35667 |\n",
    "| 2      | f1                           |                   0.24508 |                   0.24422 |                   0.32332 |                    0.3493  |                    0.34756 |\n",
    "| 3      | acc                          |                   0.34544 |                   0.34344 |                   0.358   |                    0.35622 |                    0.35667 |\n",
    "| 4      | mcc                          |                   0.028   |                   0.02431 |                   0.04044 |                    0.03506 |                    0.03575 |\n",
    "| bs     | 0                            |                  16       |                  32       |                  64       |                  256       |                  512       |\n",
    "| epochs | 0                            |                  50       |                 100       |                 150       |                  200       |                  250       |\n",
    "\n",
    "\n",
    "Winner: __SLSTM_bs64__\n",
    "\n",
    "[comment]: <> (Execution Code: custom_print_md)"
   ]
  },
  {
   "cell_type": "code",
   "execution_count": null,
   "metadata": {},
   "outputs": [],
   "source": [
    "def custom_print_md():\n",
    "    df = pd.read_csv(\"../reports/custom/lstm-batch-size-val-shuffled-lr001.csv\", header=[0, 1])\n",
    "    # df.loc['bs'] = int(re.search(r'[0-9]+$', x).group(0)\n",
    "    df.loc['bs'] = [0, 256, 16, 512, 32, 64]\n",
    "    df.loc['epochs'] = [0, 200, 50, 250, 100, 150]\n",
    "    df.sort_values(axis=1, by='bs', inplace=True)\n",
    "    print(pandas_df_to_markdown_table(df))\n",
    "# custom_print_md()"
   ]
  },
  {
   "cell_type": "markdown",
   "metadata": {},
   "source": [
    "## 6. Many Epochs\n",
    "\n",
    "- SimpleLSTM [bs = 64 - 512] with 500 epochs\n",
    "- 90k/9k from OC-3C\n",
    "\n",
    "| -  |   datasets    predictors     |     OC-3C    SLSTM_bs64   |     OC-3C    SLSTM_bs256   |     OC-3C    SLSTM_bs512   |\n",
    "|:---|:-----------------------------|--------------------------:|---------------------------:|---------------------------:|\n",
    "| 0  | prec                         |                   0.23335 |                    0.34228 |                    0.34124 |\n",
    "| 1  | rec                          |                   0.34089 |                    0.34444 |                    0.34256 |\n",
    "| 2  | f1                           |                   0.22251 |                    0.34098 |                    0.3359  |\n",
    "| 3  | acc                          |                   0.34089 |                    0.34444 |                    0.34256 |\n",
    "| 4  | mcc                          |                   0.02126 |                    0.01678 |                    0.01407 |\n",
    "| bs | 0                            |                  64       |                  256       |                  512       |\n",
    "\n",
    "Winner: __SLSTM_bs64[epochs=500, lr=0.01]__\n",
    "\n",
    "Outcome: Validation set is not good selected (models overfit)\n",
    "\n",
    "[comment]: <> (Execution Code: custom_print_md)"
   ]
  },
  {
   "cell_type": "code",
   "execution_count": null,
   "metadata": {},
   "outputs": [],
   "source": [
    "def custom_print_md():\n",
    "    df = pd.read_csv(\"../reports/custom/lstm-many-epochs.csv\", header=[0, 1])\n",
    "    # df.loc['bs'] = int(re.search(r'[0-9]+$', x).group(0)\n",
    "    df.loc['bs'] = [0, 256, 512, 64]\n",
    "    df.sort_values(axis=1, by='bs', inplace=True)\n",
    "    print(pandas_df_to_markdown_table(df))\n",
    "# custom_print_md()"
   ]
  },
  {
   "cell_type": "markdown",
   "metadata": {},
   "source": [
    "## 7. Good epsilon for `still` class\n",
    "\n",
    "- SimpleLSTM_bs64, SimpleLSTM_bs512 with 200 epochs\n",
    "- OC-3C[epsilon=0.01], OC-3C[epsilon=0.007], OC-3C[epsilon=0.004], OC-3C[epsilon=0.0005], OC-3C[epsilon=0.0005]\n",
    "\n",
    "Outcome: Failed after first 0.0005 run (classes were not even distributed). Problem gets easier with growing size of `still` class.\n",
    "\n",
    "\n",
    "| -  |   datasets    predictors     |     OC-3C-e01    SLSTM_bs64   |     OC-3C-e01    SLSTM_bs512   |     OC-3C-e007    SLSTM_bs64   |     OC-3C-e007    SLSTM_bs512   |     OC-3C-e004    SLSTM_bs64   |     OC-3C-e004    SLSTM_bs512   |     OC-3C-e001    SLSTM_bs64   |     OC-3C-e001    SLSTM_bs512   |     OC-3C-e0005    SLSTM_bs64   |     OC-3C-e0005    SLSTM_bs512   |     OC-3C-e0001    SLSTM_bs64   |\n",
    "|---:|:-----------------------------|------------------------------:|-------------------------------:|-------------------------------:|--------------------------------:|-------------------------------:|--------------------------------:|-------------------------------:|--------------------------------:|--------------------------------:|---------------------------------:|--------------------------------:|\n",
    "|  0 | prec                         |                       0.24276 |                        0.3983  |                        0.34473 |                         0.38659 |                        0.35464 |                         0.33107 |                        0.36028 |                         0.36562 |                         0.21973 |                          0.39352 |                         0.48808 |\n",
    "|  1 | rec                          |                       0.346   |                        0.41417 |                        0.33983 |                         0.39567 |                        0.343   |                         0.33    |                        0.34217 |                         0.3695  |                         0.33317 |                          0.393   |                         0.48963 |\n",
    "|  2 | f1                           |                       0.21848 |                        0.39045 |                        0.24143 |                         0.36906 |                        0.24607 |                         0.31759 |                        0.27598 |                         0.32588 |                         0.25538 |                          0.36731 |                         0.47724 |\n",
    "|  3 | acc                          |                       0.346   |                        0.41417 |                        0.33983 |                         0.39567 |                        0.343   |                         0.33    |                        0.34217 |                         0.3695  |                         0.33317 |                          0.393   |                         0.48963 |\n",
    "|  4 | mcc                          |                       0.03987 |                        0.12608 |                        0.01472 |                         0.09992 |                        0.0237  |                        -0.00522 |                        0.01598 |                         0.0629  |                        -0.00031 |                          0.09711 |                        -0.02097 |\n",
    "\n",
    "Winner: __OC-3C[e=0.01]__\n",
    "\n",
    "[comment]: <> (Execution Code: print_metrics_as_md \"../reports/custom/lstm-epsilon.csv\")"
   ]
  },
  {
   "cell_type": "markdown",
   "metadata": {},
   "source": [
    "# Final\n",
    "\n",
    "- SimpleLSTM, MLP\n",
    "- OC-3C\n",
    "\n",
    "| -  |   datasets    predictors     |     OC-3C    MLP   |     OC-3C    SLSTM   |\n",
    "|---:|:-----------------------------|-------------------:|---------------------:|\n",
    "|  0 | prec                         |            0.34613 |              0.3394  |\n",
    "|  1 | rec                          |            0.34507 |              0.33757 |\n",
    "|  2 | f1                           |            0.34058 |              0.32491 |\n",
    "|  3 | acc                          |            0.34507 |              0.33757 |\n",
    "|  4 | mcc                          |            0.01784 |              0.00658 |\n",
    "\n",
    "Outcome: Might fail because 200 epochs are not enough on 300k training data.\n"
   ]
  },
  {
   "cell_type": "code",
   "execution_count": null,
   "metadata": {},
   "outputs": [],
   "source": [
    "datasets = [\n",
    "    NyseStocksDataset('OC-3C', file_path='../data/nyse/prices.csv'),\n",
    "]\n",
    "[ds.load() for ds in datasets];"
   ]
  },
  {
   "cell_type": "code",
   "execution_count": null,
   "metadata": {
    "scrolled": true
   },
   "outputs": [],
   "source": [
    "def get_predictors(n_features, n_timestamps=7, n_classes=3):\n",
    "    return [\n",
    "        SimpleLSTM(n_timestamps=n_timestamps, n_features=n_features, n_classes=n_classes),\n",
    "        MLPClassifier(),\n",
    "    ]\n",
    "\n",
    "evaluator = Evaluator('final', datasets, get_predictors, '../reports', seed=42, store=True,\n",
    "                      n_train_samples=300000, n_test_samples=30000)\n",
    "metrics = evaluator()\n",
    "metrics.to_csv(\"../reports/custom/final.csv\")\n",
    "\n",
    "# plotter.plot_history(evaluator._temp_pipelines['OC-3C']['MLP'][0].steps[-1][1].history, 'MLP on OC-3C')\n",
    "# plotter.plot_history(evaluator._temp_pipelines['OC-3C']['SLSTM'][0].steps[-1][1].history, 'SLSTM on OC-3C')"
   ]
  }
 ],
 "metadata": {
  "kernelspec": {
   "display_name": "Python 3",
   "language": "python",
   "name": "python3"
  },
  "language_info": {
   "codemirror_mode": {
    "name": "ipython",
    "version": 3
   },
   "file_extension": ".py",
   "mimetype": "text/x-python",
   "name": "python",
   "nbconvert_exporter": "python",
   "pygments_lexer": "ipython3",
   "version": "3.6.0"
  },
  "notify_time": "5"
 },
 "nbformat": 4,
 "nbformat_minor": 2
}
