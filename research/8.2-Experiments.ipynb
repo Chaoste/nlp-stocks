{
 "cells": [
  {
   "cell_type": "code",
   "execution_count": 1,
   "metadata": {},
   "outputs": [
    {
     "name": "stderr",
     "output_type": "stream",
     "text": [
      "Using TensorFlow backend.\n"
     ]
    }
   ],
   "source": [
    "import os\n",
    "import re\n",
    "import glob\n",
    "from datetime import datetime\n",
    "import sys\n",
    "from collections import defaultdict\n",
    "\n",
    "import pandas as pd\n",
    "import numpy as np\n",
    "import matplotlib\n",
    "from matplotlib import pyplot as plt\n",
    "sys.path.append(\"..\") # Adds higher directory to python modules path for importing from src dir\n",
    "\n",
    "from src.algorithms import SimpleLSTM, MLPClassifier, SVC\n",
    "from src.datasets import NyseStocksDataset\n",
    "from src.evaluation import Evaluator, Plotter\n",
    "from src.utils import print_metrics_as_md\n",
    "# from src.pipeline import run_pipeline, prepare_data, evaluate_results\n",
    "# from src.experiments import get_metrics\n",
    "\n",
    "%matplotlib inline\n",
    "%load_ext autotime\n",
    "%load_ext autoreload\n",
    "%autoreload 2"
   ]
  },
  {
   "cell_type": "code",
   "execution_count": 2,
   "metadata": {},
   "outputs": [
    {
     "name": "stdout",
     "output_type": "stream",
     "text": [
      "time: 376 ms\n"
     ]
    }
   ],
   "source": [
    "plotter = Plotter('../reports')"
   ]
  },
  {
   "cell_type": "markdown",
   "metadata": {},
   "source": [
    "# Experiments"
   ]
  },
  {
   "cell_type": "markdown",
   "metadata": {},
   "source": [
    "### Feature selection\n",
    "- MLP & SimpleLSTM\n",
    "- All-2C, All-3C, OC-3C, OHLC-3C, Open-3C\n",
    "\n",
    "Winner: __OC-3C__\n",
    "\n",
    "|  -   |     All-2C    MLP   |     All-2C    SLSTM_shuffle   |     All-3C    MLP   |     All-3C    SLSTM_shuffle   |     OC-3C    MLP   |     OC-3C    SLSTM_shuffle   |     OHLC-3C    MLP   |     OHLC-3C    SLSTM_shuffle   |     Open-3C    MLP   |     Open-3C    SLSTM_shuffle   |\n",
    "|:-----|--------------------:|------------------------------:|--------------------:|------------------------------:|-------------------:|-----------------------------:|---------------------:|-------------------------------:|---------------------:|-------------------------------:|\n",
    "| prec |           0.473675  |                     0.451195  |           0.330751  |                     0.298249  |          0.368896  |                    0.340891  |            0.320769  |                     0.33705    |           0.369802   |                      0.342179  |\n",
    "| rec  |           0.4825    |                     0.451833  |           0.310833  |                     0.309333  |          0.344833  |                    0.340833  |            0.305     |                     0.336333   |           0.337      |                      0.3395    |\n",
    "| f1   |           0.435161  |                     0.450036  |           0.308623  |                     0.297981  |          0.300402  |                    0.316042  |            0.287787  |                     0.314503   |           0.234739   |                      0.308558  |\n",
    "| acc  |           0.4825    |                     0.451833  |           0.310833  |                     0.309333  |          0.344833  |                    0.340833  |            0.305     |                     0.336333   |           0.337      |                      0.3395    |\n",
    "| mcc  |          -0.0429275 |                    -0.0969692 |          -0.0348393 |                    -0.0367314 |          0.0213947 |                    0.0120531 |           -0.0450657 |                     0.00477629 |           0.00990098 |                      0.0101475 |\n",
    "\n",
    "[comment]: <> (Execution Code: print_metrics_as_md \"../reports/custom/feature-selection.csv\")"
   ]
  },
  {
   "cell_type": "markdown",
   "metadata": {},
   "source": [
    "### Number of Classes\n",
    "- MLP & SimpleLSTM & SimpleLSTMShuffle & SVC\n",
    "- All-2C, All-3C, OC-2C, OC-3C\n",
    "\n",
    "Winner: __OC-3C__\n",
    "\n",
    "\n",
    "| -  |   datasets    predictors     |     All-2C    MLP   |     All-2C    SLSTM   |     All-2C    SLSTM_shuffle   |     All-2C    SVC   |     All-3C    MLP   |     All-3C    SLSTM   |     All-3C    SLSTM_shuffle   |     All-3C    SVC   |     OC-2C    MLP   |     OC-2C    SLSTM   |     OC-2C    SLSTM_shuffle   |     OC-2C    SVC   |     OC-3C    MLP   |     OC-3C    SLSTM   |     OC-3C    SLSTM_shuffle   |     OC-3C    SVC   |\n",
    "|---:|:-----------------------------|--------------------:|----------------------:|------------------------------:|--------------------:|--------------------:|----------------------:|------------------------------:|--------------------:|-------------------:|---------------------:|-----------------------------:|-------------------:|-------------------:|---------------------:|-----------------------------:|-------------------:|\n",
    "|  0 | prec                         |             0.47367 |               0.25    |                       0.46111 |             0.46438 |             0.33075 |               0.11111 |                       0.30102 |             0.3193  |            0.50449 |              0.25    |                      0.50802 |            0.49017 |            0.3689  |              0.11111 |                      0.34566 |            0.34713 |\n",
    "|  1 | rec                          |             0.4825  |               0.5     |                       0.466   |             0.46883 |             0.31083 |               0.33333 |                       0.31167 |             0.33267 |            0.502   |              0.5     |                      0.508   |            0.49017 |            0.34483 |              0.33333 |                      0.33467 |            0.34733 |\n",
    "|  2 | f1                           |             0.43516 |               0.33333 |                       0.44866 |             0.45169 |             0.30862 |               0.16667 |                       0.29172 |             0.31268 |            0.42185 |              0.33333 |                      0.50775 |            0.49017 |            0.3004  |              0.16667 |                      0.28432 |            0.33982 |\n",
    "|  3 | acc                          |             0.4825  |               0.5     |                       0.466   |             0.46883 |             0.31083 |               0.33333 |                       0.31167 |             0.33267 |            0.502   |              0.5     |                      0.508   |            0.49017 |            0.34483 |              0.33333 |                      0.33467 |            0.34733 |\n",
    "|  4 | mcc                          |            -0.04293 |               0       |                      -0.07273 |            -0.06664 |            -0.03484 |               0       |                      -0.03433 |            -0.00104 |            0.00599 |              0       |                      0.01602 |           -0.01967 |            0.02139 |              0       |                      0.00225 |            0.02146 |\n",
    "\n",
    "\n",
    "[comment]: <> (Execution Code: print_metrics_as_md \"../reports/custom/classes-2vs3.csv\")"
   ]
  },
  {
   "cell_type": "markdown",
   "metadata": {},
   "source": [
    "### Test on Many Sample\n",
    "\n",
    "- MLP & SimpleLSTMShuffle\n",
    "- All-3C, OC-3C\n",
    "- Samples: 600k\n",
    "\n",
    "Winner: __All-3C, MLP__\n",
    "\n",
    "When training with more samples it's useful to provide more features.\n",
    "Still wondering why LSTM isn't better than MLP - might be because LSTM didn't converge (see history plots). The val_acc didn't improve until 20th epoch and afterwards started oszillation intensively (with an increasing mean).\n",
    "\n",
    "| -  |   datasets    predictors     |     All-3C    MLP   |     All-3C    SLSTM_shuffle   |     OC-3C    MLP   |     OC-3C    SLSTM_shuffle   |\n",
    "|---:|:-----------------------------|--------------------:|------------------------------:|-------------------:|-----------------------------:|\n",
    "|  0 | prec                         |             0.39888 |                       0.37705 |            0.36527 |                      0.38532 |\n",
    "|  1 | rec                          |             0.40535 |                       0.35013 |            0.36832 |                      0.35853 |\n",
    "|  2 | f1                           |             0.39455 |                       0.29944 |            0.33878 |                      0.30229 |\n",
    "|  3 | acc                          |             0.40535 |                       0.35013 |            0.36832 |                      0.35853 |\n",
    "|  4 | mcc                          |             0.10996 |                       0.03225 |            0.05683 |                      0.04865 |\n",
    "\n",
    "[comment]: <> (Execution Code: print_metrics_as_md \"../reports/custom/600k-samples.csv\")"
   ]
  },
  {
   "cell_type": "markdown",
   "metadata": {},
   "source": [
    "### Why does not Shuffling Fail for LSTM?\n",
    "\n",
    "- SimpleLSTM & SimpleLSTMShuffle\n",
    "- OC-3C\n",
    "\n",
    "Import form shuffling and shuffling-1 (lr=0.1/0.01)\n",
    "\n",
    "Winner: __?__"
   ]
  },
  {
   "cell_type": "markdown",
   "metadata": {},
   "source": [
    "### Good batch sizes for MLP and SLSTM\n",
    "\n",
    "- SimpleLSTM & MLP [3 different batch sizes]\n",
    "- OC-3C, All-3C\n",
    "\n",
    "Winner: __?__"
   ]
  },
  {
   "cell_type": "code",
   "execution_count": 4,
   "metadata": {
    "scrolled": true
   },
   "outputs": [
    {
     "data": {
      "application/vnd.jupyter.widget-view+json": {
       "model_id": "1681883f1b1747eeaae82c8f48483feb",
       "version_major": 2,
       "version_minor": 0
      },
      "text/plain": [
       "HBox(children=(IntProgress(value=0, max=501), HTML(value='')))"
      ]
     },
     "metadata": {},
     "output_type": "display_data"
    },
    {
     "name": "stdout",
     "output_type": "stream",
     "text": [
      "\n",
      "time: 10 s\n"
     ]
    }
   ],
   "source": [
    "datasets = [\n",
    "    NyseStocksDataset('OC-3C', file_path='../data/nyse/prices.csv', features=['open', 'close']),\n",
    "]\n",
    "[ds.load() for ds in datasets];"
   ]
  },
  {
   "cell_type": "code",
   "execution_count": null,
   "metadata": {
    "scrolled": true
   },
   "outputs": [
    {
     "name": "stdout",
     "output_type": "stream",
     "text": [
      "2018-12-09 14:21:05 [INFO] src.evaluation.evaluator: ---------- Prepare dataset ----------\n",
      "2018-12-09 14:21:05 [INFO] src.preparation: Train Labels --> -1.0: 33333; 0.0: 33333; 1.0: 33333\n",
      "2018-12-09 14:21:05 [INFO] src.preparation: Training range: 2010-01-13 00:00:00 to 2011-02-11 00:00:00\n",
      "2018-12-09 14:21:05 [INFO] src.preparation: Test Labels --> -1.0: 3333; 0.0: 3333; 1.0: 3333\n",
      "2018-12-09 14:21:05 [INFO] src.preparation: Testing range: 2016-01-04 00:00:00 to 2016-12-30 00:00:00\n",
      "2018-12-09 14:21:05 [INFO] src.preparation: Done preparing data\n",
      "2018-12-09 14:21:05 [INFO] src.evaluation.evaluator: ---------- SLSTM_bs16 | OC-3C ----------\n"
     ]
    },
    {
     "data": {
      "application/vnd.jupyter.widget-view+json": {
       "model_id": "cd91f6326a674735a29614dc86d02691",
       "version_major": 2,
       "version_minor": 0
      },
      "text/plain": [
       "HBox(children=(IntProgress(value=0, description='Training', max=50, style=ProgressStyle(description_width='ini…"
      ]
     },
     "metadata": {},
     "output_type": "display_data"
    },
    {
     "data": {
      "application/vnd.jupyter.widget-view+json": {
       "model_id": "85bd7ddd16bd44e19b8913d57bf51b3b",
       "version_major": 2,
       "version_minor": 0
      },
      "text/plain": [
       "HBox(children=(IntProgress(value=0, description='Epoch 0', max=79999, style=ProgressStyle(description_width='i…"
      ]
     },
     "metadata": {},
     "output_type": "display_data"
    }
   ],
   "source": [
    "def get_predictors(n_features, n_timestamps=7, n_classes=3):\n",
    "    return [\n",
    "        SimpleLSTM('_bs16', n_timestamps=n_timestamps, n_features=n_features, n_classes=n_classes,\n",
    "                   shuffle=True, epochs=50, batch_size=16),\n",
    "        SimpleLSTM('_bs32', n_timestamps=n_timestamps, n_features=n_features, n_classes=n_classes,\n",
    "                   shuffle=True, epochs=100, batch_size=32),\n",
    "        SimpleLSTM('_bs64', n_timestamps=n_timestamps, n_features=n_features, n_classes=n_classes,\n",
    "                   shuffle=True, epochs=150, batch_size=64),\n",
    "        SimpleLSTM('_bs128', n_timestamps=n_timestamps, n_features=n_features, n_classes=n_classes,\n",
    "                   shuffle=True, epochs=200, batch_size=256),\n",
    "        SimpleLSTM('_bs256', n_timestamps=n_timestamps, n_features=n_features, n_classes=n_classes,\n",
    "                   shuffle=True, epochs=250, batch_size=512),\n",
    "    ]\n",
    "\n",
    "evaluator = Evaluator('lstm-batch-size-lr001', datasets, get_predictors, '../reports', seed=42, store=False,\n",
    "                      n_train_samples=100000, n_test_samples=10000)\n",
    "metrics = evaluator()\n",
    "metrics.to_csv(\"../reports/custom/lstm-batch-size-lr001.csv\")"
   ]
  },
  {
   "cell_type": "code",
   "execution_count": null,
   "metadata": {
    "scrolled": true
   },
   "outputs": [],
   "source": [
    "metrics"
   ]
  },
  {
   "cell_type": "code",
   "execution_count": null,
   "metadata": {},
   "outputs": [],
   "source": [
    "plotter.plot_history(evaluator._temp_pipelines['OC-3C']['SLSTM_bs16'][0].steps[-1][1].history, 'SLSTM-bs16')\n",
    "plotter.plot_history(evaluator._temp_pipelines['OC-3C']['SLSTM_bs32'][0].steps[-1][1].history, 'SLSTM-bs32')\n",
    "plotter.plot_history(evaluator._temp_pipelines['OC-3C']['SLSTM_bs64'][0].steps[-1][1].history, 'SLSTM-bs64')\n",
    "plotter.plot_history(evaluator._temp_pipelines['OC-3C']['SLSTM_bs128'][0].steps[-1][1].history, 'SLSTM-bs128')\n",
    "plotter.plot_history(evaluator._temp_pipelines['OC-3C']['SLSTM_bs256'][0].steps[-1][1].history, 'SLSTM-bs256')"
   ]
  },
  {
   "cell_type": "markdown",
   "metadata": {},
   "source": [
    "### Good epsilon for `still` class\n",
    "\n",
    "- ?\n",
    "- All-3C[epsilon=0.0001], All-3C[epsilon=0.0005], All-3C[epsilon=0.001], All-3C[epsilon=0.005], All-3C[epsilon=0.01]\n",
    "\n",
    "Winner: __?__"
   ]
  },
  {
   "cell_type": "code",
   "execution_count": null,
   "metadata": {},
   "outputs": [],
   "source": [
    "# TODO: Store val/loss history of approaches\n",
    "plotter.plot_history(evaluator._temp_pipelines['OC-3C']['MLP'][0].steps[-1][1].history, store=True)\n",
    "plotter.plot_history(evaluator._temp_pipelines['OC-3C']['SLSTM_shuffle'][0].steps[-1][1].history, store=True)"
   ]
  }
 ],
 "metadata": {
  "kernelspec": {
   "display_name": "Python 3",
   "language": "python",
   "name": "python3"
  },
  "language_info": {
   "codemirror_mode": {
    "name": "ipython",
    "version": 3
   },
   "file_extension": ".py",
   "mimetype": "text/x-python",
   "name": "python",
   "nbconvert_exporter": "python",
   "pygments_lexer": "ipython3",
   "version": "3.6.0"
  },
  "notify_time": "5"
 },
 "nbformat": 4,
 "nbformat_minor": 2
}
