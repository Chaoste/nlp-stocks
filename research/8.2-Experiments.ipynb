{
 "cells": [
  {
   "cell_type": "code",
   "execution_count": null,
   "metadata": {},
   "outputs": [],
   "source": [
    "import os\n",
    "import re\n",
    "import glob\n",
    "from datetime import datetime\n",
    "import sys\n",
    "from collections import defaultdict\n",
    "\n",
    "import pandas as pd\n",
    "import numpy as np\n",
    "import matplotlib\n",
    "from matplotlib import pyplot as plt\n",
    "sys.path.append(\"..\") # Adds higher directory to python modules path for importing from src dir\n",
    "\n",
    "from sklearn.svm import SVC\n",
    "\n",
    "from src.algorithms.simple.lstm import SimpleLSTM\n",
    "from src.algorithms.simple.mlp import MLPClassifier\n",
    "from src.datasets import NyseStocksDataset\n",
    "from src.evaluation import Evaluator, Plotter\n",
    "# from src.pipeline import run_pipeline, prepare_data, evaluate_results\n",
    "# from src.experiments import get_metrics\n",
    "\n",
    "%matplotlib inline\n",
    "%load_ext autotime\n",
    "%load_ext autoreload\n",
    "%autoreload 2"
   ]
  },
  {
   "cell_type": "code",
   "execution_count": null,
   "metadata": {},
   "outputs": [],
   "source": [
    "plotter = Plotter('../reports')"
   ]
  },
  {
   "cell_type": "code",
   "execution_count": null,
   "metadata": {},
   "outputs": [],
   "source": [
    "datasets = [\n",
    "    NyseStocksDataset('All-3C', file_path='../data/nyse/prices.csv'),\n",
    "    NyseStocksDataset('Open-3C', file_path='../data/nyse/prices.csv', features=['open']),\n",
    "    NyseStocksDataset('OC-3C', file_path='../data/nyse/prices.csv', features=['open', 'close']),\n",
    "    NyseStocksDataset('All-2C', file_path='../data/nyse/prices.csv', epsilon=None),\n",
    "]\n",
    "[ds.load() for ds in datasets];"
   ]
  },
  {
   "cell_type": "markdown",
   "metadata": {},
   "source": [
    "### First Approach"
   ]
  },
  {
   "cell_type": "code",
   "execution_count": null,
   "metadata": {},
   "outputs": [],
   "source": [
    "def gen_predictors(n_features, n_timestamps=7, n_classes=3):\n",
    "    return [\n",
    "        SimpleLSTM(n_timestamps=n_timestamps, n_features=n_features, n_classes=n_classes,\n",
    "                   epochs=10, batch_size=32, n_units=[64, 64]),\n",
    "        MLPClassifier(activation='tanh', hidden_layer_sizes=(32, 32, 32, 3), max_iter=150,\n",
    "                      solver='adam', verbose=True, random_state=42),  # tol=1e-4, learning_rate_init=1e-4, alpha=0.0001\n",
    "        SVC(verbose=True, gamma='scale'),\n",
    "    ]\n",
    "\n",
    "results = defaultdict(lambda: defaultdict(list))\n",
    "\n",
    "for ds in datasets:\n",
    "    print('-'*10, 'Prepare dataset', '-'*10)\n",
    "    data = prepare_data(ds, 20000, 2000)\n",
    "    n_features = len(data[0].columns.levels[1])\n",
    "    predictors = gen_predictors(n_features)\n",
    "    for predictor in predictors:\n",
    "        predictor_name = predictor.__class__.__name__\n",
    "        can_handle_time_dim = isinstance(predictor, SimpleLSTM)\n",
    "        print('-'*10, predictor_name, '|', ds, '-'*10)\n",
    "        pipeline, y_pred = run_pipeline(predictor, data, time_dim=can_handle_time_dim)\n",
    "        ev = evaluate_results(data[3], y_pred)\n",
    "        results[str(ds)][predictor_name] = (pipeline, ev)"
   ]
  },
  {
   "cell_type": "code",
   "execution_count": null,
   "metadata": {},
   "outputs": [],
   "source": [
    "all_metrics, mcc_metric = get_metrics(results)\n",
    "mcc_metric"
   ]
  },
  {
   "cell_type": "code",
   "execution_count": null,
   "metadata": {},
   "outputs": [],
   "source": [
    "all_metrics"
   ]
  },
  {
   "cell_type": "code",
   "execution_count": null,
   "metadata": {},
   "outputs": [],
   "source": [
    "# evaluations.to_csv('../reports/Ev_svc_mlp_lstm_60k_6k.csv')\n",
    "# evaluations.to_csv('../reports/Ev_svc_mlp_lstm_450k_45k.csv')"
   ]
  },
  {
   "cell_type": "markdown",
   "metadata": {},
   "source": [
    "### Second approach after code implementation"
   ]
  },
  {
   "cell_type": "code",
   "execution_count": null,
   "metadata": {},
   "outputs": [],
   "source": [
    "from sklearn.svm import SVC\n",
    "\n",
    "from src.algorithms import SimpleLSTM, MLPClassifier\n",
    "from src.evaluation import Evaluator\n",
    "\n",
    "\n",
    "def get_predictors(n_features, n_timestamps=7, n_classes=3):\n",
    "    return [\n",
    "        MLPClassifier(activation='tanh', hidden_layer_sizes=(32, 32, 32, 3), epochs=150,\n",
    "                      solver='adam', verbose=True, seed=42),\n",
    "        SimpleLSTM(n_timestamps=n_timestamps, n_features=n_features, n_classes=n_classes,\n",
    "                   epochs=10, batch_size=32, n_units=[64, 64]),\n",
    "        # tol=1e-4, learning_rate_init=1e-4, alpha=0.0001\n",
    "        SVC(verbose=True, gamma='scale'),\n",
    "    ]\n",
    "\n",
    "\n",
    "evaluator = Evaluator('feature_selection', datasets, get_predictors, '../reports', seed=42, store=True)\n",
    "metrics = evaluator()"
   ]
  },
  {
   "cell_type": "code",
   "execution_count": null,
   "metadata": {},
   "outputs": [],
   "source": [
    "metrics"
   ]
  },
  {
   "cell_type": "code",
   "execution_count": null,
   "metadata": {},
   "outputs": [],
   "source": []
  }
 ],
 "metadata": {
  "kernelspec": {
   "display_name": "Python 3",
   "language": "python",
   "name": "python3"
  },
  "language_info": {
   "codemirror_mode": {
    "name": "ipython",
    "version": 3
   },
   "file_extension": ".py",
   "mimetype": "text/x-python",
   "name": "python",
   "nbconvert_exporter": "python",
   "pygments_lexer": "ipython3",
   "version": "3.6.0"
  },
  "notify_time": "5"
 },
 "nbformat": 4,
 "nbformat_minor": 2
}
