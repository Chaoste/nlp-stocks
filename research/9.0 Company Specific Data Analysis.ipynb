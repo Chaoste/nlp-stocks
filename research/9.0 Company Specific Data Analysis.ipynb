{
 "cells": [
  {
   "cell_type": "code",
   "execution_count": 14,
   "metadata": {},
   "outputs": [
    {
     "name": "stdout",
     "output_type": "stream",
     "text": [
      "The autotime extension is already loaded. To reload it, use:\n",
      "  %reload_ext autotime\n",
      "The autoreload extension is already loaded. To reload it, use:\n",
      "  %reload_ext autoreload\n",
      "time: 212 ms\n"
     ]
    }
   ],
   "source": [
    "import os\n",
    "import re\n",
    "import glob\n",
    "from datetime import datetime\n",
    "import sys\n",
    "import itertools\n",
    "from collections import defaultdict\n",
    "\n",
    "import pandas as pd\n",
    "import numpy as np\n",
    "import matplotlib\n",
    "from matplotlib import pyplot as plt\n",
    "sys.path.append(\"..\") # Adds higher directory to python modules path for importing from src dir\n",
    "\n",
    "from src.algorithms import SimpleLSTM, MLPClassifier, SVC\n",
    "from src.datasets import NyseStocksDataset\n",
    "from src.evaluation import Evaluator\n",
    "from src.preparation import prepare_data\n",
    "from src.utils import print_metrics_as_md, pandas_df_to_markdown_table\n",
    "from src.pipeline import run_pipeline, build_pipeline\n",
    "# from src.experiments import get_metrics\n",
    "\n",
    "%matplotlib inline\n",
    "%load_ext autotime\n",
    "%load_ext autoreload\n",
    "%autoreload 2"
   ]
  },
  {
   "cell_type": "markdown",
   "metadata": {},
   "source": [
    "#### Existing companies"
   ]
  },
  {
   "cell_type": "code",
   "execution_count": 45,
   "metadata": {
    "scrolled": true
   },
   "outputs": [
    {
     "name": "stdout",
     "output_type": "stream",
     "text": [
      "A  AAL  AAP  AAPL  ABBV  ABC  ABT  ACN  ADBE  ADI  ADM  ADP  ADS  ADSK  AEE  AEP  AES  AET  AFL  \n",
      "AGN  AIG  AIV  AIZ  AJG  AKAM  ALB  ALK  ALL  ALLE  ALXN  AMAT  AME  AMG  AMGN  AMP  AMT  AMZN  AN  ANTM  \n",
      "AON  APA  APC  APD  APH  ARNC  ATVI  AVB  AVGO  AVY  AWK  AXP  AYI  AZO  BA  BAC  BAX  BBBY  BBT  BBY  \n",
      "BCR  BDX  BEN  BHI  BIIB  BK  BLK  BLL  BMY  BSX  BWA  BXP  C  CA  CAG  CAH  CAT  CB  CBG  CBS  \n",
      "CCI  CCL  CELG  CERN  CF  CFG  CHD  CHK  CHRW  CHTR  CI  CINF  CL  CLX  CMA  CMCSA  CME  CMG  CMI  CMS  \n",
      "CNC  CNP  COF  COG  COH  COL  COO  COP  COST  COTY  CPB  CRM  CSCO  CSRA  CSX  CTAS  CTL  CTSH  CTXS  CVS  \n",
      "CVX  CXO  D  DAL  DD  DE  DFS  DG  DGX  DHI  DHR  DIS  DISCA  DISCK  DLPH  DLR  DLTR  DNB  DOV  DOW  \n",
      "DPS  DRI  DTE  DUK  DVA  DVN  EA  EBAY  ECL  ED  EFX  EIX  EL  EMN  EMR  ENDP  EOG  EQIX  EQR  EQT  \n",
      "ES  ESRX  ESS  ETFC  ETN  ETR  EVHC  EW  EXC  EXPD  EXPE  EXR  F  FAST  FB  FBHS  FCX  FDX  FE  FFIV  \n",
      "FIS  FISV  FITB  FL  FLIR  FLR  FLS  FMC  FOX  FOXA  FRT  FSLR  FTI  FTR  FTV  GD  GE  GGP  GILD  GIS  \n",
      "GLW  GM  GOOG  GOOGL  GPC  GPN  GPS  GRMN  GS  GT  GWW  HAL  HAR  HAS  HBAN  HBI  HCA  HCN  HCP  HD  \n",
      "HES  HIG  HOG  HOLX  HON  HP  HPE  HPQ  HRB  HRL  HRS  HSIC  HST  HSY  HUM  IBM  ICE  IDXX  IFF  ILMN  \n",
      "INTC  INTU  IP  IPG  IR  IRM  ISRG  ITW  IVZ  JBHT  JCI  JEC  JNJ  JNPR  JPM  JWN  K  KEY  KHC  KIM  \n",
      "KLAC  KMB  KMI  KMX  KO  KORS  KR  KSS  KSU  L  LB  LEG  LEN  LH  LKQ  LLL  LLTC  LLY  LMT  LNC  \n",
      "LNT  LOW  LRCX  LUK  LUV  LVLT  LYB  M  MA  MAA  MAC  MAR  MAS  MAT  MCD  MCHP  MCK  MCO  MDLZ  MDT  \n",
      "MET  MHK  MJN  MKC  MLM  MMC  MMM  MNK  MNST  MO  MON  MOS  MPC  MRK  MRO  MSFT  MSI  MTB  MTD  MU  \n",
      "MUR  MYL  NAVI  NBL  NDAQ  NEE  NEM  NFLX  NFX  NI  NKE  NLSN  NOC  NOV  NRG  NSC  NTAP  NTRS  NUE  NVDA  \n",
      "NWL  NWS  NWSA  O  OKE  OMC  ORCL  ORLY  OXY  PAYX  PBCT  PBI  PCAR  PCG  PCLN  PDCO  PEG  PEP  PFE  PFG  \n",
      "PG  PGR  PH  PHM  PKI  PLD  PM  PNC  PNR  PNW  PPG  PPL  PRGO  PRU  PSA  PSX  PVH  PWR  PX  PXD  \n",
      "PYPL  QCOM  QRVO  R  RAI  RCL  REGN  RF  RHI  RHT  RIG  RL  ROK  ROP  ROST  RRC  RSG  RTN  SBUX  SCG  \n",
      "SCHW  SE  SEE  SHW  SIG  SJM  SLB  SLG  SNA  SNI  SO  SPG  SPGI  SPLS  SRCL  SRE  STI  STT  STX  STZ  \n",
      "SWK  SWKS  SWN  SYF  SYK  SYMC  SYY  T  TAP  TDC  TDG  TEL  TGNA  TGT  TIF  TJX  TMK  TMO  TRIP  TROW  \n",
      "TRV  TSCO  TSN  TSO  TSS  TWX  TXN  TXT  UAA  UAL  UDR  UHS  ULTA  UNH  UNM  UNP  UPS  URBN  URI  USB  \n",
      "UTX  V  VAR  VFC  VIAB  VLO  VMC  VNO  VRSK  VRSN  VRTX  VTR  VZ  WAT  WBA  WDC  WEC  WFC  WFM  WHR  \n",
      "WLTW  WM  WMB  WMT  WRK  WU  WY  WYN  WYNN  XEC  XEL  XL  XLNX  XOM  XRAY  XRX  XYL  YHOO  YUM  ZBH  \n",
      "ZION  ZTS\n",
      "time: 188 ms\n"
     ]
    }
   ],
   "source": [
    "companies = pd.Series(['A', 'AAL', 'AAP', 'AAPL', 'ABBV', 'ABC', 'ABT', 'ACN', 'ADBE', 'ADI', 'ADM', 'ADP', 'ADS', 'ADSK', 'AEE', 'AEP', 'AES', 'AET', 'AFL', 'AGN', 'AIG', 'AIV', 'AIZ', 'AJG', 'AKAM', 'ALB', 'ALK', 'ALL', 'ALLE', 'ALXN', 'AMAT', 'AME', 'AMG', 'AMGN', 'AMP', 'AMT', 'AMZN', 'AN', 'ANTM', 'AON', 'APA', 'APC', 'APD', 'APH', 'ARNC', 'ATVI', 'AVB', 'AVGO', 'AVY', 'AWK', 'AXP', 'AYI', 'AZO', 'BA', 'BAC', 'BAX', 'BBBY', 'BBT', 'BBY', 'BCR', 'BDX', 'BEN', 'BHI', 'BIIB', 'BK', 'BLK', 'BLL', 'BMY', 'BSX', 'BWA', 'BXP', 'C', 'CA', 'CAG', 'CAH', 'CAT', 'CB', 'CBG', 'CBS', 'CCI', 'CCL', 'CELG', 'CERN', 'CF', 'CFG', 'CHD', 'CHK', 'CHRW', 'CHTR', 'CI', 'CINF', 'CL', 'CLX', 'CMA', 'CMCSA', 'CME', 'CMG', 'CMI', 'CMS', 'CNC', 'CNP', 'COF', 'COG', 'COH', 'COL', 'COO', 'COP', 'COST', 'COTY', 'CPB', 'CRM', 'CSCO', 'CSRA', 'CSX', 'CTAS', 'CTL', 'CTSH', 'CTXS', 'CVS', 'CVX', 'CXO', 'D', 'DAL', 'DD', 'DE', 'DFS', 'DG', 'DGX', 'DHI', 'DHR', 'DIS', 'DISCA', 'DISCK', 'DLPH', 'DLR', 'DLTR', 'DNB', 'DOV', 'DOW', 'DPS', 'DRI', 'DTE', 'DUK', 'DVA', 'DVN', 'EA', 'EBAY', 'ECL', 'ED', 'EFX', 'EIX', 'EL', 'EMN', 'EMR', 'ENDP', 'EOG', 'EQIX', 'EQR', 'EQT', 'ES', 'ESRX', 'ESS', 'ETFC', 'ETN', 'ETR', 'EVHC', 'EW', 'EXC', 'EXPD', 'EXPE', 'EXR', 'F', 'FAST', 'FB', 'FBHS', 'FCX', 'FDX', 'FE', 'FFIV', 'FIS', 'FISV', 'FITB', 'FL', 'FLIR', 'FLR', 'FLS', 'FMC', 'FOX', 'FOXA', 'FRT', 'FSLR', 'FTI', 'FTR', 'FTV', 'GD', 'GE', 'GGP', 'GILD', 'GIS', 'GLW', 'GM', 'GOOG', 'GOOGL', 'GPC', 'GPN', 'GPS', 'GRMN', 'GS', 'GT', 'GWW', 'HAL', 'HAR', 'HAS', 'HBAN', 'HBI', 'HCA', 'HCN', 'HCP', 'HD', 'HES', 'HIG', 'HOG', 'HOLX', 'HON', 'HP', 'HPE', 'HPQ', 'HRB', 'HRL', 'HRS', 'HSIC', 'HST', 'HSY', 'HUM', 'IBM', 'ICE', 'IDXX', 'IFF', 'ILMN', 'INTC', 'INTU', 'IP', 'IPG', 'IR', 'IRM', 'ISRG', 'ITW', 'IVZ', 'JBHT', 'JCI', 'JEC', 'JNJ', 'JNPR', 'JPM', 'JWN', 'K', 'KEY', 'KHC', 'KIM', 'KLAC', 'KMB', 'KMI', 'KMX', 'KO', 'KORS', 'KR', 'KSS', 'KSU', 'L', 'LB', 'LEG', 'LEN', 'LH', 'LKQ', 'LLL', 'LLTC', 'LLY', 'LMT', 'LNC', 'LNT', 'LOW', 'LRCX', 'LUK', 'LUV', 'LVLT', 'LYB', 'M', 'MA', 'MAA', 'MAC', 'MAR', 'MAS', 'MAT', 'MCD', 'MCHP', 'MCK', 'MCO', 'MDLZ', 'MDT', 'MET', 'MHK', 'MJN', 'MKC', 'MLM', 'MMC', 'MMM', 'MNK', 'MNST', 'MO', 'MON', 'MOS', 'MPC', 'MRK', 'MRO', 'MSFT', 'MSI', 'MTB', 'MTD', 'MU', 'MUR', 'MYL', 'NAVI', 'NBL', 'NDAQ', 'NEE', 'NEM', 'NFLX', 'NFX', 'NI', 'NKE', 'NLSN', 'NOC', 'NOV', 'NRG', 'NSC', 'NTAP', 'NTRS', 'NUE', 'NVDA', 'NWL', 'NWS', 'NWSA', 'O', 'OKE', 'OMC', 'ORCL', 'ORLY', 'OXY', 'PAYX', 'PBCT', 'PBI', 'PCAR', 'PCG', 'PCLN', 'PDCO', 'PEG', 'PEP', 'PFE', 'PFG', 'PG', 'PGR', 'PH', 'PHM', 'PKI', 'PLD', 'PM', 'PNC', 'PNR', 'PNW', 'PPG', 'PPL', 'PRGO', 'PRU', 'PSA', 'PSX', 'PVH', 'PWR', 'PX', 'PXD', 'PYPL', 'QCOM', 'QRVO', 'R', 'RAI', 'RCL', 'REGN', 'RF', 'RHI', 'RHT', 'RIG', 'RL', 'ROK', 'ROP', 'ROST', 'RRC', 'RSG', 'RTN', 'SBUX', 'SCG', 'SCHW', 'SE', 'SEE', 'SHW', 'SIG', 'SJM', 'SLB', 'SLG', 'SNA', 'SNI', 'SO', 'SPG', 'SPGI', 'SPLS', 'SRCL', 'SRE', 'STI', 'STT', 'STX', 'STZ', 'SWK', 'SWKS', 'SWN', 'SYF', 'SYK', 'SYMC', 'SYY', 'T', 'TAP', 'TDC', 'TDG', 'TEL', 'TGNA', 'TGT', 'TIF', 'TJX', 'TMK', 'TMO', 'TRIP', 'TROW', 'TRV', 'TSCO', 'TSN', 'TSO', 'TSS', 'TWX', 'TXN', 'TXT', 'UAA', 'UAL', 'UDR', 'UHS', 'ULTA', 'UNH', 'UNM', 'UNP', 'UPS', 'URBN', 'URI', 'USB', 'UTX', 'V', 'VAR', 'VFC', 'VIAB', 'VLO', 'VMC', 'VNO', 'VRSK', 'VRSN', 'VRTX', 'VTR', 'VZ', 'WAT', 'WBA', 'WDC', 'WEC', 'WFC', 'WFM', 'WHR', 'WLTW', 'WM', 'WMB', 'WMT', 'WRK', 'WU', 'WY', 'WYN', 'WYNN', 'XEC', 'XEL', 'XL', 'XLNX', 'XOM', 'XRAY', 'XRX', 'XYL', 'YHOO', 'YUM', 'ZBH', 'ZION', 'ZTS'])\n",
    "companies[19::20] = ['\\n'+x for x in companies[19::20]]\n",
    "print('  '.join(companies))"
   ]
  },
  {
   "cell_type": "code",
   "execution_count": 48,
   "metadata": {},
   "outputs": [
    {
     "data": {
      "application/vnd.jupyter.widget-view+json": {
       "model_id": "c029d9bad6bd42818b5b241b7d34aace",
       "version_major": 2,
       "version_minor": 0
      },
      "text/plain": [
       "HBox(children=(IntProgress(value=0, max=501), HTML(value='')))"
      ]
     },
     "metadata": {},
     "output_type": "display_data"
    },
    {
     "name": "stdout",
     "output_type": "stream",
     "text": [
      "\n",
      "time: 2.75 s\n"
     ]
    }
   ],
   "source": [
    "ds = NyseStocksDataset('OC-3C', file_path='../data/nyse/prices.csv', companies=['GOOGL', 'GOOG', 'AMZN', 'APC'])\n",
    "ds.load();"
   ]
  },
  {
   "cell_type": "code",
   "execution_count": 73,
   "metadata": {},
   "outputs": [
    {
     "name": "stdout",
     "output_type": "stream",
     "text": [
      "time: 245 ms\n"
     ]
    }
   ],
   "source": [
    "X_train, y_train, X_test, y_test = ds.data()\n",
    "pdata = prepare_data(ds, train_size = 45000, test_size = 4500, downsample=True)"
   ]
  },
  {
   "cell_type": "code",
   "execution_count": 74,
   "metadata": {},
   "outputs": [
    {
     "name": "stdout",
     "output_type": "stream",
     "text": [
      "(6012, 16) (6012,) (1008, 16) (1008,)\n",
      "2010-01-13 00:00:00 to 2015-12-31 00:00:00\n"
     ]
    },
    {
     "data": {
      "text/html": [
       "<div>\n",
       "<style scoped>\n",
       "    .dataframe tbody tr th:only-of-type {\n",
       "        vertical-align: middle;\n",
       "    }\n",
       "\n",
       "    .dataframe tbody tr th {\n",
       "        vertical-align: top;\n",
       "    }\n",
       "\n",
       "    .dataframe thead tr th {\n",
       "        text-align: left;\n",
       "    }\n",
       "</style>\n",
       "<table border=\"1\" class=\"dataframe\">\n",
       "  <thead>\n",
       "    <tr>\n",
       "      <th>day</th>\n",
       "      <th>date</th>\n",
       "      <th>symbol</th>\n",
       "      <th colspan=\"2\" halign=\"left\">day_1</th>\n",
       "      <th colspan=\"2\" halign=\"left\">day_2</th>\n",
       "      <th colspan=\"2\" halign=\"left\">day_3</th>\n",
       "      <th colspan=\"2\" halign=\"left\">day_4</th>\n",
       "      <th colspan=\"2\" halign=\"left\">day_5</th>\n",
       "      <th colspan=\"2\" halign=\"left\">day_6</th>\n",
       "      <th colspan=\"2\" halign=\"left\">day_7</th>\n",
       "    </tr>\n",
       "    <tr>\n",
       "      <th>feature</th>\n",
       "      <th></th>\n",
       "      <th></th>\n",
       "      <th>O</th>\n",
       "      <th>C</th>\n",
       "      <th>O</th>\n",
       "      <th>C</th>\n",
       "      <th>O</th>\n",
       "      <th>C</th>\n",
       "      <th>O</th>\n",
       "      <th>C</th>\n",
       "      <th>O</th>\n",
       "      <th>C</th>\n",
       "      <th>O</th>\n",
       "      <th>C</th>\n",
       "      <th>O</th>\n",
       "      <th>C</th>\n",
       "    </tr>\n",
       "  </thead>\n",
       "  <tbody>\n",
       "    <tr>\n",
       "      <th>3559</th>\n",
       "      <td>2010-01-13</td>\n",
       "      <td>AMZN</td>\n",
       "      <td>128.990005</td>\n",
       "      <td>127.349998</td>\n",
       "      <td>132.619995</td>\n",
       "      <td>130.309998</td>\n",
       "      <td>130.559998</td>\n",
       "      <td>133.520004</td>\n",
       "      <td>132.009995</td>\n",
       "      <td>130.000000</td>\n",
       "      <td>134.600006</td>\n",
       "      <td>132.250000</td>\n",
       "      <td>133.429993</td>\n",
       "      <td>134.690002</td>\n",
       "      <td>136.250000</td>\n",
       "      <td>133.899994</td>\n",
       "    </tr>\n",
       "    <tr>\n",
       "      <th>3564</th>\n",
       "      <td>2010-01-13</td>\n",
       "      <td>APC</td>\n",
       "      <td>65.650002</td>\n",
       "      <td>64.139999</td>\n",
       "      <td>67.580002</td>\n",
       "      <td>66.309998</td>\n",
       "      <td>66.709999</td>\n",
       "      <td>67.059998</td>\n",
       "      <td>66.860001</td>\n",
       "      <td>67.029999</td>\n",
       "      <td>66.839996</td>\n",
       "      <td>67.139999</td>\n",
       "      <td>65.160004</td>\n",
       "      <td>66.559998</td>\n",
       "      <td>63.599998</td>\n",
       "      <td>64.739998</td>\n",
       "    </tr>\n",
       "    <tr>\n",
       "      <th>3715</th>\n",
       "      <td>2010-01-13</td>\n",
       "      <td>GOOG</td>\n",
       "      <td>597.651011</td>\n",
       "      <td>590.481036</td>\n",
       "      <td>604.461060</td>\n",
       "      <td>601.111020</td>\n",
       "      <td>592.000997</td>\n",
       "      <td>602.021036</td>\n",
       "      <td>609.401025</td>\n",
       "      <td>594.101005</td>\n",
       "      <td>625.861078</td>\n",
       "      <td>608.261023</td>\n",
       "      <td>627.181073</td>\n",
       "      <td>623.991055</td>\n",
       "      <td>626.951088</td>\n",
       "      <td>626.751061</td>\n",
       "    </tr>\n",
       "    <tr>\n",
       "      <th>3716</th>\n",
       "      <td>2010-01-13</td>\n",
       "      <td>GOOGL</td>\n",
       "      <td>597.649989</td>\n",
       "      <td>590.479981</td>\n",
       "      <td>604.460006</td>\n",
       "      <td>601.110027</td>\n",
       "      <td>592.000005</td>\n",
       "      <td>602.020005</td>\n",
       "      <td>609.400008</td>\n",
       "      <td>594.100015</td>\n",
       "      <td>625.860033</td>\n",
       "      <td>608.260035</td>\n",
       "      <td>627.180001</td>\n",
       "      <td>623.990017</td>\n",
       "      <td>626.950006</td>\n",
       "      <td>626.750011</td>\n",
       "    </tr>\n",
       "    <tr>\n",
       "      <th>4027</th>\n",
       "      <td>2010-01-14</td>\n",
       "      <td>AMZN</td>\n",
       "      <td>127.900002</td>\n",
       "      <td>129.110001</td>\n",
       "      <td>128.990005</td>\n",
       "      <td>127.349998</td>\n",
       "      <td>132.619995</td>\n",
       "      <td>130.309998</td>\n",
       "      <td>130.559998</td>\n",
       "      <td>133.520004</td>\n",
       "      <td>132.009995</td>\n",
       "      <td>130.000000</td>\n",
       "      <td>134.600006</td>\n",
       "      <td>132.250000</td>\n",
       "      <td>133.429993</td>\n",
       "      <td>134.690002</td>\n",
       "    </tr>\n",
       "  </tbody>\n",
       "</table>\n",
       "</div>"
      ],
      "text/plain": [
       "day           date symbol       day_1                   day_2              \\\n",
       "feature                             O           C           O           C   \n",
       "3559    2010-01-13   AMZN  128.990005  127.349998  132.619995  130.309998   \n",
       "3564    2010-01-13    APC   65.650002   64.139999   67.580002   66.309998   \n",
       "3715    2010-01-13   GOOG  597.651011  590.481036  604.461060  601.111020   \n",
       "3716    2010-01-13  GOOGL  597.649989  590.479981  604.460006  601.110027   \n",
       "4027    2010-01-14   AMZN  127.900002  129.110001  128.990005  127.349998   \n",
       "\n",
       "day           day_3                   day_4                   day_5  \\\n",
       "feature           O           C           O           C           O   \n",
       "3559     130.559998  133.520004  132.009995  130.000000  134.600006   \n",
       "3564      66.709999   67.059998   66.860001   67.029999   66.839996   \n",
       "3715     592.000997  602.021036  609.401025  594.101005  625.861078   \n",
       "3716     592.000005  602.020005  609.400008  594.100015  625.860033   \n",
       "4027     132.619995  130.309998  130.559998  133.520004  132.009995   \n",
       "\n",
       "day                       day_6                   day_7              \n",
       "feature           C           O           C           O           C  \n",
       "3559     132.250000  133.429993  134.690002  136.250000  133.899994  \n",
       "3564      67.139999   65.160004   66.559998   63.599998   64.739998  \n",
       "3715     608.261023  627.181073  623.991055  626.951088  626.751061  \n",
       "3716     608.260035  627.180001  623.990017  626.950006  626.750011  \n",
       "4027     130.000000  134.600006  132.250000  133.429993  134.690002  "
      ]
     },
     "execution_count": 74,
     "metadata": {},
     "output_type": "execute_result"
    },
    {
     "name": "stdout",
     "output_type": "stream",
     "text": [
      "time: 262 ms\n"
     ]
    }
   ],
   "source": [
    "print(X_train.shape, y_train.shape, X_test.shape, y_test.shape)\n",
    "print(X_train.date.min(), 'to', X_train.date.max())\n",
    "X_train.head()"
   ]
  },
  {
   "cell_type": "code",
   "execution_count": 75,
   "metadata": {},
   "outputs": [
    {
     "name": "stdout",
     "output_type": "stream",
     "text": [
      "(2020, 14) (2020,) (336, 14) (336,)\n"
     ]
    },
    {
     "data": {
      "text/html": [
       "<div>\n",
       "<style scoped>\n",
       "    .dataframe tbody tr th:only-of-type {\n",
       "        vertical-align: middle;\n",
       "    }\n",
       "\n",
       "    .dataframe tbody tr th {\n",
       "        vertical-align: top;\n",
       "    }\n",
       "\n",
       "    .dataframe thead tr th {\n",
       "        text-align: left;\n",
       "    }\n",
       "</style>\n",
       "<table border=\"1\" class=\"dataframe\">\n",
       "  <thead>\n",
       "    <tr>\n",
       "      <th>day</th>\n",
       "      <th colspan=\"2\" halign=\"left\">day_1</th>\n",
       "      <th colspan=\"2\" halign=\"left\">day_2</th>\n",
       "      <th colspan=\"2\" halign=\"left\">day_3</th>\n",
       "      <th colspan=\"2\" halign=\"left\">day_4</th>\n",
       "      <th colspan=\"2\" halign=\"left\">day_5</th>\n",
       "      <th colspan=\"2\" halign=\"left\">day_6</th>\n",
       "      <th colspan=\"2\" halign=\"left\">day_7</th>\n",
       "    </tr>\n",
       "    <tr>\n",
       "      <th>feature</th>\n",
       "      <th>O</th>\n",
       "      <th>C</th>\n",
       "      <th>O</th>\n",
       "      <th>C</th>\n",
       "      <th>O</th>\n",
       "      <th>C</th>\n",
       "      <th>O</th>\n",
       "      <th>C</th>\n",
       "      <th>O</th>\n",
       "      <th>C</th>\n",
       "      <th>O</th>\n",
       "      <th>C</th>\n",
       "      <th>O</th>\n",
       "      <th>C</th>\n",
       "    </tr>\n",
       "  </thead>\n",
       "  <tbody>\n",
       "    <tr>\n",
       "      <th>3559</th>\n",
       "      <td>128.990005</td>\n",
       "      <td>127.349998</td>\n",
       "      <td>132.619995</td>\n",
       "      <td>130.309998</td>\n",
       "      <td>130.559998</td>\n",
       "      <td>133.520004</td>\n",
       "      <td>132.009995</td>\n",
       "      <td>130.000000</td>\n",
       "      <td>134.600006</td>\n",
       "      <td>132.250000</td>\n",
       "      <td>133.429993</td>\n",
       "      <td>134.690002</td>\n",
       "      <td>136.250000</td>\n",
       "      <td>133.899994</td>\n",
       "    </tr>\n",
       "    <tr>\n",
       "      <th>3564</th>\n",
       "      <td>65.650002</td>\n",
       "      <td>64.139999</td>\n",
       "      <td>67.580002</td>\n",
       "      <td>66.309998</td>\n",
       "      <td>66.709999</td>\n",
       "      <td>67.059998</td>\n",
       "      <td>66.860001</td>\n",
       "      <td>67.029999</td>\n",
       "      <td>66.839996</td>\n",
       "      <td>67.139999</td>\n",
       "      <td>65.160004</td>\n",
       "      <td>66.559998</td>\n",
       "      <td>63.599998</td>\n",
       "      <td>64.739998</td>\n",
       "    </tr>\n",
       "    <tr>\n",
       "      <th>3715</th>\n",
       "      <td>597.651011</td>\n",
       "      <td>590.481036</td>\n",
       "      <td>604.461060</td>\n",
       "      <td>601.111020</td>\n",
       "      <td>592.000997</td>\n",
       "      <td>602.021036</td>\n",
       "      <td>609.401025</td>\n",
       "      <td>594.101005</td>\n",
       "      <td>625.861078</td>\n",
       "      <td>608.261023</td>\n",
       "      <td>627.181073</td>\n",
       "      <td>623.991055</td>\n",
       "      <td>626.951088</td>\n",
       "      <td>626.751061</td>\n",
       "    </tr>\n",
       "    <tr>\n",
       "      <th>3716</th>\n",
       "      <td>597.649989</td>\n",
       "      <td>590.479981</td>\n",
       "      <td>604.460006</td>\n",
       "      <td>601.110027</td>\n",
       "      <td>592.000005</td>\n",
       "      <td>602.020005</td>\n",
       "      <td>609.400008</td>\n",
       "      <td>594.100015</td>\n",
       "      <td>625.860033</td>\n",
       "      <td>608.260035</td>\n",
       "      <td>627.180001</td>\n",
       "      <td>623.990017</td>\n",
       "      <td>626.950006</td>\n",
       "      <td>626.750011</td>\n",
       "    </tr>\n",
       "    <tr>\n",
       "      <th>4027</th>\n",
       "      <td>127.900002</td>\n",
       "      <td>129.110001</td>\n",
       "      <td>128.990005</td>\n",
       "      <td>127.349998</td>\n",
       "      <td>132.619995</td>\n",
       "      <td>130.309998</td>\n",
       "      <td>130.559998</td>\n",
       "      <td>133.520004</td>\n",
       "      <td>132.009995</td>\n",
       "      <td>130.000000</td>\n",
       "      <td>134.600006</td>\n",
       "      <td>132.250000</td>\n",
       "      <td>133.429993</td>\n",
       "      <td>134.690002</td>\n",
       "    </tr>\n",
       "  </tbody>\n",
       "</table>\n",
       "</div>"
      ],
      "text/plain": [
       "day           day_1                   day_2                   day_3  \\\n",
       "feature           O           C           O           C           O   \n",
       "3559     128.990005  127.349998  132.619995  130.309998  130.559998   \n",
       "3564      65.650002   64.139999   67.580002   66.309998   66.709999   \n",
       "3715     597.651011  590.481036  604.461060  601.111020  592.000997   \n",
       "3716     597.649989  590.479981  604.460006  601.110027  592.000005   \n",
       "4027     127.900002  129.110001  128.990005  127.349998  132.619995   \n",
       "\n",
       "day                       day_4                   day_5              \\\n",
       "feature           C           O           C           O           C   \n",
       "3559     133.520004  132.009995  130.000000  134.600006  132.250000   \n",
       "3564      67.059998   66.860001   67.029999   66.839996   67.139999   \n",
       "3715     602.021036  609.401025  594.101005  625.861078  608.261023   \n",
       "3716     602.020005  609.400008  594.100015  625.860033  608.260035   \n",
       "4027     130.309998  130.559998  133.520004  132.009995  130.000000   \n",
       "\n",
       "day           day_6                   day_7              \n",
       "feature           O           C           O           C  \n",
       "3559     133.429993  134.690002  136.250000  133.899994  \n",
       "3564      65.160004   66.559998   63.599998   64.739998  \n",
       "3715     627.181073  623.991055  626.951088  626.751061  \n",
       "3716     627.180001  623.990017  626.950006  626.750011  \n",
       "4027     134.600006  132.250000  133.429993  134.690002  "
      ]
     },
     "execution_count": 75,
     "metadata": {},
     "output_type": "execute_result"
    },
    {
     "name": "stdout",
     "output_type": "stream",
     "text": [
      "time: 251 ms\n"
     ]
    }
   ],
   "source": [
    "print(*[x.shape for x in pdata])\n",
    "pdata[0].head()"
   ]
  },
  {
   "cell_type": "code",
   "execution_count": 87,
   "metadata": {
    "scrolled": true
   },
   "outputs": [
    {
     "data": {
      "text/html": [
       "<div>\n",
       "<style scoped>\n",
       "    .dataframe tbody tr th:only-of-type {\n",
       "        vertical-align: middle;\n",
       "    }\n",
       "\n",
       "    .dataframe tbody tr th {\n",
       "        vertical-align: top;\n",
       "    }\n",
       "\n",
       "    .dataframe thead th {\n",
       "        text-align: right;\n",
       "    }\n",
       "</style>\n",
       "<table border=\"1\" class=\"dataframe\">\n",
       "  <thead>\n",
       "    <tr style=\"text-align: right;\">\n",
       "      <th></th>\n",
       "      <th>0</th>\n",
       "      <th>1</th>\n",
       "      <th>2</th>\n",
       "      <th>3</th>\n",
       "      <th>4</th>\n",
       "      <th>5</th>\n",
       "      <th>6</th>\n",
       "      <th>7</th>\n",
       "      <th>8</th>\n",
       "      <th>9</th>\n",
       "      <th>10</th>\n",
       "      <th>11</th>\n",
       "      <th>12</th>\n",
       "      <th>13</th>\n",
       "    </tr>\n",
       "  </thead>\n",
       "  <tbody>\n",
       "    <tr>\n",
       "      <th>0</th>\n",
       "      <td>-0.899992</td>\n",
       "      <td>-0.905677</td>\n",
       "      <td>-0.892749</td>\n",
       "      <td>-0.893092</td>\n",
       "      <td>-0.901034</td>\n",
       "      <td>-0.890047</td>\n",
       "      <td>-0.894937</td>\n",
       "      <td>-0.900592</td>\n",
       "      <td>-0.889163</td>\n",
       "      <td>-0.892686</td>\n",
       "      <td>-0.891912</td>\n",
       "      <td>-0.885386</td>\n",
       "      <td>-0.882329</td>\n",
       "      <td>-0.885267</td>\n",
       "    </tr>\n",
       "    <tr>\n",
       "      <th>1</th>\n",
       "      <td>-1.042237</td>\n",
       "      <td>-1.048083</td>\n",
       "      <td>-1.039324</td>\n",
       "      <td>-1.036654</td>\n",
       "      <td>-1.045155</td>\n",
       "      <td>-1.039485</td>\n",
       "      <td>-1.041894</td>\n",
       "      <td>-1.042400</td>\n",
       "      <td>-1.042162</td>\n",
       "      <td>-1.039353</td>\n",
       "      <td>-1.046152</td>\n",
       "      <td>-1.039055</td>\n",
       "      <td>-1.045794</td>\n",
       "      <td>-1.041076</td>\n",
       "    </tr>\n",
       "    <tr>\n",
       "      <th>2</th>\n",
       "      <td>0.152498</td>\n",
       "      <td>0.137710</td>\n",
       "      <td>0.170600</td>\n",
       "      <td>0.162989</td>\n",
       "      <td>0.140522</td>\n",
       "      <td>0.163391</td>\n",
       "      <td>0.181898</td>\n",
       "      <td>0.144556</td>\n",
       "      <td>0.220085</td>\n",
       "      <td>0.179579</td>\n",
       "      <td>0.223600</td>\n",
       "      <td>0.218246</td>\n",
       "      <td>0.221765</td>\n",
       "      <td>0.225063</td>\n",
       "    </tr>\n",
       "    <tr>\n",
       "      <th>3</th>\n",
       "      <td>0.152496</td>\n",
       "      <td>0.137707</td>\n",
       "      <td>0.170598</td>\n",
       "      <td>0.162987</td>\n",
       "      <td>0.140520</td>\n",
       "      <td>0.163388</td>\n",
       "      <td>0.181896</td>\n",
       "      <td>0.144554</td>\n",
       "      <td>0.220082</td>\n",
       "      <td>0.179577</td>\n",
       "      <td>0.223598</td>\n",
       "      <td>0.218244</td>\n",
       "      <td>0.221762</td>\n",
       "      <td>0.225061</td>\n",
       "    </tr>\n",
       "    <tr>\n",
       "      <th>4</th>\n",
       "      <td>-0.902440</td>\n",
       "      <td>-0.901712</td>\n",
       "      <td>-0.900930</td>\n",
       "      <td>-0.899731</td>\n",
       "      <td>-0.896384</td>\n",
       "      <td>-0.897265</td>\n",
       "      <td>-0.898208</td>\n",
       "      <td>-0.892665</td>\n",
       "      <td>-0.895011</td>\n",
       "      <td>-0.897755</td>\n",
       "      <td>-0.889268</td>\n",
       "      <td>-0.890889</td>\n",
       "      <td>-0.888674</td>\n",
       "      <td>-0.883487</td>\n",
       "    </tr>\n",
       "  </tbody>\n",
       "</table>\n",
       "</div>"
      ],
      "text/plain": [
       "         0         1         2         3         4         5         6   \\\n",
       "0 -0.899992 -0.905677 -0.892749 -0.893092 -0.901034 -0.890047 -0.894937   \n",
       "1 -1.042237 -1.048083 -1.039324 -1.036654 -1.045155 -1.039485 -1.041894   \n",
       "2  0.152498  0.137710  0.170600  0.162989  0.140522  0.163391  0.181898   \n",
       "3  0.152496  0.137707  0.170598  0.162987  0.140520  0.163388  0.181896   \n",
       "4 -0.902440 -0.901712 -0.900930 -0.899731 -0.896384 -0.897265 -0.898208   \n",
       "\n",
       "         7         8         9         10        11        12        13  \n",
       "0 -0.900592 -0.889163 -0.892686 -0.891912 -0.885386 -0.882329 -0.885267  \n",
       "1 -1.042400 -1.042162 -1.039353 -1.046152 -1.039055 -1.045794 -1.041076  \n",
       "2  0.144556  0.220085  0.179579  0.223600  0.218246  0.221765  0.225063  \n",
       "3  0.144554  0.220082  0.179577  0.223598  0.218244  0.221762  0.225061  \n",
       "4 -0.892665 -0.895011 -0.897755 -0.889268 -0.890889 -0.888674 -0.883487  "
      ]
     },
     "execution_count": 87,
     "metadata": {},
     "output_type": "execute_result"
    },
    {
     "name": "stdout",
     "output_type": "stream",
     "text": [
      "time: 1.19 s\n"
     ]
    }
   ],
   "source": [
    "_predictor = MLPClassifier()\n",
    "pipeline = build_pipeline(_predictor, pdata)\n",
    "\n",
    "def pipeline_transform(X, fit=False):\n",
    "    X = pipeline.steps[0][1].transform(X)\n",
    "    if fit:\n",
    "        pipeline.steps[1][1].fit(X)\n",
    "    X = pipeline.steps[1][1].transform(X)\n",
    "    # https://scikit-learn.org/stable/auto_examples/preprocessing/plot_all_scaling.html#robustscaler\n",
    "    return pipeline.steps[2][1].transform(X)\n",
    "\n",
    "pX_train = pipeline_transform(pdata[0], fit=True)\n",
    "pX_test = pipeline_transform(pdata[2])\n",
    "pd.DataFrame(pX_train).head()"
   ]
  },
  {
   "cell_type": "code",
   "execution_count": 90,
   "metadata": {
    "scrolled": true
   },
   "outputs": [
    {
     "data": {
      "image/png": "[encoded data removed]",
      "text/plain": [
       "<matplotlib.figure.Figure at 0x1f332dd6978>"
      ]
     },
     "metadata": {
      "needs_background": "light"
     },
     "output_type": "display_data"
    },
    {
     "name": "stdout",
     "output_type": "stream",
     "text": [
      "time: 14.6 s\n"
     ]
    }
   ],
   "source": [
    "pd.DataFrame(pX_train).hist(figsize=(20, 20))\n",
    "# plt.gcf().savefig('plots/features-scaling.png')"
   ]
  },
  {
   "cell_type": "code",
   "execution_count": 91,
   "metadata": {
    "scrolled": true
   },
   "outputs": [
    {
     "data": {
      "text/plain": [
       "array([[<matplotlib.axes._subplots.AxesSubplot object at 0x000001F3354FC5C0>,\n",
       "        <matplotlib.axes._subplots.AxesSubplot object at 0x000001F33550C710>,\n",
       "        <matplotlib.axes._subplots.AxesSubplot object at 0x000001F334B46860>,\n",
       "        <matplotlib.axes._subplots.AxesSubplot object at 0x000001F334B7E8D0>],\n",
       "       [<matplotlib.axes._subplots.AxesSubplot object at 0x000001F334BBB7F0>,\n",
       "        <matplotlib.axes._subplots.AxesSubplot object at 0x000001F334BBB828>,\n",
       "        <matplotlib.axes._subplots.AxesSubplot object at 0x000001F334C254E0>,\n",
       "        <matplotlib.axes._subplots.AxesSubplot object at 0x000001F334C5E4E0>],\n",
       "       [<matplotlib.axes._subplots.AxesSubplot object at 0x000001F334C94550>,\n",
       "        <matplotlib.axes._subplots.AxesSubplot object at 0x000001F334CAD8D0>,\n",
       "        <matplotlib.axes._subplots.AxesSubplot object at 0x000001F334CF4E10>,\n",
       "        <matplotlib.axes._subplots.AxesSubplot object at 0x000001F334D3C320>],\n",
       "       [<matplotlib.axes._subplots.AxesSubplot object at 0x000001F334D74390>,\n",
       "        <matplotlib.axes._subplots.AxesSubplot object at 0x000001F334DAD2B0>,\n",
       "        <matplotlib.axes._subplots.AxesSubplot object at 0x000001F333BD1C88>,\n",
       "        <matplotlib.axes._subplots.AxesSubplot object at 0x000001F335472D68>]],\n",
       "      dtype=object)"
      ]
     },
     "execution_count": 91,
     "metadata": {},
     "output_type": "execute_result"
    },
    {
     "data": {
      "image/png": "[encoded data removed]",
      "text/plain": [
       "<matplotlib.figure.Figure at 0x1f3354fc9b0>"
      ]
     },
     "metadata": {
      "needs_background": "light"
     },
     "output_type": "display_data"
    },
    {
     "name": "stdout",
     "output_type": "stream",
     "text": [
      "time: 14.6 s\n"
     ]
    }
   ],
   "source": [
    "pd.DataFrame(pX_test).hist(figsize=(20, 20))\n",
    "plt.gcf().savefig('plots/features-scaling.png')"
   ]
  },
  {
   "cell_type": "code",
   "execution_count": 99,
   "metadata": {
    "scrolled": true
   },
   "outputs": [
    {
     "data": {
      "image/png": "[encoded data removed]",
      "text/plain": [
       "<matplotlib.figure.Figure at 0x1f33c7b2630>"
      ]
     },
     "metadata": {
      "needs_background": "light"
     },
     "output_type": "display_data"
    },
    {
     "name": "stdout",
     "output_type": "stream",
     "text": [
      "time: 4.08 s\n"
     ]
    }
   ],
   "source": [
    "ds2 = NyseStocksDataset('OC-3C', file_path='../data/nyse/prices.csv')\n",
    "ds2.load()\n",
    "\n",
    "pdata2 = prepare_data(ds2, 300000, 30000)\n",
    "pX_train2 = pipeline_transform(pdata2[0], fit=True)\n",
    "pX_test2 = pipeline_transform(pdata2[2])\n",
    "\n",
    "pd.DataFrame(pX_train2).iloc[:, 0].hist(figsize=(10, 10), bins=100)\n",
    "plt.gcf().savefig('day-7-open-after-robust-scaling.png')"
   ]
  }
 ],
 "metadata": {
  "kernelspec": {
   "display_name": "Python 3",
   "language": "python",
   "name": "python3"
  },
  "language_info": {
   "codemirror_mode": {
    "name": "ipython",
    "version": 3
   },
   "file_extension": ".py",
   "mimetype": "text/x-python",
   "name": "python",
   "nbconvert_exporter": "python",
   "pygments_lexer": "ipython3",
   "version": "3.6.0"
  }
 },
 "nbformat": 4,
 "nbformat_minor": 2
}
