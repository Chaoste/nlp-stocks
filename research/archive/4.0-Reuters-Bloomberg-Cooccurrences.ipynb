{
 "cells": [
  {
   "cell_type": "code",
   "execution_count": 1,
   "metadata": {},
   "outputs": [],
   "source": [
    "import os\n",
    "import re\n",
    "import glob\n",
    "from datetime import datetime\n",
    "\n",
    "import pandas as pd\n",
    "import numpy as np\n",
    "from matplotlib import pyplot as plt\n",
    "from tqdm import tqdm_notebook as tqdm\n",
    "\n",
    "%matplotlib inline\n",
    "%load_ext autoreload\n",
    "%autoreload 2"
   ]
  },
  {
   "cell_type": "code",
   "execution_count": 2,
   "metadata": {},
   "outputs": [],
   "source": [
    "%load_ext autotime"
   ]
  },
  {
   "cell_type": "code",
   "execution_count": 217,
   "metadata": {},
   "outputs": [
    {
     "name": "stdout",
     "output_type": "stream",
     "text": [
      "Define constants\n"
     ]
    }
   ],
   "source": [
    "print(\"Define constants\")\n",
    "HOME = \"..\"\n",
    "DATA_DIR = \"data\"\n",
    "REUTERS = os.path.join(HOME, DATA_DIR, \"bloomberg_reuters\", \"raw\", \"reuters\")\n",
    "BLOOMBERG = os.path.join(HOME, DATA_DIR, \"bloomberg_reuters\", \"raw\", \"bloomberg\")"
   ]
  },
  {
   "cell_type": "code",
   "execution_count": 222,
   "metadata": {
    "code_folding": []
   },
   "outputs": [
    {
     "name": "stdout",
     "output_type": "stream",
     "text": [
      "106519\n"
     ]
    }
   ],
   "source": [
    "files_re = []\n",
    "for folder in glob.iglob(os.path.join(REUTERS, '*'), recursive=True):\n",
    "    for filename in glob.iglob(os.path.join(folder, '*'), recursive=True):\n",
    "        assert os.path.isfile(filename), filename\n",
    "        files_re.append(filename)\n",
    "print(len(files_re))"
   ]
  },
  {
   "cell_type": "code",
   "execution_count": 218,
   "metadata": {},
   "outputs": [
    {
     "name": "stdout",
     "output_type": "stream",
     "text": [
      "448395\n"
     ]
    }
   ],
   "source": [
    "files_bb = []\n",
    "for folder in glob.iglob(os.path.join(BLOOMBERG, '*'), recursive=True):\n",
    "    for filename in glob.iglob(os.path.join(folder, '*'), recursive=True):\n",
    "        assert os.path.isfile(filename), filename\n",
    "        files_bb.append(filename)\n",
    "print(len(files_bb))"
   ]
  },
  {
   "cell_type": "code",
   "execution_count": 219,
   "metadata": {},
   "outputs": [
    {
     "name": "stdout",
     "output_type": "stream",
     "text": [
      "Define functions\n"
     ]
    }
   ],
   "source": [
    "print('Define functions')\n",
    "\n",
    "def split(path):\n",
    "    complete_dir, filename = os.path.split(path)\n",
    "    complete_dir, short_dir = os.path.split(complete_dir)\n",
    "    return complete_dir, short_dir, filename\n",
    "\n",
    "def read_content(path, datef='%Y-%m-%d'):\n",
    "    complete_dir, short_dir, filename = split(path)\n",
    "    with open(path, encoding='utf8') as file:\n",
    "        try:\n",
    "            content = file.read()\n",
    "        except Exception as e:\n",
    "            print('Failed reading', path)\n",
    "            raise e\n",
    "    publish_date = datetime.strptime(short_dir, datef)\n",
    "    return publish_date, filename, content"
   ]
  },
  {
   "cell_type": "code",
   "execution_count": 220,
   "metadata": {},
   "outputs": [
    {
     "name": "stdout",
     "output_type": "stream",
     "text": [
      "Reading all Bloomberg files\n"
     ]
    }
   ],
   "source": [
    "print('Reading all Bloomberg files')\n",
    "df_bloomberg = pd.DataFrame([read_content(x) for x in files_bb], columns=['date', 'filename', 'content'])"
   ]
  },
  {
   "cell_type": "code",
   "execution_count": 226,
   "metadata": {},
   "outputs": [],
   "source": [
    "df_bloomberg.to_csv('../data/preprocessed/news_bloomberg.csv')"
   ]
  },
  {
   "cell_type": "code",
   "execution_count": 223,
   "metadata": {
    "scrolled": true
   },
   "outputs": [
    {
     "name": "stdout",
     "output_type": "stream",
     "text": [
      "Reading all Reuters files\n"
     ]
    }
   ],
   "source": [
    "print('Reading all Reuters files')\n",
    "df_reuters = pd.DataFrame([read_content(x, '%Y%m%d') for x in files_re], columns=['date', 'filename', 'content'])"
   ]
  },
  {
   "cell_type": "code",
   "execution_count": 227,
   "metadata": {},
   "outputs": [],
   "source": [
    "df_reuters.to_csv('../data/preprocessed/news_reuters.csv')"
   ]
  },
  {
   "cell_type": "code",
   "execution_count": 247,
   "metadata": {},
   "outputs": [],
   "source": [
    "df_reuters['reuters'] = True\n",
    "df_bloomberg['reuters'] = False"
   ]
  },
  {
   "cell_type": "code",
   "execution_count": 248,
   "metadata": {},
   "outputs": [],
   "source": [
    "df_news = pd.concat([df_reuters, df_bloomberg])"
   ]
  },
  {
   "cell_type": "code",
   "execution_count": 249,
   "metadata": {},
   "outputs": [],
   "source": [
    "df_news.to_csv('../data/preprocessed/news.csv')"
   ]
  },
  {
   "cell_type": "code",
   "execution_count": 9,
   "metadata": {},
   "outputs": [
    {
     "name": "stdout",
     "output_type": "stream",
     "text": [
      "time: 1.06 s\n"
     ]
    }
   ],
   "source": [
    "import nyse"
   ]
  },
  {
   "cell_type": "code",
   "execution_count": 10,
   "metadata": {},
   "outputs": [
    {
     "name": "stdout",
     "output_type": "stream",
     "text": [
      "time: 5.07 s\n"
     ]
    }
   ],
   "source": [
    "nyse.load()\n",
    "\n",
    "def find_all(text, substring):\n",
    "    return [m.start() for m in re.finditer(substring, text)]\n",
    "\n",
    "def count_occurrences(df_articles, start=0, end=None):\n",
    "    end = end if end is not None else len(df_articles)\n",
    "    df_occurrences = pd.DataFrame(0, index=df_articles.index[start:end], columns=nyse.securities['Ticker symbol'])\n",
    "    for idx, row in tqdm(df_articles.iloc[start:end].iterrows(), total=end-start):\n",
    "        for symbol in df_occurrences.columns:\n",
    "            company = nyse.get_name(symbol)\n",
    "            occurrences = find_all(row['content'], company)\n",
    "            if len(occurrences):\n",
    "                df_occurrences[symbol][idx] = len(occurrences)\n",
    "    return df_occurrences"
   ]
  },
  {
   "cell_type": "markdown",
   "metadata": {},
   "source": [
    "### Occurrences Reuters"
   ]
  },
  {
   "cell_type": "code",
   "execution_count": 230,
   "metadata": {},
   "outputs": [
    {
     "data": {
      "application/vnd.jupyter.widget-view+json": {
       "model_id": "710a153f14604e4b869c6934a28473e4",
       "version_major": 2,
       "version_minor": 0
      },
      "text/plain": [
       "HBox(children=(IntProgress(value=0, max=100519), HTML(value='')))"
      ]
     },
     "metadata": {},
     "output_type": "display_data"
    },
    {
     "name": "stdout",
     "output_type": "stream",
     "text": [
      "time: 6h 51min\n"
     ]
    }
   ],
   "source": [
    "# df_occurrences_reuters = pd.DataFrame(0, index=df_reuters.index, columns=nyse.securities['Ticker symbol'])\n",
    "df_occurrences_reuters = count_occurrences(df_reuters)"
   ]
  },
  {
   "cell_type": "code",
   "execution_count": 238,
   "metadata": {},
   "outputs": [
    {
     "data": {
      "text/plain": [
       "112560"
      ]
     },
     "execution_count": 238,
     "metadata": {},
     "output_type": "execute_result"
    },
    {
     "name": "stdout",
     "output_type": "stream",
     "text": [
      "time: 622 ms\n"
     ]
    }
   ],
   "source": [
    "df_occurrences_reuters.sum().sum()"
   ]
  },
  {
   "cell_type": "code",
   "execution_count": 239,
   "metadata": {},
   "outputs": [
    {
     "name": "stdout",
     "output_type": "stream",
     "text": [
      "time: 58.3 s\n"
     ]
    }
   ],
   "source": [
    "df_occurrences_reuters.to_csv('reuters_occurrences.csv')"
   ]
  },
  {
   "cell_type": "markdown",
   "metadata": {},
   "source": [
    "### Occurrences Bloomberg"
   ]
  },
  {
   "cell_type": "code",
   "execution_count": null,
   "metadata": {
    "scrolled": true
   },
   "outputs": [],
   "source": [
    "df_occurrences_bloomberg = count_occurrences(df_bloomberg, 0, 100000)"
   ]
  },
  {
   "cell_type": "code",
   "execution_count": 25,
   "metadata": {},
   "outputs": [
    {
     "name": "stdout",
     "output_type": "stream",
     "text": [
      "time: 41.9 s\n"
     ]
    }
   ],
   "source": [
    "df_occurrences_bloomberg.to_csv('bloomberg_occurrences_1_100k.csv')"
   ]
  },
  {
   "cell_type": "code",
   "execution_count": 10,
   "metadata": {},
   "outputs": [
    {
     "data": {
      "application/vnd.jupyter.widget-view+json": {
       "model_id": "e85cfdb496574219b71e813100380ee0",
       "version_major": 2,
       "version_minor": 0
      },
      "text/plain": [
       "HBox(children=(IntProgress(value=0, max=100000), HTML(value='')))"
      ]
     },
     "metadata": {},
     "output_type": "display_data"
    },
    {
     "name": "stdout",
     "output_type": "stream",
     "text": [
      "\n",
      "time: 8h 8min 57s\n"
     ]
    }
   ],
   "source": [
    "df_occurrences_bloomberg2 = count_occurrences(df_bloomberg, 100000, 200000)"
   ]
  },
  {
   "cell_type": "code",
   "execution_count": 11,
   "metadata": {},
   "outputs": [
    {
     "name": "stdout",
     "output_type": "stream",
     "text": [
      "time: 44.9 s\n"
     ]
    }
   ],
   "source": [
    "df_occurrences_bloomberg2.to_csv('bloomberg_occurrences_2_100k.csv')"
   ]
  },
  {
   "cell_type": "code",
   "execution_count": 104,
   "metadata": {},
   "outputs": [
    {
     "data": {
      "application/vnd.jupyter.widget-view+json": {
       "model_id": "09d83d90c04d4533b81d1d965eaa4890",
       "version_major": 2,
       "version_minor": 0
      },
      "text/plain": [
       "HBox(children=(IntProgress(value=0, max=100000), HTML(value='')))"
      ]
     },
     "metadata": {},
     "output_type": "display_data"
    },
    {
     "name": "stdout",
     "output_type": "stream",
     "text": [
      "\n",
      "time: 6h 30min 28s\n"
     ]
    }
   ],
   "source": [
    "df_occurrences_bloomberg3 = count_occurrences(df_bloomberg, 200000, 300000)"
   ]
  },
  {
   "cell_type": "code",
   "execution_count": 105,
   "metadata": {},
   "outputs": [
    {
     "name": "stdout",
     "output_type": "stream",
     "text": [
      "time: 3min 13s\n"
     ]
    }
   ],
   "source": [
    "df_occurrences_bloomberg3.to_csv('bloomberg_occurrences_3_100k.csv')"
   ]
  },
  {
   "cell_type": "code",
   "execution_count": 106,
   "metadata": {},
   "outputs": [
    {
     "data": {
      "application/vnd.jupyter.widget-view+json": {
       "model_id": "62aa0dab0659488090f4398abcee8cce",
       "version_major": 2,
       "version_minor": 0
      },
      "text/plain": [
       "HBox(children=(IntProgress(value=0, max=100000), HTML(value='')))"
      ]
     },
     "metadata": {},
     "output_type": "display_data"
    },
    {
     "name": "stdout",
     "output_type": "stream",
     "text": [
      "\n",
      "time: 6h 29min 12s\n"
     ]
    }
   ],
   "source": [
    "df_occurrences_bloomberg4 = count_occurrences(df_bloomberg, 300000, 400000)"
   ]
  },
  {
   "cell_type": "code",
   "execution_count": 107,
   "metadata": {},
   "outputs": [
    {
     "name": "stdout",
     "output_type": "stream",
     "text": [
      "time: 3min 14s\n"
     ]
    }
   ],
   "source": [
    "df_occurrences_bloomberg4.to_csv('bloomberg_occurrences_4_100k.csv')"
   ]
  },
  {
   "cell_type": "code",
   "execution_count": 109,
   "metadata": {},
   "outputs": [
    {
     "data": {
      "application/vnd.jupyter.widget-view+json": {
       "model_id": "f6a014e0156d4557b4066f4e5ac4bb87",
       "version_major": 2,
       "version_minor": 0
      },
      "text/plain": [
       "HBox(children=(IntProgress(value=0, max=48395), HTML(value='')))"
      ]
     },
     "metadata": {},
     "output_type": "display_data"
    },
    {
     "name": "stdout",
     "output_type": "stream",
     "text": [
      "\n",
      "time: 3h 6min 38s\n"
     ]
    }
   ],
   "source": [
    "df_occurrences_bloomberg5 = count_occurrences(df_bloomberg, 400000)"
   ]
  },
  {
   "cell_type": "code",
   "execution_count": 110,
   "metadata": {},
   "outputs": [
    {
     "name": "stdout",
     "output_type": "stream",
     "text": [
      "time: 21 s\n"
     ]
    }
   ],
   "source": [
    "df_occurrences_bloomberg5.to_csv('bloomberg_occurrences_5_50k.csv')"
   ]
  },
  {
   "cell_type": "code",
   "execution_count": 42,
   "metadata": {},
   "outputs": [],
   "source": [
    "df_occurrences_bloomberg = pd.concat([\n",
    "    df_occurrences_bloomberg1, df_occurrences_bloomberg2,\n",
    "    df_occurrences_bloomberg3, df_occurrences_bloomberg4,\n",
    "    df_occurrences_bloomberg5])"
   ]
  },
  {
   "cell_type": "code",
   "execution_count": 46,
   "metadata": {},
   "outputs": [],
   "source": [
    "df_occurrences_bloomberg.to_csv('bloomberg_occurrences_all.csv')"
   ]
  },
  {
   "cell_type": "code",
   "execution_count": 232,
   "metadata": {},
   "outputs": [
    {
     "data": {
      "text/plain": [
       "61727"
      ]
     },
     "execution_count": 232,
     "metadata": {},
     "output_type": "execute_result"
    }
   ],
   "source": [
    "df_occurrences_reuters.sum(axis=1).idxmax()"
   ]
  },
  {
   "cell_type": "code",
   "execution_count": 233,
   "metadata": {},
   "outputs": [
    {
     "data": {
      "text/plain": [
       "316777"
      ]
     },
     "execution_count": 233,
     "metadata": {},
     "output_type": "execute_result"
    }
   ],
   "source": [
    "df_occurrences_bloomberg.sum(axis=1).idxmax()"
   ]
  },
  {
   "cell_type": "code",
   "execution_count": 239,
   "metadata": {},
   "outputs": [],
   "source": [
    "ao = df_occurrences_reuters.iloc[df_occurrences_reuters.sum(axis=1).idxmax()]"
   ]
  },
  {
   "cell_type": "code",
   "execution_count": 240,
   "metadata": {},
   "outputs": [
    {
     "data": {
      "text/plain": [
       "FB      26\n",
       "MSFT     1\n",
       "NWSA    44\n",
       "NWS     44\n",
       "YHOO     1\n",
       "Name: 61727, dtype: int64"
      ]
     },
     "execution_count": 240,
     "metadata": {},
     "output_type": "execute_result"
    }
   ],
   "source": [
    "ao[ao != 0]"
   ]
  },
  {
   "cell_type": "markdown",
   "metadata": {},
   "source": [
    "TODO: https://ndres.me/post/best-jupyter-notebook-extensions/"
   ]
  },
  {
   "cell_type": "markdown",
   "metadata": {},
   "source": [
    "### Co-occurrences"
   ]
  },
  {
   "cell_type": "code",
   "execution_count": 16,
   "metadata": {},
   "outputs": [],
   "source": [
    "import pandas as pd\n",
    "import itertools"
   ]
  },
  {
   "cell_type": "code",
   "execution_count": 11,
   "metadata": {},
   "outputs": [
    {
     "data": {
      "text/plain": [
       "275184"
      ]
     },
     "execution_count": 11,
     "metadata": {},
     "output_type": "execute_result"
    }
   ],
   "source": [
    "df_occurrences_bloomberg = pd.read_csv('../data/preprocessed/occurrences/bloomberg_occurrences_all.csv', index_col=0)\n",
    "df_occurrences_bloomberg.sum().sum()"
   ]
  },
  {
   "cell_type": "code",
   "execution_count": 17,
   "metadata": {},
   "outputs": [],
   "source": [
    "corps = df_occurrences_bloomberg.columns\n",
    "coocc_b = pd.DataFrame(0, index=corps, columns=corps)\n",
    "\n",
    "for c1, c2 in tqdm(list(itertools.combinations(corps, 2))):\n",
    "    amount = sum(df_occurrences_bloomberg[c1] & df_occurrences_bloomberg[c2])\n",
    "    coocc_b.loc[c1].loc[c2] = amount\n",
    "    coocc_b.loc[c2].loc[c1] = amount"
   ]
  },
  {
   "cell_type": "code",
   "execution_count": 204,
   "metadata": {},
   "outputs": [],
   "source": [
    "coocc_b.to_csv('../data/preprocessed/occurrences/bloomberg_cooccurrences.csv')"
   ]
  },
  {
   "cell_type": "code",
   "execution_count": 173,
   "metadata": {},
   "outputs": [
    {
     "data": {
      "text/plain": [
       "112560"
      ]
     },
     "execution_count": 173,
     "metadata": {},
     "output_type": "execute_result"
    }
   ],
   "source": [
    "df_occurrences_reuters = pd.read_csv('../data/preprocessed/occurrences/reuters_occurrences_all.csv', index_col=0)\n",
    "df_occurrences_reuters.sum().sum()"
   ]
  },
  {
   "cell_type": "code",
   "execution_count": 178,
   "metadata": {},
   "outputs": [
    {
     "data": {
      "application/vnd.jupyter.widget-view+json": {
       "model_id": "5ba49181321c4c6fb0c5e2af61608850",
       "version_major": 2,
       "version_minor": 0
      },
      "text/plain": [
       "HBox(children=(IntProgress(value=0, max=127260), HTML(value='')))"
      ]
     },
     "metadata": {},
     "output_type": "display_data"
    }
   ],
   "source": [
    "corps = df_occurrences_reuters.columns\n",
    "coocc_r = pd.DataFrame(0, index=corps, columns=corps)\n",
    "\n",
    "for c1, c2 in tqdm(list(itertools.combinations(corps, 2))):\n",
    "    amount = sum(df_occurrences_reuters[c1] & df_occurrences_reuters[c2])\n",
    "    coocc_r.loc[c1].loc[c2] = amount\n",
    "    coocc_r.loc[c2].loc[c1] = amount"
   ]
  },
  {
   "cell_type": "code",
   "execution_count": 202,
   "metadata": {},
   "outputs": [],
   "source": [
    "coocc_r.to_csv('../data/preprocessed/occurrences/reuters_cooccurrences.csv')"
   ]
  },
  {
   "cell_type": "code",
   "execution_count": 203,
   "metadata": {},
   "outputs": [],
   "source": [
    "coocc = coocc_b + coocc_r\n",
    "coocc.to_csv('../data/preprocessed/occurrences/cooccurrences.csv')"
   ]
  },
  {
   "cell_type": "markdown",
   "metadata": {},
   "source": [
    "### Inspect strongest relationships"
   ]
  },
  {
   "cell_type": "code",
   "execution_count": 197,
   "metadata": {},
   "outputs": [],
   "source": [
    "def get_sorted_cooccurrences(coocc_matrix):\n",
    "    rowmax = coocc_matrix.idxmax(axis=0)\n",
    "    tuples = np.array([(x, rowmax[x], coocc_matrix[x][rowmax[x]]) for x in rowmax.index])\n",
    "    tuples = sorted(tuples, key=lambda x: int(x[2]), reverse=True)\n",
    "    final_coocc = pd.DataFrame([(x, nyse.get_name(x), y, nyse.get_name(y), z) for x, y, z in tuples], columns=['SymA', 'NameA', 'SymB', 'NameB', 'AmountArticles'])\n",
    "    return final_coocc"
   ]
  },
  {
   "cell_type": "code",
   "execution_count": 200,
   "metadata": {},
   "outputs": [
    {
     "data": {
      "text/html": [
       "<div>\n",
       "<style scoped>\n",
       "    .dataframe tbody tr th:only-of-type {\n",
       "        vertical-align: middle;\n",
       "    }\n",
       "\n",
       "    .dataframe tbody tr th {\n",
       "        vertical-align: top;\n",
       "    }\n",
       "\n",
       "    .dataframe thead th {\n",
       "        text-align: right;\n",
       "    }\n",
       "</style>\n",
       "<table border=\"1\" class=\"dataframe\">\n",
       "  <thead>\n",
       "    <tr style=\"text-align: right;\">\n",
       "      <th></th>\n",
       "      <th>SymA</th>\n",
       "      <th>NameA</th>\n",
       "      <th>SymB</th>\n",
       "      <th>NameB</th>\n",
       "      <th>AmountArticles</th>\n",
       "    </tr>\n",
       "  </thead>\n",
       "  <tbody>\n",
       "    <tr>\n",
       "      <th>0</th>\n",
       "      <td>NWSA</td>\n",
       "      <td>News Corp.</td>\n",
       "      <td>NWS</td>\n",
       "      <td>News Corp.</td>\n",
       "      <td>12814</td>\n",
       "    </tr>\n",
       "    <tr>\n",
       "      <th>1</th>\n",
       "      <td>NWS</td>\n",
       "      <td>News Corp.</td>\n",
       "      <td>NWSA</td>\n",
       "      <td>News Corp.</td>\n",
       "      <td>12814</td>\n",
       "    </tr>\n",
       "    <tr>\n",
       "      <th>2</th>\n",
       "      <td>C</td>\n",
       "      <td>Citigroup Inc.</td>\n",
       "      <td>JPM</td>\n",
       "      <td>JPMorgan Chase &amp; Co.</td>\n",
       "      <td>3793</td>\n",
       "    </tr>\n",
       "    <tr>\n",
       "      <th>3</th>\n",
       "      <td>JPM</td>\n",
       "      <td>JPMorgan Chase &amp; Co.</td>\n",
       "      <td>C</td>\n",
       "      <td>Citigroup Inc.</td>\n",
       "      <td>3793</td>\n",
       "    </tr>\n",
       "    <tr>\n",
       "      <th>4</th>\n",
       "      <td>BAC</td>\n",
       "      <td>Bank of America Corp</td>\n",
       "      <td>JPM</td>\n",
       "      <td>JPMorgan Chase &amp; Co.</td>\n",
       "      <td>3454</td>\n",
       "    </tr>\n",
       "    <tr>\n",
       "      <th>5</th>\n",
       "      <td>GS</td>\n",
       "      <td>Goldman Sachs Group</td>\n",
       "      <td>JPM</td>\n",
       "      <td>JPMorgan Chase &amp; Co.</td>\n",
       "      <td>3385</td>\n",
       "    </tr>\n",
       "    <tr>\n",
       "      <th>6</th>\n",
       "      <td>F</td>\n",
       "      <td>Ford Motor</td>\n",
       "      <td>GM</td>\n",
       "      <td>General Motors</td>\n",
       "      <td>2837</td>\n",
       "    </tr>\n",
       "    <tr>\n",
       "      <th>7</th>\n",
       "      <td>GM</td>\n",
       "      <td>General Motors</td>\n",
       "      <td>F</td>\n",
       "      <td>Ford Motor</td>\n",
       "      <td>2837</td>\n",
       "    </tr>\n",
       "    <tr>\n",
       "      <th>8</th>\n",
       "      <td>MS</td>\n",
       "      <td>Morgan Stanley</td>\n",
       "      <td>GS</td>\n",
       "      <td>Goldman Sachs Group</td>\n",
       "      <td>2603</td>\n",
       "    </tr>\n",
       "    <tr>\n",
       "      <th>9</th>\n",
       "      <td>AAPL</td>\n",
       "      <td>Apple Inc.</td>\n",
       "      <td>MSFT</td>\n",
       "      <td>Microsoft Corp.</td>\n",
       "      <td>2001</td>\n",
       "    </tr>\n",
       "    <tr>\n",
       "      <th>10</th>\n",
       "      <td>MSFT</td>\n",
       "      <td>Microsoft Corp.</td>\n",
       "      <td>AAPL</td>\n",
       "      <td>Apple Inc.</td>\n",
       "      <td>2001</td>\n",
       "    </tr>\n",
       "    <tr>\n",
       "      <th>11</th>\n",
       "      <td>WFC</td>\n",
       "      <td>Wells Fargo</td>\n",
       "      <td>JPM</td>\n",
       "      <td>JPMorgan Chase &amp; Co.</td>\n",
       "      <td>1544</td>\n",
       "    </tr>\n",
       "    <tr>\n",
       "      <th>12</th>\n",
       "      <td>ETFC</td>\n",
       "      <td>E*Trade</td>\n",
       "      <td>JPM</td>\n",
       "      <td>JPMorgan Chase &amp; Co.</td>\n",
       "      <td>1365</td>\n",
       "    </tr>\n",
       "    <tr>\n",
       "      <th>13</th>\n",
       "      <td>AMZN</td>\n",
       "      <td>Amazon.com Inc</td>\n",
       "      <td>AAPL</td>\n",
       "      <td>Apple Inc.</td>\n",
       "      <td>884</td>\n",
       "    </tr>\n",
       "    <tr>\n",
       "      <th>14</th>\n",
       "      <td>T</td>\n",
       "      <td>AT&amp;T Inc</td>\n",
       "      <td>AAPL</td>\n",
       "      <td>Apple Inc.</td>\n",
       "      <td>863</td>\n",
       "    </tr>\n",
       "    <tr>\n",
       "      <th>15</th>\n",
       "      <td>CVX</td>\n",
       "      <td>Chevron Corp.</td>\n",
       "      <td>XOM</td>\n",
       "      <td>Exxon Mobil Corp.</td>\n",
       "      <td>781</td>\n",
       "    </tr>\n",
       "    <tr>\n",
       "      <th>16</th>\n",
       "      <td>XOM</td>\n",
       "      <td>Exxon Mobil Corp.</td>\n",
       "      <td>CVX</td>\n",
       "      <td>Chevron Corp.</td>\n",
       "      <td>781</td>\n",
       "    </tr>\n",
       "    <tr>\n",
       "      <th>17</th>\n",
       "      <td>INTC</td>\n",
       "      <td>Intel Corp.</td>\n",
       "      <td>AAPL</td>\n",
       "      <td>Apple Inc.</td>\n",
       "      <td>761</td>\n",
       "    </tr>\n",
       "    <tr>\n",
       "      <th>18</th>\n",
       "      <td>TGT</td>\n",
       "      <td>Target Corp.</td>\n",
       "      <td>WMT</td>\n",
       "      <td>Wal-Mart Stores</td>\n",
       "      <td>753</td>\n",
       "    </tr>\n",
       "    <tr>\n",
       "      <th>19</th>\n",
       "      <td>WMT</td>\n",
       "      <td>Wal-Mart Stores</td>\n",
       "      <td>TGT</td>\n",
       "      <td>Target Corp.</td>\n",
       "      <td>753</td>\n",
       "    </tr>\n",
       "  </tbody>\n",
       "</table>\n",
       "</div>"
      ],
      "text/plain": [
       "    SymA                 NameA  SymB                 NameB AmountArticles\n",
       "0   NWSA            News Corp.   NWS            News Corp.          12814\n",
       "1    NWS            News Corp.  NWSA            News Corp.          12814\n",
       "2      C        Citigroup Inc.   JPM  JPMorgan Chase & Co.           3793\n",
       "3    JPM  JPMorgan Chase & Co.     C        Citigroup Inc.           3793\n",
       "4    BAC  Bank of America Corp   JPM  JPMorgan Chase & Co.           3454\n",
       "5     GS   Goldman Sachs Group   JPM  JPMorgan Chase & Co.           3385\n",
       "6      F            Ford Motor    GM        General Motors           2837\n",
       "7     GM        General Motors     F            Ford Motor           2837\n",
       "8     MS        Morgan Stanley    GS   Goldman Sachs Group           2603\n",
       "9   AAPL            Apple Inc.  MSFT       Microsoft Corp.           2001\n",
       "10  MSFT       Microsoft Corp.  AAPL            Apple Inc.           2001\n",
       "11   WFC           Wells Fargo   JPM  JPMorgan Chase & Co.           1544\n",
       "12  ETFC               E*Trade   JPM  JPMorgan Chase & Co.           1365\n",
       "13  AMZN        Amazon.com Inc  AAPL            Apple Inc.            884\n",
       "14     T              AT&T Inc  AAPL            Apple Inc.            863\n",
       "15   CVX         Chevron Corp.   XOM     Exxon Mobil Corp.            781\n",
       "16   XOM     Exxon Mobil Corp.   CVX         Chevron Corp.            781\n",
       "17  INTC           Intel Corp.  AAPL            Apple Inc.            761\n",
       "18   TGT          Target Corp.   WMT       Wal-Mart Stores            753\n",
       "19   WMT       Wal-Mart Stores   TGT          Target Corp.            753"
      ]
     },
     "execution_count": 200,
     "metadata": {},
     "output_type": "execute_result"
    }
   ],
   "source": [
    "# coocc_b = pd.read_csv('../data/preprocessed/occurrences/aggregated_bloomberg_occurrences.csv', index_col=0)\n",
    "# get_sorted_cooccurrences(coocc_b)[:20]\n",
    "\n",
    "# coocc_r = pd.read_csv('../data/preprocessed/occurrences/aggregated_reuters_occurrences.csv', index_col=0)\n",
    "# get_sorted_cooccurrences(coocc_r)[:20]\n",
    "\n",
    "# coocc = pd.read_csv('../data/preprocessed/occurrences/aggregated_occurrences.csv', index_col=0)\n",
    "get_sorted_cooccurrences(coocc)[:20]"
   ]
  }
 ],
 "metadata": {
  "kernelspec": {
   "display_name": "Python 3",
   "language": "python",
   "name": "python3"
  },
  "language_info": {
   "codemirror_mode": {
    "name": "ipython",
    "version": 3
   },
   "file_extension": ".py",
   "mimetype": "text/x-python",
   "name": "python",
   "nbconvert_exporter": "python",
   "pygments_lexer": "ipython3",
   "version": "3.6.0"
  },
  "notify_time": "5",
  "toc": {
   "base_numbering": 1,
   "nav_menu": {},
   "number_sections": true,
   "sideBar": true,
   "skip_h1_title": false,
   "title_cell": "Table of Contents",
   "title_sidebar": "Contents",
   "toc_cell": false,
   "toc_position": {},
   "toc_section_display": true,
   "toc_window_display": false
  }
 },
 "nbformat": 4,
 "nbformat_minor": 2
}
