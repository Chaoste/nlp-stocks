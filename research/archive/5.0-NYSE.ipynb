{
 "cells": [
  {
   "cell_type": "code",
   "execution_count": 1,
   "metadata": {},
   "outputs": [],
   "source": [
    "import os\n",
    "import re\n",
    "\n",
    "import pandas as pd\n",
    "import numpy as np\n",
    "from matplotlib import pyplot as plt\n",
    "\n",
    "%matplotlib inline\n",
    "%load_ext autoreload\n",
    "%autoreload 2"
   ]
  },
  {
   "cell_type": "code",
   "execution_count": 2,
   "metadata": {},
   "outputs": [],
   "source": [
    "import sys\n",
    "sys.path.append(\"../..\") # Adds higher directory to python modules path for importing from src dir\n",
    "\n",
    "import pandas as pd\n",
    "\n",
    "from src.datasets import NyseSecuritiesDataset\n",
    "from src.datasets import NyseStocksDataset\n",
    "from src.datasets import NyseFundamentalsDataset"
   ]
  },
  {
   "cell_type": "code",
   "execution_count": 3,
   "metadata": {},
   "outputs": [],
   "source": [
    "HOME = \"../..\"\n",
    "DATA_DIR = \"data\"\n",
    "NYSE_FUNDAMENTALS = os.path.join(HOME, DATA_DIR, \"nyse\", \"fundamentals.csv\")\n",
    "NYSE_PRICES = os.path.join(HOME, DATA_DIR, \"nyse\", \"prices.csv\")\n",
    "NYSE_PRICES_SPLIT = os.path.join(HOME, DATA_DIR, \"nyse\", \"prices-split-adjusted.csv\")\n",
    "NYSE_SECURITIES = os.path.join(HOME, DATA_DIR, \"nyse\", \"securities.csv\")"
   ]
  },
  {
   "cell_type": "code",
   "execution_count": 4,
   "metadata": {},
   "outputs": [],
   "source": [
    "fund = pd.read_csv(NYSE_FUNDAMENTALS)\n",
    "securities = pd.read_csv(NYSE_SECURITIES)\n",
    "prices = pd.read_csv(NYSE_PRICES)\n",
    "prices_split = pd.read_csv(NYSE_PRICES_SPLIT)"
   ]
  },
  {
   "cell_type": "code",
   "execution_count": 5,
   "metadata": {},
   "outputs": [],
   "source": [
    "prices['date'] = pd.to_datetime(prices['date'], errors='coerce')  # [datetime.strptime(x[:10], '%Y-%m-%d') for x in prices['date']]\n",
    "prices_split['date'] = pd.to_datetime(prices_split['date'], errors='coerce')\n",
    "securities['Date first added'] = pd.to_datetime(securities['Date first added'], errors='coerce')"
   ]
  },
  {
   "cell_type": "markdown",
   "metadata": {
    "heading_collapsed": true
   },
   "source": [
    "### Duplicate securities for one company\n",
    "\n",
    "Stock classes are used to distribute shares with different voting rights. e.g. Googles founders (Class B) have more voting rights as with normal shares (Class A). Class C is defined for shares without voting rights.\n",
    "\n",
    "https://en.wikipedia.org/wiki/List_of_S%26P_500_companies#Recent_changes_to_the_list_of_S&P_500_Components\n",
    "\n",
    "##### Other observations:\n",
    "- Table just copied from Wikipedia (presumably at the end of 2016)\n",
    "- Some security names are missing Inc./Corp. missing (verified via Wikipedia)\n",
    "- Date first added is sometimes undefined (also in Wikipedia table)\n",
    "- The state might have changed between 2010 & 2016. Take this into consideration?"
   ]
  },
  {
   "cell_type": "code",
   "execution_count": 227,
   "metadata": {
    "hidden": true
   },
   "outputs": [],
   "source": [
    "x = securities.copy()\n",
    "idx = securities.index[securities['Ticker symbol'] == 'DISCA'][0]\n",
    "x.loc[idx, 'Security'] = 'Discovery Communications Class A'  # Before: Discovery Communications-A\n",
    "idx = securities.index[securities['Ticker symbol'] == 'DISCK'][0]\n",
    "x.loc[idx, 'Security'] = 'Discovery Communications Class C'  # Before: Discovery Communications-C\n",
    "idx = securities.index[securities['Ticker symbol'] == 'UA'][0]\n",
    "x.loc[idx, 'Security'] = 'Under Armour Class C'  # Before: Under Armour\n",
    "idx = securities.index[securities['Ticker symbol'] == 'UAA'][0]\n",
    "x.loc[idx, 'Security'] = 'Under Armour Class A'  # Before: Under Armour"
   ]
  },
  {
   "cell_type": "code",
   "execution_count": 228,
   "metadata": {
    "hidden": true
   },
   "outputs": [],
   "source": [
    "columns = x.columns.tolist()\n",
    "columns.insert(1, 'Name')\n",
    "\n",
    "regex_pat = re.compile(r'\\WClass (A|B|C)$', flags=re.IGNORECASE)\n",
    "x['Name'] = x['Security'].str.replace(regex_pat, '')\n",
    "\n",
    "x = x[columns]  # Change order"
   ]
  },
  {
   "cell_type": "code",
   "execution_count": 39,
   "metadata": {
    "hidden": true
   },
   "outputs": [
    {
     "data": {
      "text/html": [
       "<div>\n",
       "<style scoped>\n",
       "    .dataframe tbody tr th:only-of-type {\n",
       "        vertical-align: middle;\n",
       "    }\n",
       "\n",
       "    .dataframe tbody tr th {\n",
       "        vertical-align: top;\n",
       "    }\n",
       "\n",
       "    .dataframe thead th {\n",
       "        text-align: right;\n",
       "    }\n",
       "</style>\n",
       "<table border=\"1\" class=\"dataframe\">\n",
       "  <thead>\n",
       "    <tr style=\"text-align: right;\">\n",
       "      <th></th>\n",
       "      <th>Ticker symbol</th>\n",
       "      <th>Security</th>\n",
       "      <th>SEC filings</th>\n",
       "      <th>GICS Sector</th>\n",
       "      <th>GICS Sub Industry</th>\n",
       "      <th>Address of Headquarters</th>\n",
       "      <th>Date first added</th>\n",
       "      <th>CIK</th>\n",
       "    </tr>\n",
       "  </thead>\n",
       "  <tbody>\n",
       "    <tr>\n",
       "      <th>26</th>\n",
       "      <td>AMZN</td>\n",
       "      <td>Amazon.com Inc</td>\n",
       "      <td>reports</td>\n",
       "      <td>Consumer Discretionary</td>\n",
       "      <td>Internet &amp; Direct Marketing Retail</td>\n",
       "      <td>Seattle, Washington</td>\n",
       "      <td>2005-11-18</td>\n",
       "      <td>1018724</td>\n",
       "    </tr>\n",
       "  </tbody>\n",
       "</table>\n",
       "</div>"
      ],
      "text/plain": [
       "   Ticker symbol        Security SEC filings             GICS Sector  \\\n",
       "26          AMZN  Amazon.com Inc     reports  Consumer Discretionary   \n",
       "\n",
       "                     GICS Sub Industry Address of Headquarters  \\\n",
       "26  Internet & Direct Marketing Retail     Seattle, Washington   \n",
       "\n",
       "   Date first added      CIK  \n",
       "26       2005-11-18  1018724  "
      ]
     },
     "execution_count": 39,
     "metadata": {},
     "output_type": "execute_result"
    }
   ],
   "source": [
    "securities[securities['Ticker symbol'] == 'AMZN']"
   ]
  },
  {
   "cell_type": "code",
   "execution_count": 244,
   "metadata": {
    "hidden": true,
    "scrolled": true
   },
   "outputs": [
    {
     "data": {
      "text/html": [
       "<div>\n",
       "<style scoped>\n",
       "    .dataframe tbody tr th:only-of-type {\n",
       "        vertical-align: middle;\n",
       "    }\n",
       "\n",
       "    .dataframe tbody tr th {\n",
       "        vertical-align: top;\n",
       "    }\n",
       "\n",
       "    .dataframe thead th {\n",
       "        text-align: right;\n",
       "    }\n",
       "</style>\n",
       "<table border=\"1\" class=\"dataframe\">\n",
       "  <thead>\n",
       "    <tr style=\"text-align: right;\">\n",
       "      <th></th>\n",
       "      <th>date</th>\n",
       "      <th>symbol</th>\n",
       "      <th>open</th>\n",
       "      <th>close</th>\n",
       "      <th>low</th>\n",
       "      <th>high</th>\n",
       "      <th>volume</th>\n",
       "    </tr>\n",
       "  </thead>\n",
       "  <tbody>\n",
       "    <tr>\n",
       "      <th>284</th>\n",
       "      <td>2010-01-04</td>\n",
       "      <td>AMZN</td>\n",
       "      <td>136.250000</td>\n",
       "      <td>133.899994</td>\n",
       "      <td>133.139999</td>\n",
       "      <td>136.610001</td>\n",
       "      <td>7599900.0</td>\n",
       "    </tr>\n",
       "    <tr>\n",
       "      <th>751</th>\n",
       "      <td>2010-01-05</td>\n",
       "      <td>AMZN</td>\n",
       "      <td>133.429993</td>\n",
       "      <td>134.690002</td>\n",
       "      <td>131.809998</td>\n",
       "      <td>135.479996</td>\n",
       "      <td>8851900.0</td>\n",
       "    </tr>\n",
       "    <tr>\n",
       "      <th>1219</th>\n",
       "      <td>2010-01-06</td>\n",
       "      <td>AMZN</td>\n",
       "      <td>134.600006</td>\n",
       "      <td>132.250000</td>\n",
       "      <td>131.649994</td>\n",
       "      <td>134.729996</td>\n",
       "      <td>7178800.0</td>\n",
       "    </tr>\n",
       "    <tr>\n",
       "      <th>1687</th>\n",
       "      <td>2010-01-07</td>\n",
       "      <td>AMZN</td>\n",
       "      <td>132.009995</td>\n",
       "      <td>130.000000</td>\n",
       "      <td>128.800003</td>\n",
       "      <td>132.320007</td>\n",
       "      <td>11030200.0</td>\n",
       "    </tr>\n",
       "    <tr>\n",
       "      <th>2155</th>\n",
       "      <td>2010-01-08</td>\n",
       "      <td>AMZN</td>\n",
       "      <td>130.559998</td>\n",
       "      <td>133.520004</td>\n",
       "      <td>129.029999</td>\n",
       "      <td>133.679993</td>\n",
       "      <td>9830500.0</td>\n",
       "    </tr>\n",
       "  </tbody>\n",
       "</table>\n",
       "</div>"
      ],
      "text/plain": [
       "           date symbol        open       close         low        high  \\\n",
       "284  2010-01-04   AMZN  136.250000  133.899994  133.139999  136.610001   \n",
       "751  2010-01-05   AMZN  133.429993  134.690002  131.809998  135.479996   \n",
       "1219 2010-01-06   AMZN  134.600006  132.250000  131.649994  134.729996   \n",
       "1687 2010-01-07   AMZN  132.009995  130.000000  128.800003  132.320007   \n",
       "2155 2010-01-08   AMZN  130.559998  133.520004  129.029999  133.679993   \n",
       "\n",
       "          volume  \n",
       "284    7599900.0  \n",
       "751    8851900.0  \n",
       "1219   7178800.0  \n",
       "1687  11030200.0  \n",
       "2155   9830500.0  "
      ]
     },
     "execution_count": 244,
     "metadata": {},
     "output_type": "execute_result"
    }
   ],
   "source": [
    "prices[prices['symbol'] == 'AMZN'].head()"
   ]
  },
  {
   "cell_type": "code",
   "execution_count": 238,
   "metadata": {
    "hidden": true
   },
   "outputs": [],
   "source": [
    "import nyse"
   ]
  },
  {
   "cell_type": "code",
   "execution_count": 240,
   "metadata": {
    "hidden": true
   },
   "outputs": [],
   "source": [
    "nyse.load()"
   ]
  },
  {
   "cell_type": "code",
   "execution_count": 241,
   "metadata": {
    "hidden": true,
    "scrolled": true
   },
   "outputs": [
    {
     "data": {
      "text/html": [
       "<div>\n",
       "<style scoped>\n",
       "    .dataframe tbody tr th:only-of-type {\n",
       "        vertical-align: middle;\n",
       "    }\n",
       "\n",
       "    .dataframe tbody tr th {\n",
       "        vertical-align: top;\n",
       "    }\n",
       "\n",
       "    .dataframe thead th {\n",
       "        text-align: right;\n",
       "    }\n",
       "</style>\n",
       "<table border=\"1\" class=\"dataframe\">\n",
       "  <thead>\n",
       "    <tr style=\"text-align: right;\">\n",
       "      <th></th>\n",
       "      <th>Ticker symbol</th>\n",
       "      <th>Security</th>\n",
       "      <th>SEC filings</th>\n",
       "      <th>GICS Sector</th>\n",
       "      <th>GICS Sub Industry</th>\n",
       "      <th>Address of Headquarters</th>\n",
       "      <th>Date first added</th>\n",
       "      <th>CIK</th>\n",
       "    </tr>\n",
       "  </thead>\n",
       "  <tbody>\n",
       "    <tr>\n",
       "      <th>23</th>\n",
       "      <td>GOOGL</td>\n",
       "      <td>Alphabet Inc Class A</td>\n",
       "      <td>reports</td>\n",
       "      <td>Information Technology</td>\n",
       "      <td>Internet Software &amp; Services</td>\n",
       "      <td>Mountain View, California</td>\n",
       "      <td>2014-04-03</td>\n",
       "      <td>1652044</td>\n",
       "    </tr>\n",
       "    <tr>\n",
       "      <th>24</th>\n",
       "      <td>GOOG</td>\n",
       "      <td>Alphabet Inc Class C</td>\n",
       "      <td>reports</td>\n",
       "      <td>Information Technology</td>\n",
       "      <td>Internet Software &amp; Services</td>\n",
       "      <td>Mountain View, California</td>\n",
       "      <td>NaN</td>\n",
       "      <td>1652044</td>\n",
       "    </tr>\n",
       "    <tr>\n",
       "      <th>142</th>\n",
       "      <td>DISCA</td>\n",
       "      <td>Discovery Communications-A</td>\n",
       "      <td>reports</td>\n",
       "      <td>Consumer Discretionary</td>\n",
       "      <td>Cable &amp; Satellite</td>\n",
       "      <td>Silver Spring, Maryland</td>\n",
       "      <td>2010-03-01</td>\n",
       "      <td>1437107</td>\n",
       "    </tr>\n",
       "    <tr>\n",
       "      <th>143</th>\n",
       "      <td>DISCK</td>\n",
       "      <td>Discovery Communications-C</td>\n",
       "      <td>reports</td>\n",
       "      <td>Consumer Discretionary</td>\n",
       "      <td>Cable &amp; Satellite</td>\n",
       "      <td>Silver Spring, Maryland</td>\n",
       "      <td>2014-08-07</td>\n",
       "      <td>1437107</td>\n",
       "    </tr>\n",
       "    <tr>\n",
       "      <th>326</th>\n",
       "      <td>NWSA</td>\n",
       "      <td>News Corp. Class A</td>\n",
       "      <td>reports</td>\n",
       "      <td>Consumer Discretionary</td>\n",
       "      <td>Publishing</td>\n",
       "      <td>New York, New York</td>\n",
       "      <td>2013-08-01</td>\n",
       "      <td>1564708</td>\n",
       "    </tr>\n",
       "    <tr>\n",
       "      <th>327</th>\n",
       "      <td>NWS</td>\n",
       "      <td>News Corp. Class B</td>\n",
       "      <td>reports</td>\n",
       "      <td>Consumer Discretionary</td>\n",
       "      <td>Publishing</td>\n",
       "      <td>New York, New York</td>\n",
       "      <td>2015-09-18</td>\n",
       "      <td>1564708</td>\n",
       "    </tr>\n",
       "    <tr>\n",
       "      <th>449</th>\n",
       "      <td>FOXA</td>\n",
       "      <td>Twenty-First Century Fox Class A</td>\n",
       "      <td>reports</td>\n",
       "      <td>Consumer Discretionary</td>\n",
       "      <td>Publishing</td>\n",
       "      <td>New York, New York</td>\n",
       "      <td>2013-07-01</td>\n",
       "      <td>1308161</td>\n",
       "    </tr>\n",
       "    <tr>\n",
       "      <th>450</th>\n",
       "      <td>FOX</td>\n",
       "      <td>Twenty-First Century Fox Class B</td>\n",
       "      <td>reports</td>\n",
       "      <td>Consumer Discretionary</td>\n",
       "      <td>Publishing</td>\n",
       "      <td>New York, New York</td>\n",
       "      <td>2015-09-18</td>\n",
       "      <td>1308161</td>\n",
       "    </tr>\n",
       "    <tr>\n",
       "      <th>455</th>\n",
       "      <td>UA</td>\n",
       "      <td>Under Armour</td>\n",
       "      <td>reports</td>\n",
       "      <td>Consumer Discretionary</td>\n",
       "      <td>Apparel, Accessories &amp; Luxury Goods</td>\n",
       "      <td>Baltimore, Maryland</td>\n",
       "      <td>2014-05-01</td>\n",
       "      <td>1336917</td>\n",
       "    </tr>\n",
       "    <tr>\n",
       "      <th>456</th>\n",
       "      <td>UAA</td>\n",
       "      <td>Under Armour</td>\n",
       "      <td>reports</td>\n",
       "      <td>Consumer Discretionary</td>\n",
       "      <td>Apparel, Accessories &amp; Luxury Goods</td>\n",
       "      <td>Baltimore, Maryland</td>\n",
       "      <td>2016-03-25</td>\n",
       "      <td>1336917</td>\n",
       "    </tr>\n",
       "  </tbody>\n",
       "</table>\n",
       "</div>"
      ],
      "text/plain": [
       "    Ticker symbol                          Security SEC filings  \\\n",
       "23          GOOGL              Alphabet Inc Class A     reports   \n",
       "24           GOOG              Alphabet Inc Class C     reports   \n",
       "142         DISCA        Discovery Communications-A     reports   \n",
       "143         DISCK        Discovery Communications-C     reports   \n",
       "326          NWSA                News Corp. Class A     reports   \n",
       "327           NWS                News Corp. Class B     reports   \n",
       "449          FOXA  Twenty-First Century Fox Class A     reports   \n",
       "450           FOX  Twenty-First Century Fox Class B     reports   \n",
       "455            UA                      Under Armour     reports   \n",
       "456           UAA                      Under Armour     reports   \n",
       "\n",
       "                GICS Sector                    GICS Sub Industry  \\\n",
       "23   Information Technology         Internet Software & Services   \n",
       "24   Information Technology         Internet Software & Services   \n",
       "142  Consumer Discretionary                    Cable & Satellite   \n",
       "143  Consumer Discretionary                    Cable & Satellite   \n",
       "326  Consumer Discretionary                           Publishing   \n",
       "327  Consumer Discretionary                           Publishing   \n",
       "449  Consumer Discretionary                           Publishing   \n",
       "450  Consumer Discretionary                           Publishing   \n",
       "455  Consumer Discretionary  Apparel, Accessories & Luxury Goods   \n",
       "456  Consumer Discretionary  Apparel, Accessories & Luxury Goods   \n",
       "\n",
       "       Address of Headquarters Date first added      CIK  \n",
       "23   Mountain View, California       2014-04-03  1652044  \n",
       "24   Mountain View, California              NaN  1652044  \n",
       "142    Silver Spring, Maryland       2010-03-01  1437107  \n",
       "143    Silver Spring, Maryland       2014-08-07  1437107  \n",
       "326         New York, New York       2013-08-01  1564708  \n",
       "327         New York, New York       2015-09-18  1564708  \n",
       "449         New York, New York       2013-07-01  1308161  \n",
       "450         New York, New York       2015-09-18  1308161  \n",
       "455        Baltimore, Maryland       2014-05-01  1336917  \n",
       "456        Baltimore, Maryland       2016-03-25  1336917  "
      ]
     },
     "execution_count": 241,
     "metadata": {},
     "output_type": "execute_result"
    }
   ],
   "source": [
    "nyse.get_securities_problems()"
   ]
  },
  {
   "cell_type": "code",
   "execution_count": 236,
   "metadata": {
    "hidden": true
   },
   "outputs": [
    {
     "data": {
      "text/plain": [
       "({'UA': {'exchange': 'NYQ',\n",
       "   'shortName': 'Under Armour, Inc. Class C',\n",
       "   'longName': 'Under Armour, Inc.',\n",
       "   'exchangeTimezoneName': 'America/New_York',\n",
       "   'exchangeTimezoneShortName': 'EST',\n",
       "   'isEsgPopulated': False,\n",
       "   'gmtOffSetMilliseconds': '-18000000',\n",
       "   'underlyingSymbol': None,\n",
       "   'quoteType': 'EQUITY',\n",
       "   'symbol': 'UA',\n",
       "   'underlyingExchangeSymbol': None,\n",
       "   'headSymbol': None,\n",
       "   'messageBoardId': 'finmb_8740684',\n",
       "   'uuid': '3943d879-5e03-38e3-b07b-5b71eac1b669',\n",
       "   'market': 'us_market'}},\n",
       " {'balanceSheetHistory': {'UA': [{'2017-12-31': {'intangibleAssets': 46995000,\n",
       "      'capitalSurplus': 872266000,\n",
       "      'totalLiab': 1987725000,\n",
       "      'totalStockholderEquity': 2018642000,\n",
       "      'otherCurrentLiab': 50426000,\n",
       "      'totalAssets': 4006367000,\n",
       "      'commonStock': 146000,\n",
       "      'retainedEarnings': 1184441000,\n",
       "      'otherLiab': 162304000,\n",
       "      'goodWill': 555674000,\n",
       "      'treasuryStock': -38211000,\n",
       "      'otherAssets': 166445000,\n",
       "      'cash': 312483000,\n",
       "      'totalCurrentLiabilities': 1060375000,\n",
       "      'deferredLongTermAssetCharges': 82801000,\n",
       "      'shortLongTermDebt': 27000000,\n",
       "      'otherStockholderEquity': -38211000,\n",
       "      'propertyPlantEquipment': 885774000,\n",
       "      'totalCurrentAssets': 2337679000,\n",
       "      'longTermInvestments': 13800000,\n",
       "      'netTangibleAssets': 1415973000,\n",
       "      'netReceivables': 609670000,\n",
       "      'longTermDebt': 765046000,\n",
       "      'inventory': 1158548000,\n",
       "      'accountsPayable': 561108000}},\n",
       "    {'2016-12-31': {'intangibleAssets': 64310000,\n",
       "      'capitalSurplus': 823484000,\n",
       "      'totalLiab': 1613431000,\n",
       "      'totalStockholderEquity': 2030900000,\n",
       "      'deferredLongTermLiab': 24200000,\n",
       "      'otherCurrentLiab': 40387000,\n",
       "      'totalAssets': 3644331000,\n",
       "      'commonStock': 145000,\n",
       "      'otherCurrentAssets': 15200000,\n",
       "      'retainedEarnings': 1259414000,\n",
       "      'otherLiab': 136807000,\n",
       "      'goodWill': 563591000,\n",
       "      'treasuryStock': -52143000,\n",
       "      'otherAssets': 235366000,\n",
       "      'cash': 250470000,\n",
       "      'totalCurrentLiabilities': 685816000,\n",
       "      'deferredLongTermAssetCharges': 136862000,\n",
       "      'shortLongTermDebt': 27000000,\n",
       "      'otherStockholderEquity': -52143000,\n",
       "      'propertyPlantEquipment': 804211000,\n",
       "      'totalCurrentAssets': 1965153000,\n",
       "      'longTermInvestments': 11700000,\n",
       "      'netTangibleAssets': 1402999000,\n",
       "      'netReceivables': 622685000,\n",
       "      'longTermDebt': 790808000,\n",
       "      'inventory': 917491000,\n",
       "      'accountsPayable': 409679000}},\n",
       "    {'2015-12-31': {'intangibleAssets': 75686000,\n",
       "      'capitalSurplus': 636558000,\n",
       "      'totalLiab': 1197748000,\n",
       "      'totalStockholderEquity': 1668222000,\n",
       "      'otherCurrentLiab': 43415000,\n",
       "      'totalAssets': 2865970000,\n",
       "      'commonStock': 144000,\n",
       "      'otherCurrentAssets': 3811000,\n",
       "      'retainedEarnings': 1076533000,\n",
       "      'otherLiab': 93368000,\n",
       "      'goodWill': 585181000,\n",
       "      'treasuryStock': -45013000,\n",
       "      'otherAssets': 155809000,\n",
       "      'cash': 129852000,\n",
       "      'totalCurrentLiabilities': 478810000,\n",
       "      'deferredLongTermAssetCharges': 92157000,\n",
       "      'shortLongTermDebt': 42000000,\n",
       "      'otherStockholderEquity': -45013000,\n",
       "      'propertyPlantEquipment': 538531000,\n",
       "      'totalCurrentAssets': 1498763000,\n",
       "      'longTermInvestments': 12000000,\n",
       "      'netTangibleAssets': 1007355000,\n",
       "      'netReceivables': 433638000,\n",
       "      'longTermDebt': 625570000,\n",
       "      'inventory': 783031000,\n",
       "      'accountsPayable': 200460000}},\n",
       "    {'2014-12-31': {'intangibleAssets': 26230000,\n",
       "      'capitalSurplus': 508350000,\n",
       "      'totalLiab': 744783000,\n",
       "      'totalStockholderEquity': 1350300000,\n",
       "      'otherCurrentLiab': 34563000,\n",
       "      'totalAssets': 2095083000,\n",
       "      'commonStock': 71000,\n",
       "      'otherCurrentAssets': 53298000,\n",
       "      'retainedEarnings': 856687000,\n",
       "      'otherLiab': 67299000,\n",
       "      'goodWill': 123256000,\n",
       "      'treasuryStock': -14808000,\n",
       "      'otherAssets': 77234000,\n",
       "      'cash': 593175000,\n",
       "      'totalCurrentLiabilities': 421627000,\n",
       "      'deferredLongTermAssetCharges': 33570000,\n",
       "      'shortLongTermDebt': 28951000,\n",
       "      'otherStockholderEquity': -14808000,\n",
       "      'propertyPlantEquipment': 305564000,\n",
       "      'totalCurrentAssets': 1549399000,\n",
       "      'longTermInvestments': 13400000,\n",
       "      'netTangibleAssets': 1200814000,\n",
       "      'netReceivables': 279835000,\n",
       "      'longTermDebt': 255857000,\n",
       "      'inventory': 536714000,\n",
       "      'accountsPayable': 210432000}}]},\n",
       "  'incomeStatementHistory': {'UA': [{'2017-12-31': {'researchDevelopment': None,\n",
       "      'effectOfAccountingCharges': None,\n",
       "      'incomeBeforeTax': -10309000,\n",
       "      'minorityInterest': None,\n",
       "      'netIncome': -48260000,\n",
       "      'sellingGeneralAdministrative': 2078631000,\n",
       "      'grossProfit': 2243800000,\n",
       "      'ebit': 156969000,\n",
       "      'operatingIncome': 156969000,\n",
       "      'otherOperatingExpenses': None,\n",
       "      'interestExpense': -34938000,\n",
       "      'extraordinaryItems': None,\n",
       "      'nonRecurring': None,\n",
       "      'otherItems': None,\n",
       "      'incomeTaxExpense': 37951000,\n",
       "      'totalRevenue': 4976553000,\n",
       "      'totalOperatingExpenses': 4819584000,\n",
       "      'costOfRevenue': 2732753000,\n",
       "      'totalOtherIncomeExpenseNet': -167278000,\n",
       "      'discontinuedOperations': None,\n",
       "      'netIncomeFromContinuingOps': -48260000,\n",
       "      'netIncomeApplicableToCommonShares': -48260000}},\n",
       "    {'2016-12-31': {'researchDevelopment': None,\n",
       "      'effectOfAccountingCharges': None,\n",
       "      'incomeBeforeTax': 388282000,\n",
       "      'minorityInterest': None,\n",
       "      'netIncome': 256979000,\n",
       "      'sellingGeneralAdministrative': 1810140000,\n",
       "      'grossProfit': 2240611000,\n",
       "      'ebit': 417471000,\n",
       "      'operatingIncome': 417471000,\n",
       "      'otherOperatingExpenses': None,\n",
       "      'interestExpense': -26734000,\n",
       "      'extraordinaryItems': None,\n",
       "      'nonRecurring': None,\n",
       "      'otherItems': None,\n",
       "      'incomeTaxExpense': 131303000,\n",
       "      'totalRevenue': 4825335000,\n",
       "      'totalOperatingExpenses': 4407864000,\n",
       "      'costOfRevenue': 2584724000,\n",
       "      'totalOtherIncomeExpenseNet': -29189000,\n",
       "      'discontinuedOperations': None,\n",
       "      'netIncomeFromContinuingOps': 256979000,\n",
       "      'netIncomeApplicableToCommonShares': 197979000}},\n",
       "    {'2015-12-31': {'researchDevelopment': None,\n",
       "      'effectOfAccountingCharges': None,\n",
       "      'incomeBeforeTax': 386685000,\n",
       "      'minorityInterest': None,\n",
       "      'netIncome': 232573000,\n",
       "      'sellingGeneralAdministrative': 1483100000,\n",
       "      'grossProfit': 1905547000,\n",
       "      'ebit': 408547000,\n",
       "      'operatingIncome': 408547000,\n",
       "      'otherOperatingExpenses': None,\n",
       "      'interestExpense': -14828000,\n",
       "      'extraordinaryItems': None,\n",
       "      'nonRecurring': None,\n",
       "      'otherItems': None,\n",
       "      'incomeTaxExpense': 154112000,\n",
       "      'totalRevenue': 3963313000,\n",
       "      'totalOperatingExpenses': 3554766000,\n",
       "      'costOfRevenue': 2057766000,\n",
       "      'totalOtherIncomeExpenseNet': -21862000,\n",
       "      'discontinuedOperations': None,\n",
       "      'netIncomeFromContinuingOps': 232573000,\n",
       "      'netIncomeApplicableToCommonShares': 232573000}},\n",
       "    {'2014-12-31': {'researchDevelopment': None,\n",
       "      'effectOfAccountingCharges': None,\n",
       "      'incomeBeforeTax': 342210000,\n",
       "      'minorityInterest': None,\n",
       "      'netIncome': 208042000,\n",
       "      'sellingGeneralAdministrative': 1149751000,\n",
       "      'grossProfit': 1512206000,\n",
       "      'ebit': 353955000,\n",
       "      'operatingIncome': 353955000,\n",
       "      'otherOperatingExpenses': None,\n",
       "      'interestExpense': -5527000,\n",
       "      'extraordinaryItems': None,\n",
       "      'nonRecurring': None,\n",
       "      'otherItems': None,\n",
       "      'incomeTaxExpense': 134168000,\n",
       "      'totalRevenue': 3084370000,\n",
       "      'totalOperatingExpenses': 2730415000,\n",
       "      'costOfRevenue': 1572164000,\n",
       "      'totalOtherIncomeExpenseNet': -11745000,\n",
       "      'discontinuedOperations': None,\n",
       "      'netIncomeFromContinuingOps': 208042000,\n",
       "      'netIncomeApplicableToCommonShares': 208042000}}]},\n",
       "  'cashflowStatementHistory': {'UA': [{'2017-12-31': {'changeToLiabilities': 145695000,\n",
       "      'totalCashflowsFromInvestingActivities': -282987000,\n",
       "      'netBorrowings': 98000000,\n",
       "      'totalCashFromFinancingActivities': 106759000,\n",
       "      'changeToOperatingActivities': 54320000,\n",
       "      'issuanceOfStock': 11540000,\n",
       "      'netIncome': -48260000,\n",
       "      'changeInCash': 62013000,\n",
       "      'repurchaseOfStock': -2781000,\n",
       "      'effectOfExchangeRate': 4178000,\n",
       "      'totalCashFromOperatingActivities': 234063000,\n",
       "      'depreciation': 173747000,\n",
       "      'otherCashflowsFromInvestingActivities': -1648000,\n",
       "      'changeToInventory': -222391000,\n",
       "      'changeToAccountReceivables': -79106000,\n",
       "      'changeToNetincome': 249222000,\n",
       "      'capitalExpenditures': -281339000}},\n",
       "    {'2016-12-31': {'investments': 6482000,\n",
       "      'changeToLiabilities': 202446000,\n",
       "      'totalCashflowsFromInvestingActivities': -381139000,\n",
       "      'netBorrowings': 156851000,\n",
       "      'totalCashFromFinancingActivities': 146114000,\n",
       "      'changeToOperatingActivities': 42470000,\n",
       "      'issuanceOfStock': 15485000,\n",
       "      'netIncome': 256979000,\n",
       "      'changeInCash': 120618000,\n",
       "      'repurchaseOfStock': -15098000,\n",
       "      'effectOfExchangeRate': -8725000,\n",
       "      'totalCashFromOperatingActivities': 364368000,\n",
       "      'depreciation': 144770000,\n",
       "      'otherCashflowsFromInvestingActivities': -875000,\n",
       "      'dividendsPaid': -2927000,\n",
       "      'changeToInventory': -148055000,\n",
       "      'changeToAccountReceivables': -249853000,\n",
       "      'otherCashflowsFromFinancingActivities': -8197000,\n",
       "      'changeToNetincome': 132323000,\n",
       "      'capitalExpenditures': -386746000}},\n",
       "    {'2015-12-31': {'investments': -6534000,\n",
       "      'changeToLiabilities': -22583000,\n",
       "      'totalCashflowsFromInvestingActivities': -847475000,\n",
       "      'netBorrowings': 384798000,\n",
       "      'totalCashFromFinancingActivities': 381433000,\n",
       "      'changeToOperatingActivities': 378000,\n",
       "      'issuanceOfStock': 10310000,\n",
       "      'netIncome': 232573000,\n",
       "      'changeInCash': -463323000,\n",
       "      'repurchaseOfStock': -12728000,\n",
       "      'effectOfExchangeRate': -11822000,\n",
       "      'totalCashFromOperatingActivities': 14541000,\n",
       "      'depreciation': 100940000,\n",
       "      'otherCashflowsFromInvestingActivities': -2553000,\n",
       "      'dividendsPaid': -2927000,\n",
       "      'changeToInventory': -278524000,\n",
       "      'changeToAccountReceivables': -191876000,\n",
       "      'otherCashflowsFromFinancingActivities': -947000,\n",
       "      'changeToNetincome': 176166000,\n",
       "      'capitalExpenditures': -298928000}},\n",
       "    {'2014-12-31': {'investments': -6534000,\n",
       "      'changeToLiabilities': 49137000,\n",
       "      'totalCashflowsFromInvestingActivities': -152312000,\n",
       "      'netBorrowings': 131278000,\n",
       "      'totalCashFromFinancingActivities': 182306000,\n",
       "      'changeToOperatingActivities': -4489000,\n",
       "      'issuanceOfStock': 15776000,\n",
       "      'netIncome': 208042000,\n",
       "      'changeInCash': 245686000,\n",
       "      'repurchaseOfStock': -12728000,\n",
       "      'effectOfExchangeRate': -3341000,\n",
       "      'totalCashFromOperatingActivities': 219033000,\n",
       "      'depreciation': 72093000,\n",
       "      'otherCashflowsFromInvestingActivities': -860000,\n",
       "      'dividendsPaid': -2927000,\n",
       "      'changeToInventory': -84658000,\n",
       "      'changeToAccountReceivables': -101057000,\n",
       "      'otherCashflowsFromFinancingActivities': 35252000,\n",
       "      'changeToNetincome': 76578000,\n",
       "      'capitalExpenditures': -140528000}}]}})"
      ]
     },
     "execution_count": 236,
     "metadata": {},
     "output_type": "execute_result"
    }
   ],
   "source": [
    "nyse.get_fundamentals('UA')"
   ]
  },
  {
   "cell_type": "markdown",
   "metadata": {},
   "source": [
    "## Inspect completeness of NYSE data"
   ]
  },
  {
   "cell_type": "code",
   "execution_count": 10,
   "metadata": {
    "scrolled": true
   },
   "outputs": [
    {
     "name": "stdout",
     "output_type": "stream",
     "text": [
      "Fund companies: 448, Sec companies: 505, Price companies: 501\n",
      "\n",
      "fund_companies_without_sec: [] \n",
      "\n",
      "fund_companies_without_prices: ['UA'] \n",
      "\n",
      "sec_comp_without_fund: ['A', 'ACN', 'ADP', 'AES', 'AET', 'AGN', 'BEN', 'BF.B', 'BLK', 'BRK.B', 'CA', 'CBS', 'CMCSA', 'COH', 'COP', 'DOW', 'DTE', 'ENDP', 'ESRX', 'EVHC', 'FITB', 'FOX', 'FOXA', 'FTI', 'FTV', 'GE', 'GOOG', 'GOOGL', 'GS', 'ICE', 'IR', 'JCI', 'JNJ', 'KHC', 'L', 'LNC', 'MDT', 'MNK', 'MS', 'MSI', 'NI', 'NOC', 'NRG', 'ORCL', 'PLD', 'PRGO', 'PSA', 'PXD', 'RAI', 'RF', 'RIG', 'RTN', 'SLB', 'TROW', 'TWX', 'URI', 'WBA'] \n",
      "\n",
      "sec_comp_without_prices: ['BF.B', 'BRK.B', 'MS', 'UA'] \n",
      "\n",
      "prices_comp_without_fund: ['A', 'ACN', 'ADP', 'AES', 'AET', 'AGN', 'BEN', 'BLK', 'CA', 'CBS', 'CMCSA', 'COH', 'COP', 'DOW', 'DTE', 'ENDP', 'ESRX', 'EVHC', 'FITB', 'FOX', 'FOXA', 'FTI', 'FTV', 'GE', 'GOOG', 'GOOGL', 'GS', 'ICE', 'IR', 'JCI', 'JNJ', 'KHC', 'L', 'LNC', 'MDT', 'MNK', 'MSI', 'NI', 'NOC', 'NRG', 'ORCL', 'PLD', 'PRGO', 'PSA', 'PXD', 'RAI', 'RF', 'RIG', 'RTN', 'SLB', 'TROW', 'TWX', 'URI', 'WBA'] \n",
      "\n",
      "prices_comp_without_sec: [] \n",
      "\n"
     ]
    }
   ],
   "source": [
    "fundamentals_ds = NyseFundamentalsDataset(file_path='../../data/nyse/fundamentals.csv');\n",
    "fund_data = fundamentals_ds.data()\n",
    "securities_ds = NyseSecuritiesDataset(file_path='../../data/nyse/securities.csv'); securities_ds.load()\n",
    "\n",
    "fund_symbols = set(fund_data['Ticker Symbol'].unique())\n",
    "securities_symbols = set(securities_ds.get_all_company_names()['Ticker symbol'].values)\n",
    "prices = pd.read_csv('../../data/nyse/prices-split-adjusted.csv')\n",
    "prices_symbols = set(prices.symbol.unique())\n",
    "\n",
    "fund_companies_without_sec = fund_symbols - securities_symbols\n",
    "fund_companies_without_prices = fund_symbols - prices_symbols\n",
    "sec_comp_without_fund = securities_symbols - fund_symbols\n",
    "sec_comp_without_prices = securities_symbols - prices_symbols\n",
    "prices_comp_without_fund = prices_symbols - fund_symbols\n",
    "prices_comp_without_sec = prices_symbols - securities_symbols\n",
    "\n",
    "print(f'Fund companies: {len(fund_symbols)}, Sec companies: {len(securities_symbols)}, Price companies: {len(prices_symbols)}\\n')\n",
    "print('fund_companies_without_sec:', sorted(fund_companies_without_sec), '\\n')\n",
    "print('fund_companies_without_prices:', sorted(fund_companies_without_prices), '\\n')\n",
    "print('sec_comp_without_fund:', sorted(sec_comp_without_fund), '\\n')\n",
    "print('sec_comp_without_prices:', sorted(sec_comp_without_prices), '\\n')\n",
    "print('prices_comp_without_fund:', sorted(prices_comp_without_fund), '\\n')\n",
    "print('prices_comp_without_sec:', sorted(prices_comp_without_sec), '\\n')"
   ]
  },
  {
   "cell_type": "markdown",
   "metadata": {},
   "source": [
    "### Get permanent components"
   ]
  },
  {
   "cell_type": "code",
   "execution_count": 6,
   "metadata": {},
   "outputs": [],
   "source": [
    "primary = '#037d95'  # blue green\n",
    "secondary = '#ffa823'  # orange yellow\n",
    "ternary = '#c8116b'  # red violet\n",
    "colors = (primary, secondary, ternary)"
   ]
  },
  {
   "cell_type": "code",
   "execution_count": 9,
   "metadata": {},
   "outputs": [
    {
     "data": {
      "application/vnd.jupyter.widget-view+json": {
       "model_id": "01718cb187374e1d95088e0326714d15",
       "version_major": 2,
       "version_minor": 0
      },
      "text/plain": [
       "HBox(children=(IntProgress(value=0, max=490), HTML(value='')))"
      ]
     },
     "metadata": {},
     "output_type": "display_data"
    },
    {
     "name": "stdout",
     "output_type": "stream",
     "text": [
      "\n"
     ]
    }
   ],
   "source": [
    "securities_ds = NyseSecuritiesDataset(file_path='../../data/nyse/securities.csv', load=True)\n",
    "stocks_ds = NyseStocksDataset(file_path='../../data/nyse/prices-split-adjusted.csv', load=True, incl_test=True)\n",
    "prices_symbols = set(stocks_ds.get_all_prices().symbol.unique())"
   ]
  },
  {
   "cell_type": "code",
   "execution_count": 10,
   "metadata": {},
   "outputs": [],
   "source": [
    "x = stocks_ds.get_all_prices()\n",
    "x = x[(x.date <= pd.to_datetime('2013-11-29'))]\n",
    "\n",
    "counts = x.groupby('symbol').count()\n",
    "amount_variations = counts.groupby('date').count().open\n",
    "required = amount_variations.idxmax()  # until 2013-11-16 -> 983 samples"
   ]
  },
  {
   "cell_type": "code",
   "execution_count": 17,
   "metadata": {},
   "outputs": [],
   "source": [
    "comps = securities_ds.get_historical_components('../..')\n",
    "comps.sort(key=lambda x: x['Date'])\n",
    "entries = pd.DataFrame([(pd.to_datetime(entry['Date']), len(entry['Symbols'])) for entry in comps], columns=['Date', 'Components'])"
   ]
  },
  {
   "cell_type": "code",
   "execution_count": 18,
   "metadata": {},
   "outputs": [],
   "source": [
    "changes = []\n",
    "for a, b in zip(comps[:-1], comps[1:]):\n",
    "    prev, curr = set(a['Symbols']), set(b['Symbols'])\n",
    "    removed = prev - curr\n",
    "    added = curr - prev\n",
    "    date = pd.to_datetime(b['Date'])\n",
    "    changes.append((date, len(curr), len(removed), len(added), ', '.join(removed), ', '.join(added), ))\n",
    "changes = pd.DataFrame(changes, columns=['date', 'n_comp', 'n_rem', 'n_add', 'rem', 'add'])"
   ]
  },
  {
   "cell_type": "code",
   "execution_count": 22,
   "metadata": {},
   "outputs": [
    {
     "data": {
      "text/plain": [
       "6.0"
      ]
     },
     "execution_count": 22,
     "metadata": {},
     "output_type": "execute_result"
    }
   ],
   "source": [
    "f.get_figwidth()"
   ]
  },
  {
   "cell_type": "code",
   "execution_count": 19,
   "metadata": {},
   "outputs": [
    {
     "name": "stdout",
     "output_type": "stream",
     "text": [
      "Removed    217\n",
      "Added      227\n",
      "dtype: int64\n"
     ]
    },
    {
     "data": {
      "image/png": "[encoded data removed]",
      "text/plain": [
       "<matplotlib.figure.Figure at 0x1f6b3df4828>"
      ]
     },
     "metadata": {
      "needs_background": "light"
     },
     "output_type": "display_data"
    }
   ],
   "source": [
    "sums_per_year = changes.groupby(changes.date.dt.year).sum()\n",
    "sums_per_year = sums_per_year[(sums_per_year.index >= 2010) & (sums_per_year.index <= 2016)]\n",
    "sums_per_year = sums_per_year[['n_rem', 'n_add']].rename({'n_rem': 'Removed', 'n_add': 'Added'}, axis=1)\n",
    "ax = sums_per_year.plot.bar(color=colors[:2])\n",
    "ax.set_xticklabels(ax.get_xticklabels(), rotation='horizontal')\n",
    "ax.set_title('Changes in S&P 500 Components')\n",
    "ax.set_xlabel('')\n",
    "ax.set_ylabel('Amount')\n",
    "ax.set_axisbelow(True)\n",
    "ax.yaxis.grid(color='gray', linestyle='dashed')\n",
    "# plt.gcf().savefig('sp500-comp-changes.pdf')\n",
    "print(sums_per_year.sum())"
   ]
  },
  {
   "cell_type": "code",
   "execution_count": 138,
   "metadata": {},
   "outputs": [
    {
     "data": {
      "text/plain": [
       "(350, 499, 509, 149, 159)"
      ]
     },
     "execution_count": 138,
     "metadata": {},
     "output_type": "execute_result"
    }
   ],
   "source": [
    "prev = set(comps[23]['Symbols'])  # Begin of 2013, start of observed period\n",
    "last = set(comps[108]['Symbols'])  # Begin of 2017, lowest difference to Kaggle set\n",
    "always_present = prev.intersection(last)\n",
    "added = last - prev\n",
    "removed = prev - last\n",
    "len(always_present), len(prev), len(last), len(removed), len(added)\n",
    "\n",
    "# Example company missing in NYSE dataset: MWV (was renamed to WRK in 2015)"
   ]
  },
  {
   "cell_type": "markdown",
   "metadata": {},
   "source": [
    "### Plot GSPC, VIX, and "
   ]
  },
  {
   "cell_type": "code",
   "execution_count": 26,
   "metadata": {},
   "outputs": [
    {
     "data": {
      "application/vnd.jupyter.widget-view+json": {
       "model_id": "326dcd17d13b4ad09cc2ea76266c88b6",
       "version_major": 2,
       "version_minor": 0
      },
      "text/plain": [
       "HBox(children=(IntProgress(value=0, max=490), HTML(value='')))"
      ]
     },
     "metadata": {},
     "output_type": "display_data"
    },
    {
     "name": "stdout",
     "output_type": "stream",
     "text": [
      "\n"
     ]
    }
   ],
   "source": [
    "full_stocks_ds = NyseStocksDataset(file_path='../../data/nyse/prices-split-adjusted.csv', load=True, incl_test=True, features=['close'])\n",
    "vix = full_stocks_ds.load_vix().set_index('date')\n",
    "gspc = full_stocks_ds.load_gspc().set_index('date')"
   ]
  },
  {
   "cell_type": "code",
   "execution_count": 44,
   "metadata": {},
   "outputs": [],
   "source": [
    "vix = full_stocks_ds.load_vix().reset_index(drop=True)\n",
    "gspc = full_stocks_ds.load_gspc().reset_index(drop=True)"
   ]
  },
  {
   "cell_type": "code",
   "execution_count": null,
   "metadata": {},
   "outputs": [],
   "source": [
    "features = pd.DataFrame([lrets, gspc.gspc_close, vix.vix_close], index=['lrets', 'gspc', 'vix']).T\n",
    "features.corr()"
   ]
  },
  {
   "cell_type": "code",
   "execution_count": 48,
   "metadata": {},
   "outputs": [
    {
     "data": {
      "image/png": "[encoded data removed]",
      "text/plain": [
       "<matplotlib.figure.Figure at 0x1f6c8022438>"
      ]
     },
     "metadata": {},
     "output_type": "display_data"
    }
   ],
   "source": [
    "ax = gspc.gspc_close.plot(color=colors[0])\n",
    "fig = ax.get_figure()\n",
    "ax.set_xlim((-30, len(gspc.gspc_close) + 30))\n",
    "xticklabels = np.concatenate([[''], gspc.date.dt.strftime('%Y-%m').iloc[ax.get_xticks()[1:-1].astype(int)].astype(str), ['']])\n",
    "ax.set_xticklabels(xticklabels)\n",
    "fig.autofmt_xdate()\n",
    "# Make the y-axis label, ticks and tick labels match the line color.\n",
    "ax.set_ylabel('Daily Closing GSPC in $', color=colors[0])\n",
    "ax.tick_params('y', colors=colors[0])\n",
    "a, b = ax.get_ylim()\n",
    "ax.set_ylim((0, 2500))\n",
    "ax.yaxis.grid(linestyle='dashed')\n",
    "\n",
    "ax2 = ax.twinx()\n",
    "vix.vix_close.plot(ax=ax2, color=colors[1])\n",
    "ax2.set_ylabel('Daily Closing VIX', color=colors[1])\n",
    "ax2.tick_params('y', colors=colors[1])\n",
    "a, b = ax2.get_ylim()\n",
    "ax2.set_ylim((0, b * 2.5))\n",
    "ax2.set_title('Course of S&P 500 index and VIX')\n",
    "ax2.set_yticks(np.linspace(ax2.get_yticks()[0], ax2.get_yticks()[-1], len(ax.get_yticks())))\n",
    "\n",
    "fig.tight_layout()\n",
    "# fig.savefig('index-and-vix.pdf')"
   ]
  },
  {
   "cell_type": "markdown",
   "metadata": {},
   "source": [
    "### Analysing VIX bursts\n",
    "\n",
    "Source for dates:\n",
    "- Thu 20 May 2010 -> Euro Debt Crisis (https://web.archive.org/web/20120119024738/https://money.cnn.com/2010/05/20/markets/fear_markets/index.htm)\n",
    "- Mon 08 Aug 2011 -> Euro Debt Crisis (https://money.cnn.com/2011/08/08/markets/vix_fear_index/index.htm)\n",
    "- Mon 24 Aug 2015 -> \"1000-point pludge\" in Dow, caused by rout in chinese market, influenced all globals markets\n",
    "    https://money.cnn.com/2015/08/24/investing/stocks-markets-selloff-china-crash-dow/index.html"
   ]
  },
  {
   "cell_type": "code",
   "execution_count": null,
   "metadata": {},
   "outputs": [],
   "source": [
    "# From https://tomaugspurger.github.io/modern-7-timeseries.html\n",
    "m = roll.agg(['mean', 'std'])\n",
    "ax = m['mean'].plot()\n",
    "ax.fill_between(m.index, m['mean'] - m['std'], m['mean'] + m['std'],\n",
    "                alpha=.25)\n",
    "plt.tight_layout()\n",
    "plt.ylabel(\"Close ($)\")"
   ]
  }
 ],
 "metadata": {
  "kernelspec": {
   "display_name": "Python 3",
   "language": "python",
   "name": "python3"
  },
  "language_info": {
   "codemirror_mode": {
    "name": "ipython",
    "version": 3
   },
   "file_extension": ".py",
   "mimetype": "text/x-python",
   "name": "python",
   "nbconvert_exporter": "python",
   "pygments_lexer": "ipython3",
   "version": "3.6.0"
  },
  "toc": {
   "base_numbering": 1,
   "nav_menu": {},
   "number_sections": true,
   "sideBar": true,
   "skip_h1_title": false,
   "title_cell": "Table of Contents",
   "title_sidebar": "Contents",
   "toc_cell": false,
   "toc_position": {},
   "toc_section_display": true,
   "toc_window_display": false
  }
 },
 "nbformat": 4,
 "nbformat_minor": 2
}
